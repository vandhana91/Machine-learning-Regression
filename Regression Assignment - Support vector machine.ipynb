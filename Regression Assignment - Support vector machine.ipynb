{
  "nbformat": 4,
  "nbformat_minor": 5,
  "metadata": {
    "kernel_info": {
      "name": "python3"
    },
    "kernelspec": {
      "display_name": "Python 3.9",
      "identifier": "legacy",
      "language": "python",
      "language_version": "3.9",
      "name": "python3"
    },
    "selected_hardware_size": "small"
  },
  "cells": [
    {
      "id": "415d45ea",
      "cell_type": "code",
      "metadata": {
        "noteable": {
          "output_collection_id": "9756bde4-0fe0-4c62-b0a7-ec45951e9bed"
        },
        "ExecuteTime": {
          "end_time": "2023-12-15T04:37:17.423455+00:00",
          "start_time": "2023-12-15T04:37:17.268428+00:00"
        }
      },
      "execution_count": null,
      "source": "import pandas as pd",
      "outputs": []
    },
    {
      "id": "e583255c-3e7f-4a02-a4ec-fcb1b7a52abf",
      "cell_type": "code",
      "metadata": {
        "jupyter": {
          "outputs_hidden": false,
          "source_hidden": false
        },
        "noteable": {
          "cell_type": "code",
          "output_collection_id": "cbfe7db8-09c4-4cf4-a4b1-b150a512d384"
        },
        "ExecuteTime": {
          "end_time": "2023-12-15T04:37:20.025151+00:00",
          "start_time": "2023-12-15T04:37:19.867012+00:00"
        }
      },
      "execution_count": null,
      "source": "dataset = pd.read_csv('insurance_pre.csv')",
      "outputs": []
    },
    {
      "id": "cd607d74-86a6-46ae-b724-bf4351de1529",
      "cell_type": "code",
      "metadata": {
        "jupyter": {
          "outputs_hidden": false,
          "source_hidden": false
        },
        "noteable": {
          "cell_type": "code",
          "output_collection_id": "201f384b-6d85-42c1-9824-17bf3ec355ae"
        },
        "ExecuteTime": {
          "end_time": "2023-12-15T04:37:24.175113+00:00",
          "start_time": "2023-12-15T04:37:23.982868+00:00"
        },
        "datalink": {
          "ee35d37c-8f70-493a-8fac-c46e314a3724": {
            "applied_filters": [],
            "dataframe_info": {
              "default_index_used": true,
              "orig_num_cols": 6,
              "orig_num_rows": 5,
              "orig_size_bytes": 280,
              "truncated_num_cols": 6,
              "truncated_num_rows": 5,
              "truncated_size_bytes": 280,
              "truncated_string_columns": []
            },
            "display_id": "ee35d37c-8f70-493a-8fac-c46e314a3724",
            "dx_settings": {
              "ALLOW_NOTEABLE_ATTRS": true,
              "COLUMN_SAMPLING_METHOD": "outer",
              "DB_LOCATION": ":memory:",
              "DEV_MODE": false,
              "DISPLAY_MAX_COLUMNS": 100,
              "DISPLAY_MAX_ROWS": 50000,
              "DISPLAY_MODE": "simple",
              "ENABLE_ASSIGNMENT": true,
              "ENABLE_DATALINK": true,
              "FLATTEN_COLUMN_VALUES": true,
              "FLATTEN_INDEX_VALUES": false,
              "GENERATE_DEX_METADATA": false,
              "HTML_TABLE_SCHEMA": false,
              "LOG_LEVEL": 30,
              "MAX_RENDER_SIZE_BYTES": 104857600,
              "MAX_STRING_LENGTH": 250,
              "NUM_PAST_SAMPLES_TRACKED": 3,
              "RANDOM_STATE": 12648430,
              "RESET_INDEX_VALUES": false,
              "ROW_SAMPLING_METHOD": "random",
              "SAMPLING_FACTOR": 0.1,
              "SAMPLING_METHOD": "random",
              "STRINGIFY_COLUMN_VALUES": true,
              "STRINGIFY_INDEX_VALUES": false
            },
            "sample_history": [],
            "sampling_time": "2023-12-13T13:23:49.365985",
            "user_variable_name": null,
            "variable_name": "unk_dataframe_5e7f2a1f40d24f3da11c1b49cc6328ea"
          },
          "2bb9357c-06a3-4031-ba22-5718de7efc9c": {
            "applied_filters": [],
            "dataframe_info": {
              "default_index_used": true,
              "orig_num_cols": 6,
              "orig_num_rows": 5,
              "orig_size_bytes": 280,
              "truncated_num_cols": 6,
              "truncated_num_rows": 5,
              "truncated_size_bytes": 280,
              "truncated_string_columns": []
            },
            "display_id": "2bb9357c-06a3-4031-ba22-5718de7efc9c",
            "dx_settings": {
              "ALLOW_NOTEABLE_ATTRS": true,
              "COLUMN_SAMPLING_METHOD": "outer",
              "DB_LOCATION": ":memory:",
              "DEV_MODE": false,
              "DISPLAY_MAX_COLUMNS": 100,
              "DISPLAY_MAX_ROWS": 50000,
              "DISPLAY_MODE": "simple",
              "ENABLE_ASSIGNMENT": true,
              "ENABLE_DATALINK": true,
              "FLATTEN_COLUMN_VALUES": true,
              "FLATTEN_INDEX_VALUES": false,
              "GENERATE_DEX_METADATA": false,
              "HTML_TABLE_SCHEMA": false,
              "LOG_LEVEL": 30,
              "MAX_RENDER_SIZE_BYTES": 104857600,
              "MAX_STRING_LENGTH": 250,
              "NUM_PAST_SAMPLES_TRACKED": 3,
              "RANDOM_STATE": 12648430,
              "RESET_INDEX_VALUES": false,
              "ROW_SAMPLING_METHOD": "random",
              "SAMPLING_FACTOR": 0.1,
              "SAMPLING_METHOD": "random",
              "STRINGIFY_COLUMN_VALUES": true,
              "STRINGIFY_INDEX_VALUES": false
            },
            "sample_history": [],
            "sampling_time": "2023-12-15T04:37:24.012240",
            "user_variable_name": null,
            "variable_name": "unk_dataframe_907cf872d5c749aeb5de37ccd72e2891"
          }
        }
      },
      "execution_count": null,
      "source": "dataset.head()",
      "outputs": []
    },
    {
      "id": "cb2e1131-07fc-4a64-9431-059d2e96d600",
      "cell_type": "code",
      "metadata": {
        "jupyter": {
          "outputs_hidden": false,
          "source_hidden": false
        },
        "noteable": {
          "cell_type": "code",
          "output_collection_id": "75a2328e-4562-46b6-af61-ac481ab21e41"
        },
        "ExecuteTime": {
          "end_time": "2023-12-15T04:37:28.679141+00:00",
          "start_time": "2023-12-15T04:37:28.521158+00:00"
        }
      },
      "execution_count": null,
      "source": "dataset = pd.get_dummies(dataset)",
      "outputs": []
    },
    {
      "id": "448baa7d-1e0d-4b3d-9b8a-9cdf2454bf50",
      "cell_type": "code",
      "metadata": {
        "jupyter": {
          "outputs_hidden": false,
          "source_hidden": false
        },
        "noteable": {
          "cell_type": "code",
          "output_collection_id": "121415cf-c4a1-4c25-9027-0f89dd04b4e5"
        },
        "ExecuteTime": {
          "end_time": "2023-12-15T04:37:31.162402+00:00",
          "start_time": "2023-12-15T04:37:30.961206+00:00"
        },
        "datalink": {
          "c2989359-329e-4ee1-b1f6-257795e11775": {
            "applied_filters": [],
            "dataframe_info": {
              "default_index_used": true,
              "orig_num_cols": 8,
              "orig_num_rows": 5,
              "orig_size_bytes": 220,
              "truncated_num_cols": 8,
              "truncated_num_rows": 5,
              "truncated_size_bytes": 220,
              "truncated_string_columns": []
            },
            "display_id": "c2989359-329e-4ee1-b1f6-257795e11775",
            "dx_settings": {
              "ALLOW_NOTEABLE_ATTRS": true,
              "COLUMN_SAMPLING_METHOD": "outer",
              "DB_LOCATION": ":memory:",
              "DEV_MODE": false,
              "DISPLAY_MAX_COLUMNS": 100,
              "DISPLAY_MAX_ROWS": 50000,
              "DISPLAY_MODE": "simple",
              "ENABLE_ASSIGNMENT": true,
              "ENABLE_DATALINK": true,
              "FLATTEN_COLUMN_VALUES": true,
              "FLATTEN_INDEX_VALUES": false,
              "GENERATE_DEX_METADATA": false,
              "HTML_TABLE_SCHEMA": false,
              "LOG_LEVEL": 30,
              "MAX_RENDER_SIZE_BYTES": 104857600,
              "MAX_STRING_LENGTH": 250,
              "NUM_PAST_SAMPLES_TRACKED": 3,
              "RANDOM_STATE": 12648430,
              "RESET_INDEX_VALUES": false,
              "ROW_SAMPLING_METHOD": "random",
              "SAMPLING_FACTOR": 0.1,
              "SAMPLING_METHOD": "random",
              "STRINGIFY_COLUMN_VALUES": true,
              "STRINGIFY_INDEX_VALUES": false
            },
            "sample_history": [],
            "sampling_time": "2023-12-13T13:24:15.449917",
            "user_variable_name": null,
            "variable_name": "unk_dataframe_9253b47d304f4c21bcbbe2edefffafea"
          },
          "da1eaf83-1e61-4d20-9498-0bb2884a0270": {
            "applied_filters": [],
            "dataframe_info": {
              "default_index_used": true,
              "orig_num_cols": 8,
              "orig_num_rows": 5,
              "orig_size_bytes": 220,
              "truncated_num_cols": 8,
              "truncated_num_rows": 5,
              "truncated_size_bytes": 220,
              "truncated_string_columns": []
            },
            "display_id": "da1eaf83-1e61-4d20-9498-0bb2884a0270",
            "dx_settings": {
              "ALLOW_NOTEABLE_ATTRS": true,
              "COLUMN_SAMPLING_METHOD": "outer",
              "DB_LOCATION": ":memory:",
              "DEV_MODE": false,
              "DISPLAY_MAX_COLUMNS": 100,
              "DISPLAY_MAX_ROWS": 50000,
              "DISPLAY_MODE": "simple",
              "ENABLE_ASSIGNMENT": true,
              "ENABLE_DATALINK": true,
              "FLATTEN_COLUMN_VALUES": true,
              "FLATTEN_INDEX_VALUES": false,
              "GENERATE_DEX_METADATA": false,
              "HTML_TABLE_SCHEMA": false,
              "LOG_LEVEL": 30,
              "MAX_RENDER_SIZE_BYTES": 104857600,
              "MAX_STRING_LENGTH": 250,
              "NUM_PAST_SAMPLES_TRACKED": 3,
              "RANDOM_STATE": 12648430,
              "RESET_INDEX_VALUES": false,
              "ROW_SAMPLING_METHOD": "random",
              "SAMPLING_FACTOR": 0.1,
              "SAMPLING_METHOD": "random",
              "STRINGIFY_COLUMN_VALUES": true,
              "STRINGIFY_INDEX_VALUES": false
            },
            "sample_history": [],
            "sampling_time": "2023-12-15T04:37:31.001221",
            "user_variable_name": null,
            "variable_name": "unk_dataframe_3b959cf1dab146d496bb7cc6eff95ea3"
          }
        }
      },
      "execution_count": null,
      "source": "dataset.head()",
      "outputs": []
    },
    {
      "id": "bb1bcbcd-8182-45c9-bddb-2cbed07c7be2",
      "cell_type": "code",
      "metadata": {
        "jupyter": {
          "outputs_hidden": false,
          "source_hidden": false
        },
        "noteable": {
          "cell_type": "code",
          "output_collection_id": "0baeb4e5-3528-41b8-a36a-932de0c21811"
        },
        "ExecuteTime": {
          "end_time": "2023-12-15T04:40:19.898623+00:00",
          "start_time": "2023-12-15T04:40:19.741814+00:00"
        }
      },
      "execution_count": null,
      "source": "dataset.columns",
      "outputs": []
    },
    {
      "id": "b40f4dfc-2d14-49d0-9a31-9b25b5d14265",
      "cell_type": "code",
      "metadata": {
        "jupyter": {
          "outputs_hidden": false,
          "source_hidden": false
        },
        "noteable": {
          "cell_type": "code",
          "output_collection_id": "386e532a-f4e7-4afe-87cd-459fa3f3a0a0"
        },
        "ExecuteTime": {
          "end_time": "2023-12-15T04:40:21.686117+00:00",
          "start_time": "2023-12-15T04:40:21.530327+00:00"
        }
      },
      "execution_count": null,
      "source": "independent = dataset[['age', 'bmi', 'children','sex_female', 'sex_male',\n       'smoker_no', 'smoker_yes']]\ndependent = dataset['charges']",
      "outputs": []
    },
    {
      "id": "5a495ece-1397-4cc5-9bc7-ff058f4ed559",
      "cell_type": "code",
      "metadata": {
        "jupyter": {
          "outputs_hidden": false,
          "source_hidden": false
        },
        "noteable": {
          "cell_type": "code",
          "output_collection_id": "ef3173f1-edb1-447f-9afd-bffc88198207"
        },
        "ExecuteTime": {
          "end_time": "2023-12-15T04:40:23.559395+00:00",
          "start_time": "2023-12-15T04:40:23.214432+00:00"
        }
      },
      "execution_count": null,
      "source": "from sklearn.model_selection import train_test_split\n\nx_train,x_test,y_train,y_test = train_test_split(independent,dependent,test_size = 0.30,random_state = 0)",
      "outputs": []
    },
    {
      "id": "b8b03100-229c-45b6-8294-8ba6bb4784ba",
      "cell_type": "code",
      "metadata": {
        "jupyter": {
          "outputs_hidden": false,
          "source_hidden": false
        },
        "noteable": {
          "cell_type": "code",
          "output_collection_id": "c9182a04-0f93-4c99-838d-3133ac55eb7d"
        },
        "ExecuteTime": {
          "end_time": "2023-12-15T04:40:25.006111+00:00",
          "start_time": "2023-12-15T04:40:24.846341+00:00"
        }
      },
      "execution_count": null,
      "source": "from sklearn.preprocessing import StandardScaler\nsc = StandardScaler()\nx_train = sc.fit_transform(x_train)\nx_test = sc.transform(x_test)",
      "outputs": []
    },
    {
      "id": "c1c8a28c-98cc-4123-8a9c-c2a8aa847052",
      "cell_type": "code",
      "metadata": {
        "jupyter": {
          "outputs_hidden": false,
          "source_hidden": false
        },
        "noteable": {
          "cell_type": "code",
          "output_collection_id": "702d4bcb-4103-4459-8afd-925d49ff9814"
        },
        "ExecuteTime": {
          "end_time": "2023-12-15T05:02:43.782118+00:00",
          "start_time": "2023-12-15T05:02:43.364068+00:00"
        }
      },
      "execution_count": null,
      "source": "from sklearn.svm import SVR\nregressor = SVR(kernel = 'precomputed',C= 10)\nregressor.fit(x_train,y_train)",
      "outputs": []
    },
    {
      "id": "09aa4432-b0cc-46d4-af94-9ac8bc00d020",
      "cell_type": "code",
      "metadata": {
        "jupyter": {
          "outputs_hidden": false,
          "source_hidden": false
        },
        "noteable": {
          "cell_type": "code",
          "output_collection_id": "70eb3611-7d4f-495c-8dcc-5dc50bc71774"
        },
        "ExecuteTime": {
          "end_time": "2023-12-15T05:02:11.383490+00:00",
          "start_time": "2023-12-15T05:02:11.227556+00:00"
        }
      },
      "execution_count": null,
      "source": "regressor.intercept_",
      "outputs": []
    },
    {
      "id": "84d9f8ff-7d3e-4776-9fb5-fd26d87cedc7",
      "cell_type": "code",
      "metadata": {
        "jupyter": {
          "outputs_hidden": false,
          "source_hidden": false
        },
        "noteable": {
          "cell_type": "code",
          "output_collection_id": "259c0971-4a0c-444f-92db-1a176217487c"
        },
        "ExecuteTime": {
          "end_time": "2023-12-15T05:02:13.270383+00:00",
          "start_time": "2023-12-15T05:02:13.114519+00:00"
        }
      },
      "execution_count": null,
      "source": "regressor.n_support_",
      "outputs": []
    },
    {
      "id": "5f5b1ab6-b081-4879-89ef-38db9b06f729",
      "cell_type": "code",
      "metadata": {
        "jupyter": {
          "outputs_hidden": false,
          "source_hidden": false
        },
        "noteable": {
          "cell_type": "code",
          "output_collection_id": "7073de0c-9cdb-47b9-bd72-a73b8af0a18f"
        },
        "ExecuteTime": {
          "end_time": "2023-12-15T05:02:14.939203+00:00",
          "start_time": "2023-12-15T05:02:14.782458+00:00"
        }
      },
      "execution_count": null,
      "source": "regressor.support_",
      "outputs": []
    },
    {
      "id": "1389db29-b744-4d84-b195-e91da00b8d2e",
      "cell_type": "code",
      "metadata": {
        "jupyter": {
          "outputs_hidden": false,
          "source_hidden": false
        },
        "noteable": {
          "cell_type": "code",
          "output_collection_id": "2f443838-848f-49bc-81c7-a99ac492f420"
        },
        "ExecuteTime": {
          "end_time": "2023-12-15T05:02:16.513784+00:00",
          "start_time": "2023-12-15T05:02:16.337767+00:00"
        }
      },
      "execution_count": null,
      "source": "\ny_pred = regressor.predict(x_test)",
      "outputs": []
    },
    {
      "id": "9fd4f5b0-39ec-4331-93a8-e1e5a6ee3f82",
      "cell_type": "code",
      "metadata": {
        "jupyter": {
          "outputs_hidden": false,
          "source_hidden": false
        },
        "noteable": {
          "cell_type": "code",
          "output_collection_id": "763e78c5-6fb5-49d4-8e39-4ebcb665c8b0"
        },
        "ExecuteTime": {
          "end_time": "2023-12-15T05:02:18.568497+00:00",
          "start_time": "2023-12-15T05:02:18.412068+00:00"
        }
      },
      "execution_count": null,
      "source": "from sklearn.metrics import r2_score\nr_score = r2_score(y_test,y_pred)\nr_score",
      "outputs": []
    },
    {
      "id": "c866514e-d189-4b8e-9242-4f84a51b7e36",
      "cell_type": "code",
      "metadata": {
        "jupyter": {
          "outputs_hidden": false,
          "source_hidden": false
        },
        "noteable": {
          "cell_type": "code"
        }
      },
      "execution_count": null,
      "source": "",
      "outputs": []
    }
  ]
}