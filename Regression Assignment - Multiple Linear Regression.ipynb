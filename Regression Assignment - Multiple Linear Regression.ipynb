{
  "nbformat": 4,
  "nbformat_minor": 5,
  "metadata": {
    "kernel_info": {
      "name": "python3"
    },
    "kernelspec": {
      "display_name": "Python 3.9",
      "identifier": "legacy",
      "language": "python",
      "language_version": "3.9",
      "name": "python3"
    },
    "selected_hardware_size": "small"
  },
  "cells": [
    {
      "id": "5bd148dd",
      "cell_type": "code",
      "metadata": {
        "noteable": {
          "output_collection_id": "7ad0dd96-90d0-42bf-9f31-ea8434098ccb"
        },
        "ExecuteTime": null
      },
      "execution_count": null,
      "source": "import pandas as pd\ndataset = pd.read_csv('insurance_pre.csv')",
      "outputs": []
    },
    {
      "id": "46f599ee-2e4f-4ac2-b062-0cc166683175",
      "cell_type": "code",
      "metadata": {
        "jupyter": {
          "outputs_hidden": false,
          "source_hidden": false
        },
        "noteable": {
          "cell_type": "code",
          "output_collection_id": "3a9dbc75-8020-4e2d-a359-59733ba4fb47"
        },
        "ExecuteTime": null
      },
      "execution_count": null,
      "source": "dataset = pd.get_dummies(dataset)",
      "outputs": []
    },
    {
      "id": "f04d4a53-22a9-434b-8de0-ac45efc8b873",
      "cell_type": "code",
      "metadata": {
        "jupyter": {
          "outputs_hidden": false,
          "source_hidden": false
        },
        "noteable": {
          "cell_type": "code",
          "output_collection_id": "9ebbfe52-520d-4a18-9504-fb491cf73b4f"
        },
        "ExecuteTime": null
      },
      "execution_count": null,
      "source": "dataset.columns",
      "outputs": []
    },
    {
      "id": "5c55626a-0f41-4df6-a6c9-a925191b4697",
      "cell_type": "code",
      "metadata": {
        "jupyter": {
          "outputs_hidden": false,
          "source_hidden": false
        },
        "noteable": {
          "cell_type": "code",
          "output_collection_id": "6d363f5a-afa6-4360-a286-1a2b7cfaab28"
        },
        "ExecuteTime": null,
        "datalink": {
          "76f64610-6da4-4618-ac7f-88c1c894ef68": {
            "applied_filters": [],
            "dataframe_info": {
              "default_index_used": true,
              "orig_num_cols": 8,
              "orig_num_rows": 5,
              "orig_size_bytes": 220,
              "truncated_num_cols": 8,
              "truncated_num_rows": 5,
              "truncated_size_bytes": 220,
              "truncated_string_columns": []
            },
            "display_id": "76f64610-6da4-4618-ac7f-88c1c894ef68",
            "dx_settings": {
              "ALLOW_NOTEABLE_ATTRS": true,
              "COLUMN_SAMPLING_METHOD": "outer",
              "DB_LOCATION": ":memory:",
              "DEV_MODE": false,
              "DISPLAY_MAX_COLUMNS": 100,
              "DISPLAY_MAX_ROWS": 50000,
              "DISPLAY_MODE": "simple",
              "ENABLE_ASSIGNMENT": true,
              "ENABLE_DATALINK": true,
              "FLATTEN_COLUMN_VALUES": true,
              "FLATTEN_INDEX_VALUES": false,
              "GENERATE_DEX_METADATA": false,
              "HTML_TABLE_SCHEMA": false,
              "LOG_LEVEL": 30,
              "MAX_RENDER_SIZE_BYTES": 104857600,
              "MAX_STRING_LENGTH": 250,
              "NUM_PAST_SAMPLES_TRACKED": 3,
              "RANDOM_STATE": 12648430,
              "RESET_INDEX_VALUES": false,
              "ROW_SAMPLING_METHOD": "random",
              "SAMPLING_FACTOR": 0.1,
              "SAMPLING_METHOD": "random",
              "STRINGIFY_COLUMN_VALUES": true,
              "STRINGIFY_INDEX_VALUES": false
            },
            "sample_history": [],
            "sampling_time": "2023-12-15T10:45:32.487098",
            "user_variable_name": null,
            "variable_name": "unk_dataframe_edd1297b51e14fd48c3063b07a62187a"
          }
        }
      },
      "execution_count": null,
      "source": "dataset.head()",
      "outputs": []
    },
    {
      "id": "5fd4db4e-cbae-4e39-b354-dc2541243636",
      "cell_type": "code",
      "metadata": {
        "jupyter": {
          "outputs_hidden": false,
          "source_hidden": false
        },
        "noteable": {
          "cell_type": "code",
          "output_collection_id": "b8271463-435e-40fa-b0c7-bbb6637ff774"
        },
        "ExecuteTime": null
      },
      "execution_count": null,
      "source": "independent = dataset[['age', 'bmi', 'children','sex_female', 'sex_male',\n       'smoker_no', 'smoker_yes']]\ndependent = dataset['charges']",
      "outputs": []
    },
    {
      "id": "2bb21195-2d20-4497-aa64-bed353a0912f",
      "cell_type": "code",
      "metadata": {
        "jupyter": {
          "outputs_hidden": false,
          "source_hidden": false
        },
        "noteable": {
          "cell_type": "code",
          "output_collection_id": "032c65b5-704a-4598-b181-969d82a6257c"
        },
        "ExecuteTime": null
      },
      "execution_count": null,
      "source": "from sklearn.model_selection import train_test_split\n\nx_train,x_test,y_train,y_test = train_test_split(independent,dependent,test_size = 0.30,random_state = 0)",
      "outputs": []
    },
    {
      "id": "68f555a8-b6b8-4370-9e36-3ed9e67a3a0c",
      "cell_type": "code",
      "metadata": {
        "jupyter": {
          "outputs_hidden": false,
          "source_hidden": false
        },
        "noteable": {
          "cell_type": "code",
          "output_collection_id": "5e91b4f8-2f61-4a4c-b2f0-1b2bd4bb6992"
        },
        "ExecuteTime": null
      },
      "execution_count": null,
      "source": "from sklearn.linear_model import LinearRegression\nregressor = LinearRegression()\nregressor.fit(x_train,y_train)",
      "outputs": []
    },
    {
      "id": "ba03bd3a-c408-410f-bd3f-869206b7ae20",
      "cell_type": "code",
      "metadata": {
        "jupyter": {
          "outputs_hidden": false,
          "source_hidden": false
        },
        "noteable": {
          "cell_type": "code",
          "output_collection_id": "b20c9f53-35a4-4031-b3c8-49c1b2e994f7"
        },
        "ExecuteTime": null
      },
      "execution_count": null,
      "source": "weight = regressor.coef_\nweight",
      "outputs": []
    },
    {
      "id": "bc6dddee-86e3-49c6-98da-e4ff49b76fc5",
      "cell_type": "code",
      "metadata": {
        "jupyter": {
          "outputs_hidden": false,
          "source_hidden": false
        },
        "noteable": {
          "cell_type": "code",
          "output_collection_id": "876d2b0e-9746-4905-a005-9b78ab102afe"
        },
        "ExecuteTime": null
      },
      "execution_count": null,
      "source": "bias = regressor.intercept_\nbias",
      "outputs": []
    },
    {
      "id": "1230ce31-5149-4046-af47-d07b20f9067a",
      "cell_type": "code",
      "metadata": {
        "jupyter": {
          "outputs_hidden": false,
          "source_hidden": false
        },
        "noteable": {
          "cell_type": "code",
          "output_collection_id": "56b83432-a8e8-47cf-a28e-27d38b33f9a9"
        },
        "ExecuteTime": null
      },
      "execution_count": null,
      "source": "y_pred = regressor.predict(x_test)",
      "outputs": []
    },
    {
      "id": "a877371c-f5fa-4020-a0cd-65a7a16053bd",
      "cell_type": "code",
      "metadata": {
        "jupyter": {
          "outputs_hidden": false,
          "source_hidden": false
        },
        "noteable": {
          "cell_type": "code",
          "output_collection_id": "46e3cab4-09ef-461a-ab36-abc0c0c37cb7"
        },
        "ExecuteTime": null
      },
      "execution_count": null,
      "source": "from sklearn.metrics import r2_score\nr_score = r2_score(y_test,y_pred)\nr_score\n",
      "outputs": []
    },
    {
      "id": "85ea1536-5686-4464-ae73-47e3d2b8e9af",
      "cell_type": "code",
      "metadata": {
        "jupyter": {
          "outputs_hidden": false,
          "source_hidden": false
        },
        "noteable": {
          "cell_type": "code"
        }
      },
      "execution_count": null,
      "source": "",
      "outputs": []
    }
  ]
}