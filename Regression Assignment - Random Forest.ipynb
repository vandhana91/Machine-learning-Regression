{
  "nbformat": 4,
  "nbformat_minor": 5,
  "metadata": {
    "kernel_info": {
      "name": "python3"
    },
    "kernelspec": {
      "display_name": "Python 3.9",
      "identifier": "legacy",
      "language": "python",
      "language_version": "3.9",
      "name": "python3"
    },
    "selected_hardware_size": "small"
  },
  "cells": [
    {
      "id": "1e64b082",
      "cell_type": "code",
      "metadata": {
        "noteable": {
          "output_collection_id": "0e03337e-f1ac-4a8f-a352-a56918f09102"
        },
        "ExecuteTime": {
          "end_time": "2023-12-15T09:39:55.153189+00:00",
          "start_time": "2023-12-15T09:39:54.995063+00:00"
        }
      },
      "execution_count": null,
      "source": "import pandas as pd\ndataset = pd.read_csv('insurance_pre.csv')",
      "outputs": []
    },
    {
      "id": "85039217-62d6-4e0b-b915-a575059302aa",
      "cell_type": "code",
      "metadata": {
        "jupyter": {
          "outputs_hidden": false,
          "source_hidden": false
        },
        "noteable": {
          "cell_type": "code",
          "output_collection_id": "69a0425e-d0a5-41d9-9563-8646775a1798"
        },
        "ExecuteTime": {
          "end_time": "2023-12-15T09:40:01.206953+00:00",
          "start_time": "2023-12-15T09:40:01.049182+00:00"
        }
      },
      "execution_count": null,
      "source": "dataset = pd.get_dummies(dataset)",
      "outputs": []
    },
    {
      "id": "30f5c259-5325-41a0-8dd5-7caca0d5f14e",
      "cell_type": "code",
      "metadata": {
        "jupyter": {
          "outputs_hidden": false,
          "source_hidden": false
        },
        "noteable": {
          "cell_type": "code",
          "output_collection_id": "8c80851e-8386-402e-899d-90a89dc5c0e6"
        },
        "ExecuteTime": {
          "end_time": "2023-12-15T09:40:06.906579+00:00",
          "start_time": "2023-12-15T09:40:06.704103+00:00"
        },
        "datalink": {
          "3808b222-8ca5-404e-bff6-16da2e1ee59f": {
            "applied_filters": [],
            "dataframe_info": {
              "default_index_used": true,
              "orig_num_cols": 8,
              "orig_num_rows": 5,
              "orig_size_bytes": 220,
              "truncated_num_cols": 8,
              "truncated_num_rows": 5,
              "truncated_size_bytes": 220,
              "truncated_string_columns": []
            },
            "display_id": "3808b222-8ca5-404e-bff6-16da2e1ee59f",
            "dx_settings": {
              "ALLOW_NOTEABLE_ATTRS": true,
              "COLUMN_SAMPLING_METHOD": "outer",
              "DB_LOCATION": ":memory:",
              "DEV_MODE": false,
              "DISPLAY_MAX_COLUMNS": 100,
              "DISPLAY_MAX_ROWS": 50000,
              "DISPLAY_MODE": "simple",
              "ENABLE_ASSIGNMENT": true,
              "ENABLE_DATALINK": true,
              "FLATTEN_COLUMN_VALUES": true,
              "FLATTEN_INDEX_VALUES": false,
              "GENERATE_DEX_METADATA": false,
              "HTML_TABLE_SCHEMA": false,
              "LOG_LEVEL": 30,
              "MAX_RENDER_SIZE_BYTES": 104857600,
              "MAX_STRING_LENGTH": 250,
              "NUM_PAST_SAMPLES_TRACKED": 3,
              "RANDOM_STATE": 12648430,
              "RESET_INDEX_VALUES": false,
              "ROW_SAMPLING_METHOD": "random",
              "SAMPLING_FACTOR": 0.1,
              "SAMPLING_METHOD": "random",
              "STRINGIFY_COLUMN_VALUES": true,
              "STRINGIFY_INDEX_VALUES": false
            },
            "sample_history": [],
            "sampling_time": "2023-12-15T09:40:06.741150",
            "user_variable_name": null,
            "variable_name": "unk_dataframe_3b3850cb16024f25956499ca1a7cf62a"
          }
        }
      },
      "execution_count": null,
      "source": "dataset.head()",
      "outputs": []
    },
    {
      "id": "b35947c6-22c0-42c7-9a7e-d5ea7b521cd4",
      "cell_type": "code",
      "metadata": {
        "jupyter": {
          "outputs_hidden": false,
          "source_hidden": false
        },
        "noteable": {
          "cell_type": "code",
          "output_collection_id": "ce609d37-10a9-425d-abb4-83999999e239"
        },
        "ExecuteTime": {
          "end_time": "2023-12-15T09:40:29.054471+00:00",
          "start_time": "2023-12-15T09:40:28.897470+00:00"
        }
      },
      "execution_count": null,
      "source": "dataset.columns",
      "outputs": []
    },
    {
      "id": "a3c22a7f-a151-459b-aace-d584e4afe6d7",
      "cell_type": "code",
      "metadata": {
        "jupyter": {
          "outputs_hidden": false,
          "source_hidden": false
        },
        "noteable": {
          "cell_type": "code",
          "output_collection_id": "91e35437-20c6-41ce-87e0-2017b2576140"
        },
        "ExecuteTime": {
          "end_time": "2023-12-15T09:40:36.525088+00:00",
          "start_time": "2023-12-15T09:40:36.369241+00:00"
        }
      },
      "execution_count": null,
      "source": "independent = dataset[['age', 'bmi', 'children','sex_female', 'sex_male',\n       'smoker_no', 'smoker_yes']]\ndependent = dataset['charges']",
      "outputs": []
    },
    {
      "id": "e24d5fd9-cbee-4a2a-87d9-93ffe08f0769",
      "cell_type": "code",
      "metadata": {
        "jupyter": {
          "outputs_hidden": false,
          "source_hidden": false
        },
        "noteable": {
          "cell_type": "code",
          "output_collection_id": "88a0f2ae-970b-422a-b59f-2a1f2d145d8e"
        },
        "ExecuteTime": {
          "end_time": "2023-12-15T09:43:26.350622+00:00",
          "start_time": "2023-12-15T09:43:26.193523+00:00"
        }
      },
      "execution_count": null,
      "source": "from sklearn.model_selection import train_test_split\n\nx_train,x_test,y_train,y_test = train_test_split(independent,dependent,test_size = 0.30,random_state = 0)",
      "outputs": []
    },
    {
      "id": "60b70a4b-c944-47d5-8d9b-d1ff058607b5",
      "cell_type": "code",
      "metadata": {
        "jupyter": {
          "outputs_hidden": false,
          "source_hidden": false
        },
        "noteable": {
          "cell_type": "code",
          "output_collection_id": "d68214f9-006c-45a4-84b4-5a6e2c9e7f8f"
        },
        "ExecuteTime": {
          "end_time": "2023-12-15T10:42:12.725312+00:00",
          "start_time": "2023-12-15T10:42:12.547158+00:00"
        }
      },
      "execution_count": null,
      "source": "from sklearn.ensemble import RandomForestRegressor\nregressor = RandomForestRegressor(criterion = 'poisson',n_estimators = 10,max_features= None)\nregressor.fit(x_train,y_train)",
      "outputs": []
    },
    {
      "id": "e80bdbec-94c8-4041-88d3-e1278ea93f1b",
      "cell_type": "code",
      "metadata": {
        "jupyter": {
          "outputs_hidden": false,
          "source_hidden": false
        },
        "noteable": {
          "cell_type": "code",
          "output_collection_id": "11128060-141a-412f-91e7-f9e6e9565087"
        },
        "ExecuteTime": {
          "end_time": "2023-12-15T10:42:14.104853+00:00",
          "start_time": "2023-12-15T10:42:13.947595+00:00"
        }
      },
      "execution_count": null,
      "source": "y_pred = regressor.predict(x_test)",
      "outputs": []
    },
    {
      "id": "bef91c5d-ab73-46f8-ad70-70b5e871a152",
      "cell_type": "code",
      "metadata": {
        "jupyter": {
          "outputs_hidden": false,
          "source_hidden": false
        },
        "noteable": {
          "cell_type": "code",
          "output_collection_id": "11ba603f-fc6d-4c0b-9f23-f8096a385c92"
        },
        "ExecuteTime": {
          "end_time": "2023-12-15T10:42:15.630607+00:00",
          "start_time": "2023-12-15T10:42:15.473789+00:00"
        }
      },
      "execution_count": null,
      "source": "from sklearn.metrics import r2_score\nr_score = r2_score(y_test,y_pred)\nr_score\n",
      "outputs": []
    },
    {
      "id": "5bb99022-3401-40d3-a53e-8eb356a04ddd",
      "cell_type": "code",
      "metadata": {
        "jupyter": {
          "outputs_hidden": false,
          "source_hidden": false
        },
        "noteable": {
          "cell_type": "code"
        }
      },
      "execution_count": null,
      "source": "",
      "outputs": []
    }
  ]
}