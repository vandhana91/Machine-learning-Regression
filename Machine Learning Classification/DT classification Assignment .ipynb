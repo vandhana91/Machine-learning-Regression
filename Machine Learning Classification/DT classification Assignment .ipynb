{
  "metadata": {
    "kernelspec": {
      "name": "python",
      "display_name": "Python (Pyodide)",
      "language": "python"
    },
    "language_info": {
      "codemirror_mode": {
        "name": "python",
        "version": 3
      },
      "file_extension": ".py",
      "mimetype": "text/x-python",
      "name": "python",
      "nbconvert_exporter": "python",
      "pygments_lexer": "ipython3",
      "version": "3.8"
    }
  },
  "nbformat_minor": 4,
  "nbformat": 4,
  "cells": [
    {
      "cell_type": "code",
      "source": "import numpy as np\nimport pandas as pd",
      "metadata": {
        "trusted": true
      },
      "outputs": [],
      "execution_count": 77
    },
    {
      "cell_type": "code",
      "source": "dataset = pd.read_csv('CKD.csv')",
      "metadata": {
        "trusted": true
      },
      "outputs": [],
      "execution_count": 78
    },
    {
      "cell_type": "code",
      "source": "dataset.head()",
      "metadata": {
        "trusted": true
      },
      "outputs": [
        {
          "execution_count": 79,
          "output_type": "execute_result",
          "data": {
            "text/plain": "   age         bp sg   al   su     rbc        pc         pcc          ba  \\\n0  2.0  76.459948  c  3.0  0.0  normal  abnormal  notpresent  notpresent   \n1  3.0  76.459948  c  2.0  0.0  normal    normal  notpresent  notpresent   \n2  4.0  76.459948  a  1.0  0.0  normal    normal  notpresent  notpresent   \n3  5.0  76.459948  d  1.0  0.0  normal    normal  notpresent  notpresent   \n4  5.0  50.000000  c  0.0  0.0  normal    normal  notpresent  notpresent   \n\n          bgr  ...        pcv            wc        rc  htn  dm  cad  appet  \\\n0  148.112676  ...  38.868902   8408.191126  4.705597   no  no   no    yes   \n1  148.112676  ...  34.000000  12300.000000  4.705597   no  no   no    yes   \n2   99.000000  ...  34.000000   8408.191126  4.705597   no  no   no    yes   \n3  148.112676  ...  38.868902   8408.191126  4.705597   no  no   no    yes   \n4  148.112676  ...  36.000000  12400.000000  4.705597   no  no   no    yes   \n\n     pe  ane classification  \n0   yes   no            yes  \n1  poor   no            yes  \n2  poor   no            yes  \n3  poor  yes            yes  \n4  poor   no            yes  \n\n[5 rows x 25 columns]",
            "text/html": "<div>\n<style scoped>\n    .dataframe tbody tr th:only-of-type {\n        vertical-align: middle;\n    }\n\n    .dataframe tbody tr th {\n        vertical-align: top;\n    }\n\n    .dataframe thead th {\n        text-align: right;\n    }\n</style>\n<table border=\"1\" class=\"dataframe\">\n  <thead>\n    <tr style=\"text-align: right;\">\n      <th></th>\n      <th>age</th>\n      <th>bp</th>\n      <th>sg</th>\n      <th>al</th>\n      <th>su</th>\n      <th>rbc</th>\n      <th>pc</th>\n      <th>pcc</th>\n      <th>ba</th>\n      <th>bgr</th>\n      <th>...</th>\n      <th>pcv</th>\n      <th>wc</th>\n      <th>rc</th>\n      <th>htn</th>\n      <th>dm</th>\n      <th>cad</th>\n      <th>appet</th>\n      <th>pe</th>\n      <th>ane</th>\n      <th>classification</th>\n    </tr>\n  </thead>\n  <tbody>\n    <tr>\n      <th>0</th>\n      <td>2.0</td>\n      <td>76.459948</td>\n      <td>c</td>\n      <td>3.0</td>\n      <td>0.0</td>\n      <td>normal</td>\n      <td>abnormal</td>\n      <td>notpresent</td>\n      <td>notpresent</td>\n      <td>148.112676</td>\n      <td>...</td>\n      <td>38.868902</td>\n      <td>8408.191126</td>\n      <td>4.705597</td>\n      <td>no</td>\n      <td>no</td>\n      <td>no</td>\n      <td>yes</td>\n      <td>yes</td>\n      <td>no</td>\n      <td>yes</td>\n    </tr>\n    <tr>\n      <th>1</th>\n      <td>3.0</td>\n      <td>76.459948</td>\n      <td>c</td>\n      <td>2.0</td>\n      <td>0.0</td>\n      <td>normal</td>\n      <td>normal</td>\n      <td>notpresent</td>\n      <td>notpresent</td>\n      <td>148.112676</td>\n      <td>...</td>\n      <td>34.000000</td>\n      <td>12300.000000</td>\n      <td>4.705597</td>\n      <td>no</td>\n      <td>no</td>\n      <td>no</td>\n      <td>yes</td>\n      <td>poor</td>\n      <td>no</td>\n      <td>yes</td>\n    </tr>\n    <tr>\n      <th>2</th>\n      <td>4.0</td>\n      <td>76.459948</td>\n      <td>a</td>\n      <td>1.0</td>\n      <td>0.0</td>\n      <td>normal</td>\n      <td>normal</td>\n      <td>notpresent</td>\n      <td>notpresent</td>\n      <td>99.000000</td>\n      <td>...</td>\n      <td>34.000000</td>\n      <td>8408.191126</td>\n      <td>4.705597</td>\n      <td>no</td>\n      <td>no</td>\n      <td>no</td>\n      <td>yes</td>\n      <td>poor</td>\n      <td>no</td>\n      <td>yes</td>\n    </tr>\n    <tr>\n      <th>3</th>\n      <td>5.0</td>\n      <td>76.459948</td>\n      <td>d</td>\n      <td>1.0</td>\n      <td>0.0</td>\n      <td>normal</td>\n      <td>normal</td>\n      <td>notpresent</td>\n      <td>notpresent</td>\n      <td>148.112676</td>\n      <td>...</td>\n      <td>38.868902</td>\n      <td>8408.191126</td>\n      <td>4.705597</td>\n      <td>no</td>\n      <td>no</td>\n      <td>no</td>\n      <td>yes</td>\n      <td>poor</td>\n      <td>yes</td>\n      <td>yes</td>\n    </tr>\n    <tr>\n      <th>4</th>\n      <td>5.0</td>\n      <td>50.000000</td>\n      <td>c</td>\n      <td>0.0</td>\n      <td>0.0</td>\n      <td>normal</td>\n      <td>normal</td>\n      <td>notpresent</td>\n      <td>notpresent</td>\n      <td>148.112676</td>\n      <td>...</td>\n      <td>36.000000</td>\n      <td>12400.000000</td>\n      <td>4.705597</td>\n      <td>no</td>\n      <td>no</td>\n      <td>no</td>\n      <td>yes</td>\n      <td>poor</td>\n      <td>no</td>\n      <td>yes</td>\n    </tr>\n  </tbody>\n</table>\n<p>5 rows × 25 columns</p>\n</div>"
          },
          "metadata": {}
        }
      ],
      "execution_count": 79
    },
    {
      "cell_type": "code",
      "source": "dataset = pd.get_dummies(dataset)",
      "metadata": {
        "trusted": true
      },
      "outputs": [],
      "execution_count": 80
    },
    {
      "cell_type": "code",
      "source": "dataset.head()",
      "metadata": {
        "trusted": true
      },
      "outputs": [
        {
          "execution_count": 81,
          "output_type": "execute_result",
          "data": {
            "text/plain": "   age         bp   al   su         bgr         bu        sc         sod  \\\n0  2.0  76.459948  3.0  0.0  148.112676  57.482105  3.077356  137.528754   \n1  3.0  76.459948  2.0  0.0  148.112676  22.000000  0.700000  137.528754   \n2  4.0  76.459948  1.0  0.0   99.000000  23.000000  0.600000  138.000000   \n3  5.0  76.459948  1.0  0.0  148.112676  16.000000  0.700000  138.000000   \n4  5.0  50.000000  0.0  0.0  148.112676  25.000000  0.600000  137.528754   \n\n        pot       hrmo  ...  cad_no  cad_yes  appet_poor  appet_yes  pe_poor  \\\n0  4.627244  12.518156  ...       1        0           0          1        0   \n1  4.627244  10.700000  ...       1        0           0          1        1   \n2  4.400000  12.000000  ...       1        0           0          1        1   \n3  3.200000   8.100000  ...       1        0           0          1        1   \n4  4.627244  11.800000  ...       1        0           0          1        1   \n\n   pe_yes  ane_no  ane_yes  classification_no  classification_yes  \n0       1       1        0                  0                   1  \n1       0       1        0                  0                   1  \n2       0       1        0                  0                   1  \n3       0       0        1                  0                   1  \n4       0       1        0                  0                   1  \n\n[5 rows x 40 columns]",
            "text/html": "<div>\n<style scoped>\n    .dataframe tbody tr th:only-of-type {\n        vertical-align: middle;\n    }\n\n    .dataframe tbody tr th {\n        vertical-align: top;\n    }\n\n    .dataframe thead th {\n        text-align: right;\n    }\n</style>\n<table border=\"1\" class=\"dataframe\">\n  <thead>\n    <tr style=\"text-align: right;\">\n      <th></th>\n      <th>age</th>\n      <th>bp</th>\n      <th>al</th>\n      <th>su</th>\n      <th>bgr</th>\n      <th>bu</th>\n      <th>sc</th>\n      <th>sod</th>\n      <th>pot</th>\n      <th>hrmo</th>\n      <th>...</th>\n      <th>cad_no</th>\n      <th>cad_yes</th>\n      <th>appet_poor</th>\n      <th>appet_yes</th>\n      <th>pe_poor</th>\n      <th>pe_yes</th>\n      <th>ane_no</th>\n      <th>ane_yes</th>\n      <th>classification_no</th>\n      <th>classification_yes</th>\n    </tr>\n  </thead>\n  <tbody>\n    <tr>\n      <th>0</th>\n      <td>2.0</td>\n      <td>76.459948</td>\n      <td>3.0</td>\n      <td>0.0</td>\n      <td>148.112676</td>\n      <td>57.482105</td>\n      <td>3.077356</td>\n      <td>137.528754</td>\n      <td>4.627244</td>\n      <td>12.518156</td>\n      <td>...</td>\n      <td>1</td>\n      <td>0</td>\n      <td>0</td>\n      <td>1</td>\n      <td>0</td>\n      <td>1</td>\n      <td>1</td>\n      <td>0</td>\n      <td>0</td>\n      <td>1</td>\n    </tr>\n    <tr>\n      <th>1</th>\n      <td>3.0</td>\n      <td>76.459948</td>\n      <td>2.0</td>\n      <td>0.0</td>\n      <td>148.112676</td>\n      <td>22.000000</td>\n      <td>0.700000</td>\n      <td>137.528754</td>\n      <td>4.627244</td>\n      <td>10.700000</td>\n      <td>...</td>\n      <td>1</td>\n      <td>0</td>\n      <td>0</td>\n      <td>1</td>\n      <td>1</td>\n      <td>0</td>\n      <td>1</td>\n      <td>0</td>\n      <td>0</td>\n      <td>1</td>\n    </tr>\n    <tr>\n      <th>2</th>\n      <td>4.0</td>\n      <td>76.459948</td>\n      <td>1.0</td>\n      <td>0.0</td>\n      <td>99.000000</td>\n      <td>23.000000</td>\n      <td>0.600000</td>\n      <td>138.000000</td>\n      <td>4.400000</td>\n      <td>12.000000</td>\n      <td>...</td>\n      <td>1</td>\n      <td>0</td>\n      <td>0</td>\n      <td>1</td>\n      <td>1</td>\n      <td>0</td>\n      <td>1</td>\n      <td>0</td>\n      <td>0</td>\n      <td>1</td>\n    </tr>\n    <tr>\n      <th>3</th>\n      <td>5.0</td>\n      <td>76.459948</td>\n      <td>1.0</td>\n      <td>0.0</td>\n      <td>148.112676</td>\n      <td>16.000000</td>\n      <td>0.700000</td>\n      <td>138.000000</td>\n      <td>3.200000</td>\n      <td>8.100000</td>\n      <td>...</td>\n      <td>1</td>\n      <td>0</td>\n      <td>0</td>\n      <td>1</td>\n      <td>1</td>\n      <td>0</td>\n      <td>0</td>\n      <td>1</td>\n      <td>0</td>\n      <td>1</td>\n    </tr>\n    <tr>\n      <th>4</th>\n      <td>5.0</td>\n      <td>50.000000</td>\n      <td>0.0</td>\n      <td>0.0</td>\n      <td>148.112676</td>\n      <td>25.000000</td>\n      <td>0.600000</td>\n      <td>137.528754</td>\n      <td>4.627244</td>\n      <td>11.800000</td>\n      <td>...</td>\n      <td>1</td>\n      <td>0</td>\n      <td>0</td>\n      <td>1</td>\n      <td>1</td>\n      <td>0</td>\n      <td>1</td>\n      <td>0</td>\n      <td>0</td>\n      <td>1</td>\n    </tr>\n  </tbody>\n</table>\n<p>5 rows × 40 columns</p>\n</div>"
          },
          "metadata": {}
        }
      ],
      "execution_count": 81
    },
    {
      "cell_type": "code",
      "source": "dataset.columns\n",
      "metadata": {
        "trusted": true
      },
      "outputs": [
        {
          "execution_count": 82,
          "output_type": "execute_result",
          "data": {
            "text/plain": "Index(['age', 'bp', 'al', 'su', 'bgr', 'bu', 'sc', 'sod', 'pot', 'hrmo', 'pcv',\n       'wc', 'rc', 'sg_a', 'sg_b', 'sg_c', 'sg_d', 'sg_e', 'rbc_abnormal',\n       'rbc_normal', 'pc_abnormal', 'pc_normal', 'pcc_notpresent',\n       'pcc_present', 'ba_notpresent', 'ba_present', 'htn_no', 'htn_yes',\n       'dm_no', 'dm_yes', 'cad_no', 'cad_yes', 'appet_poor', 'appet_yes',\n       'pe_poor', 'pe_yes', 'ane_no', 'ane_yes', 'classification_no',\n       'classification_yes'],\n      dtype='object')"
          },
          "metadata": {}
        }
      ],
      "execution_count": 82
    },
    {
      "cell_type": "code",
      "source": "independent = dataset[['age', 'bp', 'al', 'su', 'bgr', 'bu', 'sc', 'sod', 'pot', 'hrmo', 'pcv',\n       'wc', 'rc', 'sg_b', 'sg_c', 'sg_d', 'sg_e', 'rbc_normal', 'pc_normal',\n       'pcc_present', 'ba_present', 'htn_yes', 'dm_yes', 'cad_yes',\n       'appet_yes', 'pe_yes', 'ane_yes']]\ndependent = dataset[['classification_yes']]",
      "metadata": {
        "trusted": true
      },
      "outputs": [],
      "execution_count": 83
    },
    {
      "cell_type": "code",
      "source": "dataset['classification_yes'].value_counts()\n",
      "metadata": {
        "trusted": true
      },
      "outputs": [
        {
          "execution_count": 84,
          "output_type": "execute_result",
          "data": {
            "text/plain": "1    249\n0    150\nName: classification_yes, dtype: int64"
          },
          "metadata": {}
        }
      ],
      "execution_count": 84
    },
    {
      "cell_type": "code",
      "source": "dataset.shape",
      "metadata": {
        "trusted": true
      },
      "outputs": [
        {
          "execution_count": 85,
          "output_type": "execute_result",
          "data": {
            "text/plain": "(399, 40)"
          },
          "metadata": {}
        }
      ],
      "execution_count": 85
    },
    {
      "cell_type": "code",
      "source": "from sklearn.model_selection import train_test_split\n\nx_train,x_test,y_train,y_test = train_test_split(independent,dependent,test_size = 0.3,random_state = 0)\n",
      "metadata": {
        "trusted": true
      },
      "outputs": [],
      "execution_count": 86
    },
    {
      "cell_type": "code",
      "source": "from sklearn.preprocessing import StandardScaler\nsc = StandardScaler()\nx_train = sc.fit_transform(x_train)\nx_test = sc.transform(x_test)",
      "metadata": {
        "trusted": true
      },
      "outputs": [],
      "execution_count": 88
    },
    {
      "cell_type": "code",
      "source": "from sklearn.model_selection import GridSearchCV\nfrom sklearn.tree import DecisionTreeClassifier\nparam_grid = {\n    'criterion' : [ 'entropy', 'gini','log_loss'],\n    'max_features': ['sqrt','log2'],\n    'splitter' : ['best','random']\n}\ngrid = GridSearchCV(DecisionTreeClassifier(),param_grid,refit = True,verbose=3,cv=5,n_jobs = -1,scoring = 'f1_weighted')\ngrid.fit(x_train,y_train)",
      "metadata": {
        "trusted": true
      },
      "outputs": [
        {
          "name": "stdout",
          "text": "Fitting 5 folds for each of 12 candidates, totalling 60 fits\n[CV 1/5] END criterion=entropy, max_features=sqrt, splitter=best;, score=0.911 total time=   0.0s\n[CV 2/5] END criterion=entropy, max_features=sqrt, splitter=best;, score=0.928 total time=   0.0s\n[CV 3/5] END criterion=entropy, max_features=sqrt, splitter=best;, score=0.965 total time=   0.0s\n[CV 4/5] END criterion=entropy, max_features=sqrt, splitter=best;, score=0.982 total time=   0.0s\n[CV 5/5] END criterion=entropy, max_features=sqrt, splitter=best;, score=1.000 total time=   0.0s\n[CV 1/5] END criterion=entropy, max_features=sqrt, splitter=random;, score=0.982 total time=   0.0s\n[CV 2/5] END criterion=entropy, max_features=sqrt, splitter=random;, score=0.964 total time=   0.0s\n[CV 3/5] END criterion=entropy, max_features=sqrt, splitter=random;, score=0.912 total time=   0.0s\n[CV 4/5] END criterion=entropy, max_features=sqrt, splitter=random;, score=0.982 total time=   0.0s\n[CV 5/5] END criterion=entropy, max_features=sqrt, splitter=random;, score=0.964 total time=   0.0s\n[CV 1/5] END criterion=entropy, max_features=log2, splitter=best;, score=0.947 total time=   0.0s\n[CV 2/5] END criterion=entropy, max_features=log2, splitter=best;, score=0.929 total time=   0.0s\n[CV 3/5] END criterion=entropy, max_features=log2, splitter=best;, score=0.982 total time=   0.0s\n[CV 4/5] END criterion=entropy, max_features=log2, splitter=best;, score=0.964 total time=   0.0s\n[CV 5/5] END criterion=entropy, max_features=log2, splitter=best;, score=0.982 total time=   0.0s\n[CV 1/5] END criterion=entropy, max_features=log2, splitter=random;, score=1.000 total time=   0.0s\n[CV 2/5] END criterion=entropy, max_features=log2, splitter=random;, score=0.928 total time=   0.0s\n[CV 3/5] END criterion=entropy, max_features=log2, splitter=random;, score=0.982 total time=   0.0s\n[CV 4/5] END criterion=entropy, max_features=log2, splitter=random;, score=0.982 total time=   0.0s\n[CV 5/5] END criterion=entropy, max_features=log2, splitter=random;, score=0.963 total time=   0.0s\n[CV 1/5] END criterion=gini, max_features=sqrt, splitter=best;, score=0.965 total time=   0.0s\n[CV 2/5] END criterion=gini, max_features=sqrt, splitter=best;, score=0.946 total time=   0.0s\n[CV 3/5] END criterion=gini, max_features=sqrt, splitter=best;, score=0.947 total time=   0.0s\n[CV 4/5] END criterion=gini, max_features=sqrt, splitter=best;, score=0.947 total time=   0.0s\n[CV 5/5] END criterion=gini, max_features=sqrt, splitter=best;, score=0.963 total time=   0.0s\n[CV 1/5] END criterion=gini, max_features=sqrt, splitter=random;, score=1.000 total time=   0.0s\n[CV 2/5] END criterion=gini, max_features=sqrt, splitter=random;, score=0.910 total time=   0.0s\n[CV 3/5] END criterion=gini, max_features=sqrt, splitter=random;, score=0.929 total time=   0.0s\n[CV 4/5] END criterion=gini, max_features=sqrt, splitter=random;, score=0.911 total time=   0.0s\n[CV 5/5] END criterion=gini, max_features=sqrt, splitter=random;, score=0.982 total time=   0.0s\n[CV 1/5] END criterion=gini, max_features=log2, splitter=best;, score=0.929 total time=   0.0s\n[CV 2/5] END criterion=gini, max_features=log2, splitter=best;, score=0.929 total time=   0.0s\n[CV 3/5] END criterion=gini, max_features=log2, splitter=best;, score=0.930 total time=   0.0s\n[CV 4/5] END criterion=gini, max_features=log2, splitter=best;, score=0.946 total time=   0.0s\n[CV 5/5] END criterion=gini, max_features=log2, splitter=best;, score=0.964 total time=   0.0s\n[CV 1/5] END criterion=gini, max_features=log2, splitter=random;, score=0.965 total time=   0.0s\n[CV 2/5] END criterion=gini, max_features=log2, splitter=random;, score=0.982 total time=   0.0s\n[CV 3/5] END criterion=gini, max_features=log2, splitter=random;, score=0.929 total time=   0.0s\n[CV 4/5] END criterion=gini, max_features=log2, splitter=random;, score=0.947 total time=   0.0s\n[CV 5/5] END criterion=gini, max_features=log2, splitter=random;, score=0.945 total time=   0.0s\n[CV 1/5] END criterion=log_loss, max_features=sqrt, splitter=best;, score=0.947 total time=   0.0s\n[CV 2/5] END criterion=log_loss, max_features=sqrt, splitter=best;, score=0.946 total time=   0.0s\n[CV 3/5] END criterion=log_loss, max_features=sqrt, splitter=best;, score=0.877 total time=   0.0s\n[CV 4/5] END criterion=log_loss, max_features=sqrt, splitter=best;, score=0.946 total time=   0.0s\n[CV 5/5] END criterion=log_loss, max_features=sqrt, splitter=best;, score=0.964 total time=   0.0s\n[CV 1/5] END criterion=log_loss, max_features=sqrt, splitter=random;, score=1.000 total time=   0.0s\n[CV 2/5] END criterion=log_loss, max_features=sqrt, splitter=random;, score=0.982 total time=   0.0s\n[CV 3/5] END criterion=log_loss, max_features=sqrt, splitter=random;, score=0.964 total time=   0.0s\n[CV 4/5] END criterion=log_loss, max_features=sqrt, splitter=random;, score=0.965 total time=   0.0s\n[CV 5/5] END criterion=log_loss, max_features=sqrt, splitter=random;, score=0.964 total time=   0.0s\n[CV 1/5] END criterion=log_loss, max_features=log2, splitter=best;, score=0.965 total time=   0.0s\n[CV 2/5] END criterion=log_loss, max_features=log2, splitter=best;, score=0.982 total time=   0.0s\n[CV 3/5] END criterion=log_loss, max_features=log2, splitter=best;, score=0.912 total time=   0.0s\n[CV 4/5] END criterion=log_loss, max_features=log2, splitter=best;, score=0.964 total time=   0.0s\n[CV 5/5] END criterion=log_loss, max_features=log2, splitter=best;, score=0.964 total time=   0.0s\n[CV 1/5] END criterion=log_loss, max_features=log2, splitter=random;, score=0.982 total time=   0.0s\n[CV 2/5] END criterion=log_loss, max_features=log2, splitter=random;, score=0.947 total time=   0.0s\n[CV 3/5] END criterion=log_loss, max_features=log2, splitter=random;, score=0.947 total time=   0.0s\n[CV 4/5] END criterion=log_loss, max_features=log2, splitter=random;, score=0.947 total time=   0.0s\n[CV 5/5] END criterion=log_loss, max_features=log2, splitter=random;, score=0.982 total time=   0.0s\n",
          "output_type": "stream"
        },
        {
          "execution_count": 95,
          "output_type": "execute_result",
          "data": {
            "text/plain": "GridSearchCV(cv=5, estimator=DecisionTreeClassifier(), n_jobs=-1,\n             param_grid={'criterion': ['entropy', 'gini', 'log_loss'],\n                         'max_features': ['sqrt', 'log2'],\n                         'splitter': ['best', 'random']},\n             scoring='f1_weighted', verbose=3)",
            "text/html": "<style>#sk-container-id-6 {color: black;}#sk-container-id-6 pre{padding: 0;}#sk-container-id-6 div.sk-toggleable {background-color: white;}#sk-container-id-6 label.sk-toggleable__label {cursor: pointer;display: block;width: 100%;margin-bottom: 0;padding: 0.3em;box-sizing: border-box;text-align: center;}#sk-container-id-6 label.sk-toggleable__label-arrow:before {content: \"▸\";float: left;margin-right: 0.25em;color: #696969;}#sk-container-id-6 label.sk-toggleable__label-arrow:hover:before {color: black;}#sk-container-id-6 div.sk-estimator:hover label.sk-toggleable__label-arrow:before {color: black;}#sk-container-id-6 div.sk-toggleable__content {max-height: 0;max-width: 0;overflow: hidden;text-align: left;background-color: #f0f8ff;}#sk-container-id-6 div.sk-toggleable__content pre {margin: 0.2em;color: black;border-radius: 0.25em;background-color: #f0f8ff;}#sk-container-id-6 input.sk-toggleable__control:checked~div.sk-toggleable__content {max-height: 200px;max-width: 100%;overflow: auto;}#sk-container-id-6 input.sk-toggleable__control:checked~label.sk-toggleable__label-arrow:before {content: \"▾\";}#sk-container-id-6 div.sk-estimator input.sk-toggleable__control:checked~label.sk-toggleable__label {background-color: #d4ebff;}#sk-container-id-6 div.sk-label input.sk-toggleable__control:checked~label.sk-toggleable__label {background-color: #d4ebff;}#sk-container-id-6 input.sk-hidden--visually {border: 0;clip: rect(1px 1px 1px 1px);clip: rect(1px, 1px, 1px, 1px);height: 1px;margin: -1px;overflow: hidden;padding: 0;position: absolute;width: 1px;}#sk-container-id-6 div.sk-estimator {font-family: monospace;background-color: #f0f8ff;border: 1px dotted black;border-radius: 0.25em;box-sizing: border-box;margin-bottom: 0.5em;}#sk-container-id-6 div.sk-estimator:hover {background-color: #d4ebff;}#sk-container-id-6 div.sk-parallel-item::after {content: \"\";width: 100%;border-bottom: 1px solid gray;flex-grow: 1;}#sk-container-id-6 div.sk-label:hover label.sk-toggleable__label {background-color: #d4ebff;}#sk-container-id-6 div.sk-serial::before {content: \"\";position: absolute;border-left: 1px solid gray;box-sizing: border-box;top: 0;bottom: 0;left: 50%;z-index: 0;}#sk-container-id-6 div.sk-serial {display: flex;flex-direction: column;align-items: center;background-color: white;padding-right: 0.2em;padding-left: 0.2em;position: relative;}#sk-container-id-6 div.sk-item {position: relative;z-index: 1;}#sk-container-id-6 div.sk-parallel {display: flex;align-items: stretch;justify-content: center;background-color: white;position: relative;}#sk-container-id-6 div.sk-item::before, #sk-container-id-6 div.sk-parallel-item::before {content: \"\";position: absolute;border-left: 1px solid gray;box-sizing: border-box;top: 0;bottom: 0;left: 50%;z-index: -1;}#sk-container-id-6 div.sk-parallel-item {display: flex;flex-direction: column;z-index: 1;position: relative;background-color: white;}#sk-container-id-6 div.sk-parallel-item:first-child::after {align-self: flex-end;width: 50%;}#sk-container-id-6 div.sk-parallel-item:last-child::after {align-self: flex-start;width: 50%;}#sk-container-id-6 div.sk-parallel-item:only-child::after {width: 0;}#sk-container-id-6 div.sk-dashed-wrapped {border: 1px dashed gray;margin: 0 0.4em 0.5em 0.4em;box-sizing: border-box;padding-bottom: 0.4em;background-color: white;}#sk-container-id-6 div.sk-label label {font-family: monospace;font-weight: bold;display: inline-block;line-height: 1.2em;}#sk-container-id-6 div.sk-label-container {text-align: center;}#sk-container-id-6 div.sk-container {/* jupyter's `normalize.less` sets `[hidden] { display: none; }` but bootstrap.min.css set `[hidden] { display: none !important; }` so we also need the `!important` here to be able to override the default hidden behavior on the sphinx rendered scikit-learn.org. See: https://github.com/scikit-learn/scikit-learn/issues/21755 */display: inline-block !important;position: relative;}#sk-container-id-6 div.sk-text-repr-fallback {display: none;}</style><div id=\"sk-container-id-6\" class=\"sk-top-container\"><div class=\"sk-text-repr-fallback\"><pre>GridSearchCV(cv=5, estimator=DecisionTreeClassifier(), n_jobs=-1,\n             param_grid={&#x27;criterion&#x27;: [&#x27;entropy&#x27;, &#x27;gini&#x27;, &#x27;log_loss&#x27;],\n                         &#x27;max_features&#x27;: [&#x27;sqrt&#x27;, &#x27;log2&#x27;],\n                         &#x27;splitter&#x27;: [&#x27;best&#x27;, &#x27;random&#x27;]},\n             scoring=&#x27;f1_weighted&#x27;, verbose=3)</pre><b>In a Jupyter environment, please rerun this cell to show the HTML representation or trust the notebook. <br />On GitHub, the HTML representation is unable to render, please try loading this page with nbviewer.org.</b></div><div class=\"sk-container\" hidden><div class=\"sk-item sk-dashed-wrapped\"><div class=\"sk-label-container\"><div class=\"sk-label sk-toggleable\"><input class=\"sk-toggleable__control sk-hidden--visually\" id=\"sk-estimator-id-16\" type=\"checkbox\" ><label for=\"sk-estimator-id-16\" class=\"sk-toggleable__label sk-toggleable__label-arrow\">GridSearchCV</label><div class=\"sk-toggleable__content\"><pre>GridSearchCV(cv=5, estimator=DecisionTreeClassifier(), n_jobs=-1,\n             param_grid={&#x27;criterion&#x27;: [&#x27;entropy&#x27;, &#x27;gini&#x27;, &#x27;log_loss&#x27;],\n                         &#x27;max_features&#x27;: [&#x27;sqrt&#x27;, &#x27;log2&#x27;],\n                         &#x27;splitter&#x27;: [&#x27;best&#x27;, &#x27;random&#x27;]},\n             scoring=&#x27;f1_weighted&#x27;, verbose=3)</pre></div></div></div><div class=\"sk-parallel\"><div class=\"sk-parallel-item\"><div class=\"sk-item\"><div class=\"sk-label-container\"><div class=\"sk-label sk-toggleable\"><input class=\"sk-toggleable__control sk-hidden--visually\" id=\"sk-estimator-id-17\" type=\"checkbox\" ><label for=\"sk-estimator-id-17\" class=\"sk-toggleable__label sk-toggleable__label-arrow\">estimator: DecisionTreeClassifier</label><div class=\"sk-toggleable__content\"><pre>DecisionTreeClassifier()</pre></div></div></div><div class=\"sk-serial\"><div class=\"sk-item\"><div class=\"sk-estimator sk-toggleable\"><input class=\"sk-toggleable__control sk-hidden--visually\" id=\"sk-estimator-id-18\" type=\"checkbox\" ><label for=\"sk-estimator-id-18\" class=\"sk-toggleable__label sk-toggleable__label-arrow\">DecisionTreeClassifier</label><div class=\"sk-toggleable__content\"><pre>DecisionTreeClassifier()</pre></div></div></div></div></div></div></div></div></div></div>"
          },
          "metadata": {}
        }
      ],
      "execution_count": 95
    },
    {
      "cell_type": "code",
      "source": "re = grid.cv_results_\nprint(re)",
      "metadata": {
        "trusted": true
      },
      "outputs": [
        {
          "name": "stdout",
          "text": "{'mean_fit_time': array([0.02140007, 0.0203999 , 0.01200004, 0.0092001 , 0.01140003,\n       0.0203999 , 0.01300006, 0.00920005, 0.00920005, 0.01959996,\n       0.01100006, 0.01120014, 0.01140003, 0.02579999, 0.01099992,\n       0.01000004, 0.01120005, 0.02060003, 0.01140003, 0.00999994,\n       0.01059999, 0.0204    , 0.01059995, 0.00979996, 0.01020002,\n       0.02639999, 0.01060004, 0.00959997, 0.01040006, 0.01980004,\n       0.01080003, 0.01120005, 0.01040001, 0.02079992, 0.01480007,\n       0.01659999, 0.02040009, 0.04420009, 0.02260003, 0.01200008]), 'std_fit_time': array([0.01616904, 0.00149657, 0.00063241, 0.0011663 , 0.00185476,\n       0.00257681, 0.00334665, 0.00116611, 0.00213537, 0.00079998,\n       0.00189733, 0.00248195, 0.00135633, 0.01172009, 0.00126493,\n       0.00063226, 0.00172057, 0.00338237, 0.00338235, 0.00282836,\n       0.00101989, 0.00149676, 0.0008    , 0.00203962, 0.00097986,\n       0.01130654, 0.00119998, 0.00079992, 0.00101979, 0.00039999,\n       0.00116629, 0.00549171, 0.00080004, 0.00479155, 0.00416656,\n       0.00162478, 0.0068294 , 0.01231915, 0.00585154, 0.00260771]), 'mean_score_time': array([0.01979995, 0.01760001, 0.01739998, 0.02080002, 0.01739998,\n       0.01960006, 0.02039995, 0.0152    , 0.01679993, 0.01760006,\n       0.01739998, 0.02099996, 0.0184    , 0.02080002, 0.01700006,\n       0.01679997, 0.01860003, 0.01860003, 0.01719999, 0.01740012,\n       0.01719995, 0.01920004, 0.01799998, 0.01700006, 0.0178    ,\n       0.01980004, 0.0164    , 0.01680002, 0.01719995, 0.01839995,\n       0.01720004, 0.02039995, 0.01820002, 0.02180009, 0.02459993,\n       0.02859998, 0.03059993, 0.03920002, 0.03699999, 0.02340002]), 'std_score_time': array([0.00183302, 0.00149664, 0.0008001 , 0.00673503, 0.00079998,\n       0.00542588, 0.00991161, 0.00097984, 0.00337052, 0.00080001,\n       0.00162494, 0.00704279, 0.00101967, 0.00928225, 0.00063249,\n       0.00074834, 0.00349849, 0.00048982, 0.0029257 , 0.0030067 ,\n       0.00231514, 0.00193905, 0.00328633, 0.00126489, 0.00040002,\n       0.0029258 , 0.00079994, 0.00039999, 0.00074834, 0.00048988,\n       0.001939  , 0.00608608, 0.00040002, 0.01072201, 0.00705973,\n       0.00080001, 0.00307231, 0.00691081, 0.01188271, 0.004587  ]), 'param_C': masked_array(data=[10, 10, 10, 10, 10, 10, 10, 10, 100, 100, 100, 100,\n                   100, 100, 100, 100, 1000, 1000, 1000, 1000, 1000, 1000,\n                   1000, 1000, 2000, 2000, 2000, 2000, 2000, 2000, 2000,\n                   2000, 3000, 3000, 3000, 3000, 3000, 3000, 3000, 3000],\n             mask=[False, False, False, False, False, False, False, False,\n                   False, False, False, False, False, False, False, False,\n                   False, False, False, False, False, False, False, False,\n                   False, False, False, False, False, False, False, False,\n                   False, False, False, False, False, False, False, False],\n       fill_value='?',\n            dtype=object), 'param_gamma': masked_array(data=['auto', 'auto', 'auto', 'auto', 'scale', 'scale',\n                   'scale', 'scale', 'auto', 'auto', 'auto', 'auto',\n                   'scale', 'scale', 'scale', 'scale', 'auto', 'auto',\n                   'auto', 'auto', 'scale', 'scale', 'scale', 'scale',\n                   'auto', 'auto', 'auto', 'auto', 'scale', 'scale',\n                   'scale', 'scale', 'auto', 'auto', 'auto', 'auto',\n                   'scale', 'scale', 'scale', 'scale'],\n             mask=[False, False, False, False, False, False, False, False,\n                   False, False, False, False, False, False, False, False,\n                   False, False, False, False, False, False, False, False,\n                   False, False, False, False, False, False, False, False,\n                   False, False, False, False, False, False, False, False],\n       fill_value='?',\n            dtype=object), 'param_kernel': masked_array(data=['rbf', 'poly', 'sigmoid', 'linear', 'rbf', 'poly',\n                   'sigmoid', 'linear', 'rbf', 'poly', 'sigmoid',\n                   'linear', 'rbf', 'poly', 'sigmoid', 'linear', 'rbf',\n                   'poly', 'sigmoid', 'linear', 'rbf', 'poly', 'sigmoid',\n                   'linear', 'rbf', 'poly', 'sigmoid', 'linear', 'rbf',\n                   'poly', 'sigmoid', 'linear', 'rbf', 'poly', 'sigmoid',\n                   'linear', 'rbf', 'poly', 'sigmoid', 'linear'],\n             mask=[False, False, False, False, False, False, False, False,\n                   False, False, False, False, False, False, False, False,\n                   False, False, False, False, False, False, False, False,\n                   False, False, False, False, False, False, False, False,\n                   False, False, False, False, False, False, False, False],\n       fill_value='?',\n            dtype=object), 'params': [{'C': 10, 'gamma': 'auto', 'kernel': 'rbf'}, {'C': 10, 'gamma': 'auto', 'kernel': 'poly'}, {'C': 10, 'gamma': 'auto', 'kernel': 'sigmoid'}, {'C': 10, 'gamma': 'auto', 'kernel': 'linear'}, {'C': 10, 'gamma': 'scale', 'kernel': 'rbf'}, {'C': 10, 'gamma': 'scale', 'kernel': 'poly'}, {'C': 10, 'gamma': 'scale', 'kernel': 'sigmoid'}, {'C': 10, 'gamma': 'scale', 'kernel': 'linear'}, {'C': 100, 'gamma': 'auto', 'kernel': 'rbf'}, {'C': 100, 'gamma': 'auto', 'kernel': 'poly'}, {'C': 100, 'gamma': 'auto', 'kernel': 'sigmoid'}, {'C': 100, 'gamma': 'auto', 'kernel': 'linear'}, {'C': 100, 'gamma': 'scale', 'kernel': 'rbf'}, {'C': 100, 'gamma': 'scale', 'kernel': 'poly'}, {'C': 100, 'gamma': 'scale', 'kernel': 'sigmoid'}, {'C': 100, 'gamma': 'scale', 'kernel': 'linear'}, {'C': 1000, 'gamma': 'auto', 'kernel': 'rbf'}, {'C': 1000, 'gamma': 'auto', 'kernel': 'poly'}, {'C': 1000, 'gamma': 'auto', 'kernel': 'sigmoid'}, {'C': 1000, 'gamma': 'auto', 'kernel': 'linear'}, {'C': 1000, 'gamma': 'scale', 'kernel': 'rbf'}, {'C': 1000, 'gamma': 'scale', 'kernel': 'poly'}, {'C': 1000, 'gamma': 'scale', 'kernel': 'sigmoid'}, {'C': 1000, 'gamma': 'scale', 'kernel': 'linear'}, {'C': 2000, 'gamma': 'auto', 'kernel': 'rbf'}, {'C': 2000, 'gamma': 'auto', 'kernel': 'poly'}, {'C': 2000, 'gamma': 'auto', 'kernel': 'sigmoid'}, {'C': 2000, 'gamma': 'auto', 'kernel': 'linear'}, {'C': 2000, 'gamma': 'scale', 'kernel': 'rbf'}, {'C': 2000, 'gamma': 'scale', 'kernel': 'poly'}, {'C': 2000, 'gamma': 'scale', 'kernel': 'sigmoid'}, {'C': 2000, 'gamma': 'scale', 'kernel': 'linear'}, {'C': 3000, 'gamma': 'auto', 'kernel': 'rbf'}, {'C': 3000, 'gamma': 'auto', 'kernel': 'poly'}, {'C': 3000, 'gamma': 'auto', 'kernel': 'sigmoid'}, {'C': 3000, 'gamma': 'auto', 'kernel': 'linear'}, {'C': 3000, 'gamma': 'scale', 'kernel': 'rbf'}, {'C': 3000, 'gamma': 'scale', 'kernel': 'poly'}, {'C': 3000, 'gamma': 'scale', 'kernel': 'sigmoid'}, {'C': 3000, 'gamma': 'scale', 'kernel': 'linear'}], 'split0_test_score': array([0.9822211 , 1.        , 0.9822211 , 0.9822211 , 0.9822211 ,\n       1.        , 0.9822211 , 0.9822211 , 0.9822211 , 0.96457219,\n       0.9822211 , 0.9822211 , 0.9822211 , 0.96457219, 0.9822211 ,\n       0.9822211 , 0.9822211 , 0.96457219, 0.9822211 , 0.9822211 ,\n       0.9822211 , 0.96457219, 0.9822211 , 0.9822211 , 0.9822211 ,\n       0.96457219, 0.9822211 , 0.9822211 , 0.9822211 , 0.96457219,\n       0.9822211 , 0.9822211 , 0.9822211 , 0.96457219, 0.9822211 ,\n       0.9822211 , 0.9822211 , 0.96457219, 0.9822211 , 0.9822211 ]), 'split1_test_score': array([1.        , 1.        , 1.        , 0.9822211 , 1.        ,\n       1.        , 1.        , 0.9822211 , 1.        , 1.        ,\n       0.98205084, 0.9822211 , 1.        , 1.        , 0.98205084,\n       0.9822211 , 1.        , 1.        , 0.9466633 , 0.9822211 ,\n       1.        , 1.        , 0.9466633 , 0.9822211 , 1.        ,\n       1.        , 0.9466633 , 0.9822211 , 1.        , 1.        ,\n       0.9466633 , 0.9822211 , 1.        , 1.        , 0.9466633 ,\n       0.9822211 , 1.        , 1.        , 0.9466633 , 0.9822211 ]), 'split2_test_score': array([0.98205084, 0.96428571, 0.9822211 , 0.9822211 , 0.98205084,\n       0.96428571, 0.9822211 , 0.9822211 , 0.98205084, 0.98205084,\n       0.9822211 , 0.9822211 , 0.98205084, 0.98205084, 0.9822211 ,\n       0.9822211 , 0.98205084, 0.96428571, 0.9822211 , 0.9822211 ,\n       0.98205084, 0.96428571, 0.9822211 , 0.9822211 , 0.98205084,\n       0.96428571, 0.9822211 , 0.9822211 , 0.98205084, 0.96428571,\n       0.9822211 , 0.9822211 , 0.98205084, 0.96428571, 0.9822211 ,\n       0.9822211 , 0.98205084, 0.96428571, 0.9822211 , 0.9822211 ]), 'split3_test_score': array([1.        , 1.        , 1.        , 0.98205084, 1.        ,\n       1.        , 1.        , 0.98205084, 0.98205084, 1.        ,\n       0.98205084, 0.98205084, 0.98205084, 1.        , 0.98205084,\n       0.98205084, 0.98205084, 1.        , 0.98205084, 0.98205084,\n       0.98205084, 1.        , 0.98205084, 0.98205084, 0.98205084,\n       1.        , 0.98205084, 0.98205084, 0.98205084, 1.        ,\n       0.98205084, 0.98205084, 0.98205084, 1.        , 0.98205084,\n       0.98205084, 0.98205084, 1.        , 0.98205084, 0.98205084]), 'split4_test_score': array([1.        , 0.98189391, 1.        , 0.98189391, 1.        ,\n       0.98189391, 1.        , 0.98189391, 1.        , 0.98189391,\n       1.        , 0.98189391, 1.        , 0.98189391, 1.        ,\n       0.98189391, 1.        , 0.98189391, 0.98189391, 0.98189391,\n       1.        , 0.98189391, 0.98189391, 0.98189391, 1.        ,\n       0.98189391, 0.98189391, 0.98189391, 1.        , 0.98189391,\n       0.98189391, 0.98189391, 1.        , 0.98189391, 0.98189391,\n       0.98189391, 1.        , 0.98189391, 0.98189391, 0.98189391]), 'mean_test_score': array([0.99285439, 0.98923593, 0.99288844, 0.98212161, 0.99285439,\n       0.98923593, 0.99288844, 0.98212161, 0.98926456, 0.98570339,\n       0.98570878, 0.98212161, 0.98926456, 0.98570339, 0.98570878,\n       0.98212161, 0.98926456, 0.98215036, 0.97501005, 0.98212161,\n       0.98926456, 0.98215036, 0.97501005, 0.98212161, 0.98926456,\n       0.98215036, 0.97501005, 0.98212161, 0.98926456, 0.98215036,\n       0.97501005, 0.98212161, 0.98926456, 0.98215036, 0.97501005,\n       0.98212161, 0.98926456, 0.98215036, 0.97501005, 0.98212161]), 'std_test_score': array([0.00875172, 0.01431093, 0.00870985, 0.00013157, 0.00875172,\n       0.01431093, 0.00870985, 0.00013157, 0.00876567, 0.01329035,\n       0.00714602, 0.00013157, 0.00876567, 0.01329035, 0.00714602,\n       0.00013157, 0.00876567, 0.01590863, 0.0141739 , 0.00013157,\n       0.00876567, 0.01590863, 0.0141739 , 0.00013157, 0.00876567,\n       0.01590863, 0.0141739 , 0.00013157, 0.00876567, 0.01590863,\n       0.0141739 , 0.00013157, 0.00876567, 0.01590863, 0.0141739 ,\n       0.00013157, 0.00876567, 0.01590863, 0.0141739 , 0.00013157]), 'rank_test_score': array([ 3, 13,  1, 25,  3, 13,  1, 25,  5, 17, 15, 25,  5, 17, 15, 25,  5,\n       19, 35, 25,  5, 19, 35, 25,  5, 19, 35, 25,  5, 19, 35, 25,  5, 19,\n       35, 25,  5, 19, 35, 25])}\n",
          "output_type": "stream"
        }
      ],
      "execution_count": 72
    },
    {
      "cell_type": "code",
      "source": "grid_predictions = grid.predict(x_test)\nfrom sklearn.metrics import confusion_matrix\ncm = confusion_matrix(y_test, grid_predictions)\n \nfrom sklearn.metrics import classification_report\nclf_report = classification_report(y_test, grid_predictions)",
      "metadata": {
        "trusted": true
      },
      "outputs": [],
      "execution_count": 96
    },
    {
      "cell_type": "code",
      "source": "\nfrom sklearn.metrics import f1_score\nf1_macro=f1_score(y_test,grid_predictions,average='weighted')\nprint(\"The f1_macro value for best parameter {}:\".format(grid.best_params_),f1_macro)\n",
      "metadata": {
        "trusted": true
      },
      "outputs": [
        {
          "name": "stdout",
          "text": "The f1_macro value for best parameter {'criterion': 'log_loss', 'max_features': 'sqrt', 'splitter': 'random'}: 0.9423437387354913\n",
          "output_type": "stream"
        }
      ],
      "execution_count": 97
    },
    {
      "cell_type": "code",
      "source": "print(\"The confusion Matrix:\\n\",cm)",
      "metadata": {
        "trusted": true
      },
      "outputs": [
        {
          "name": "stdout",
          "text": "The confusion Matrix:\n [[45  0]\n [ 7 68]]\n",
          "output_type": "stream"
        }
      ],
      "execution_count": 98
    },
    {
      "cell_type": "code",
      "source": "print(\"The report:\\n\",clf_report)",
      "metadata": {
        "trusted": true
      },
      "outputs": [
        {
          "name": "stdout",
          "text": "The report:\n               precision    recall  f1-score   support\n\n           0       0.87      1.00      0.93        45\n           1       1.00      0.91      0.95        75\n\n    accuracy                           0.94       120\n   macro avg       0.93      0.95      0.94       120\nweighted avg       0.95      0.94      0.94       120\n\n",
          "output_type": "stream"
        }
      ],
      "execution_count": 99
    },
    {
      "cell_type": "code",
      "source": "",
      "metadata": {
        "trusted": true
      },
      "outputs": [],
      "execution_count": null
    }
  ]
}