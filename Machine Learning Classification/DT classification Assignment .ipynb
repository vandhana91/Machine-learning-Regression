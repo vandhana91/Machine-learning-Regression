{
  "metadata": {
    "kernelspec": {
      "name": "python",
      "display_name": "Python (Pyodide)",
      "language": "python"
    },
    "language_info": {
      "codemirror_mode": {
        "name": "python",
        "version": 3
      },
      "file_extension": ".py",
      "mimetype": "text/x-python",
      "name": "python",
      "nbconvert_exporter": "python",
      "pygments_lexer": "ipython3",
      "version": "3.8"
    }
  },
  "nbformat_minor": 4,
  "nbformat": 4,
  "cells": [
    {
      "cell_type": "code",
      "source": "import numpy as np\nimport pandas as pd",
      "metadata": {
        "trusted": true
      },
      "outputs": [],
      "execution_count": 1
    },
    {
      "cell_type": "code",
      "source": "dataset = pd.read_csv('CKD.csv')",
      "metadata": {
        "trusted": true
      },
      "outputs": [],
      "execution_count": 2
    },
    {
      "cell_type": "code",
      "source": "dataset.head()",
      "metadata": {
        "trusted": true
      },
      "outputs": [
        {
          "execution_count": 3,
          "output_type": "execute_result",
          "data": {
            "text/plain": "   age         bp sg   al   su     rbc        pc         pcc          ba  \\\n0  2.0  76.459948  c  3.0  0.0  normal  abnormal  notpresent  notpresent   \n1  3.0  76.459948  c  2.0  0.0  normal    normal  notpresent  notpresent   \n2  4.0  76.459948  a  1.0  0.0  normal    normal  notpresent  notpresent   \n3  5.0  76.459948  d  1.0  0.0  normal    normal  notpresent  notpresent   \n4  5.0  50.000000  c  0.0  0.0  normal    normal  notpresent  notpresent   \n\n          bgr  ...        pcv            wc        rc  htn  dm  cad  appet  \\\n0  148.112676  ...  38.868902   8408.191126  4.705597   no  no   no    yes   \n1  148.112676  ...  34.000000  12300.000000  4.705597   no  no   no    yes   \n2   99.000000  ...  34.000000   8408.191126  4.705597   no  no   no    yes   \n3  148.112676  ...  38.868902   8408.191126  4.705597   no  no   no    yes   \n4  148.112676  ...  36.000000  12400.000000  4.705597   no  no   no    yes   \n\n     pe  ane classification  \n0   yes   no            yes  \n1  poor   no            yes  \n2  poor   no            yes  \n3  poor  yes            yes  \n4  poor   no            yes  \n\n[5 rows x 25 columns]",
            "text/html": "<div>\n<style scoped>\n    .dataframe tbody tr th:only-of-type {\n        vertical-align: middle;\n    }\n\n    .dataframe tbody tr th {\n        vertical-align: top;\n    }\n\n    .dataframe thead th {\n        text-align: right;\n    }\n</style>\n<table border=\"1\" class=\"dataframe\">\n  <thead>\n    <tr style=\"text-align: right;\">\n      <th></th>\n      <th>age</th>\n      <th>bp</th>\n      <th>sg</th>\n      <th>al</th>\n      <th>su</th>\n      <th>rbc</th>\n      <th>pc</th>\n      <th>pcc</th>\n      <th>ba</th>\n      <th>bgr</th>\n      <th>...</th>\n      <th>pcv</th>\n      <th>wc</th>\n      <th>rc</th>\n      <th>htn</th>\n      <th>dm</th>\n      <th>cad</th>\n      <th>appet</th>\n      <th>pe</th>\n      <th>ane</th>\n      <th>classification</th>\n    </tr>\n  </thead>\n  <tbody>\n    <tr>\n      <th>0</th>\n      <td>2.0</td>\n      <td>76.459948</td>\n      <td>c</td>\n      <td>3.0</td>\n      <td>0.0</td>\n      <td>normal</td>\n      <td>abnormal</td>\n      <td>notpresent</td>\n      <td>notpresent</td>\n      <td>148.112676</td>\n      <td>...</td>\n      <td>38.868902</td>\n      <td>8408.191126</td>\n      <td>4.705597</td>\n      <td>no</td>\n      <td>no</td>\n      <td>no</td>\n      <td>yes</td>\n      <td>yes</td>\n      <td>no</td>\n      <td>yes</td>\n    </tr>\n    <tr>\n      <th>1</th>\n      <td>3.0</td>\n      <td>76.459948</td>\n      <td>c</td>\n      <td>2.0</td>\n      <td>0.0</td>\n      <td>normal</td>\n      <td>normal</td>\n      <td>notpresent</td>\n      <td>notpresent</td>\n      <td>148.112676</td>\n      <td>...</td>\n      <td>34.000000</td>\n      <td>12300.000000</td>\n      <td>4.705597</td>\n      <td>no</td>\n      <td>no</td>\n      <td>no</td>\n      <td>yes</td>\n      <td>poor</td>\n      <td>no</td>\n      <td>yes</td>\n    </tr>\n    <tr>\n      <th>2</th>\n      <td>4.0</td>\n      <td>76.459948</td>\n      <td>a</td>\n      <td>1.0</td>\n      <td>0.0</td>\n      <td>normal</td>\n      <td>normal</td>\n      <td>notpresent</td>\n      <td>notpresent</td>\n      <td>99.000000</td>\n      <td>...</td>\n      <td>34.000000</td>\n      <td>8408.191126</td>\n      <td>4.705597</td>\n      <td>no</td>\n      <td>no</td>\n      <td>no</td>\n      <td>yes</td>\n      <td>poor</td>\n      <td>no</td>\n      <td>yes</td>\n    </tr>\n    <tr>\n      <th>3</th>\n      <td>5.0</td>\n      <td>76.459948</td>\n      <td>d</td>\n      <td>1.0</td>\n      <td>0.0</td>\n      <td>normal</td>\n      <td>normal</td>\n      <td>notpresent</td>\n      <td>notpresent</td>\n      <td>148.112676</td>\n      <td>...</td>\n      <td>38.868902</td>\n      <td>8408.191126</td>\n      <td>4.705597</td>\n      <td>no</td>\n      <td>no</td>\n      <td>no</td>\n      <td>yes</td>\n      <td>poor</td>\n      <td>yes</td>\n      <td>yes</td>\n    </tr>\n    <tr>\n      <th>4</th>\n      <td>5.0</td>\n      <td>50.000000</td>\n      <td>c</td>\n      <td>0.0</td>\n      <td>0.0</td>\n      <td>normal</td>\n      <td>normal</td>\n      <td>notpresent</td>\n      <td>notpresent</td>\n      <td>148.112676</td>\n      <td>...</td>\n      <td>36.000000</td>\n      <td>12400.000000</td>\n      <td>4.705597</td>\n      <td>no</td>\n      <td>no</td>\n      <td>no</td>\n      <td>yes</td>\n      <td>poor</td>\n      <td>no</td>\n      <td>yes</td>\n    </tr>\n  </tbody>\n</table>\n<p>5 rows × 25 columns</p>\n</div>"
          },
          "metadata": {}
        }
      ],
      "execution_count": 3
    },
    {
      "cell_type": "code",
      "source": "dataset = pd.get_dummies(dataset,drop_first=True)",
      "metadata": {
        "trusted": true
      },
      "outputs": [],
      "execution_count": 4
    },
    {
      "cell_type": "code",
      "source": "dataset.head()",
      "metadata": {
        "trusted": true
      },
      "outputs": [
        {
          "execution_count": 5,
          "output_type": "execute_result",
          "data": {
            "text/plain": "   age         bp   al   su         bgr         bu        sc         sod  \\\n0  2.0  76.459948  3.0  0.0  148.112676  57.482105  3.077356  137.528754   \n1  3.0  76.459948  2.0  0.0  148.112676  22.000000  0.700000  137.528754   \n2  4.0  76.459948  1.0  0.0   99.000000  23.000000  0.600000  138.000000   \n3  5.0  76.459948  1.0  0.0  148.112676  16.000000  0.700000  138.000000   \n4  5.0  50.000000  0.0  0.0  148.112676  25.000000  0.600000  137.528754   \n\n        pot       hrmo  ...  pc_normal  pcc_present  ba_present  htn_yes  \\\n0  4.627244  12.518156  ...          0            0           0        0   \n1  4.627244  10.700000  ...          1            0           0        0   \n2  4.400000  12.000000  ...          1            0           0        0   \n3  3.200000   8.100000  ...          1            0           0        0   \n4  4.627244  11.800000  ...          1            0           0        0   \n\n   dm_yes  cad_yes  appet_yes  pe_yes  ane_yes  classification_yes  \n0       0        0          1       1        0                   1  \n1       0        0          1       0        0                   1  \n2       0        0          1       0        0                   1  \n3       0        0          1       0        1                   1  \n4       0        0          1       0        0                   1  \n\n[5 rows x 28 columns]",
            "text/html": "<div>\n<style scoped>\n    .dataframe tbody tr th:only-of-type {\n        vertical-align: middle;\n    }\n\n    .dataframe tbody tr th {\n        vertical-align: top;\n    }\n\n    .dataframe thead th {\n        text-align: right;\n    }\n</style>\n<table border=\"1\" class=\"dataframe\">\n  <thead>\n    <tr style=\"text-align: right;\">\n      <th></th>\n      <th>age</th>\n      <th>bp</th>\n      <th>al</th>\n      <th>su</th>\n      <th>bgr</th>\n      <th>bu</th>\n      <th>sc</th>\n      <th>sod</th>\n      <th>pot</th>\n      <th>hrmo</th>\n      <th>...</th>\n      <th>pc_normal</th>\n      <th>pcc_present</th>\n      <th>ba_present</th>\n      <th>htn_yes</th>\n      <th>dm_yes</th>\n      <th>cad_yes</th>\n      <th>appet_yes</th>\n      <th>pe_yes</th>\n      <th>ane_yes</th>\n      <th>classification_yes</th>\n    </tr>\n  </thead>\n  <tbody>\n    <tr>\n      <th>0</th>\n      <td>2.0</td>\n      <td>76.459948</td>\n      <td>3.0</td>\n      <td>0.0</td>\n      <td>148.112676</td>\n      <td>57.482105</td>\n      <td>3.077356</td>\n      <td>137.528754</td>\n      <td>4.627244</td>\n      <td>12.518156</td>\n      <td>...</td>\n      <td>0</td>\n      <td>0</td>\n      <td>0</td>\n      <td>0</td>\n      <td>0</td>\n      <td>0</td>\n      <td>1</td>\n      <td>1</td>\n      <td>0</td>\n      <td>1</td>\n    </tr>\n    <tr>\n      <th>1</th>\n      <td>3.0</td>\n      <td>76.459948</td>\n      <td>2.0</td>\n      <td>0.0</td>\n      <td>148.112676</td>\n      <td>22.000000</td>\n      <td>0.700000</td>\n      <td>137.528754</td>\n      <td>4.627244</td>\n      <td>10.700000</td>\n      <td>...</td>\n      <td>1</td>\n      <td>0</td>\n      <td>0</td>\n      <td>0</td>\n      <td>0</td>\n      <td>0</td>\n      <td>1</td>\n      <td>0</td>\n      <td>0</td>\n      <td>1</td>\n    </tr>\n    <tr>\n      <th>2</th>\n      <td>4.0</td>\n      <td>76.459948</td>\n      <td>1.0</td>\n      <td>0.0</td>\n      <td>99.000000</td>\n      <td>23.000000</td>\n      <td>0.600000</td>\n      <td>138.000000</td>\n      <td>4.400000</td>\n      <td>12.000000</td>\n      <td>...</td>\n      <td>1</td>\n      <td>0</td>\n      <td>0</td>\n      <td>0</td>\n      <td>0</td>\n      <td>0</td>\n      <td>1</td>\n      <td>0</td>\n      <td>0</td>\n      <td>1</td>\n    </tr>\n    <tr>\n      <th>3</th>\n      <td>5.0</td>\n      <td>76.459948</td>\n      <td>1.0</td>\n      <td>0.0</td>\n      <td>148.112676</td>\n      <td>16.000000</td>\n      <td>0.700000</td>\n      <td>138.000000</td>\n      <td>3.200000</td>\n      <td>8.100000</td>\n      <td>...</td>\n      <td>1</td>\n      <td>0</td>\n      <td>0</td>\n      <td>0</td>\n      <td>0</td>\n      <td>0</td>\n      <td>1</td>\n      <td>0</td>\n      <td>1</td>\n      <td>1</td>\n    </tr>\n    <tr>\n      <th>4</th>\n      <td>5.0</td>\n      <td>50.000000</td>\n      <td>0.0</td>\n      <td>0.0</td>\n      <td>148.112676</td>\n      <td>25.000000</td>\n      <td>0.600000</td>\n      <td>137.528754</td>\n      <td>4.627244</td>\n      <td>11.800000</td>\n      <td>...</td>\n      <td>1</td>\n      <td>0</td>\n      <td>0</td>\n      <td>0</td>\n      <td>0</td>\n      <td>0</td>\n      <td>1</td>\n      <td>0</td>\n      <td>0</td>\n      <td>1</td>\n    </tr>\n  </tbody>\n</table>\n<p>5 rows × 28 columns</p>\n</div>"
          },
          "metadata": {}
        }
      ],
      "execution_count": 5
    },
    {
      "cell_type": "code",
      "source": "dataset.columns\n",
      "metadata": {
        "trusted": true
      },
      "outputs": [
        {
          "execution_count": 6,
          "output_type": "execute_result",
          "data": {
            "text/plain": "Index(['age', 'bp', 'al', 'su', 'bgr', 'bu', 'sc', 'sod', 'pot', 'hrmo', 'pcv',\n       'wc', 'rc', 'sg_b', 'sg_c', 'sg_d', 'sg_e', 'rbc_normal', 'pc_normal',\n       'pcc_present', 'ba_present', 'htn_yes', 'dm_yes', 'cad_yes',\n       'appet_yes', 'pe_yes', 'ane_yes', 'classification_yes'],\n      dtype='object')"
          },
          "metadata": {}
        }
      ],
      "execution_count": 6
    },
    {
      "cell_type": "code",
      "source": "independent = dataset[['age', 'bp', 'al', 'su', 'bgr', 'bu', 'sc', 'sod', 'pot', 'hrmo', 'pcv',\n       'wc', 'rc', 'sg_b', 'sg_c', 'sg_d', 'sg_e', 'rbc_normal', 'pc_normal',\n       'pcc_present', 'ba_present', 'htn_yes', 'dm_yes', 'cad_yes',\n       'appet_yes', 'pe_yes', 'ane_yes']]\ndependent = dataset[['classification_yes']]",
      "metadata": {
        "trusted": true
      },
      "outputs": [],
      "execution_count": 7
    },
    {
      "cell_type": "code",
      "source": "dataset['classification_yes'].value_counts()\n",
      "metadata": {
        "trusted": true
      },
      "outputs": [
        {
          "execution_count": 8,
          "output_type": "execute_result",
          "data": {
            "text/plain": "1    249\n0    150\nName: classification_yes, dtype: int64"
          },
          "metadata": {}
        }
      ],
      "execution_count": 8
    },
    {
      "cell_type": "code",
      "source": "dataset.shape",
      "metadata": {
        "trusted": true
      },
      "outputs": [
        {
          "execution_count": 9,
          "output_type": "execute_result",
          "data": {
            "text/plain": "(399, 28)"
          },
          "metadata": {}
        }
      ],
      "execution_count": 9
    },
    {
      "cell_type": "code",
      "source": "from sklearn.model_selection import train_test_split\n\nx_train,x_test,y_train,y_test = train_test_split(independent,dependent,test_size = 0.3,random_state = 0)\n",
      "metadata": {
        "trusted": true
      },
      "outputs": [],
      "execution_count": 10
    },
    {
      "cell_type": "code",
      "source": "from sklearn.preprocessing import StandardScaler\nsc = StandardScaler()\nx_train = sc.fit_transform(x_train)\nx_test = sc.transform(x_test)",
      "metadata": {
        "trusted": true
      },
      "outputs": [],
      "execution_count": 11
    },
    {
      "cell_type": "code",
      "source": "from sklearn.model_selection import GridSearchCV\nfrom sklearn.tree import DecisionTreeClassifier\nparam_grid = {\n    'criterion' : [ 'entropy', 'gini','log_loss'],\n    'max_features': ['sqrt','log2'],\n    'splitter' : ['best','random']\n}\ngrid = GridSearchCV(DecisionTreeClassifier(),param_grid,refit = True,verbose=3,cv=5,n_jobs = -1,scoring = 'f1_weighted')\ngrid.fit(x_train,y_train)",
      "metadata": {
        "trusted": true
      },
      "outputs": [
        {
          "name": "stdout",
          "text": "Fitting 5 folds for each of 12 candidates, totalling 60 fits\n[CV 1/5] END criterion=entropy, max_features=sqrt, splitter=best;, score=0.965 total time=   0.1s\n[CV 2/5] END criterion=entropy, max_features=sqrt, splitter=best;, score=0.946 total time=   0.1s\n[CV 3/5] END criterion=entropy, max_features=sqrt, splitter=best;, score=0.947 total time=   0.1s\n[CV 4/5] END criterion=entropy, max_features=sqrt, splitter=best;, score=0.908 total time=   0.1s\n[CV 5/5] END criterion=entropy, max_features=sqrt, splitter=best;, score=0.945 total time=   0.1s\n[CV 1/5] END criterion=entropy, max_features=sqrt, splitter=random;, score=0.965 total time=   0.1s\n[CV 2/5] END criterion=entropy, max_features=sqrt, splitter=random;, score=0.947 total time=   0.1s\n[CV 3/5] END criterion=entropy, max_features=sqrt, splitter=random;, score=1.000 total time=   0.1s\n[CV 4/5] END criterion=entropy, max_features=sqrt, splitter=random;, score=0.946 total time=   0.1s\n[CV 5/5] END criterion=entropy, max_features=sqrt, splitter=random;, score=0.964 total time=   0.1s\n[CV 1/5] END criterion=entropy, max_features=log2, splitter=best;, score=0.947 total time=   0.1s\n[CV 2/5] END criterion=entropy, max_features=log2, splitter=best;, score=0.929 total time=   0.1s\n[CV 3/5] END criterion=entropy, max_features=log2, splitter=best;, score=0.877 total time=   0.1s\n[CV 4/5] END criterion=entropy, max_features=log2, splitter=best;, score=0.964 total time=   0.1s\n[CV 5/5] END criterion=entropy, max_features=log2, splitter=best;, score=0.982 total time=   0.1s\n[CV 1/5] END criterion=entropy, max_features=log2, splitter=random;, score=0.965 total time=   0.1s\n[CV 2/5] END criterion=entropy, max_features=log2, splitter=random;, score=0.910 total time=   0.1s\n[CV 3/5] END criterion=entropy, max_features=log2, splitter=random;, score=0.982 total time=   0.1s\n[CV 4/5] END criterion=entropy, max_features=log2, splitter=random;, score=0.964 total time=   0.1s\n[CV 5/5] END criterion=entropy, max_features=log2, splitter=random;, score=0.964 total time=   0.1s\n[CV 1/5] END criterion=gini, max_features=sqrt, splitter=best;, score=0.982 total time=   0.1s\n[CV 2/5] END criterion=gini, max_features=sqrt, splitter=best;, score=0.947 total time=   0.1s\n[CV 3/5] END criterion=gini, max_features=sqrt, splitter=best;, score=0.859 total time=   0.1s\n[CV 4/5] END criterion=gini, max_features=sqrt, splitter=best;, score=0.946 total time=   0.1s\n[CV 5/5] END criterion=gini, max_features=sqrt, splitter=best;, score=0.963 total time=   0.1s\n[CV 1/5] END criterion=gini, max_features=sqrt, splitter=random;, score=0.930 total time=   0.1s\n[CV 2/5] END criterion=gini, max_features=sqrt, splitter=random;, score=0.982 total time=   0.1s\n[CV 3/5] END criterion=gini, max_features=sqrt, splitter=random;, score=0.964 total time=   0.1s\n[CV 4/5] END criterion=gini, max_features=sqrt, splitter=random;, score=0.912 total time=   0.1s\n[CV 5/5] END criterion=gini, max_features=sqrt, splitter=random;, score=0.982 total time=   0.1s\n[CV 1/5] END criterion=gini, max_features=log2, splitter=best;, score=0.982 total time=   0.1s\n[CV 2/5] END criterion=gini, max_features=log2, splitter=best;, score=0.982 total time=   0.1s\n[CV 3/5] END criterion=gini, max_features=log2, splitter=best;, score=0.912 total time=   0.1s\n[CV 4/5] END criterion=gini, max_features=log2, splitter=best;, score=0.964 total time=   0.1s\n[CV 5/5] END criterion=gini, max_features=log2, splitter=best;, score=0.945 total time=   0.1s\n[CV 1/5] END criterion=gini, max_features=log2, splitter=random;, score=1.000 total time=   0.1s\n[CV 2/5] END criterion=gini, max_features=log2, splitter=random;, score=0.982 total time=   0.1s\n[CV 3/5] END criterion=gini, max_features=log2, splitter=random;, score=0.982 total time=   0.1s\n[CV 4/5] END criterion=gini, max_features=log2, splitter=random;, score=0.964 total time=   0.1s\n[CV 5/5] END criterion=gini, max_features=log2, splitter=random;, score=0.982 total time=   0.1s\n[CV 1/5] END criterion=log_loss, max_features=sqrt, splitter=best;, score=0.982 total time=   0.1s\n[CV 2/5] END criterion=log_loss, max_features=sqrt, splitter=best;, score=0.927 total time=   0.1s\n[CV 3/5] END criterion=log_loss, max_features=sqrt, splitter=best;, score=0.912 total time=   0.1s\n[CV 4/5] END criterion=log_loss, max_features=sqrt, splitter=best;, score=0.912 total time=   0.1s\n[CV 5/5] END criterion=log_loss, max_features=sqrt, splitter=best;, score=0.982 total time=   0.1s\n[CV 1/5] END criterion=log_loss, max_features=sqrt, splitter=random;, score=0.982 total time=   0.1s\n[CV 2/5] END criterion=log_loss, max_features=sqrt, splitter=random;, score=0.982 total time=   0.1s\n[CV 3/5] END criterion=log_loss, max_features=sqrt, splitter=random;, score=0.982 total time=   0.1s\n[CV 4/5] END criterion=log_loss, max_features=sqrt, splitter=random;, score=1.000 total time=   0.1s\n[CV 5/5] END criterion=log_loss, max_features=sqrt, splitter=random;, score=0.982 total time=   0.1s\n[CV 1/5] END criterion=log_loss, max_features=log2, splitter=best;, score=0.947 total time=   0.1s\n[CV 2/5] END criterion=log_loss, max_features=log2, splitter=best;, score=0.929 total time=   0.1s\n[CV 3/5] END criterion=log_loss, max_features=log2, splitter=best;, score=0.930 total time=   0.2s\n[CV 4/5] END criterion=log_loss, max_features=log2, splitter=best;, score=0.947 total time=   0.1s\n[CV 5/5] END criterion=log_loss, max_features=log2, splitter=best;, score=0.926 total time=   0.1s\n[CV 1/5] END criterion=log_loss, max_features=log2, splitter=random;, score=0.965 total time=   0.1s\n[CV 2/5] END criterion=log_loss, max_features=log2, splitter=random;, score=0.912 total time=   0.1s\n[CV 3/5] END criterion=log_loss, max_features=log2, splitter=random;, score=0.964 total time=   0.1s\n[CV 4/5] END criterion=log_loss, max_features=log2, splitter=random;, score=0.964 total time=   0.1s\n[CV 5/5] END criterion=log_loss, max_features=log2, splitter=random;, score=0.964 total time=   0.1s\n",
          "output_type": "stream"
        },
        {
          "execution_count": 14,
          "output_type": "execute_result",
          "data": {
            "text/plain": "GridSearchCV(cv=5, estimator=DecisionTreeClassifier(), n_jobs=-1,\n             param_grid={'criterion': ['entropy', 'gini', 'log_loss'],\n                         'max_features': ['sqrt', 'log2'],\n                         'splitter': ['best', 'random']},\n             scoring='f1_weighted', verbose=3)",
            "text/html": "<style>#sk-container-id-1 {color: black;}#sk-container-id-1 pre{padding: 0;}#sk-container-id-1 div.sk-toggleable {background-color: white;}#sk-container-id-1 label.sk-toggleable__label {cursor: pointer;display: block;width: 100%;margin-bottom: 0;padding: 0.3em;box-sizing: border-box;text-align: center;}#sk-container-id-1 label.sk-toggleable__label-arrow:before {content: \"▸\";float: left;margin-right: 0.25em;color: #696969;}#sk-container-id-1 label.sk-toggleable__label-arrow:hover:before {color: black;}#sk-container-id-1 div.sk-estimator:hover label.sk-toggleable__label-arrow:before {color: black;}#sk-container-id-1 div.sk-toggleable__content {max-height: 0;max-width: 0;overflow: hidden;text-align: left;background-color: #f0f8ff;}#sk-container-id-1 div.sk-toggleable__content pre {margin: 0.2em;color: black;border-radius: 0.25em;background-color: #f0f8ff;}#sk-container-id-1 input.sk-toggleable__control:checked~div.sk-toggleable__content {max-height: 200px;max-width: 100%;overflow: auto;}#sk-container-id-1 input.sk-toggleable__control:checked~label.sk-toggleable__label-arrow:before {content: \"▾\";}#sk-container-id-1 div.sk-estimator input.sk-toggleable__control:checked~label.sk-toggleable__label {background-color: #d4ebff;}#sk-container-id-1 div.sk-label input.sk-toggleable__control:checked~label.sk-toggleable__label {background-color: #d4ebff;}#sk-container-id-1 input.sk-hidden--visually {border: 0;clip: rect(1px 1px 1px 1px);clip: rect(1px, 1px, 1px, 1px);height: 1px;margin: -1px;overflow: hidden;padding: 0;position: absolute;width: 1px;}#sk-container-id-1 div.sk-estimator {font-family: monospace;background-color: #f0f8ff;border: 1px dotted black;border-radius: 0.25em;box-sizing: border-box;margin-bottom: 0.5em;}#sk-container-id-1 div.sk-estimator:hover {background-color: #d4ebff;}#sk-container-id-1 div.sk-parallel-item::after {content: \"\";width: 100%;border-bottom: 1px solid gray;flex-grow: 1;}#sk-container-id-1 div.sk-label:hover label.sk-toggleable__label {background-color: #d4ebff;}#sk-container-id-1 div.sk-serial::before {content: \"\";position: absolute;border-left: 1px solid gray;box-sizing: border-box;top: 0;bottom: 0;left: 50%;z-index: 0;}#sk-container-id-1 div.sk-serial {display: flex;flex-direction: column;align-items: center;background-color: white;padding-right: 0.2em;padding-left: 0.2em;position: relative;}#sk-container-id-1 div.sk-item {position: relative;z-index: 1;}#sk-container-id-1 div.sk-parallel {display: flex;align-items: stretch;justify-content: center;background-color: white;position: relative;}#sk-container-id-1 div.sk-item::before, #sk-container-id-1 div.sk-parallel-item::before {content: \"\";position: absolute;border-left: 1px solid gray;box-sizing: border-box;top: 0;bottom: 0;left: 50%;z-index: -1;}#sk-container-id-1 div.sk-parallel-item {display: flex;flex-direction: column;z-index: 1;position: relative;background-color: white;}#sk-container-id-1 div.sk-parallel-item:first-child::after {align-self: flex-end;width: 50%;}#sk-container-id-1 div.sk-parallel-item:last-child::after {align-self: flex-start;width: 50%;}#sk-container-id-1 div.sk-parallel-item:only-child::after {width: 0;}#sk-container-id-1 div.sk-dashed-wrapped {border: 1px dashed gray;margin: 0 0.4em 0.5em 0.4em;box-sizing: border-box;padding-bottom: 0.4em;background-color: white;}#sk-container-id-1 div.sk-label label {font-family: monospace;font-weight: bold;display: inline-block;line-height: 1.2em;}#sk-container-id-1 div.sk-label-container {text-align: center;}#sk-container-id-1 div.sk-container {/* jupyter's `normalize.less` sets `[hidden] { display: none; }` but bootstrap.min.css set `[hidden] { display: none !important; }` so we also need the `!important` here to be able to override the default hidden behavior on the sphinx rendered scikit-learn.org. See: https://github.com/scikit-learn/scikit-learn/issues/21755 */display: inline-block !important;position: relative;}#sk-container-id-1 div.sk-text-repr-fallback {display: none;}</style><div id=\"sk-container-id-1\" class=\"sk-top-container\"><div class=\"sk-text-repr-fallback\"><pre>GridSearchCV(cv=5, estimator=DecisionTreeClassifier(), n_jobs=-1,\n             param_grid={&#x27;criterion&#x27;: [&#x27;entropy&#x27;, &#x27;gini&#x27;, &#x27;log_loss&#x27;],\n                         &#x27;max_features&#x27;: [&#x27;sqrt&#x27;, &#x27;log2&#x27;],\n                         &#x27;splitter&#x27;: [&#x27;best&#x27;, &#x27;random&#x27;]},\n             scoring=&#x27;f1_weighted&#x27;, verbose=3)</pre><b>In a Jupyter environment, please rerun this cell to show the HTML representation or trust the notebook. <br />On GitHub, the HTML representation is unable to render, please try loading this page with nbviewer.org.</b></div><div class=\"sk-container\" hidden><div class=\"sk-item sk-dashed-wrapped\"><div class=\"sk-label-container\"><div class=\"sk-label sk-toggleable\"><input class=\"sk-toggleable__control sk-hidden--visually\" id=\"sk-estimator-id-1\" type=\"checkbox\" ><label for=\"sk-estimator-id-1\" class=\"sk-toggleable__label sk-toggleable__label-arrow\">GridSearchCV</label><div class=\"sk-toggleable__content\"><pre>GridSearchCV(cv=5, estimator=DecisionTreeClassifier(), n_jobs=-1,\n             param_grid={&#x27;criterion&#x27;: [&#x27;entropy&#x27;, &#x27;gini&#x27;, &#x27;log_loss&#x27;],\n                         &#x27;max_features&#x27;: [&#x27;sqrt&#x27;, &#x27;log2&#x27;],\n                         &#x27;splitter&#x27;: [&#x27;best&#x27;, &#x27;random&#x27;]},\n             scoring=&#x27;f1_weighted&#x27;, verbose=3)</pre></div></div></div><div class=\"sk-parallel\"><div class=\"sk-parallel-item\"><div class=\"sk-item\"><div class=\"sk-label-container\"><div class=\"sk-label sk-toggleable\"><input class=\"sk-toggleable__control sk-hidden--visually\" id=\"sk-estimator-id-2\" type=\"checkbox\" ><label for=\"sk-estimator-id-2\" class=\"sk-toggleable__label sk-toggleable__label-arrow\">estimator: DecisionTreeClassifier</label><div class=\"sk-toggleable__content\"><pre>DecisionTreeClassifier()</pre></div></div></div><div class=\"sk-serial\"><div class=\"sk-item\"><div class=\"sk-estimator sk-toggleable\"><input class=\"sk-toggleable__control sk-hidden--visually\" id=\"sk-estimator-id-3\" type=\"checkbox\" ><label for=\"sk-estimator-id-3\" class=\"sk-toggleable__label sk-toggleable__label-arrow\">DecisionTreeClassifier</label><div class=\"sk-toggleable__content\"><pre>DecisionTreeClassifier()</pre></div></div></div></div></div></div></div></div></div></div>"
          },
          "metadata": {}
        }
      ],
      "execution_count": 14
    },
    {
      "cell_type": "code",
      "source": "re = grid.cv_results_\nprint(re)",
      "metadata": {
        "trusted": true
      },
      "outputs": [
        {
          "name": "stdout",
          "text": "{'mean_fit_time': array([0.01459999, 0.0138    , 0.01540003, 0.0150001 , 0.01560001,\n       0.01659989, 0.01720009, 0.01599998, 0.01660004, 0.01480007,\n       0.0184    , 0.01560001]), 'std_fit_time': array([0.00185474, 0.00146956, 0.00185468, 0.00209758, 0.00120002,\n       0.00205912, 0.00231509, 0.00200002, 0.00241668, 0.00248198,\n       0.00101981, 0.00307238]), 'mean_score_time': array([0.05199995, 0.05079994, 0.06199999, 0.05739999, 0.05380011,\n       0.0624001 , 0.06159997, 0.05279999, 0.05479999, 0.06019998,\n       0.08959999, 0.05580001]), 'std_score_time': array([0.00384711, 0.00213529, 0.00352127, 0.00382617, 0.00370948,\n       0.00717233, 0.00523841, 0.0049557 , 0.00597985, 0.00801003,\n       0.02815377, 0.00974463]), 'param_criterion': masked_array(data=['entropy', 'entropy', 'entropy', 'entropy', 'gini',\n                   'gini', 'gini', 'gini', 'log_loss', 'log_loss',\n                   'log_loss', 'log_loss'],\n             mask=[False, False, False, False, False, False, False, False,\n                   False, False, False, False],\n       fill_value='?',\n            dtype=object), 'param_max_features': masked_array(data=['sqrt', 'sqrt', 'log2', 'log2', 'sqrt', 'sqrt', 'log2',\n                   'log2', 'sqrt', 'sqrt', 'log2', 'log2'],\n             mask=[False, False, False, False, False, False, False, False,\n                   False, False, False, False],\n       fill_value='?',\n            dtype=object), 'param_splitter': masked_array(data=['best', 'random', 'best', 'random', 'best', 'random',\n                   'best', 'random', 'best', 'random', 'best', 'random'],\n             mask=[False, False, False, False, False, False, False, False,\n                   False, False, False, False],\n       fill_value='?',\n            dtype=object), 'params': [{'criterion': 'entropy', 'max_features': 'sqrt', 'splitter': 'best'}, {'criterion': 'entropy', 'max_features': 'sqrt', 'splitter': 'random'}, {'criterion': 'entropy', 'max_features': 'log2', 'splitter': 'best'}, {'criterion': 'entropy', 'max_features': 'log2', 'splitter': 'random'}, {'criterion': 'gini', 'max_features': 'sqrt', 'splitter': 'best'}, {'criterion': 'gini', 'max_features': 'sqrt', 'splitter': 'random'}, {'criterion': 'gini', 'max_features': 'log2', 'splitter': 'best'}, {'criterion': 'gini', 'max_features': 'log2', 'splitter': 'random'}, {'criterion': 'log_loss', 'max_features': 'sqrt', 'splitter': 'best'}, {'criterion': 'log_loss', 'max_features': 'sqrt', 'splitter': 'random'}, {'criterion': 'log_loss', 'max_features': 'log2', 'splitter': 'best'}, {'criterion': 'log_loss', 'max_features': 'log2', 'splitter': 'random'}], 'split0_test_score': array([0.96457219, 0.96457219, 0.94701493, 0.96457219, 0.9822211 ,\n       0.92951252, 0.9822211 , 1.        , 0.9822211 , 0.9822211 ,\n       0.9466633 , 0.96457219]), 'split1_test_score': array([0.94615252, 0.9466633 , 0.92857143, 0.91025421, 0.9466633 ,\n       0.9822211 , 0.9822211 , 0.9822211 , 0.92674253, 0.98205084,\n       0.92857143, 0.91169154]), 'split2_test_score': array([0.9466633 , 1.        , 0.87684124, 0.98205084, 0.85935484,\n       0.96428571, 0.91202946, 0.98205084, 0.91202946, 0.98205084,\n       0.92951252, 0.96428571]), 'split3_test_score': array([0.90765766, 0.94615252, 0.96428571, 0.96428571, 0.94615252,\n       0.91169154, 0.96428571, 0.96428571, 0.91169154, 1.        ,\n       0.9466633 , 0.96388889]), 'split4_test_score': array([0.94450901, 0.96363636, 0.9817282 , 0.96363636, 0.96324675,\n       0.98189391, 0.94518461, 0.98189391, 0.9817282 , 0.9817282 ,\n       0.92649351, 0.96391185]), 'mean_test_score': array([0.94191094, 0.96420488, 0.9396883 , 0.95695986, 0.9395277 ,\n       0.95392096, 0.9571884 , 0.98209031, 0.94288257, 0.9856102 ,\n       0.93558081, 0.95367004]), 'std_test_score': array([0.01862335, 0.01957214, 0.03605386, 0.02436049, 0.04220856,\n       0.02853036, 0.02640858, 0.0112944 , 0.03237838, 0.00719667,\n       0.0091014 , 0.02099078]), 'rank_test_score': array([ 9,  3, 10,  5, 11,  6,  4,  2,  8,  1, 12,  7])}\n",
          "output_type": "stream"
        }
      ],
      "execution_count": 15
    },
    {
      "cell_type": "code",
      "source": "grid_predictions = grid.predict(x_test)\nfrom sklearn.metrics import confusion_matrix\ncm = confusion_matrix(y_test, grid_predictions)\n \nfrom sklearn.metrics import classification_report\nclf_report = classification_report(y_test, grid_predictions)",
      "metadata": {
        "trusted": true
      },
      "outputs": [],
      "execution_count": 16
    },
    {
      "cell_type": "code",
      "source": "\nfrom sklearn.metrics import f1_score\nf1_macro=f1_score(y_test,grid_predictions,average='weighted')\nprint(\"The f1_macro value for best parameter {}:\".format(grid.best_params_),f1_macro)\n",
      "metadata": {
        "trusted": true
      },
      "outputs": [
        {
          "name": "stdout",
          "text": "The f1_macro value for best parameter {'criterion': 'log_loss', 'max_features': 'sqrt', 'splitter': 'random'}: 0.9751481237656352\n",
          "output_type": "stream"
        }
      ],
      "execution_count": 17
    },
    {
      "cell_type": "code",
      "source": "print(\"The confusion Matrix:\\n\",cm)",
      "metadata": {
        "trusted": true
      },
      "outputs": [
        {
          "name": "stdout",
          "text": "The confusion Matrix:\n [[45  0]\n [ 3 72]]\n",
          "output_type": "stream"
        }
      ],
      "execution_count": 18
    },
    {
      "cell_type": "code",
      "source": "print(\"The report:\\n\",clf_report)",
      "metadata": {
        "trusted": true
      },
      "outputs": [
        {
          "name": "stdout",
          "text": "The report:\n               precision    recall  f1-score   support\n\n           0       0.87      1.00      0.93        45\n           1       1.00      0.91      0.95        75\n\n    accuracy                           0.94       120\n   macro avg       0.93      0.95      0.94       120\nweighted avg       0.95      0.94      0.94       120\n\n",
          "output_type": "stream"
        }
      ],
      "execution_count": 99
    },
    {
      "cell_type": "code",
      "source": "#pass the column values in grid\n       #'age', 'bp', 'al', 'su', 'bgr', 'bu', 'sc', 'sod', 'pot', 'hrmo', 'pcv',\n       # 'wc', 'rc', 'sg_b', 'sg_c', 'sg_d', 'sg_e', 'rbc_normal', 'pc_normal',\n       # 'pcc_present', 'ba_present', 'htn_yes', 'dm_yes', 'cad_yes',\n       # 'appet_yes', 'pe_yes', 'ane_yes'",
      "metadata": {
        "trusted": true
      },
      "outputs": [],
      "execution_count": 19
    },
    {
      "cell_type": "code",
      "source": "Future_Prediction=grid.predict([[50,100,1,80,89,49,0.9,150,20,17,52,\n                                2000,7,1,1,1,1,1,1,\n                                1,1,1,1,1,\n                                1,1,1]])\nprint(\"Future_Prediction={}\".format(Future_Prediction))",
      "metadata": {
        "trusted": true
      },
      "outputs": [
        {
          "name": "stdout",
          "text": "Future_Prediction=[1]\n",
          "output_type": "stream"
        }
      ],
      "execution_count": 20
    },
    {
      "cell_type": "code",
      "source": "Future_Prediction=grid.predict([[40,180,1,340,148,16,0.7,138,6,8,38,\n                                8400,4.7,0,0,0,0,1,1,\n                                0,0,0,0,0,\n                                1,0,0]])\nprint(\"Future_Prediction={}\".format(Future_Prediction))",
      "metadata": {
        "trusted": true
      },
      "outputs": [
        {
          "name": "stdout",
          "text": "Future_Prediction=[0]\n",
          "output_type": "stream"
        }
      ],
      "execution_count": 21
    },
    {
      "cell_type": "code",
      "source": "",
      "metadata": {
        "trusted": true
      },
      "outputs": [],
      "execution_count": null
    }
  ]
}