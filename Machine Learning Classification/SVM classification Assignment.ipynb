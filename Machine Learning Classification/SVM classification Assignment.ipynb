{
  "metadata": {
    "kernelspec": {
      "name": "python",
      "display_name": "Python (Pyodide)",
      "language": "python"
    },
    "language_info": {
      "codemirror_mode": {
        "name": "python",
        "version": 3
      },
      "file_extension": ".py",
      "mimetype": "text/x-python",
      "name": "python",
      "nbconvert_exporter": "python",
      "pygments_lexer": "ipython3",
      "version": "3.8"
    }
  },
  "nbformat_minor": 4,
  "nbformat": 4,
  "cells": [
    {
      "cell_type": "code",
      "source": "import numpy as np\nimport pandas as pd",
      "metadata": {
        "trusted": true
      },
      "outputs": [],
      "execution_count": 1
    },
    {
      "cell_type": "code",
      "source": "dataset = pd.read_csv('CKD.csv')",
      "metadata": {
        "trusted": true
      },
      "outputs": [],
      "execution_count": 35
    },
    {
      "cell_type": "code",
      "source": "dataset.head()",
      "metadata": {
        "trusted": true
      },
      "outputs": [
        {
          "execution_count": 36,
          "output_type": "execute_result",
          "data": {
            "text/plain": "   age         bp sg   al   su     rbc        pc         pcc          ba  \\\n0  2.0  76.459948  c  3.0  0.0  normal  abnormal  notpresent  notpresent   \n1  3.0  76.459948  c  2.0  0.0  normal    normal  notpresent  notpresent   \n2  4.0  76.459948  a  1.0  0.0  normal    normal  notpresent  notpresent   \n3  5.0  76.459948  d  1.0  0.0  normal    normal  notpresent  notpresent   \n4  5.0  50.000000  c  0.0  0.0  normal    normal  notpresent  notpresent   \n\n          bgr  ...        pcv            wc        rc  htn  dm  cad  appet  \\\n0  148.112676  ...  38.868902   8408.191126  4.705597   no  no   no    yes   \n1  148.112676  ...  34.000000  12300.000000  4.705597   no  no   no    yes   \n2   99.000000  ...  34.000000   8408.191126  4.705597   no  no   no    yes   \n3  148.112676  ...  38.868902   8408.191126  4.705597   no  no   no    yes   \n4  148.112676  ...  36.000000  12400.000000  4.705597   no  no   no    yes   \n\n     pe  ane classification  \n0   yes   no            yes  \n1  poor   no            yes  \n2  poor   no            yes  \n3  poor  yes            yes  \n4  poor   no            yes  \n\n[5 rows x 25 columns]",
            "text/html": "<div>\n<style scoped>\n    .dataframe tbody tr th:only-of-type {\n        vertical-align: middle;\n    }\n\n    .dataframe tbody tr th {\n        vertical-align: top;\n    }\n\n    .dataframe thead th {\n        text-align: right;\n    }\n</style>\n<table border=\"1\" class=\"dataframe\">\n  <thead>\n    <tr style=\"text-align: right;\">\n      <th></th>\n      <th>age</th>\n      <th>bp</th>\n      <th>sg</th>\n      <th>al</th>\n      <th>su</th>\n      <th>rbc</th>\n      <th>pc</th>\n      <th>pcc</th>\n      <th>ba</th>\n      <th>bgr</th>\n      <th>...</th>\n      <th>pcv</th>\n      <th>wc</th>\n      <th>rc</th>\n      <th>htn</th>\n      <th>dm</th>\n      <th>cad</th>\n      <th>appet</th>\n      <th>pe</th>\n      <th>ane</th>\n      <th>classification</th>\n    </tr>\n  </thead>\n  <tbody>\n    <tr>\n      <th>0</th>\n      <td>2.0</td>\n      <td>76.459948</td>\n      <td>c</td>\n      <td>3.0</td>\n      <td>0.0</td>\n      <td>normal</td>\n      <td>abnormal</td>\n      <td>notpresent</td>\n      <td>notpresent</td>\n      <td>148.112676</td>\n      <td>...</td>\n      <td>38.868902</td>\n      <td>8408.191126</td>\n      <td>4.705597</td>\n      <td>no</td>\n      <td>no</td>\n      <td>no</td>\n      <td>yes</td>\n      <td>yes</td>\n      <td>no</td>\n      <td>yes</td>\n    </tr>\n    <tr>\n      <th>1</th>\n      <td>3.0</td>\n      <td>76.459948</td>\n      <td>c</td>\n      <td>2.0</td>\n      <td>0.0</td>\n      <td>normal</td>\n      <td>normal</td>\n      <td>notpresent</td>\n      <td>notpresent</td>\n      <td>148.112676</td>\n      <td>...</td>\n      <td>34.000000</td>\n      <td>12300.000000</td>\n      <td>4.705597</td>\n      <td>no</td>\n      <td>no</td>\n      <td>no</td>\n      <td>yes</td>\n      <td>poor</td>\n      <td>no</td>\n      <td>yes</td>\n    </tr>\n    <tr>\n      <th>2</th>\n      <td>4.0</td>\n      <td>76.459948</td>\n      <td>a</td>\n      <td>1.0</td>\n      <td>0.0</td>\n      <td>normal</td>\n      <td>normal</td>\n      <td>notpresent</td>\n      <td>notpresent</td>\n      <td>99.000000</td>\n      <td>...</td>\n      <td>34.000000</td>\n      <td>8408.191126</td>\n      <td>4.705597</td>\n      <td>no</td>\n      <td>no</td>\n      <td>no</td>\n      <td>yes</td>\n      <td>poor</td>\n      <td>no</td>\n      <td>yes</td>\n    </tr>\n    <tr>\n      <th>3</th>\n      <td>5.0</td>\n      <td>76.459948</td>\n      <td>d</td>\n      <td>1.0</td>\n      <td>0.0</td>\n      <td>normal</td>\n      <td>normal</td>\n      <td>notpresent</td>\n      <td>notpresent</td>\n      <td>148.112676</td>\n      <td>...</td>\n      <td>38.868902</td>\n      <td>8408.191126</td>\n      <td>4.705597</td>\n      <td>no</td>\n      <td>no</td>\n      <td>no</td>\n      <td>yes</td>\n      <td>poor</td>\n      <td>yes</td>\n      <td>yes</td>\n    </tr>\n    <tr>\n      <th>4</th>\n      <td>5.0</td>\n      <td>50.000000</td>\n      <td>c</td>\n      <td>0.0</td>\n      <td>0.0</td>\n      <td>normal</td>\n      <td>normal</td>\n      <td>notpresent</td>\n      <td>notpresent</td>\n      <td>148.112676</td>\n      <td>...</td>\n      <td>36.000000</td>\n      <td>12400.000000</td>\n      <td>4.705597</td>\n      <td>no</td>\n      <td>no</td>\n      <td>no</td>\n      <td>yes</td>\n      <td>poor</td>\n      <td>no</td>\n      <td>yes</td>\n    </tr>\n  </tbody>\n</table>\n<p>5 rows × 25 columns</p>\n</div>"
          },
          "metadata": {}
        }
      ],
      "execution_count": 36
    },
    {
      "cell_type": "code",
      "source": "dataset = pd.get_dummies(dataset,drop_first=True)",
      "metadata": {
        "trusted": true
      },
      "outputs": [],
      "execution_count": 37
    },
    {
      "cell_type": "code",
      "source": "dataset.head()",
      "metadata": {
        "trusted": true
      },
      "outputs": [
        {
          "execution_count": 38,
          "output_type": "execute_result",
          "data": {
            "text/plain": "   age         bp   al   su         bgr         bu        sc         sod  \\\n0  2.0  76.459948  3.0  0.0  148.112676  57.482105  3.077356  137.528754   \n1  3.0  76.459948  2.0  0.0  148.112676  22.000000  0.700000  137.528754   \n2  4.0  76.459948  1.0  0.0   99.000000  23.000000  0.600000  138.000000   \n3  5.0  76.459948  1.0  0.0  148.112676  16.000000  0.700000  138.000000   \n4  5.0  50.000000  0.0  0.0  148.112676  25.000000  0.600000  137.528754   \n\n        pot       hrmo  ...  pc_normal  pcc_present  ba_present  htn_yes  \\\n0  4.627244  12.518156  ...          0            0           0        0   \n1  4.627244  10.700000  ...          1            0           0        0   \n2  4.400000  12.000000  ...          1            0           0        0   \n3  3.200000   8.100000  ...          1            0           0        0   \n4  4.627244  11.800000  ...          1            0           0        0   \n\n   dm_yes  cad_yes  appet_yes  pe_yes  ane_yes  classification_yes  \n0       0        0          1       1        0                   1  \n1       0        0          1       0        0                   1  \n2       0        0          1       0        0                   1  \n3       0        0          1       0        1                   1  \n4       0        0          1       0        0                   1  \n\n[5 rows x 28 columns]",
            "text/html": "<div>\n<style scoped>\n    .dataframe tbody tr th:only-of-type {\n        vertical-align: middle;\n    }\n\n    .dataframe tbody tr th {\n        vertical-align: top;\n    }\n\n    .dataframe thead th {\n        text-align: right;\n    }\n</style>\n<table border=\"1\" class=\"dataframe\">\n  <thead>\n    <tr style=\"text-align: right;\">\n      <th></th>\n      <th>age</th>\n      <th>bp</th>\n      <th>al</th>\n      <th>su</th>\n      <th>bgr</th>\n      <th>bu</th>\n      <th>sc</th>\n      <th>sod</th>\n      <th>pot</th>\n      <th>hrmo</th>\n      <th>...</th>\n      <th>pc_normal</th>\n      <th>pcc_present</th>\n      <th>ba_present</th>\n      <th>htn_yes</th>\n      <th>dm_yes</th>\n      <th>cad_yes</th>\n      <th>appet_yes</th>\n      <th>pe_yes</th>\n      <th>ane_yes</th>\n      <th>classification_yes</th>\n    </tr>\n  </thead>\n  <tbody>\n    <tr>\n      <th>0</th>\n      <td>2.0</td>\n      <td>76.459948</td>\n      <td>3.0</td>\n      <td>0.0</td>\n      <td>148.112676</td>\n      <td>57.482105</td>\n      <td>3.077356</td>\n      <td>137.528754</td>\n      <td>4.627244</td>\n      <td>12.518156</td>\n      <td>...</td>\n      <td>0</td>\n      <td>0</td>\n      <td>0</td>\n      <td>0</td>\n      <td>0</td>\n      <td>0</td>\n      <td>1</td>\n      <td>1</td>\n      <td>0</td>\n      <td>1</td>\n    </tr>\n    <tr>\n      <th>1</th>\n      <td>3.0</td>\n      <td>76.459948</td>\n      <td>2.0</td>\n      <td>0.0</td>\n      <td>148.112676</td>\n      <td>22.000000</td>\n      <td>0.700000</td>\n      <td>137.528754</td>\n      <td>4.627244</td>\n      <td>10.700000</td>\n      <td>...</td>\n      <td>1</td>\n      <td>0</td>\n      <td>0</td>\n      <td>0</td>\n      <td>0</td>\n      <td>0</td>\n      <td>1</td>\n      <td>0</td>\n      <td>0</td>\n      <td>1</td>\n    </tr>\n    <tr>\n      <th>2</th>\n      <td>4.0</td>\n      <td>76.459948</td>\n      <td>1.0</td>\n      <td>0.0</td>\n      <td>99.000000</td>\n      <td>23.000000</td>\n      <td>0.600000</td>\n      <td>138.000000</td>\n      <td>4.400000</td>\n      <td>12.000000</td>\n      <td>...</td>\n      <td>1</td>\n      <td>0</td>\n      <td>0</td>\n      <td>0</td>\n      <td>0</td>\n      <td>0</td>\n      <td>1</td>\n      <td>0</td>\n      <td>0</td>\n      <td>1</td>\n    </tr>\n    <tr>\n      <th>3</th>\n      <td>5.0</td>\n      <td>76.459948</td>\n      <td>1.0</td>\n      <td>0.0</td>\n      <td>148.112676</td>\n      <td>16.000000</td>\n      <td>0.700000</td>\n      <td>138.000000</td>\n      <td>3.200000</td>\n      <td>8.100000</td>\n      <td>...</td>\n      <td>1</td>\n      <td>0</td>\n      <td>0</td>\n      <td>0</td>\n      <td>0</td>\n      <td>0</td>\n      <td>1</td>\n      <td>0</td>\n      <td>1</td>\n      <td>1</td>\n    </tr>\n    <tr>\n      <th>4</th>\n      <td>5.0</td>\n      <td>50.000000</td>\n      <td>0.0</td>\n      <td>0.0</td>\n      <td>148.112676</td>\n      <td>25.000000</td>\n      <td>0.600000</td>\n      <td>137.528754</td>\n      <td>4.627244</td>\n      <td>11.800000</td>\n      <td>...</td>\n      <td>1</td>\n      <td>0</td>\n      <td>0</td>\n      <td>0</td>\n      <td>0</td>\n      <td>0</td>\n      <td>1</td>\n      <td>0</td>\n      <td>0</td>\n      <td>1</td>\n    </tr>\n  </tbody>\n</table>\n<p>5 rows × 28 columns</p>\n</div>"
          },
          "metadata": {}
        }
      ],
      "execution_count": 38
    },
    {
      "cell_type": "code",
      "source": "dataset.columns\n#[5,76,1,0,148,16,0.7,138,6,8,38,\n8400,4.7,0,0,1,0,1,1,\n0,0,0,0,0\n1,0,0]",
      "metadata": {
        "trusted": true
      },
      "outputs": [
        {
          "execution_count": 39,
          "output_type": "execute_result",
          "data": {
            "text/plain": "Index(['age', 'bp', 'al', 'su', 'bgr', 'bu', 'sc', 'sod', 'pot', 'hrmo', 'pcv',\n       'wc', 'rc', 'sg_b', 'sg_c', 'sg_d', 'sg_e', 'rbc_normal', 'pc_normal',\n       'pcc_present', 'ba_present', 'htn_yes', 'dm_yes', 'cad_yes',\n       'appet_yes', 'pe_yes', 'ane_yes', 'classification_yes'],\n      dtype='object')"
          },
          "metadata": {}
        }
      ],
      "execution_count": 39
    },
    {
      "cell_type": "code",
      "source": "independent = dataset[['age', 'bp', 'al', 'su', 'bgr', 'bu', 'sc', 'sod', 'pot', 'hrmo', 'pcv',\n       'wc', 'rc', 'sg_b', 'sg_c', 'sg_d', 'sg_e', 'rbc_normal', 'pc_normal',\n       'pcc_present', 'ba_present', 'htn_yes', 'dm_yes', 'cad_yes',\n       'appet_yes', 'pe_yes', 'ane_yes']]\ndependent = dataset[['classification_yes']]",
      "metadata": {
        "trusted": true
      },
      "outputs": [],
      "execution_count": 40
    },
    {
      "cell_type": "code",
      "source": "dataset['classification_yes'].value_counts()\n",
      "metadata": {
        "trusted": true
      },
      "outputs": [
        {
          "execution_count": 41,
          "output_type": "execute_result",
          "data": {
            "text/plain": "1    249\n0    150\nName: classification_yes, dtype: int64"
          },
          "metadata": {}
        }
      ],
      "execution_count": 41
    },
    {
      "cell_type": "code",
      "source": "dataset.shape",
      "metadata": {
        "trusted": true
      },
      "outputs": [
        {
          "execution_count": 26,
          "output_type": "execute_result",
          "data": {
            "text/plain": "(399, 40)"
          },
          "metadata": {}
        }
      ],
      "execution_count": 26
    },
    {
      "cell_type": "code",
      "source": "from sklearn.model_selection import train_test_split\n\nx_train,x_test,y_train,y_test = train_test_split(independent,dependent,test_size = 0.3,random_state = 0)\n",
      "metadata": {
        "trusted": true
      },
      "outputs": [],
      "execution_count": 27
    },
    {
      "cell_type": "code",
      "source": "from sklearn.preprocessing import StandardScaler\nsc = StandardScaler()\nx_train = sc.fit_transform(x_train)\nx_test = sc.transform(x_test)",
      "metadata": {
        "trusted": true
      },
      "outputs": [],
      "execution_count": 28
    },
    {
      "cell_type": "code",
      "source": "from sklearn.model_selection import GridSearchCV\nfrom sklearn.svm import SVC\nparam_grid = {'kernel':['rbf','poly','sigmoid','linear'],\n'C':[10,100,1000,2000,3000],'gamma':['auto','scale']}\ngrid = GridSearchCV(SVC(probability = True),param_grid,refit = True,verbose=3,cv=5,n_jobs = -1,scoring = 'f1_weighted')\ngrid.fit(x_train,y_train)",
      "metadata": {
        "trusted": true
      },
      "outputs": [
        {
          "name": "stdout",
          "text": "Fitting 5 folds for each of 40 candidates, totalling 200 fits\n",
          "output_type": "stream"
        },
        {
          "name": "stderr",
          "text": "/lib/python3.11/site-packages/sklearn/utils/validation.py:1183: DataConversionWarning: A column-vector y was passed when a 1d array was expected. Please change the shape of y to (n_samples, ), for example using ravel().\n  y = column_or_1d(y, warn=True)\n",
          "output_type": "stream"
        },
        {
          "name": "stdout",
          "text": "[CV 1/5] END ......C=10, gamma=auto, kernel=rbf;, score=0.982 total time=   0.0s\n",
          "output_type": "stream"
        },
        {
          "name": "stderr",
          "text": "/lib/python3.11/site-packages/sklearn/utils/validation.py:1183: DataConversionWarning: A column-vector y was passed when a 1d array was expected. Please change the shape of y to (n_samples, ), for example using ravel().\n  y = column_or_1d(y, warn=True)\n",
          "output_type": "stream"
        },
        {
          "name": "stdout",
          "text": "[CV 2/5] END ......C=10, gamma=auto, kernel=rbf;, score=1.000 total time=   0.0s\n",
          "output_type": "stream"
        },
        {
          "name": "stderr",
          "text": "/lib/python3.11/site-packages/sklearn/utils/validation.py:1183: DataConversionWarning: A column-vector y was passed when a 1d array was expected. Please change the shape of y to (n_samples, ), for example using ravel().\n  y = column_or_1d(y, warn=True)\n",
          "output_type": "stream"
        },
        {
          "name": "stdout",
          "text": "[CV 3/5] END ......C=10, gamma=auto, kernel=rbf;, score=0.982 total time=   0.0s\n",
          "output_type": "stream"
        },
        {
          "name": "stderr",
          "text": "/lib/python3.11/site-packages/sklearn/utils/validation.py:1183: DataConversionWarning: A column-vector y was passed when a 1d array was expected. Please change the shape of y to (n_samples, ), for example using ravel().\n  y = column_or_1d(y, warn=True)\n",
          "output_type": "stream"
        },
        {
          "name": "stdout",
          "text": "[CV 4/5] END ......C=10, gamma=auto, kernel=rbf;, score=1.000 total time=   0.0s\n",
          "output_type": "stream"
        },
        {
          "name": "stderr",
          "text": "/lib/python3.11/site-packages/sklearn/utils/validation.py:1183: DataConversionWarning: A column-vector y was passed when a 1d array was expected. Please change the shape of y to (n_samples, ), for example using ravel().\n  y = column_or_1d(y, warn=True)\n",
          "output_type": "stream"
        },
        {
          "name": "stdout",
          "text": "[CV 5/5] END ......C=10, gamma=auto, kernel=rbf;, score=1.000 total time=   0.0s\n",
          "output_type": "stream"
        },
        {
          "name": "stderr",
          "text": "/lib/python3.11/site-packages/sklearn/utils/validation.py:1183: DataConversionWarning: A column-vector y was passed when a 1d array was expected. Please change the shape of y to (n_samples, ), for example using ravel().\n  y = column_or_1d(y, warn=True)\n",
          "output_type": "stream"
        },
        {
          "name": "stdout",
          "text": "[CV 1/5] END .....C=10, gamma=auto, kernel=poly;, score=1.000 total time=   0.0s\n",
          "output_type": "stream"
        },
        {
          "name": "stderr",
          "text": "/lib/python3.11/site-packages/sklearn/utils/validation.py:1183: DataConversionWarning: A column-vector y was passed when a 1d array was expected. Please change the shape of y to (n_samples, ), for example using ravel().\n  y = column_or_1d(y, warn=True)\n",
          "output_type": "stream"
        },
        {
          "name": "stdout",
          "text": "[CV 2/5] END .....C=10, gamma=auto, kernel=poly;, score=1.000 total time=   0.0s\n",
          "output_type": "stream"
        },
        {
          "name": "stderr",
          "text": "/lib/python3.11/site-packages/sklearn/utils/validation.py:1183: DataConversionWarning: A column-vector y was passed when a 1d array was expected. Please change the shape of y to (n_samples, ), for example using ravel().\n  y = column_or_1d(y, warn=True)\n",
          "output_type": "stream"
        },
        {
          "name": "stdout",
          "text": "[CV 3/5] END .....C=10, gamma=auto, kernel=poly;, score=0.964 total time=   0.0s\n",
          "output_type": "stream"
        },
        {
          "name": "stderr",
          "text": "/lib/python3.11/site-packages/sklearn/utils/validation.py:1183: DataConversionWarning: A column-vector y was passed when a 1d array was expected. Please change the shape of y to (n_samples, ), for example using ravel().\n  y = column_or_1d(y, warn=True)\n",
          "output_type": "stream"
        },
        {
          "name": "stdout",
          "text": "[CV 4/5] END .....C=10, gamma=auto, kernel=poly;, score=1.000 total time=   0.0s\n",
          "output_type": "stream"
        },
        {
          "name": "stderr",
          "text": "/lib/python3.11/site-packages/sklearn/utils/validation.py:1183: DataConversionWarning: A column-vector y was passed when a 1d array was expected. Please change the shape of y to (n_samples, ), for example using ravel().\n  y = column_or_1d(y, warn=True)\n",
          "output_type": "stream"
        },
        {
          "name": "stdout",
          "text": "[CV 5/5] END .....C=10, gamma=auto, kernel=poly;, score=0.982 total time=   0.0s\n",
          "output_type": "stream"
        },
        {
          "name": "stderr",
          "text": "/lib/python3.11/site-packages/sklearn/utils/validation.py:1183: DataConversionWarning: A column-vector y was passed when a 1d array was expected. Please change the shape of y to (n_samples, ), for example using ravel().\n  y = column_or_1d(y, warn=True)\n",
          "output_type": "stream"
        },
        {
          "name": "stdout",
          "text": "[CV 1/5] END ..C=10, gamma=auto, kernel=sigmoid;, score=0.982 total time=   0.0s\n",
          "output_type": "stream"
        },
        {
          "name": "stderr",
          "text": "/lib/python3.11/site-packages/sklearn/utils/validation.py:1183: DataConversionWarning: A column-vector y was passed when a 1d array was expected. Please change the shape of y to (n_samples, ), for example using ravel().\n  y = column_or_1d(y, warn=True)\n",
          "output_type": "stream"
        },
        {
          "name": "stdout",
          "text": "[CV 2/5] END ..C=10, gamma=auto, kernel=sigmoid;, score=1.000 total time=   0.0s\n",
          "output_type": "stream"
        },
        {
          "name": "stderr",
          "text": "/lib/python3.11/site-packages/sklearn/utils/validation.py:1183: DataConversionWarning: A column-vector y was passed when a 1d array was expected. Please change the shape of y to (n_samples, ), for example using ravel().\n  y = column_or_1d(y, warn=True)\n",
          "output_type": "stream"
        },
        {
          "name": "stdout",
          "text": "[CV 3/5] END ..C=10, gamma=auto, kernel=sigmoid;, score=0.982 total time=   0.0s\n",
          "output_type": "stream"
        },
        {
          "name": "stderr",
          "text": "/lib/python3.11/site-packages/sklearn/utils/validation.py:1183: DataConversionWarning: A column-vector y was passed when a 1d array was expected. Please change the shape of y to (n_samples, ), for example using ravel().\n  y = column_or_1d(y, warn=True)\n",
          "output_type": "stream"
        },
        {
          "name": "stdout",
          "text": "[CV 4/5] END ..C=10, gamma=auto, kernel=sigmoid;, score=1.000 total time=   0.0s\n",
          "output_type": "stream"
        },
        {
          "name": "stderr",
          "text": "/lib/python3.11/site-packages/sklearn/utils/validation.py:1183: DataConversionWarning: A column-vector y was passed when a 1d array was expected. Please change the shape of y to (n_samples, ), for example using ravel().\n  y = column_or_1d(y, warn=True)\n",
          "output_type": "stream"
        },
        {
          "name": "stdout",
          "text": "[CV 5/5] END ..C=10, gamma=auto, kernel=sigmoid;, score=1.000 total time=   0.0s\n",
          "output_type": "stream"
        },
        {
          "name": "stderr",
          "text": "/lib/python3.11/site-packages/sklearn/utils/validation.py:1183: DataConversionWarning: A column-vector y was passed when a 1d array was expected. Please change the shape of y to (n_samples, ), for example using ravel().\n  y = column_or_1d(y, warn=True)\n",
          "output_type": "stream"
        },
        {
          "name": "stdout",
          "text": "[CV 1/5] END ...C=10, gamma=auto, kernel=linear;, score=0.982 total time=   0.0s\n",
          "output_type": "stream"
        },
        {
          "name": "stderr",
          "text": "/lib/python3.11/site-packages/sklearn/utils/validation.py:1183: DataConversionWarning: A column-vector y was passed when a 1d array was expected. Please change the shape of y to (n_samples, ), for example using ravel().\n  y = column_or_1d(y, warn=True)\n",
          "output_type": "stream"
        },
        {
          "name": "stdout",
          "text": "[CV 2/5] END ...C=10, gamma=auto, kernel=linear;, score=0.982 total time=   0.0s\n",
          "output_type": "stream"
        },
        {
          "name": "stderr",
          "text": "/lib/python3.11/site-packages/sklearn/utils/validation.py:1183: DataConversionWarning: A column-vector y was passed when a 1d array was expected. Please change the shape of y to (n_samples, ), for example using ravel().\n  y = column_or_1d(y, warn=True)\n",
          "output_type": "stream"
        },
        {
          "name": "stdout",
          "text": "[CV 3/5] END ...C=10, gamma=auto, kernel=linear;, score=0.982 total time=   0.0s\n",
          "output_type": "stream"
        },
        {
          "name": "stderr",
          "text": "/lib/python3.11/site-packages/sklearn/utils/validation.py:1183: DataConversionWarning: A column-vector y was passed when a 1d array was expected. Please change the shape of y to (n_samples, ), for example using ravel().\n  y = column_or_1d(y, warn=True)\n",
          "output_type": "stream"
        },
        {
          "name": "stdout",
          "text": "[CV 4/5] END ...C=10, gamma=auto, kernel=linear;, score=0.982 total time=   0.0s\n",
          "output_type": "stream"
        },
        {
          "name": "stderr",
          "text": "/lib/python3.11/site-packages/sklearn/utils/validation.py:1183: DataConversionWarning: A column-vector y was passed when a 1d array was expected. Please change the shape of y to (n_samples, ), for example using ravel().\n  y = column_or_1d(y, warn=True)\n",
          "output_type": "stream"
        },
        {
          "name": "stdout",
          "text": "[CV 5/5] END ...C=10, gamma=auto, kernel=linear;, score=0.982 total time=   0.0s\n",
          "output_type": "stream"
        },
        {
          "name": "stderr",
          "text": "/lib/python3.11/site-packages/sklearn/utils/validation.py:1183: DataConversionWarning: A column-vector y was passed when a 1d array was expected. Please change the shape of y to (n_samples, ), for example using ravel().\n  y = column_or_1d(y, warn=True)\n",
          "output_type": "stream"
        },
        {
          "name": "stdout",
          "text": "[CV 1/5] END .....C=10, gamma=scale, kernel=rbf;, score=0.982 total time=   0.0s\n",
          "output_type": "stream"
        },
        {
          "name": "stderr",
          "text": "/lib/python3.11/site-packages/sklearn/utils/validation.py:1183: DataConversionWarning: A column-vector y was passed when a 1d array was expected. Please change the shape of y to (n_samples, ), for example using ravel().\n  y = column_or_1d(y, warn=True)\n",
          "output_type": "stream"
        },
        {
          "name": "stdout",
          "text": "[CV 2/5] END .....C=10, gamma=scale, kernel=rbf;, score=1.000 total time=   0.0s\n",
          "output_type": "stream"
        },
        {
          "name": "stderr",
          "text": "/lib/python3.11/site-packages/sklearn/utils/validation.py:1183: DataConversionWarning: A column-vector y was passed when a 1d array was expected. Please change the shape of y to (n_samples, ), for example using ravel().\n  y = column_or_1d(y, warn=True)\n",
          "output_type": "stream"
        },
        {
          "name": "stdout",
          "text": "[CV 3/5] END .....C=10, gamma=scale, kernel=rbf;, score=0.982 total time=   0.0s\n",
          "output_type": "stream"
        },
        {
          "name": "stderr",
          "text": "/lib/python3.11/site-packages/sklearn/utils/validation.py:1183: DataConversionWarning: A column-vector y was passed when a 1d array was expected. Please change the shape of y to (n_samples, ), for example using ravel().\n  y = column_or_1d(y, warn=True)\n",
          "output_type": "stream"
        },
        {
          "name": "stdout",
          "text": "[CV 4/5] END .....C=10, gamma=scale, kernel=rbf;, score=1.000 total time=   0.0s\n",
          "output_type": "stream"
        },
        {
          "name": "stderr",
          "text": "/lib/python3.11/site-packages/sklearn/utils/validation.py:1183: DataConversionWarning: A column-vector y was passed when a 1d array was expected. Please change the shape of y to (n_samples, ), for example using ravel().\n  y = column_or_1d(y, warn=True)\n",
          "output_type": "stream"
        },
        {
          "name": "stdout",
          "text": "[CV 5/5] END .....C=10, gamma=scale, kernel=rbf;, score=1.000 total time=   0.0s\n",
          "output_type": "stream"
        },
        {
          "name": "stderr",
          "text": "/lib/python3.11/site-packages/sklearn/utils/validation.py:1183: DataConversionWarning: A column-vector y was passed when a 1d array was expected. Please change the shape of y to (n_samples, ), for example using ravel().\n  y = column_or_1d(y, warn=True)\n",
          "output_type": "stream"
        },
        {
          "name": "stdout",
          "text": "[CV 1/5] END ....C=10, gamma=scale, kernel=poly;, score=1.000 total time=   0.0s\n",
          "output_type": "stream"
        },
        {
          "name": "stderr",
          "text": "/lib/python3.11/site-packages/sklearn/utils/validation.py:1183: DataConversionWarning: A column-vector y was passed when a 1d array was expected. Please change the shape of y to (n_samples, ), for example using ravel().\n  y = column_or_1d(y, warn=True)\n",
          "output_type": "stream"
        },
        {
          "name": "stdout",
          "text": "[CV 2/5] END ....C=10, gamma=scale, kernel=poly;, score=1.000 total time=   0.0s\n",
          "output_type": "stream"
        },
        {
          "name": "stderr",
          "text": "/lib/python3.11/site-packages/sklearn/utils/validation.py:1183: DataConversionWarning: A column-vector y was passed when a 1d array was expected. Please change the shape of y to (n_samples, ), for example using ravel().\n  y = column_or_1d(y, warn=True)\n",
          "output_type": "stream"
        },
        {
          "name": "stdout",
          "text": "[CV 3/5] END ....C=10, gamma=scale, kernel=poly;, score=0.964 total time=   0.0s\n",
          "output_type": "stream"
        },
        {
          "name": "stderr",
          "text": "/lib/python3.11/site-packages/sklearn/utils/validation.py:1183: DataConversionWarning: A column-vector y was passed when a 1d array was expected. Please change the shape of y to (n_samples, ), for example using ravel().\n  y = column_or_1d(y, warn=True)\n",
          "output_type": "stream"
        },
        {
          "name": "stdout",
          "text": "[CV 4/5] END ....C=10, gamma=scale, kernel=poly;, score=1.000 total time=   0.0s\n",
          "output_type": "stream"
        },
        {
          "name": "stderr",
          "text": "/lib/python3.11/site-packages/sklearn/utils/validation.py:1183: DataConversionWarning: A column-vector y was passed when a 1d array was expected. Please change the shape of y to (n_samples, ), for example using ravel().\n  y = column_or_1d(y, warn=True)\n",
          "output_type": "stream"
        },
        {
          "name": "stdout",
          "text": "[CV 5/5] END ....C=10, gamma=scale, kernel=poly;, score=0.982 total time=   0.0s\n",
          "output_type": "stream"
        },
        {
          "name": "stderr",
          "text": "/lib/python3.11/site-packages/sklearn/utils/validation.py:1183: DataConversionWarning: A column-vector y was passed when a 1d array was expected. Please change the shape of y to (n_samples, ), for example using ravel().\n  y = column_or_1d(y, warn=True)\n",
          "output_type": "stream"
        },
        {
          "name": "stdout",
          "text": "[CV 1/5] END .C=10, gamma=scale, kernel=sigmoid;, score=0.982 total time=   0.0s\n",
          "output_type": "stream"
        },
        {
          "name": "stderr",
          "text": "/lib/python3.11/site-packages/sklearn/utils/validation.py:1183: DataConversionWarning: A column-vector y was passed when a 1d array was expected. Please change the shape of y to (n_samples, ), for example using ravel().\n  y = column_or_1d(y, warn=True)\n",
          "output_type": "stream"
        },
        {
          "name": "stdout",
          "text": "[CV 2/5] END .C=10, gamma=scale, kernel=sigmoid;, score=1.000 total time=   0.0s\n",
          "output_type": "stream"
        },
        {
          "name": "stderr",
          "text": "/lib/python3.11/site-packages/sklearn/utils/validation.py:1183: DataConversionWarning: A column-vector y was passed when a 1d array was expected. Please change the shape of y to (n_samples, ), for example using ravel().\n  y = column_or_1d(y, warn=True)\n",
          "output_type": "stream"
        },
        {
          "name": "stdout",
          "text": "[CV 3/5] END .C=10, gamma=scale, kernel=sigmoid;, score=0.982 total time=   0.0s\n",
          "output_type": "stream"
        },
        {
          "name": "stderr",
          "text": "/lib/python3.11/site-packages/sklearn/utils/validation.py:1183: DataConversionWarning: A column-vector y was passed when a 1d array was expected. Please change the shape of y to (n_samples, ), for example using ravel().\n  y = column_or_1d(y, warn=True)\n",
          "output_type": "stream"
        },
        {
          "name": "stdout",
          "text": "[CV 4/5] END .C=10, gamma=scale, kernel=sigmoid;, score=1.000 total time=   0.0s\n",
          "output_type": "stream"
        },
        {
          "name": "stderr",
          "text": "/lib/python3.11/site-packages/sklearn/utils/validation.py:1183: DataConversionWarning: A column-vector y was passed when a 1d array was expected. Please change the shape of y to (n_samples, ), for example using ravel().\n  y = column_or_1d(y, warn=True)\n",
          "output_type": "stream"
        },
        {
          "name": "stdout",
          "text": "[CV 5/5] END .C=10, gamma=scale, kernel=sigmoid;, score=1.000 total time=   0.0s\n",
          "output_type": "stream"
        },
        {
          "name": "stderr",
          "text": "/lib/python3.11/site-packages/sklearn/utils/validation.py:1183: DataConversionWarning: A column-vector y was passed when a 1d array was expected. Please change the shape of y to (n_samples, ), for example using ravel().\n  y = column_or_1d(y, warn=True)\n",
          "output_type": "stream"
        },
        {
          "name": "stdout",
          "text": "[CV 1/5] END ..C=10, gamma=scale, kernel=linear;, score=0.982 total time=   0.0s\n",
          "output_type": "stream"
        },
        {
          "name": "stderr",
          "text": "/lib/python3.11/site-packages/sklearn/utils/validation.py:1183: DataConversionWarning: A column-vector y was passed when a 1d array was expected. Please change the shape of y to (n_samples, ), for example using ravel().\n  y = column_or_1d(y, warn=True)\n",
          "output_type": "stream"
        },
        {
          "name": "stdout",
          "text": "[CV 2/5] END ..C=10, gamma=scale, kernel=linear;, score=0.982 total time=   0.0s\n",
          "output_type": "stream"
        },
        {
          "name": "stderr",
          "text": "/lib/python3.11/site-packages/sklearn/utils/validation.py:1183: DataConversionWarning: A column-vector y was passed when a 1d array was expected. Please change the shape of y to (n_samples, ), for example using ravel().\n  y = column_or_1d(y, warn=True)\n",
          "output_type": "stream"
        },
        {
          "name": "stdout",
          "text": "[CV 3/5] END ..C=10, gamma=scale, kernel=linear;, score=0.982 total time=   0.0s\n",
          "output_type": "stream"
        },
        {
          "name": "stderr",
          "text": "/lib/python3.11/site-packages/sklearn/utils/validation.py:1183: DataConversionWarning: A column-vector y was passed when a 1d array was expected. Please change the shape of y to (n_samples, ), for example using ravel().\n  y = column_or_1d(y, warn=True)\n",
          "output_type": "stream"
        },
        {
          "name": "stdout",
          "text": "[CV 4/5] END ..C=10, gamma=scale, kernel=linear;, score=0.982 total time=   0.0s\n",
          "output_type": "stream"
        },
        {
          "name": "stderr",
          "text": "/lib/python3.11/site-packages/sklearn/utils/validation.py:1183: DataConversionWarning: A column-vector y was passed when a 1d array was expected. Please change the shape of y to (n_samples, ), for example using ravel().\n  y = column_or_1d(y, warn=True)\n",
          "output_type": "stream"
        },
        {
          "name": "stdout",
          "text": "[CV 5/5] END ..C=10, gamma=scale, kernel=linear;, score=0.982 total time=   0.0s\n",
          "output_type": "stream"
        },
        {
          "name": "stderr",
          "text": "/lib/python3.11/site-packages/sklearn/utils/validation.py:1183: DataConversionWarning: A column-vector y was passed when a 1d array was expected. Please change the shape of y to (n_samples, ), for example using ravel().\n  y = column_or_1d(y, warn=True)\n",
          "output_type": "stream"
        },
        {
          "name": "stdout",
          "text": "[CV 1/5] END .....C=100, gamma=auto, kernel=rbf;, score=0.982 total time=   0.0s\n",
          "output_type": "stream"
        },
        {
          "name": "stderr",
          "text": "/lib/python3.11/site-packages/sklearn/utils/validation.py:1183: DataConversionWarning: A column-vector y was passed when a 1d array was expected. Please change the shape of y to (n_samples, ), for example using ravel().\n  y = column_or_1d(y, warn=True)\n",
          "output_type": "stream"
        },
        {
          "name": "stdout",
          "text": "[CV 2/5] END .....C=100, gamma=auto, kernel=rbf;, score=1.000 total time=   0.0s\n",
          "output_type": "stream"
        },
        {
          "name": "stderr",
          "text": "/lib/python3.11/site-packages/sklearn/utils/validation.py:1183: DataConversionWarning: A column-vector y was passed when a 1d array was expected. Please change the shape of y to (n_samples, ), for example using ravel().\n  y = column_or_1d(y, warn=True)\n",
          "output_type": "stream"
        },
        {
          "name": "stdout",
          "text": "[CV 3/5] END .....C=100, gamma=auto, kernel=rbf;, score=0.982 total time=   0.0s\n",
          "output_type": "stream"
        },
        {
          "name": "stderr",
          "text": "/lib/python3.11/site-packages/sklearn/utils/validation.py:1183: DataConversionWarning: A column-vector y was passed when a 1d array was expected. Please change the shape of y to (n_samples, ), for example using ravel().\n  y = column_or_1d(y, warn=True)\n",
          "output_type": "stream"
        },
        {
          "name": "stdout",
          "text": "[CV 4/5] END .....C=100, gamma=auto, kernel=rbf;, score=0.982 total time=   0.0s\n",
          "output_type": "stream"
        },
        {
          "name": "stderr",
          "text": "/lib/python3.11/site-packages/sklearn/utils/validation.py:1183: DataConversionWarning: A column-vector y was passed when a 1d array was expected. Please change the shape of y to (n_samples, ), for example using ravel().\n  y = column_or_1d(y, warn=True)\n",
          "output_type": "stream"
        },
        {
          "name": "stdout",
          "text": "[CV 5/5] END .....C=100, gamma=auto, kernel=rbf;, score=1.000 total time=   0.0s\n",
          "output_type": "stream"
        },
        {
          "name": "stderr",
          "text": "/lib/python3.11/site-packages/sklearn/utils/validation.py:1183: DataConversionWarning: A column-vector y was passed when a 1d array was expected. Please change the shape of y to (n_samples, ), for example using ravel().\n  y = column_or_1d(y, warn=True)\n",
          "output_type": "stream"
        },
        {
          "name": "stdout",
          "text": "[CV 1/5] END ....C=100, gamma=auto, kernel=poly;, score=0.965 total time=   0.0s\n",
          "output_type": "stream"
        },
        {
          "name": "stderr",
          "text": "/lib/python3.11/site-packages/sklearn/utils/validation.py:1183: DataConversionWarning: A column-vector y was passed when a 1d array was expected. Please change the shape of y to (n_samples, ), for example using ravel().\n  y = column_or_1d(y, warn=True)\n",
          "output_type": "stream"
        },
        {
          "name": "stdout",
          "text": "[CV 2/5] END ....C=100, gamma=auto, kernel=poly;, score=1.000 total time=   0.0s\n",
          "output_type": "stream"
        },
        {
          "name": "stderr",
          "text": "/lib/python3.11/site-packages/sklearn/utils/validation.py:1183: DataConversionWarning: A column-vector y was passed when a 1d array was expected. Please change the shape of y to (n_samples, ), for example using ravel().\n  y = column_or_1d(y, warn=True)\n",
          "output_type": "stream"
        },
        {
          "name": "stdout",
          "text": "[CV 3/5] END ....C=100, gamma=auto, kernel=poly;, score=0.982 total time=   0.0s\n",
          "output_type": "stream"
        },
        {
          "name": "stderr",
          "text": "/lib/python3.11/site-packages/sklearn/utils/validation.py:1183: DataConversionWarning: A column-vector y was passed when a 1d array was expected. Please change the shape of y to (n_samples, ), for example using ravel().\n  y = column_or_1d(y, warn=True)\n",
          "output_type": "stream"
        },
        {
          "name": "stdout",
          "text": "[CV 4/5] END ....C=100, gamma=auto, kernel=poly;, score=1.000 total time=   0.0s\n",
          "output_type": "stream"
        },
        {
          "name": "stderr",
          "text": "/lib/python3.11/site-packages/sklearn/utils/validation.py:1183: DataConversionWarning: A column-vector y was passed when a 1d array was expected. Please change the shape of y to (n_samples, ), for example using ravel().\n  y = column_or_1d(y, warn=True)\n",
          "output_type": "stream"
        },
        {
          "name": "stdout",
          "text": "[CV 5/5] END ....C=100, gamma=auto, kernel=poly;, score=0.982 total time=   0.0s\n",
          "output_type": "stream"
        },
        {
          "name": "stderr",
          "text": "/lib/python3.11/site-packages/sklearn/utils/validation.py:1183: DataConversionWarning: A column-vector y was passed when a 1d array was expected. Please change the shape of y to (n_samples, ), for example using ravel().\n  y = column_or_1d(y, warn=True)\n",
          "output_type": "stream"
        },
        {
          "name": "stdout",
          "text": "[CV 1/5] END .C=100, gamma=auto, kernel=sigmoid;, score=0.982 total time=   0.0s\n",
          "output_type": "stream"
        },
        {
          "name": "stderr",
          "text": "/lib/python3.11/site-packages/sklearn/utils/validation.py:1183: DataConversionWarning: A column-vector y was passed when a 1d array was expected. Please change the shape of y to (n_samples, ), for example using ravel().\n  y = column_or_1d(y, warn=True)\n",
          "output_type": "stream"
        },
        {
          "name": "stdout",
          "text": "[CV 2/5] END .C=100, gamma=auto, kernel=sigmoid;, score=0.982 total time=   0.0s\n",
          "output_type": "stream"
        },
        {
          "name": "stderr",
          "text": "/lib/python3.11/site-packages/sklearn/utils/validation.py:1183: DataConversionWarning: A column-vector y was passed when a 1d array was expected. Please change the shape of y to (n_samples, ), for example using ravel().\n  y = column_or_1d(y, warn=True)\n",
          "output_type": "stream"
        },
        {
          "name": "stdout",
          "text": "[CV 3/5] END .C=100, gamma=auto, kernel=sigmoid;, score=0.982 total time=   0.0s\n",
          "output_type": "stream"
        },
        {
          "name": "stderr",
          "text": "/lib/python3.11/site-packages/sklearn/utils/validation.py:1183: DataConversionWarning: A column-vector y was passed when a 1d array was expected. Please change the shape of y to (n_samples, ), for example using ravel().\n  y = column_or_1d(y, warn=True)\n",
          "output_type": "stream"
        },
        {
          "name": "stdout",
          "text": "[CV 4/5] END .C=100, gamma=auto, kernel=sigmoid;, score=0.982 total time=   0.0s\n",
          "output_type": "stream"
        },
        {
          "name": "stderr",
          "text": "/lib/python3.11/site-packages/sklearn/utils/validation.py:1183: DataConversionWarning: A column-vector y was passed when a 1d array was expected. Please change the shape of y to (n_samples, ), for example using ravel().\n  y = column_or_1d(y, warn=True)\n",
          "output_type": "stream"
        },
        {
          "name": "stdout",
          "text": "[CV 5/5] END .C=100, gamma=auto, kernel=sigmoid;, score=1.000 total time=   0.0s\n",
          "output_type": "stream"
        },
        {
          "name": "stderr",
          "text": "/lib/python3.11/site-packages/sklearn/utils/validation.py:1183: DataConversionWarning: A column-vector y was passed when a 1d array was expected. Please change the shape of y to (n_samples, ), for example using ravel().\n  y = column_or_1d(y, warn=True)\n",
          "output_type": "stream"
        },
        {
          "name": "stdout",
          "text": "[CV 1/5] END ..C=100, gamma=auto, kernel=linear;, score=0.982 total time=   0.0s\n",
          "output_type": "stream"
        },
        {
          "name": "stderr",
          "text": "/lib/python3.11/site-packages/sklearn/utils/validation.py:1183: DataConversionWarning: A column-vector y was passed when a 1d array was expected. Please change the shape of y to (n_samples, ), for example using ravel().\n  y = column_or_1d(y, warn=True)\n",
          "output_type": "stream"
        },
        {
          "name": "stdout",
          "text": "[CV 2/5] END ..C=100, gamma=auto, kernel=linear;, score=0.982 total time=   0.0s\n",
          "output_type": "stream"
        },
        {
          "name": "stderr",
          "text": "/lib/python3.11/site-packages/sklearn/utils/validation.py:1183: DataConversionWarning: A column-vector y was passed when a 1d array was expected. Please change the shape of y to (n_samples, ), for example using ravel().\n  y = column_or_1d(y, warn=True)\n",
          "output_type": "stream"
        },
        {
          "name": "stdout",
          "text": "[CV 3/5] END ..C=100, gamma=auto, kernel=linear;, score=0.982 total time=   0.0s\n",
          "output_type": "stream"
        },
        {
          "name": "stderr",
          "text": "/lib/python3.11/site-packages/sklearn/utils/validation.py:1183: DataConversionWarning: A column-vector y was passed when a 1d array was expected. Please change the shape of y to (n_samples, ), for example using ravel().\n  y = column_or_1d(y, warn=True)\n",
          "output_type": "stream"
        },
        {
          "name": "stdout",
          "text": "[CV 4/5] END ..C=100, gamma=auto, kernel=linear;, score=0.982 total time=   0.0s\n",
          "output_type": "stream"
        },
        {
          "name": "stderr",
          "text": "/lib/python3.11/site-packages/sklearn/utils/validation.py:1183: DataConversionWarning: A column-vector y was passed when a 1d array was expected. Please change the shape of y to (n_samples, ), for example using ravel().\n  y = column_or_1d(y, warn=True)\n",
          "output_type": "stream"
        },
        {
          "name": "stdout",
          "text": "[CV 5/5] END ..C=100, gamma=auto, kernel=linear;, score=0.982 total time=   0.0s\n",
          "output_type": "stream"
        },
        {
          "name": "stderr",
          "text": "/lib/python3.11/site-packages/sklearn/utils/validation.py:1183: DataConversionWarning: A column-vector y was passed when a 1d array was expected. Please change the shape of y to (n_samples, ), for example using ravel().\n  y = column_or_1d(y, warn=True)\n",
          "output_type": "stream"
        },
        {
          "name": "stdout",
          "text": "[CV 1/5] END ....C=100, gamma=scale, kernel=rbf;, score=0.982 total time=   0.0s\n",
          "output_type": "stream"
        },
        {
          "name": "stderr",
          "text": "/lib/python3.11/site-packages/sklearn/utils/validation.py:1183: DataConversionWarning: A column-vector y was passed when a 1d array was expected. Please change the shape of y to (n_samples, ), for example using ravel().\n  y = column_or_1d(y, warn=True)\n",
          "output_type": "stream"
        },
        {
          "name": "stdout",
          "text": "[CV 2/5] END ....C=100, gamma=scale, kernel=rbf;, score=1.000 total time=   0.0s\n",
          "output_type": "stream"
        },
        {
          "name": "stderr",
          "text": "/lib/python3.11/site-packages/sklearn/utils/validation.py:1183: DataConversionWarning: A column-vector y was passed when a 1d array was expected. Please change the shape of y to (n_samples, ), for example using ravel().\n  y = column_or_1d(y, warn=True)\n",
          "output_type": "stream"
        },
        {
          "name": "stdout",
          "text": "[CV 3/5] END ....C=100, gamma=scale, kernel=rbf;, score=0.982 total time=   0.0s\n",
          "output_type": "stream"
        },
        {
          "name": "stderr",
          "text": "/lib/python3.11/site-packages/sklearn/utils/validation.py:1183: DataConversionWarning: A column-vector y was passed when a 1d array was expected. Please change the shape of y to (n_samples, ), for example using ravel().\n  y = column_or_1d(y, warn=True)\n",
          "output_type": "stream"
        },
        {
          "name": "stdout",
          "text": "[CV 4/5] END ....C=100, gamma=scale, kernel=rbf;, score=0.982 total time=   0.0s\n",
          "output_type": "stream"
        },
        {
          "name": "stderr",
          "text": "/lib/python3.11/site-packages/sklearn/utils/validation.py:1183: DataConversionWarning: A column-vector y was passed when a 1d array was expected. Please change the shape of y to (n_samples, ), for example using ravel().\n  y = column_or_1d(y, warn=True)\n",
          "output_type": "stream"
        },
        {
          "name": "stdout",
          "text": "[CV 5/5] END ....C=100, gamma=scale, kernel=rbf;, score=1.000 total time=   0.0s\n",
          "output_type": "stream"
        },
        {
          "name": "stderr",
          "text": "/lib/python3.11/site-packages/sklearn/utils/validation.py:1183: DataConversionWarning: A column-vector y was passed when a 1d array was expected. Please change the shape of y to (n_samples, ), for example using ravel().\n  y = column_or_1d(y, warn=True)\n",
          "output_type": "stream"
        },
        {
          "name": "stdout",
          "text": "[CV 1/5] END ...C=100, gamma=scale, kernel=poly;, score=0.965 total time=   0.0s\n",
          "output_type": "stream"
        },
        {
          "name": "stderr",
          "text": "/lib/python3.11/site-packages/sklearn/utils/validation.py:1183: DataConversionWarning: A column-vector y was passed when a 1d array was expected. Please change the shape of y to (n_samples, ), for example using ravel().\n  y = column_or_1d(y, warn=True)\n",
          "output_type": "stream"
        },
        {
          "name": "stdout",
          "text": "[CV 2/5] END ...C=100, gamma=scale, kernel=poly;, score=1.000 total time=   0.0s\n",
          "output_type": "stream"
        },
        {
          "name": "stderr",
          "text": "/lib/python3.11/site-packages/sklearn/utils/validation.py:1183: DataConversionWarning: A column-vector y was passed when a 1d array was expected. Please change the shape of y to (n_samples, ), for example using ravel().\n  y = column_or_1d(y, warn=True)\n",
          "output_type": "stream"
        },
        {
          "name": "stdout",
          "text": "[CV 3/5] END ...C=100, gamma=scale, kernel=poly;, score=0.982 total time=   0.0s\n",
          "output_type": "stream"
        },
        {
          "name": "stderr",
          "text": "/lib/python3.11/site-packages/sklearn/utils/validation.py:1183: DataConversionWarning: A column-vector y was passed when a 1d array was expected. Please change the shape of y to (n_samples, ), for example using ravel().\n  y = column_or_1d(y, warn=True)\n",
          "output_type": "stream"
        },
        {
          "name": "stdout",
          "text": "[CV 4/5] END ...C=100, gamma=scale, kernel=poly;, score=1.000 total time=   0.0s\n",
          "output_type": "stream"
        },
        {
          "name": "stderr",
          "text": "/lib/python3.11/site-packages/sklearn/utils/validation.py:1183: DataConversionWarning: A column-vector y was passed when a 1d array was expected. Please change the shape of y to (n_samples, ), for example using ravel().\n  y = column_or_1d(y, warn=True)\n",
          "output_type": "stream"
        },
        {
          "name": "stdout",
          "text": "[CV 5/5] END ...C=100, gamma=scale, kernel=poly;, score=0.982 total time=   0.0s\n",
          "output_type": "stream"
        },
        {
          "name": "stderr",
          "text": "/lib/python3.11/site-packages/sklearn/utils/validation.py:1183: DataConversionWarning: A column-vector y was passed when a 1d array was expected. Please change the shape of y to (n_samples, ), for example using ravel().\n  y = column_or_1d(y, warn=True)\n",
          "output_type": "stream"
        },
        {
          "name": "stdout",
          "text": "[CV 1/5] END C=100, gamma=scale, kernel=sigmoid;, score=0.982 total time=   0.0s\n",
          "output_type": "stream"
        },
        {
          "name": "stderr",
          "text": "/lib/python3.11/site-packages/sklearn/utils/validation.py:1183: DataConversionWarning: A column-vector y was passed when a 1d array was expected. Please change the shape of y to (n_samples, ), for example using ravel().\n  y = column_or_1d(y, warn=True)\n",
          "output_type": "stream"
        },
        {
          "name": "stdout",
          "text": "[CV 2/5] END C=100, gamma=scale, kernel=sigmoid;, score=0.982 total time=   0.0s\n",
          "output_type": "stream"
        },
        {
          "name": "stderr",
          "text": "/lib/python3.11/site-packages/sklearn/utils/validation.py:1183: DataConversionWarning: A column-vector y was passed when a 1d array was expected. Please change the shape of y to (n_samples, ), for example using ravel().\n  y = column_or_1d(y, warn=True)\n",
          "output_type": "stream"
        },
        {
          "name": "stdout",
          "text": "[CV 3/5] END C=100, gamma=scale, kernel=sigmoid;, score=0.982 total time=   0.0s\n",
          "output_type": "stream"
        },
        {
          "name": "stderr",
          "text": "/lib/python3.11/site-packages/sklearn/utils/validation.py:1183: DataConversionWarning: A column-vector y was passed when a 1d array was expected. Please change the shape of y to (n_samples, ), for example using ravel().\n  y = column_or_1d(y, warn=True)\n",
          "output_type": "stream"
        },
        {
          "name": "stdout",
          "text": "[CV 4/5] END C=100, gamma=scale, kernel=sigmoid;, score=0.982 total time=   0.0s\n",
          "output_type": "stream"
        },
        {
          "name": "stderr",
          "text": "/lib/python3.11/site-packages/sklearn/utils/validation.py:1183: DataConversionWarning: A column-vector y was passed when a 1d array was expected. Please change the shape of y to (n_samples, ), for example using ravel().\n  y = column_or_1d(y, warn=True)\n",
          "output_type": "stream"
        },
        {
          "name": "stdout",
          "text": "[CV 5/5] END C=100, gamma=scale, kernel=sigmoid;, score=1.000 total time=   0.0s\n",
          "output_type": "stream"
        },
        {
          "name": "stderr",
          "text": "/lib/python3.11/site-packages/sklearn/utils/validation.py:1183: DataConversionWarning: A column-vector y was passed when a 1d array was expected. Please change the shape of y to (n_samples, ), for example using ravel().\n  y = column_or_1d(y, warn=True)\n",
          "output_type": "stream"
        },
        {
          "name": "stdout",
          "text": "[CV 1/5] END .C=100, gamma=scale, kernel=linear;, score=0.982 total time=   0.0s\n",
          "output_type": "stream"
        },
        {
          "name": "stderr",
          "text": "/lib/python3.11/site-packages/sklearn/utils/validation.py:1183: DataConversionWarning: A column-vector y was passed when a 1d array was expected. Please change the shape of y to (n_samples, ), for example using ravel().\n  y = column_or_1d(y, warn=True)\n",
          "output_type": "stream"
        },
        {
          "name": "stdout",
          "text": "[CV 2/5] END .C=100, gamma=scale, kernel=linear;, score=0.982 total time=   0.0s\n",
          "output_type": "stream"
        },
        {
          "name": "stderr",
          "text": "/lib/python3.11/site-packages/sklearn/utils/validation.py:1183: DataConversionWarning: A column-vector y was passed when a 1d array was expected. Please change the shape of y to (n_samples, ), for example using ravel().\n  y = column_or_1d(y, warn=True)\n",
          "output_type": "stream"
        },
        {
          "name": "stdout",
          "text": "[CV 3/5] END .C=100, gamma=scale, kernel=linear;, score=0.982 total time=   0.0s\n",
          "output_type": "stream"
        },
        {
          "name": "stderr",
          "text": "/lib/python3.11/site-packages/sklearn/utils/validation.py:1183: DataConversionWarning: A column-vector y was passed when a 1d array was expected. Please change the shape of y to (n_samples, ), for example using ravel().\n  y = column_or_1d(y, warn=True)\n",
          "output_type": "stream"
        },
        {
          "name": "stdout",
          "text": "[CV 4/5] END .C=100, gamma=scale, kernel=linear;, score=0.982 total time=   0.0s\n",
          "output_type": "stream"
        },
        {
          "name": "stderr",
          "text": "/lib/python3.11/site-packages/sklearn/utils/validation.py:1183: DataConversionWarning: A column-vector y was passed when a 1d array was expected. Please change the shape of y to (n_samples, ), for example using ravel().\n  y = column_or_1d(y, warn=True)\n",
          "output_type": "stream"
        },
        {
          "name": "stdout",
          "text": "[CV 5/5] END .C=100, gamma=scale, kernel=linear;, score=0.982 total time=   0.0s\n",
          "output_type": "stream"
        },
        {
          "name": "stderr",
          "text": "/lib/python3.11/site-packages/sklearn/utils/validation.py:1183: DataConversionWarning: A column-vector y was passed when a 1d array was expected. Please change the shape of y to (n_samples, ), for example using ravel().\n  y = column_or_1d(y, warn=True)\n",
          "output_type": "stream"
        },
        {
          "name": "stdout",
          "text": "[CV 1/5] END ....C=1000, gamma=auto, kernel=rbf;, score=0.982 total time=   0.0s\n",
          "output_type": "stream"
        },
        {
          "name": "stderr",
          "text": "/lib/python3.11/site-packages/sklearn/utils/validation.py:1183: DataConversionWarning: A column-vector y was passed when a 1d array was expected. Please change the shape of y to (n_samples, ), for example using ravel().\n  y = column_or_1d(y, warn=True)\n",
          "output_type": "stream"
        },
        {
          "name": "stdout",
          "text": "[CV 2/5] END ....C=1000, gamma=auto, kernel=rbf;, score=1.000 total time=   0.0s\n",
          "output_type": "stream"
        },
        {
          "name": "stderr",
          "text": "/lib/python3.11/site-packages/sklearn/utils/validation.py:1183: DataConversionWarning: A column-vector y was passed when a 1d array was expected. Please change the shape of y to (n_samples, ), for example using ravel().\n  y = column_or_1d(y, warn=True)\n",
          "output_type": "stream"
        },
        {
          "name": "stdout",
          "text": "[CV 3/5] END ....C=1000, gamma=auto, kernel=rbf;, score=0.982 total time=   0.0s\n",
          "output_type": "stream"
        },
        {
          "name": "stderr",
          "text": "/lib/python3.11/site-packages/sklearn/utils/validation.py:1183: DataConversionWarning: A column-vector y was passed when a 1d array was expected. Please change the shape of y to (n_samples, ), for example using ravel().\n  y = column_or_1d(y, warn=True)\n",
          "output_type": "stream"
        },
        {
          "name": "stdout",
          "text": "[CV 4/5] END ....C=1000, gamma=auto, kernel=rbf;, score=0.982 total time=   0.0s\n",
          "output_type": "stream"
        },
        {
          "name": "stderr",
          "text": "/lib/python3.11/site-packages/sklearn/utils/validation.py:1183: DataConversionWarning: A column-vector y was passed when a 1d array was expected. Please change the shape of y to (n_samples, ), for example using ravel().\n  y = column_or_1d(y, warn=True)\n",
          "output_type": "stream"
        },
        {
          "name": "stdout",
          "text": "[CV 5/5] END ....C=1000, gamma=auto, kernel=rbf;, score=1.000 total time=   0.0s\n",
          "output_type": "stream"
        },
        {
          "name": "stderr",
          "text": "/lib/python3.11/site-packages/sklearn/utils/validation.py:1183: DataConversionWarning: A column-vector y was passed when a 1d array was expected. Please change the shape of y to (n_samples, ), for example using ravel().\n  y = column_or_1d(y, warn=True)\n",
          "output_type": "stream"
        },
        {
          "name": "stdout",
          "text": "[CV 1/5] END ...C=1000, gamma=auto, kernel=poly;, score=0.965 total time=   0.0s\n",
          "output_type": "stream"
        },
        {
          "name": "stderr",
          "text": "/lib/python3.11/site-packages/sklearn/utils/validation.py:1183: DataConversionWarning: A column-vector y was passed when a 1d array was expected. Please change the shape of y to (n_samples, ), for example using ravel().\n  y = column_or_1d(y, warn=True)\n",
          "output_type": "stream"
        },
        {
          "name": "stdout",
          "text": "[CV 2/5] END ...C=1000, gamma=auto, kernel=poly;, score=1.000 total time=   0.0s\n",
          "output_type": "stream"
        },
        {
          "name": "stderr",
          "text": "/lib/python3.11/site-packages/sklearn/utils/validation.py:1183: DataConversionWarning: A column-vector y was passed when a 1d array was expected. Please change the shape of y to (n_samples, ), for example using ravel().\n  y = column_or_1d(y, warn=True)\n",
          "output_type": "stream"
        },
        {
          "name": "stdout",
          "text": "[CV 3/5] END ...C=1000, gamma=auto, kernel=poly;, score=0.964 total time=   0.0s\n",
          "output_type": "stream"
        },
        {
          "name": "stderr",
          "text": "/lib/python3.11/site-packages/sklearn/utils/validation.py:1183: DataConversionWarning: A column-vector y was passed when a 1d array was expected. Please change the shape of y to (n_samples, ), for example using ravel().\n  y = column_or_1d(y, warn=True)\n",
          "output_type": "stream"
        },
        {
          "name": "stdout",
          "text": "[CV 4/5] END ...C=1000, gamma=auto, kernel=poly;, score=1.000 total time=   0.0s\n",
          "output_type": "stream"
        },
        {
          "name": "stderr",
          "text": "/lib/python3.11/site-packages/sklearn/utils/validation.py:1183: DataConversionWarning: A column-vector y was passed when a 1d array was expected. Please change the shape of y to (n_samples, ), for example using ravel().\n  y = column_or_1d(y, warn=True)\n",
          "output_type": "stream"
        },
        {
          "name": "stdout",
          "text": "[CV 5/5] END ...C=1000, gamma=auto, kernel=poly;, score=0.982 total time=   0.0s\n",
          "output_type": "stream"
        },
        {
          "name": "stderr",
          "text": "/lib/python3.11/site-packages/sklearn/utils/validation.py:1183: DataConversionWarning: A column-vector y was passed when a 1d array was expected. Please change the shape of y to (n_samples, ), for example using ravel().\n  y = column_or_1d(y, warn=True)\n",
          "output_type": "stream"
        },
        {
          "name": "stdout",
          "text": "[CV 1/5] END C=1000, gamma=auto, kernel=sigmoid;, score=0.982 total time=   0.0s\n",
          "output_type": "stream"
        },
        {
          "name": "stderr",
          "text": "/lib/python3.11/site-packages/sklearn/utils/validation.py:1183: DataConversionWarning: A column-vector y was passed when a 1d array was expected. Please change the shape of y to (n_samples, ), for example using ravel().\n  y = column_or_1d(y, warn=True)\n",
          "output_type": "stream"
        },
        {
          "name": "stdout",
          "text": "[CV 2/5] END C=1000, gamma=auto, kernel=sigmoid;, score=0.947 total time=   0.0s\n",
          "output_type": "stream"
        },
        {
          "name": "stderr",
          "text": "/lib/python3.11/site-packages/sklearn/utils/validation.py:1183: DataConversionWarning: A column-vector y was passed when a 1d array was expected. Please change the shape of y to (n_samples, ), for example using ravel().\n  y = column_or_1d(y, warn=True)\n",
          "output_type": "stream"
        },
        {
          "name": "stdout",
          "text": "[CV 3/5] END C=1000, gamma=auto, kernel=sigmoid;, score=0.982 total time=   0.0s\n",
          "output_type": "stream"
        },
        {
          "name": "stderr",
          "text": "/lib/python3.11/site-packages/sklearn/utils/validation.py:1183: DataConversionWarning: A column-vector y was passed when a 1d array was expected. Please change the shape of y to (n_samples, ), for example using ravel().\n  y = column_or_1d(y, warn=True)\n",
          "output_type": "stream"
        },
        {
          "name": "stdout",
          "text": "[CV 4/5] END C=1000, gamma=auto, kernel=sigmoid;, score=0.982 total time=   0.0s\n",
          "output_type": "stream"
        },
        {
          "name": "stderr",
          "text": "/lib/python3.11/site-packages/sklearn/utils/validation.py:1183: DataConversionWarning: A column-vector y was passed when a 1d array was expected. Please change the shape of y to (n_samples, ), for example using ravel().\n  y = column_or_1d(y, warn=True)\n",
          "output_type": "stream"
        },
        {
          "name": "stdout",
          "text": "[CV 5/5] END C=1000, gamma=auto, kernel=sigmoid;, score=0.982 total time=   0.0s\n",
          "output_type": "stream"
        },
        {
          "name": "stderr",
          "text": "/lib/python3.11/site-packages/sklearn/utils/validation.py:1183: DataConversionWarning: A column-vector y was passed when a 1d array was expected. Please change the shape of y to (n_samples, ), for example using ravel().\n  y = column_or_1d(y, warn=True)\n",
          "output_type": "stream"
        },
        {
          "name": "stdout",
          "text": "[CV 1/5] END .C=1000, gamma=auto, kernel=linear;, score=0.982 total time=   0.0s\n",
          "output_type": "stream"
        },
        {
          "name": "stderr",
          "text": "/lib/python3.11/site-packages/sklearn/utils/validation.py:1183: DataConversionWarning: A column-vector y was passed when a 1d array was expected. Please change the shape of y to (n_samples, ), for example using ravel().\n  y = column_or_1d(y, warn=True)\n",
          "output_type": "stream"
        },
        {
          "name": "stdout",
          "text": "[CV 2/5] END .C=1000, gamma=auto, kernel=linear;, score=0.982 total time=   0.0s\n",
          "output_type": "stream"
        },
        {
          "name": "stderr",
          "text": "/lib/python3.11/site-packages/sklearn/utils/validation.py:1183: DataConversionWarning: A column-vector y was passed when a 1d array was expected. Please change the shape of y to (n_samples, ), for example using ravel().\n  y = column_or_1d(y, warn=True)\n",
          "output_type": "stream"
        },
        {
          "name": "stdout",
          "text": "[CV 3/5] END .C=1000, gamma=auto, kernel=linear;, score=0.982 total time=   0.0s\n",
          "output_type": "stream"
        },
        {
          "name": "stderr",
          "text": "/lib/python3.11/site-packages/sklearn/utils/validation.py:1183: DataConversionWarning: A column-vector y was passed when a 1d array was expected. Please change the shape of y to (n_samples, ), for example using ravel().\n  y = column_or_1d(y, warn=True)\n",
          "output_type": "stream"
        },
        {
          "name": "stdout",
          "text": "[CV 4/5] END .C=1000, gamma=auto, kernel=linear;, score=0.982 total time=   0.0s\n",
          "output_type": "stream"
        },
        {
          "name": "stderr",
          "text": "/lib/python3.11/site-packages/sklearn/utils/validation.py:1183: DataConversionWarning: A column-vector y was passed when a 1d array was expected. Please change the shape of y to (n_samples, ), for example using ravel().\n  y = column_or_1d(y, warn=True)\n",
          "output_type": "stream"
        },
        {
          "name": "stdout",
          "text": "[CV 5/5] END .C=1000, gamma=auto, kernel=linear;, score=0.982 total time=   0.0s\n",
          "output_type": "stream"
        },
        {
          "name": "stderr",
          "text": "/lib/python3.11/site-packages/sklearn/utils/validation.py:1183: DataConversionWarning: A column-vector y was passed when a 1d array was expected. Please change the shape of y to (n_samples, ), for example using ravel().\n  y = column_or_1d(y, warn=True)\n",
          "output_type": "stream"
        },
        {
          "name": "stdout",
          "text": "[CV 1/5] END ...C=1000, gamma=scale, kernel=rbf;, score=0.982 total time=   0.0s\n",
          "output_type": "stream"
        },
        {
          "name": "stderr",
          "text": "/lib/python3.11/site-packages/sklearn/utils/validation.py:1183: DataConversionWarning: A column-vector y was passed when a 1d array was expected. Please change the shape of y to (n_samples, ), for example using ravel().\n  y = column_or_1d(y, warn=True)\n",
          "output_type": "stream"
        },
        {
          "name": "stdout",
          "text": "[CV 2/5] END ...C=1000, gamma=scale, kernel=rbf;, score=1.000 total time=   0.0s\n",
          "output_type": "stream"
        },
        {
          "name": "stderr",
          "text": "/lib/python3.11/site-packages/sklearn/utils/validation.py:1183: DataConversionWarning: A column-vector y was passed when a 1d array was expected. Please change the shape of y to (n_samples, ), for example using ravel().\n  y = column_or_1d(y, warn=True)\n",
          "output_type": "stream"
        },
        {
          "name": "stdout",
          "text": "[CV 3/5] END ...C=1000, gamma=scale, kernel=rbf;, score=0.982 total time=   0.0s\n",
          "output_type": "stream"
        },
        {
          "name": "stderr",
          "text": "/lib/python3.11/site-packages/sklearn/utils/validation.py:1183: DataConversionWarning: A column-vector y was passed when a 1d array was expected. Please change the shape of y to (n_samples, ), for example using ravel().\n  y = column_or_1d(y, warn=True)\n",
          "output_type": "stream"
        },
        {
          "name": "stdout",
          "text": "[CV 4/5] END ...C=1000, gamma=scale, kernel=rbf;, score=0.982 total time=   0.0s\n",
          "output_type": "stream"
        },
        {
          "name": "stderr",
          "text": "/lib/python3.11/site-packages/sklearn/utils/validation.py:1183: DataConversionWarning: A column-vector y was passed when a 1d array was expected. Please change the shape of y to (n_samples, ), for example using ravel().\n  y = column_or_1d(y, warn=True)\n",
          "output_type": "stream"
        },
        {
          "name": "stdout",
          "text": "[CV 5/5] END ...C=1000, gamma=scale, kernel=rbf;, score=1.000 total time=   0.0s\n",
          "output_type": "stream"
        },
        {
          "name": "stderr",
          "text": "/lib/python3.11/site-packages/sklearn/utils/validation.py:1183: DataConversionWarning: A column-vector y was passed when a 1d array was expected. Please change the shape of y to (n_samples, ), for example using ravel().\n  y = column_or_1d(y, warn=True)\n",
          "output_type": "stream"
        },
        {
          "name": "stdout",
          "text": "[CV 1/5] END ..C=1000, gamma=scale, kernel=poly;, score=0.965 total time=   0.0s\n",
          "output_type": "stream"
        },
        {
          "name": "stderr",
          "text": "/lib/python3.11/site-packages/sklearn/utils/validation.py:1183: DataConversionWarning: A column-vector y was passed when a 1d array was expected. Please change the shape of y to (n_samples, ), for example using ravel().\n  y = column_or_1d(y, warn=True)\n",
          "output_type": "stream"
        },
        {
          "name": "stdout",
          "text": "[CV 2/5] END ..C=1000, gamma=scale, kernel=poly;, score=1.000 total time=   0.0s\n",
          "output_type": "stream"
        },
        {
          "name": "stderr",
          "text": "/lib/python3.11/site-packages/sklearn/utils/validation.py:1183: DataConversionWarning: A column-vector y was passed when a 1d array was expected. Please change the shape of y to (n_samples, ), for example using ravel().\n  y = column_or_1d(y, warn=True)\n",
          "output_type": "stream"
        },
        {
          "name": "stdout",
          "text": "[CV 3/5] END ..C=1000, gamma=scale, kernel=poly;, score=0.964 total time=   0.0s\n",
          "output_type": "stream"
        },
        {
          "name": "stderr",
          "text": "/lib/python3.11/site-packages/sklearn/utils/validation.py:1183: DataConversionWarning: A column-vector y was passed when a 1d array was expected. Please change the shape of y to (n_samples, ), for example using ravel().\n  y = column_or_1d(y, warn=True)\n",
          "output_type": "stream"
        },
        {
          "name": "stdout",
          "text": "[CV 4/5] END ..C=1000, gamma=scale, kernel=poly;, score=1.000 total time=   0.0s\n",
          "output_type": "stream"
        },
        {
          "name": "stderr",
          "text": "/lib/python3.11/site-packages/sklearn/utils/validation.py:1183: DataConversionWarning: A column-vector y was passed when a 1d array was expected. Please change the shape of y to (n_samples, ), for example using ravel().\n  y = column_or_1d(y, warn=True)\n",
          "output_type": "stream"
        },
        {
          "name": "stdout",
          "text": "[CV 5/5] END ..C=1000, gamma=scale, kernel=poly;, score=0.982 total time=   0.0s\n",
          "output_type": "stream"
        },
        {
          "name": "stderr",
          "text": "/lib/python3.11/site-packages/sklearn/utils/validation.py:1183: DataConversionWarning: A column-vector y was passed when a 1d array was expected. Please change the shape of y to (n_samples, ), for example using ravel().\n  y = column_or_1d(y, warn=True)\n",
          "output_type": "stream"
        },
        {
          "name": "stdout",
          "text": "[CV 1/5] END C=1000, gamma=scale, kernel=sigmoid;, score=0.982 total time=   0.0s\n",
          "output_type": "stream"
        },
        {
          "name": "stderr",
          "text": "/lib/python3.11/site-packages/sklearn/utils/validation.py:1183: DataConversionWarning: A column-vector y was passed when a 1d array was expected. Please change the shape of y to (n_samples, ), for example using ravel().\n  y = column_or_1d(y, warn=True)\n",
          "output_type": "stream"
        },
        {
          "name": "stdout",
          "text": "[CV 2/5] END C=1000, gamma=scale, kernel=sigmoid;, score=0.947 total time=   0.0s\n",
          "output_type": "stream"
        },
        {
          "name": "stderr",
          "text": "/lib/python3.11/site-packages/sklearn/utils/validation.py:1183: DataConversionWarning: A column-vector y was passed when a 1d array was expected. Please change the shape of y to (n_samples, ), for example using ravel().\n  y = column_or_1d(y, warn=True)\n",
          "output_type": "stream"
        },
        {
          "name": "stdout",
          "text": "[CV 3/5] END C=1000, gamma=scale, kernel=sigmoid;, score=0.982 total time=   0.0s\n",
          "output_type": "stream"
        },
        {
          "name": "stderr",
          "text": "/lib/python3.11/site-packages/sklearn/utils/validation.py:1183: DataConversionWarning: A column-vector y was passed when a 1d array was expected. Please change the shape of y to (n_samples, ), for example using ravel().\n  y = column_or_1d(y, warn=True)\n",
          "output_type": "stream"
        },
        {
          "name": "stdout",
          "text": "[CV 4/5] END C=1000, gamma=scale, kernel=sigmoid;, score=0.982 total time=   0.0s\n",
          "output_type": "stream"
        },
        {
          "name": "stderr",
          "text": "/lib/python3.11/site-packages/sklearn/utils/validation.py:1183: DataConversionWarning: A column-vector y was passed when a 1d array was expected. Please change the shape of y to (n_samples, ), for example using ravel().\n  y = column_or_1d(y, warn=True)\n",
          "output_type": "stream"
        },
        {
          "name": "stdout",
          "text": "[CV 5/5] END C=1000, gamma=scale, kernel=sigmoid;, score=0.982 total time=   0.0s\n",
          "output_type": "stream"
        },
        {
          "name": "stderr",
          "text": "/lib/python3.11/site-packages/sklearn/utils/validation.py:1183: DataConversionWarning: A column-vector y was passed when a 1d array was expected. Please change the shape of y to (n_samples, ), for example using ravel().\n  y = column_or_1d(y, warn=True)\n",
          "output_type": "stream"
        },
        {
          "name": "stdout",
          "text": "[CV 1/5] END C=1000, gamma=scale, kernel=linear;, score=0.982 total time=   0.0s\n",
          "output_type": "stream"
        },
        {
          "name": "stderr",
          "text": "/lib/python3.11/site-packages/sklearn/utils/validation.py:1183: DataConversionWarning: A column-vector y was passed when a 1d array was expected. Please change the shape of y to (n_samples, ), for example using ravel().\n  y = column_or_1d(y, warn=True)\n",
          "output_type": "stream"
        },
        {
          "name": "stdout",
          "text": "[CV 2/5] END C=1000, gamma=scale, kernel=linear;, score=0.982 total time=   0.0s\n",
          "output_type": "stream"
        },
        {
          "name": "stderr",
          "text": "/lib/python3.11/site-packages/sklearn/utils/validation.py:1183: DataConversionWarning: A column-vector y was passed when a 1d array was expected. Please change the shape of y to (n_samples, ), for example using ravel().\n  y = column_or_1d(y, warn=True)\n",
          "output_type": "stream"
        },
        {
          "name": "stdout",
          "text": "[CV 3/5] END C=1000, gamma=scale, kernel=linear;, score=0.982 total time=   0.0s\n",
          "output_type": "stream"
        },
        {
          "name": "stderr",
          "text": "/lib/python3.11/site-packages/sklearn/utils/validation.py:1183: DataConversionWarning: A column-vector y was passed when a 1d array was expected. Please change the shape of y to (n_samples, ), for example using ravel().\n  y = column_or_1d(y, warn=True)\n",
          "output_type": "stream"
        },
        {
          "name": "stdout",
          "text": "[CV 4/5] END C=1000, gamma=scale, kernel=linear;, score=0.982 total time=   0.0s\n",
          "output_type": "stream"
        },
        {
          "name": "stderr",
          "text": "/lib/python3.11/site-packages/sklearn/utils/validation.py:1183: DataConversionWarning: A column-vector y was passed when a 1d array was expected. Please change the shape of y to (n_samples, ), for example using ravel().\n  y = column_or_1d(y, warn=True)\n",
          "output_type": "stream"
        },
        {
          "name": "stdout",
          "text": "[CV 5/5] END C=1000, gamma=scale, kernel=linear;, score=0.982 total time=   0.0s\n",
          "output_type": "stream"
        },
        {
          "name": "stderr",
          "text": "/lib/python3.11/site-packages/sklearn/utils/validation.py:1183: DataConversionWarning: A column-vector y was passed when a 1d array was expected. Please change the shape of y to (n_samples, ), for example using ravel().\n  y = column_or_1d(y, warn=True)\n",
          "output_type": "stream"
        },
        {
          "name": "stdout",
          "text": "[CV 1/5] END ....C=2000, gamma=auto, kernel=rbf;, score=0.982 total time=   0.0s\n",
          "output_type": "stream"
        },
        {
          "name": "stderr",
          "text": "/lib/python3.11/site-packages/sklearn/utils/validation.py:1183: DataConversionWarning: A column-vector y was passed when a 1d array was expected. Please change the shape of y to (n_samples, ), for example using ravel().\n  y = column_or_1d(y, warn=True)\n",
          "output_type": "stream"
        },
        {
          "name": "stdout",
          "text": "[CV 2/5] END ....C=2000, gamma=auto, kernel=rbf;, score=1.000 total time=   0.0s\n",
          "output_type": "stream"
        },
        {
          "name": "stderr",
          "text": "/lib/python3.11/site-packages/sklearn/utils/validation.py:1183: DataConversionWarning: A column-vector y was passed when a 1d array was expected. Please change the shape of y to (n_samples, ), for example using ravel().\n  y = column_or_1d(y, warn=True)\n",
          "output_type": "stream"
        },
        {
          "name": "stdout",
          "text": "[CV 3/5] END ....C=2000, gamma=auto, kernel=rbf;, score=0.982 total time=   0.0s\n",
          "output_type": "stream"
        },
        {
          "name": "stderr",
          "text": "/lib/python3.11/site-packages/sklearn/utils/validation.py:1183: DataConversionWarning: A column-vector y was passed when a 1d array was expected. Please change the shape of y to (n_samples, ), for example using ravel().\n  y = column_or_1d(y, warn=True)\n",
          "output_type": "stream"
        },
        {
          "name": "stdout",
          "text": "[CV 4/5] END ....C=2000, gamma=auto, kernel=rbf;, score=0.982 total time=   0.0s\n",
          "output_type": "stream"
        },
        {
          "name": "stderr",
          "text": "/lib/python3.11/site-packages/sklearn/utils/validation.py:1183: DataConversionWarning: A column-vector y was passed when a 1d array was expected. Please change the shape of y to (n_samples, ), for example using ravel().\n  y = column_or_1d(y, warn=True)\n",
          "output_type": "stream"
        },
        {
          "name": "stdout",
          "text": "[CV 5/5] END ....C=2000, gamma=auto, kernel=rbf;, score=1.000 total time=   0.0s\n",
          "output_type": "stream"
        },
        {
          "name": "stderr",
          "text": "/lib/python3.11/site-packages/sklearn/utils/validation.py:1183: DataConversionWarning: A column-vector y was passed when a 1d array was expected. Please change the shape of y to (n_samples, ), for example using ravel().\n  y = column_or_1d(y, warn=True)\n",
          "output_type": "stream"
        },
        {
          "name": "stdout",
          "text": "[CV 1/5] END ...C=2000, gamma=auto, kernel=poly;, score=0.965 total time=   0.0s\n",
          "output_type": "stream"
        },
        {
          "name": "stderr",
          "text": "/lib/python3.11/site-packages/sklearn/utils/validation.py:1183: DataConversionWarning: A column-vector y was passed when a 1d array was expected. Please change the shape of y to (n_samples, ), for example using ravel().\n  y = column_or_1d(y, warn=True)\n",
          "output_type": "stream"
        },
        {
          "name": "stdout",
          "text": "[CV 2/5] END ...C=2000, gamma=auto, kernel=poly;, score=1.000 total time=   0.0s\n",
          "output_type": "stream"
        },
        {
          "name": "stderr",
          "text": "/lib/python3.11/site-packages/sklearn/utils/validation.py:1183: DataConversionWarning: A column-vector y was passed when a 1d array was expected. Please change the shape of y to (n_samples, ), for example using ravel().\n  y = column_or_1d(y, warn=True)\n",
          "output_type": "stream"
        },
        {
          "name": "stdout",
          "text": "[CV 3/5] END ...C=2000, gamma=auto, kernel=poly;, score=0.964 total time=   0.0s\n",
          "output_type": "stream"
        },
        {
          "name": "stderr",
          "text": "/lib/python3.11/site-packages/sklearn/utils/validation.py:1183: DataConversionWarning: A column-vector y was passed when a 1d array was expected. Please change the shape of y to (n_samples, ), for example using ravel().\n  y = column_or_1d(y, warn=True)\n",
          "output_type": "stream"
        },
        {
          "name": "stdout",
          "text": "[CV 4/5] END ...C=2000, gamma=auto, kernel=poly;, score=1.000 total time=   0.0s\n",
          "output_type": "stream"
        },
        {
          "name": "stderr",
          "text": "/lib/python3.11/site-packages/sklearn/utils/validation.py:1183: DataConversionWarning: A column-vector y was passed when a 1d array was expected. Please change the shape of y to (n_samples, ), for example using ravel().\n  y = column_or_1d(y, warn=True)\n",
          "output_type": "stream"
        },
        {
          "name": "stdout",
          "text": "[CV 5/5] END ...C=2000, gamma=auto, kernel=poly;, score=0.982 total time=   0.0s\n",
          "output_type": "stream"
        },
        {
          "name": "stderr",
          "text": "/lib/python3.11/site-packages/sklearn/utils/validation.py:1183: DataConversionWarning: A column-vector y was passed when a 1d array was expected. Please change the shape of y to (n_samples, ), for example using ravel().\n  y = column_or_1d(y, warn=True)\n",
          "output_type": "stream"
        },
        {
          "name": "stdout",
          "text": "[CV 1/5] END C=2000, gamma=auto, kernel=sigmoid;, score=0.982 total time=   0.0s\n",
          "output_type": "stream"
        },
        {
          "name": "stderr",
          "text": "/lib/python3.11/site-packages/sklearn/utils/validation.py:1183: DataConversionWarning: A column-vector y was passed when a 1d array was expected. Please change the shape of y to (n_samples, ), for example using ravel().\n  y = column_or_1d(y, warn=True)\n",
          "output_type": "stream"
        },
        {
          "name": "stdout",
          "text": "[CV 2/5] END C=2000, gamma=auto, kernel=sigmoid;, score=0.947 total time=   0.0s\n",
          "output_type": "stream"
        },
        {
          "name": "stderr",
          "text": "/lib/python3.11/site-packages/sklearn/utils/validation.py:1183: DataConversionWarning: A column-vector y was passed when a 1d array was expected. Please change the shape of y to (n_samples, ), for example using ravel().\n  y = column_or_1d(y, warn=True)\n",
          "output_type": "stream"
        },
        {
          "name": "stdout",
          "text": "[CV 3/5] END C=2000, gamma=auto, kernel=sigmoid;, score=0.982 total time=   0.0s\n",
          "output_type": "stream"
        },
        {
          "name": "stderr",
          "text": "/lib/python3.11/site-packages/sklearn/utils/validation.py:1183: DataConversionWarning: A column-vector y was passed when a 1d array was expected. Please change the shape of y to (n_samples, ), for example using ravel().\n  y = column_or_1d(y, warn=True)\n",
          "output_type": "stream"
        },
        {
          "name": "stdout",
          "text": "[CV 4/5] END C=2000, gamma=auto, kernel=sigmoid;, score=0.982 total time=   0.0s\n",
          "output_type": "stream"
        },
        {
          "name": "stderr",
          "text": "/lib/python3.11/site-packages/sklearn/utils/validation.py:1183: DataConversionWarning: A column-vector y was passed when a 1d array was expected. Please change the shape of y to (n_samples, ), for example using ravel().\n  y = column_or_1d(y, warn=True)\n",
          "output_type": "stream"
        },
        {
          "name": "stdout",
          "text": "[CV 5/5] END C=2000, gamma=auto, kernel=sigmoid;, score=0.982 total time=   0.0s\n",
          "output_type": "stream"
        },
        {
          "name": "stderr",
          "text": "/lib/python3.11/site-packages/sklearn/utils/validation.py:1183: DataConversionWarning: A column-vector y was passed when a 1d array was expected. Please change the shape of y to (n_samples, ), for example using ravel().\n  y = column_or_1d(y, warn=True)\n",
          "output_type": "stream"
        },
        {
          "name": "stdout",
          "text": "[CV 1/5] END .C=2000, gamma=auto, kernel=linear;, score=0.982 total time=   0.0s\n",
          "output_type": "stream"
        },
        {
          "name": "stderr",
          "text": "/lib/python3.11/site-packages/sklearn/utils/validation.py:1183: DataConversionWarning: A column-vector y was passed when a 1d array was expected. Please change the shape of y to (n_samples, ), for example using ravel().\n  y = column_or_1d(y, warn=True)\n",
          "output_type": "stream"
        },
        {
          "name": "stdout",
          "text": "[CV 2/5] END .C=2000, gamma=auto, kernel=linear;, score=0.982 total time=   0.0s\n",
          "output_type": "stream"
        },
        {
          "name": "stderr",
          "text": "/lib/python3.11/site-packages/sklearn/utils/validation.py:1183: DataConversionWarning: A column-vector y was passed when a 1d array was expected. Please change the shape of y to (n_samples, ), for example using ravel().\n  y = column_or_1d(y, warn=True)\n",
          "output_type": "stream"
        },
        {
          "name": "stdout",
          "text": "[CV 3/5] END .C=2000, gamma=auto, kernel=linear;, score=0.982 total time=   0.0s\n",
          "output_type": "stream"
        },
        {
          "name": "stderr",
          "text": "/lib/python3.11/site-packages/sklearn/utils/validation.py:1183: DataConversionWarning: A column-vector y was passed when a 1d array was expected. Please change the shape of y to (n_samples, ), for example using ravel().\n  y = column_or_1d(y, warn=True)\n",
          "output_type": "stream"
        },
        {
          "name": "stdout",
          "text": "[CV 4/5] END .C=2000, gamma=auto, kernel=linear;, score=0.982 total time=   0.0s\n",
          "output_type": "stream"
        },
        {
          "name": "stderr",
          "text": "/lib/python3.11/site-packages/sklearn/utils/validation.py:1183: DataConversionWarning: A column-vector y was passed when a 1d array was expected. Please change the shape of y to (n_samples, ), for example using ravel().\n  y = column_or_1d(y, warn=True)\n",
          "output_type": "stream"
        },
        {
          "name": "stdout",
          "text": "[CV 5/5] END .C=2000, gamma=auto, kernel=linear;, score=0.982 total time=   0.0s\n",
          "output_type": "stream"
        },
        {
          "name": "stderr",
          "text": "/lib/python3.11/site-packages/sklearn/utils/validation.py:1183: DataConversionWarning: A column-vector y was passed when a 1d array was expected. Please change the shape of y to (n_samples, ), for example using ravel().\n  y = column_or_1d(y, warn=True)\n",
          "output_type": "stream"
        },
        {
          "name": "stdout",
          "text": "[CV 1/5] END ...C=2000, gamma=scale, kernel=rbf;, score=0.982 total time=   0.0s\n",
          "output_type": "stream"
        },
        {
          "name": "stderr",
          "text": "/lib/python3.11/site-packages/sklearn/utils/validation.py:1183: DataConversionWarning: A column-vector y was passed when a 1d array was expected. Please change the shape of y to (n_samples, ), for example using ravel().\n  y = column_or_1d(y, warn=True)\n",
          "output_type": "stream"
        },
        {
          "name": "stdout",
          "text": "[CV 2/5] END ...C=2000, gamma=scale, kernel=rbf;, score=1.000 total time=   0.0s\n",
          "output_type": "stream"
        },
        {
          "name": "stderr",
          "text": "/lib/python3.11/site-packages/sklearn/utils/validation.py:1183: DataConversionWarning: A column-vector y was passed when a 1d array was expected. Please change the shape of y to (n_samples, ), for example using ravel().\n  y = column_or_1d(y, warn=True)\n",
          "output_type": "stream"
        },
        {
          "name": "stdout",
          "text": "[CV 3/5] END ...C=2000, gamma=scale, kernel=rbf;, score=0.982 total time=   0.0s\n",
          "output_type": "stream"
        },
        {
          "name": "stderr",
          "text": "/lib/python3.11/site-packages/sklearn/utils/validation.py:1183: DataConversionWarning: A column-vector y was passed when a 1d array was expected. Please change the shape of y to (n_samples, ), for example using ravel().\n  y = column_or_1d(y, warn=True)\n",
          "output_type": "stream"
        },
        {
          "name": "stdout",
          "text": "[CV 4/5] END ...C=2000, gamma=scale, kernel=rbf;, score=0.982 total time=   0.0s\n",
          "output_type": "stream"
        },
        {
          "name": "stderr",
          "text": "/lib/python3.11/site-packages/sklearn/utils/validation.py:1183: DataConversionWarning: A column-vector y was passed when a 1d array was expected. Please change the shape of y to (n_samples, ), for example using ravel().\n  y = column_or_1d(y, warn=True)\n",
          "output_type": "stream"
        },
        {
          "name": "stdout",
          "text": "[CV 5/5] END ...C=2000, gamma=scale, kernel=rbf;, score=1.000 total time=   0.0s\n",
          "output_type": "stream"
        },
        {
          "name": "stderr",
          "text": "/lib/python3.11/site-packages/sklearn/utils/validation.py:1183: DataConversionWarning: A column-vector y was passed when a 1d array was expected. Please change the shape of y to (n_samples, ), for example using ravel().\n  y = column_or_1d(y, warn=True)\n",
          "output_type": "stream"
        },
        {
          "name": "stdout",
          "text": "[CV 1/5] END ..C=2000, gamma=scale, kernel=poly;, score=0.965 total time=   0.0s\n",
          "output_type": "stream"
        },
        {
          "name": "stderr",
          "text": "/lib/python3.11/site-packages/sklearn/utils/validation.py:1183: DataConversionWarning: A column-vector y was passed when a 1d array was expected. Please change the shape of y to (n_samples, ), for example using ravel().\n  y = column_or_1d(y, warn=True)\n",
          "output_type": "stream"
        },
        {
          "name": "stdout",
          "text": "[CV 2/5] END ..C=2000, gamma=scale, kernel=poly;, score=1.000 total time=   0.0s\n",
          "output_type": "stream"
        },
        {
          "name": "stderr",
          "text": "/lib/python3.11/site-packages/sklearn/utils/validation.py:1183: DataConversionWarning: A column-vector y was passed when a 1d array was expected. Please change the shape of y to (n_samples, ), for example using ravel().\n  y = column_or_1d(y, warn=True)\n",
          "output_type": "stream"
        },
        {
          "name": "stdout",
          "text": "[CV 3/5] END ..C=2000, gamma=scale, kernel=poly;, score=0.964 total time=   0.0s\n",
          "output_type": "stream"
        },
        {
          "name": "stderr",
          "text": "/lib/python3.11/site-packages/sklearn/utils/validation.py:1183: DataConversionWarning: A column-vector y was passed when a 1d array was expected. Please change the shape of y to (n_samples, ), for example using ravel().\n  y = column_or_1d(y, warn=True)\n",
          "output_type": "stream"
        },
        {
          "name": "stdout",
          "text": "[CV 4/5] END ..C=2000, gamma=scale, kernel=poly;, score=1.000 total time=   0.0s\n",
          "output_type": "stream"
        },
        {
          "name": "stderr",
          "text": "/lib/python3.11/site-packages/sklearn/utils/validation.py:1183: DataConversionWarning: A column-vector y was passed when a 1d array was expected. Please change the shape of y to (n_samples, ), for example using ravel().\n  y = column_or_1d(y, warn=True)\n",
          "output_type": "stream"
        },
        {
          "name": "stdout",
          "text": "[CV 5/5] END ..C=2000, gamma=scale, kernel=poly;, score=0.982 total time=   0.0s\n",
          "output_type": "stream"
        },
        {
          "name": "stderr",
          "text": "/lib/python3.11/site-packages/sklearn/utils/validation.py:1183: DataConversionWarning: A column-vector y was passed when a 1d array was expected. Please change the shape of y to (n_samples, ), for example using ravel().\n  y = column_or_1d(y, warn=True)\n",
          "output_type": "stream"
        },
        {
          "name": "stdout",
          "text": "[CV 1/5] END C=2000, gamma=scale, kernel=sigmoid;, score=0.982 total time=   0.0s\n",
          "output_type": "stream"
        },
        {
          "name": "stderr",
          "text": "/lib/python3.11/site-packages/sklearn/utils/validation.py:1183: DataConversionWarning: A column-vector y was passed when a 1d array was expected. Please change the shape of y to (n_samples, ), for example using ravel().\n  y = column_or_1d(y, warn=True)\n",
          "output_type": "stream"
        },
        {
          "name": "stdout",
          "text": "[CV 2/5] END C=2000, gamma=scale, kernel=sigmoid;, score=0.947 total time=   0.0s\n",
          "output_type": "stream"
        },
        {
          "name": "stderr",
          "text": "/lib/python3.11/site-packages/sklearn/utils/validation.py:1183: DataConversionWarning: A column-vector y was passed when a 1d array was expected. Please change the shape of y to (n_samples, ), for example using ravel().\n  y = column_or_1d(y, warn=True)\n",
          "output_type": "stream"
        },
        {
          "name": "stdout",
          "text": "[CV 3/5] END C=2000, gamma=scale, kernel=sigmoid;, score=0.982 total time=   0.0s\n",
          "output_type": "stream"
        },
        {
          "name": "stderr",
          "text": "/lib/python3.11/site-packages/sklearn/utils/validation.py:1183: DataConversionWarning: A column-vector y was passed when a 1d array was expected. Please change the shape of y to (n_samples, ), for example using ravel().\n  y = column_or_1d(y, warn=True)\n",
          "output_type": "stream"
        },
        {
          "name": "stdout",
          "text": "[CV 4/5] END C=2000, gamma=scale, kernel=sigmoid;, score=0.982 total time=   0.0s\n",
          "output_type": "stream"
        },
        {
          "name": "stderr",
          "text": "/lib/python3.11/site-packages/sklearn/utils/validation.py:1183: DataConversionWarning: A column-vector y was passed when a 1d array was expected. Please change the shape of y to (n_samples, ), for example using ravel().\n  y = column_or_1d(y, warn=True)\n",
          "output_type": "stream"
        },
        {
          "name": "stdout",
          "text": "[CV 5/5] END C=2000, gamma=scale, kernel=sigmoid;, score=0.982 total time=   0.0s\n",
          "output_type": "stream"
        },
        {
          "name": "stderr",
          "text": "/lib/python3.11/site-packages/sklearn/utils/validation.py:1183: DataConversionWarning: A column-vector y was passed when a 1d array was expected. Please change the shape of y to (n_samples, ), for example using ravel().\n  y = column_or_1d(y, warn=True)\n",
          "output_type": "stream"
        },
        {
          "name": "stdout",
          "text": "[CV 1/5] END C=2000, gamma=scale, kernel=linear;, score=0.982 total time=   0.0s\n",
          "output_type": "stream"
        },
        {
          "name": "stderr",
          "text": "/lib/python3.11/site-packages/sklearn/utils/validation.py:1183: DataConversionWarning: A column-vector y was passed when a 1d array was expected. Please change the shape of y to (n_samples, ), for example using ravel().\n  y = column_or_1d(y, warn=True)\n",
          "output_type": "stream"
        },
        {
          "name": "stdout",
          "text": "[CV 2/5] END C=2000, gamma=scale, kernel=linear;, score=0.982 total time=   0.0s\n",
          "output_type": "stream"
        },
        {
          "name": "stderr",
          "text": "/lib/python3.11/site-packages/sklearn/utils/validation.py:1183: DataConversionWarning: A column-vector y was passed when a 1d array was expected. Please change the shape of y to (n_samples, ), for example using ravel().\n  y = column_or_1d(y, warn=True)\n",
          "output_type": "stream"
        },
        {
          "name": "stdout",
          "text": "[CV 3/5] END C=2000, gamma=scale, kernel=linear;, score=0.982 total time=   0.0s\n",
          "output_type": "stream"
        },
        {
          "name": "stderr",
          "text": "/lib/python3.11/site-packages/sklearn/utils/validation.py:1183: DataConversionWarning: A column-vector y was passed when a 1d array was expected. Please change the shape of y to (n_samples, ), for example using ravel().\n  y = column_or_1d(y, warn=True)\n",
          "output_type": "stream"
        },
        {
          "name": "stdout",
          "text": "[CV 4/5] END C=2000, gamma=scale, kernel=linear;, score=0.982 total time=   0.0s\n",
          "output_type": "stream"
        },
        {
          "name": "stderr",
          "text": "/lib/python3.11/site-packages/sklearn/utils/validation.py:1183: DataConversionWarning: A column-vector y was passed when a 1d array was expected. Please change the shape of y to (n_samples, ), for example using ravel().\n  y = column_or_1d(y, warn=True)\n",
          "output_type": "stream"
        },
        {
          "name": "stdout",
          "text": "[CV 5/5] END C=2000, gamma=scale, kernel=linear;, score=0.982 total time=   0.0s\n",
          "output_type": "stream"
        },
        {
          "name": "stderr",
          "text": "/lib/python3.11/site-packages/sklearn/utils/validation.py:1183: DataConversionWarning: A column-vector y was passed when a 1d array was expected. Please change the shape of y to (n_samples, ), for example using ravel().\n  y = column_or_1d(y, warn=True)\n",
          "output_type": "stream"
        },
        {
          "name": "stdout",
          "text": "[CV 1/5] END ....C=3000, gamma=auto, kernel=rbf;, score=0.982 total time=   0.0s\n",
          "output_type": "stream"
        },
        {
          "name": "stderr",
          "text": "/lib/python3.11/site-packages/sklearn/utils/validation.py:1183: DataConversionWarning: A column-vector y was passed when a 1d array was expected. Please change the shape of y to (n_samples, ), for example using ravel().\n  y = column_or_1d(y, warn=True)\n",
          "output_type": "stream"
        },
        {
          "name": "stdout",
          "text": "[CV 2/5] END ....C=3000, gamma=auto, kernel=rbf;, score=1.000 total time=   0.0s\n",
          "output_type": "stream"
        },
        {
          "name": "stderr",
          "text": "/lib/python3.11/site-packages/sklearn/utils/validation.py:1183: DataConversionWarning: A column-vector y was passed when a 1d array was expected. Please change the shape of y to (n_samples, ), for example using ravel().\n  y = column_or_1d(y, warn=True)\n",
          "output_type": "stream"
        },
        {
          "name": "stdout",
          "text": "[CV 3/5] END ....C=3000, gamma=auto, kernel=rbf;, score=0.982 total time=   0.0s\n",
          "output_type": "stream"
        },
        {
          "name": "stderr",
          "text": "/lib/python3.11/site-packages/sklearn/utils/validation.py:1183: DataConversionWarning: A column-vector y was passed when a 1d array was expected. Please change the shape of y to (n_samples, ), for example using ravel().\n  y = column_or_1d(y, warn=True)\n",
          "output_type": "stream"
        },
        {
          "name": "stdout",
          "text": "[CV 4/5] END ....C=3000, gamma=auto, kernel=rbf;, score=0.982 total time=   0.0s\n",
          "output_type": "stream"
        },
        {
          "name": "stderr",
          "text": "/lib/python3.11/site-packages/sklearn/utils/validation.py:1183: DataConversionWarning: A column-vector y was passed when a 1d array was expected. Please change the shape of y to (n_samples, ), for example using ravel().\n  y = column_or_1d(y, warn=True)\n",
          "output_type": "stream"
        },
        {
          "name": "stdout",
          "text": "[CV 5/5] END ....C=3000, gamma=auto, kernel=rbf;, score=1.000 total time=   0.0s\n",
          "output_type": "stream"
        },
        {
          "name": "stderr",
          "text": "/lib/python3.11/site-packages/sklearn/utils/validation.py:1183: DataConversionWarning: A column-vector y was passed when a 1d array was expected. Please change the shape of y to (n_samples, ), for example using ravel().\n  y = column_or_1d(y, warn=True)\n",
          "output_type": "stream"
        },
        {
          "name": "stdout",
          "text": "[CV 1/5] END ...C=3000, gamma=auto, kernel=poly;, score=0.965 total time=   0.0s\n",
          "output_type": "stream"
        },
        {
          "name": "stderr",
          "text": "/lib/python3.11/site-packages/sklearn/utils/validation.py:1183: DataConversionWarning: A column-vector y was passed when a 1d array was expected. Please change the shape of y to (n_samples, ), for example using ravel().\n  y = column_or_1d(y, warn=True)\n",
          "output_type": "stream"
        },
        {
          "name": "stdout",
          "text": "[CV 2/5] END ...C=3000, gamma=auto, kernel=poly;, score=1.000 total time=   0.0s\n",
          "output_type": "stream"
        },
        {
          "name": "stderr",
          "text": "/lib/python3.11/site-packages/sklearn/utils/validation.py:1183: DataConversionWarning: A column-vector y was passed when a 1d array was expected. Please change the shape of y to (n_samples, ), for example using ravel().\n  y = column_or_1d(y, warn=True)\n",
          "output_type": "stream"
        },
        {
          "name": "stdout",
          "text": "[CV 3/5] END ...C=3000, gamma=auto, kernel=poly;, score=0.964 total time=   0.0s\n",
          "output_type": "stream"
        },
        {
          "name": "stderr",
          "text": "/lib/python3.11/site-packages/sklearn/utils/validation.py:1183: DataConversionWarning: A column-vector y was passed when a 1d array was expected. Please change the shape of y to (n_samples, ), for example using ravel().\n  y = column_or_1d(y, warn=True)\n",
          "output_type": "stream"
        },
        {
          "name": "stdout",
          "text": "[CV 4/5] END ...C=3000, gamma=auto, kernel=poly;, score=1.000 total time=   0.0s\n",
          "output_type": "stream"
        },
        {
          "name": "stderr",
          "text": "/lib/python3.11/site-packages/sklearn/utils/validation.py:1183: DataConversionWarning: A column-vector y was passed when a 1d array was expected. Please change the shape of y to (n_samples, ), for example using ravel().\n  y = column_or_1d(y, warn=True)\n",
          "output_type": "stream"
        },
        {
          "name": "stdout",
          "text": "[CV 5/5] END ...C=3000, gamma=auto, kernel=poly;, score=0.982 total time=   0.0s\n",
          "output_type": "stream"
        },
        {
          "name": "stderr",
          "text": "/lib/python3.11/site-packages/sklearn/utils/validation.py:1183: DataConversionWarning: A column-vector y was passed when a 1d array was expected. Please change the shape of y to (n_samples, ), for example using ravel().\n  y = column_or_1d(y, warn=True)\n",
          "output_type": "stream"
        },
        {
          "name": "stdout",
          "text": "[CV 1/5] END C=3000, gamma=auto, kernel=sigmoid;, score=0.982 total time=   0.0s\n",
          "output_type": "stream"
        },
        {
          "name": "stderr",
          "text": "/lib/python3.11/site-packages/sklearn/utils/validation.py:1183: DataConversionWarning: A column-vector y was passed when a 1d array was expected. Please change the shape of y to (n_samples, ), for example using ravel().\n  y = column_or_1d(y, warn=True)\n",
          "output_type": "stream"
        },
        {
          "name": "stdout",
          "text": "[CV 2/5] END C=3000, gamma=auto, kernel=sigmoid;, score=0.947 total time=   0.0s\n",
          "output_type": "stream"
        },
        {
          "name": "stderr",
          "text": "/lib/python3.11/site-packages/sklearn/utils/validation.py:1183: DataConversionWarning: A column-vector y was passed when a 1d array was expected. Please change the shape of y to (n_samples, ), for example using ravel().\n  y = column_or_1d(y, warn=True)\n",
          "output_type": "stream"
        },
        {
          "name": "stdout",
          "text": "[CV 3/5] END C=3000, gamma=auto, kernel=sigmoid;, score=0.982 total time=   0.0s\n",
          "output_type": "stream"
        },
        {
          "name": "stderr",
          "text": "/lib/python3.11/site-packages/sklearn/utils/validation.py:1183: DataConversionWarning: A column-vector y was passed when a 1d array was expected. Please change the shape of y to (n_samples, ), for example using ravel().\n  y = column_or_1d(y, warn=True)\n",
          "output_type": "stream"
        },
        {
          "name": "stdout",
          "text": "[CV 4/5] END C=3000, gamma=auto, kernel=sigmoid;, score=0.982 total time=   0.0s\n",
          "output_type": "stream"
        },
        {
          "name": "stderr",
          "text": "/lib/python3.11/site-packages/sklearn/utils/validation.py:1183: DataConversionWarning: A column-vector y was passed when a 1d array was expected. Please change the shape of y to (n_samples, ), for example using ravel().\n  y = column_or_1d(y, warn=True)\n",
          "output_type": "stream"
        },
        {
          "name": "stdout",
          "text": "[CV 5/5] END C=3000, gamma=auto, kernel=sigmoid;, score=0.982 total time=   0.0s\n",
          "output_type": "stream"
        },
        {
          "name": "stderr",
          "text": "/lib/python3.11/site-packages/sklearn/utils/validation.py:1183: DataConversionWarning: A column-vector y was passed when a 1d array was expected. Please change the shape of y to (n_samples, ), for example using ravel().\n  y = column_or_1d(y, warn=True)\n",
          "output_type": "stream"
        },
        {
          "name": "stdout",
          "text": "[CV 1/5] END .C=3000, gamma=auto, kernel=linear;, score=0.982 total time=   0.0s\n",
          "output_type": "stream"
        },
        {
          "name": "stderr",
          "text": "/lib/python3.11/site-packages/sklearn/utils/validation.py:1183: DataConversionWarning: A column-vector y was passed when a 1d array was expected. Please change the shape of y to (n_samples, ), for example using ravel().\n  y = column_or_1d(y, warn=True)\n",
          "output_type": "stream"
        },
        {
          "name": "stdout",
          "text": "[CV 2/5] END .C=3000, gamma=auto, kernel=linear;, score=0.982 total time=   0.0s\n",
          "output_type": "stream"
        },
        {
          "name": "stderr",
          "text": "/lib/python3.11/site-packages/sklearn/utils/validation.py:1183: DataConversionWarning: A column-vector y was passed when a 1d array was expected. Please change the shape of y to (n_samples, ), for example using ravel().\n  y = column_or_1d(y, warn=True)\n",
          "output_type": "stream"
        },
        {
          "name": "stdout",
          "text": "[CV 3/5] END .C=3000, gamma=auto, kernel=linear;, score=0.982 total time=   0.0s\n",
          "output_type": "stream"
        },
        {
          "name": "stderr",
          "text": "/lib/python3.11/site-packages/sklearn/utils/validation.py:1183: DataConversionWarning: A column-vector y was passed when a 1d array was expected. Please change the shape of y to (n_samples, ), for example using ravel().\n  y = column_or_1d(y, warn=True)\n",
          "output_type": "stream"
        },
        {
          "name": "stdout",
          "text": "[CV 4/5] END .C=3000, gamma=auto, kernel=linear;, score=0.982 total time=   0.0s\n",
          "output_type": "stream"
        },
        {
          "name": "stderr",
          "text": "/lib/python3.11/site-packages/sklearn/utils/validation.py:1183: DataConversionWarning: A column-vector y was passed when a 1d array was expected. Please change the shape of y to (n_samples, ), for example using ravel().\n  y = column_or_1d(y, warn=True)\n",
          "output_type": "stream"
        },
        {
          "name": "stdout",
          "text": "[CV 5/5] END .C=3000, gamma=auto, kernel=linear;, score=0.982 total time=   0.0s\n",
          "output_type": "stream"
        },
        {
          "name": "stderr",
          "text": "/lib/python3.11/site-packages/sklearn/utils/validation.py:1183: DataConversionWarning: A column-vector y was passed when a 1d array was expected. Please change the shape of y to (n_samples, ), for example using ravel().\n  y = column_or_1d(y, warn=True)\n",
          "output_type": "stream"
        },
        {
          "name": "stdout",
          "text": "[CV 1/5] END ...C=3000, gamma=scale, kernel=rbf;, score=0.982 total time=   0.0s\n",
          "output_type": "stream"
        },
        {
          "name": "stderr",
          "text": "/lib/python3.11/site-packages/sklearn/utils/validation.py:1183: DataConversionWarning: A column-vector y was passed when a 1d array was expected. Please change the shape of y to (n_samples, ), for example using ravel().\n  y = column_or_1d(y, warn=True)\n",
          "output_type": "stream"
        },
        {
          "name": "stdout",
          "text": "[CV 2/5] END ...C=3000, gamma=scale, kernel=rbf;, score=1.000 total time=   0.0s\n",
          "output_type": "stream"
        },
        {
          "name": "stderr",
          "text": "/lib/python3.11/site-packages/sklearn/utils/validation.py:1183: DataConversionWarning: A column-vector y was passed when a 1d array was expected. Please change the shape of y to (n_samples, ), for example using ravel().\n  y = column_or_1d(y, warn=True)\n",
          "output_type": "stream"
        },
        {
          "name": "stdout",
          "text": "[CV 3/5] END ...C=3000, gamma=scale, kernel=rbf;, score=0.982 total time=   0.0s\n",
          "output_type": "stream"
        },
        {
          "name": "stderr",
          "text": "/lib/python3.11/site-packages/sklearn/utils/validation.py:1183: DataConversionWarning: A column-vector y was passed when a 1d array was expected. Please change the shape of y to (n_samples, ), for example using ravel().\n  y = column_or_1d(y, warn=True)\n",
          "output_type": "stream"
        },
        {
          "name": "stdout",
          "text": "[CV 4/5] END ...C=3000, gamma=scale, kernel=rbf;, score=0.982 total time=   0.0s\n",
          "output_type": "stream"
        },
        {
          "name": "stderr",
          "text": "/lib/python3.11/site-packages/sklearn/utils/validation.py:1183: DataConversionWarning: A column-vector y was passed when a 1d array was expected. Please change the shape of y to (n_samples, ), for example using ravel().\n  y = column_or_1d(y, warn=True)\n",
          "output_type": "stream"
        },
        {
          "name": "stdout",
          "text": "[CV 5/5] END ...C=3000, gamma=scale, kernel=rbf;, score=1.000 total time=   0.0s\n",
          "output_type": "stream"
        },
        {
          "name": "stderr",
          "text": "/lib/python3.11/site-packages/sklearn/utils/validation.py:1183: DataConversionWarning: A column-vector y was passed when a 1d array was expected. Please change the shape of y to (n_samples, ), for example using ravel().\n  y = column_or_1d(y, warn=True)\n",
          "output_type": "stream"
        },
        {
          "name": "stdout",
          "text": "[CV 1/5] END ..C=3000, gamma=scale, kernel=poly;, score=0.965 total time=   0.0s\n",
          "output_type": "stream"
        },
        {
          "name": "stderr",
          "text": "/lib/python3.11/site-packages/sklearn/utils/validation.py:1183: DataConversionWarning: A column-vector y was passed when a 1d array was expected. Please change the shape of y to (n_samples, ), for example using ravel().\n  y = column_or_1d(y, warn=True)\n",
          "output_type": "stream"
        },
        {
          "name": "stdout",
          "text": "[CV 2/5] END ..C=3000, gamma=scale, kernel=poly;, score=1.000 total time=   0.0s\n",
          "output_type": "stream"
        },
        {
          "name": "stderr",
          "text": "/lib/python3.11/site-packages/sklearn/utils/validation.py:1183: DataConversionWarning: A column-vector y was passed when a 1d array was expected. Please change the shape of y to (n_samples, ), for example using ravel().\n  y = column_or_1d(y, warn=True)\n",
          "output_type": "stream"
        },
        {
          "name": "stdout",
          "text": "[CV 3/5] END ..C=3000, gamma=scale, kernel=poly;, score=0.964 total time=   0.0s\n",
          "output_type": "stream"
        },
        {
          "name": "stderr",
          "text": "/lib/python3.11/site-packages/sklearn/utils/validation.py:1183: DataConversionWarning: A column-vector y was passed when a 1d array was expected. Please change the shape of y to (n_samples, ), for example using ravel().\n  y = column_or_1d(y, warn=True)\n",
          "output_type": "stream"
        },
        {
          "name": "stdout",
          "text": "[CV 4/5] END ..C=3000, gamma=scale, kernel=poly;, score=1.000 total time=   0.0s\n",
          "output_type": "stream"
        },
        {
          "name": "stderr",
          "text": "/lib/python3.11/site-packages/sklearn/utils/validation.py:1183: DataConversionWarning: A column-vector y was passed when a 1d array was expected. Please change the shape of y to (n_samples, ), for example using ravel().\n  y = column_or_1d(y, warn=True)\n",
          "output_type": "stream"
        },
        {
          "name": "stdout",
          "text": "[CV 5/5] END ..C=3000, gamma=scale, kernel=poly;, score=0.982 total time=   0.0s\n",
          "output_type": "stream"
        },
        {
          "name": "stderr",
          "text": "/lib/python3.11/site-packages/sklearn/utils/validation.py:1183: DataConversionWarning: A column-vector y was passed when a 1d array was expected. Please change the shape of y to (n_samples, ), for example using ravel().\n  y = column_or_1d(y, warn=True)\n",
          "output_type": "stream"
        },
        {
          "name": "stdout",
          "text": "[CV 1/5] END C=3000, gamma=scale, kernel=sigmoid;, score=0.982 total time=   0.0s\n",
          "output_type": "stream"
        },
        {
          "name": "stderr",
          "text": "/lib/python3.11/site-packages/sklearn/utils/validation.py:1183: DataConversionWarning: A column-vector y was passed when a 1d array was expected. Please change the shape of y to (n_samples, ), for example using ravel().\n  y = column_or_1d(y, warn=True)\n",
          "output_type": "stream"
        },
        {
          "name": "stdout",
          "text": "[CV 2/5] END C=3000, gamma=scale, kernel=sigmoid;, score=0.947 total time=   0.0s\n",
          "output_type": "stream"
        },
        {
          "name": "stderr",
          "text": "/lib/python3.11/site-packages/sklearn/utils/validation.py:1183: DataConversionWarning: A column-vector y was passed when a 1d array was expected. Please change the shape of y to (n_samples, ), for example using ravel().\n  y = column_or_1d(y, warn=True)\n",
          "output_type": "stream"
        },
        {
          "name": "stdout",
          "text": "[CV 3/5] END C=3000, gamma=scale, kernel=sigmoid;, score=0.982 total time=   0.0s\n",
          "output_type": "stream"
        },
        {
          "name": "stderr",
          "text": "/lib/python3.11/site-packages/sklearn/utils/validation.py:1183: DataConversionWarning: A column-vector y was passed when a 1d array was expected. Please change the shape of y to (n_samples, ), for example using ravel().\n  y = column_or_1d(y, warn=True)\n",
          "output_type": "stream"
        },
        {
          "name": "stdout",
          "text": "[CV 4/5] END C=3000, gamma=scale, kernel=sigmoid;, score=0.982 total time=   0.0s\n",
          "output_type": "stream"
        },
        {
          "name": "stderr",
          "text": "/lib/python3.11/site-packages/sklearn/utils/validation.py:1183: DataConversionWarning: A column-vector y was passed when a 1d array was expected. Please change the shape of y to (n_samples, ), for example using ravel().\n  y = column_or_1d(y, warn=True)\n",
          "output_type": "stream"
        },
        {
          "name": "stdout",
          "text": "[CV 5/5] END C=3000, gamma=scale, kernel=sigmoid;, score=0.982 total time=   0.0s\n",
          "output_type": "stream"
        },
        {
          "name": "stderr",
          "text": "/lib/python3.11/site-packages/sklearn/utils/validation.py:1183: DataConversionWarning: A column-vector y was passed when a 1d array was expected. Please change the shape of y to (n_samples, ), for example using ravel().\n  y = column_or_1d(y, warn=True)\n",
          "output_type": "stream"
        },
        {
          "name": "stdout",
          "text": "[CV 1/5] END C=3000, gamma=scale, kernel=linear;, score=0.982 total time=   0.0s\n",
          "output_type": "stream"
        },
        {
          "name": "stderr",
          "text": "/lib/python3.11/site-packages/sklearn/utils/validation.py:1183: DataConversionWarning: A column-vector y was passed when a 1d array was expected. Please change the shape of y to (n_samples, ), for example using ravel().\n  y = column_or_1d(y, warn=True)\n",
          "output_type": "stream"
        },
        {
          "name": "stdout",
          "text": "[CV 2/5] END C=3000, gamma=scale, kernel=linear;, score=0.982 total time=   0.0s\n",
          "output_type": "stream"
        },
        {
          "name": "stderr",
          "text": "/lib/python3.11/site-packages/sklearn/utils/validation.py:1183: DataConversionWarning: A column-vector y was passed when a 1d array was expected. Please change the shape of y to (n_samples, ), for example using ravel().\n  y = column_or_1d(y, warn=True)\n",
          "output_type": "stream"
        },
        {
          "name": "stdout",
          "text": "[CV 3/5] END C=3000, gamma=scale, kernel=linear;, score=0.982 total time=   0.0s\n",
          "output_type": "stream"
        },
        {
          "name": "stderr",
          "text": "/lib/python3.11/site-packages/sklearn/utils/validation.py:1183: DataConversionWarning: A column-vector y was passed when a 1d array was expected. Please change the shape of y to (n_samples, ), for example using ravel().\n  y = column_or_1d(y, warn=True)\n",
          "output_type": "stream"
        },
        {
          "name": "stdout",
          "text": "[CV 4/5] END C=3000, gamma=scale, kernel=linear;, score=0.982 total time=   0.0s\n",
          "output_type": "stream"
        },
        {
          "name": "stderr",
          "text": "/lib/python3.11/site-packages/sklearn/utils/validation.py:1183: DataConversionWarning: A column-vector y was passed when a 1d array was expected. Please change the shape of y to (n_samples, ), for example using ravel().\n  y = column_or_1d(y, warn=True)\n",
          "output_type": "stream"
        },
        {
          "name": "stdout",
          "text": "[CV 5/5] END C=3000, gamma=scale, kernel=linear;, score=0.982 total time=   0.0s\n",
          "output_type": "stream"
        },
        {
          "name": "stderr",
          "text": "/lib/python3.11/site-packages/sklearn/utils/validation.py:1183: DataConversionWarning: A column-vector y was passed when a 1d array was expected. Please change the shape of y to (n_samples, ), for example using ravel().\n  y = column_or_1d(y, warn=True)\n",
          "output_type": "stream"
        },
        {
          "execution_count": 29,
          "output_type": "execute_result",
          "data": {
            "text/plain": "GridSearchCV(cv=5, estimator=SVC(probability=True), n_jobs=-1,\n             param_grid={'C': [10, 100, 1000, 2000, 3000],\n                         'gamma': ['auto', 'scale'],\n                         'kernel': ['rbf', 'poly', 'sigmoid', 'linear']},\n             scoring='f1_weighted', verbose=3)",
            "text/html": "<style>#sk-container-id-2 {color: black;}#sk-container-id-2 pre{padding: 0;}#sk-container-id-2 div.sk-toggleable {background-color: white;}#sk-container-id-2 label.sk-toggleable__label {cursor: pointer;display: block;width: 100%;margin-bottom: 0;padding: 0.3em;box-sizing: border-box;text-align: center;}#sk-container-id-2 label.sk-toggleable__label-arrow:before {content: \"▸\";float: left;margin-right: 0.25em;color: #696969;}#sk-container-id-2 label.sk-toggleable__label-arrow:hover:before {color: black;}#sk-container-id-2 div.sk-estimator:hover label.sk-toggleable__label-arrow:before {color: black;}#sk-container-id-2 div.sk-toggleable__content {max-height: 0;max-width: 0;overflow: hidden;text-align: left;background-color: #f0f8ff;}#sk-container-id-2 div.sk-toggleable__content pre {margin: 0.2em;color: black;border-radius: 0.25em;background-color: #f0f8ff;}#sk-container-id-2 input.sk-toggleable__control:checked~div.sk-toggleable__content {max-height: 200px;max-width: 100%;overflow: auto;}#sk-container-id-2 input.sk-toggleable__control:checked~label.sk-toggleable__label-arrow:before {content: \"▾\";}#sk-container-id-2 div.sk-estimator input.sk-toggleable__control:checked~label.sk-toggleable__label {background-color: #d4ebff;}#sk-container-id-2 div.sk-label input.sk-toggleable__control:checked~label.sk-toggleable__label {background-color: #d4ebff;}#sk-container-id-2 input.sk-hidden--visually {border: 0;clip: rect(1px 1px 1px 1px);clip: rect(1px, 1px, 1px, 1px);height: 1px;margin: -1px;overflow: hidden;padding: 0;position: absolute;width: 1px;}#sk-container-id-2 div.sk-estimator {font-family: monospace;background-color: #f0f8ff;border: 1px dotted black;border-radius: 0.25em;box-sizing: border-box;margin-bottom: 0.5em;}#sk-container-id-2 div.sk-estimator:hover {background-color: #d4ebff;}#sk-container-id-2 div.sk-parallel-item::after {content: \"\";width: 100%;border-bottom: 1px solid gray;flex-grow: 1;}#sk-container-id-2 div.sk-label:hover label.sk-toggleable__label {background-color: #d4ebff;}#sk-container-id-2 div.sk-serial::before {content: \"\";position: absolute;border-left: 1px solid gray;box-sizing: border-box;top: 0;bottom: 0;left: 50%;z-index: 0;}#sk-container-id-2 div.sk-serial {display: flex;flex-direction: column;align-items: center;background-color: white;padding-right: 0.2em;padding-left: 0.2em;position: relative;}#sk-container-id-2 div.sk-item {position: relative;z-index: 1;}#sk-container-id-2 div.sk-parallel {display: flex;align-items: stretch;justify-content: center;background-color: white;position: relative;}#sk-container-id-2 div.sk-item::before, #sk-container-id-2 div.sk-parallel-item::before {content: \"\";position: absolute;border-left: 1px solid gray;box-sizing: border-box;top: 0;bottom: 0;left: 50%;z-index: -1;}#sk-container-id-2 div.sk-parallel-item {display: flex;flex-direction: column;z-index: 1;position: relative;background-color: white;}#sk-container-id-2 div.sk-parallel-item:first-child::after {align-self: flex-end;width: 50%;}#sk-container-id-2 div.sk-parallel-item:last-child::after {align-self: flex-start;width: 50%;}#sk-container-id-2 div.sk-parallel-item:only-child::after {width: 0;}#sk-container-id-2 div.sk-dashed-wrapped {border: 1px dashed gray;margin: 0 0.4em 0.5em 0.4em;box-sizing: border-box;padding-bottom: 0.4em;background-color: white;}#sk-container-id-2 div.sk-label label {font-family: monospace;font-weight: bold;display: inline-block;line-height: 1.2em;}#sk-container-id-2 div.sk-label-container {text-align: center;}#sk-container-id-2 div.sk-container {/* jupyter's `normalize.less` sets `[hidden] { display: none; }` but bootstrap.min.css set `[hidden] { display: none !important; }` so we also need the `!important` here to be able to override the default hidden behavior on the sphinx rendered scikit-learn.org. See: https://github.com/scikit-learn/scikit-learn/issues/21755 */display: inline-block !important;position: relative;}#sk-container-id-2 div.sk-text-repr-fallback {display: none;}</style><div id=\"sk-container-id-2\" class=\"sk-top-container\"><div class=\"sk-text-repr-fallback\"><pre>GridSearchCV(cv=5, estimator=SVC(probability=True), n_jobs=-1,\n             param_grid={&#x27;C&#x27;: [10, 100, 1000, 2000, 3000],\n                         &#x27;gamma&#x27;: [&#x27;auto&#x27;, &#x27;scale&#x27;],\n                         &#x27;kernel&#x27;: [&#x27;rbf&#x27;, &#x27;poly&#x27;, &#x27;sigmoid&#x27;, &#x27;linear&#x27;]},\n             scoring=&#x27;f1_weighted&#x27;, verbose=3)</pre><b>In a Jupyter environment, please rerun this cell to show the HTML representation or trust the notebook. <br />On GitHub, the HTML representation is unable to render, please try loading this page with nbviewer.org.</b></div><div class=\"sk-container\" hidden><div class=\"sk-item sk-dashed-wrapped\"><div class=\"sk-label-container\"><div class=\"sk-label sk-toggleable\"><input class=\"sk-toggleable__control sk-hidden--visually\" id=\"sk-estimator-id-4\" type=\"checkbox\" ><label for=\"sk-estimator-id-4\" class=\"sk-toggleable__label sk-toggleable__label-arrow\">GridSearchCV</label><div class=\"sk-toggleable__content\"><pre>GridSearchCV(cv=5, estimator=SVC(probability=True), n_jobs=-1,\n             param_grid={&#x27;C&#x27;: [10, 100, 1000, 2000, 3000],\n                         &#x27;gamma&#x27;: [&#x27;auto&#x27;, &#x27;scale&#x27;],\n                         &#x27;kernel&#x27;: [&#x27;rbf&#x27;, &#x27;poly&#x27;, &#x27;sigmoid&#x27;, &#x27;linear&#x27;]},\n             scoring=&#x27;f1_weighted&#x27;, verbose=3)</pre></div></div></div><div class=\"sk-parallel\"><div class=\"sk-parallel-item\"><div class=\"sk-item\"><div class=\"sk-label-container\"><div class=\"sk-label sk-toggleable\"><input class=\"sk-toggleable__control sk-hidden--visually\" id=\"sk-estimator-id-5\" type=\"checkbox\" ><label for=\"sk-estimator-id-5\" class=\"sk-toggleable__label sk-toggleable__label-arrow\">estimator: SVC</label><div class=\"sk-toggleable__content\"><pre>SVC(probability=True)</pre></div></div></div><div class=\"sk-serial\"><div class=\"sk-item\"><div class=\"sk-estimator sk-toggleable\"><input class=\"sk-toggleable__control sk-hidden--visually\" id=\"sk-estimator-id-6\" type=\"checkbox\" ><label for=\"sk-estimator-id-6\" class=\"sk-toggleable__label sk-toggleable__label-arrow\">SVC</label><div class=\"sk-toggleable__content\"><pre>SVC(probability=True)</pre></div></div></div></div></div></div></div></div></div></div>"
          },
          "metadata": {}
        }
      ],
      "execution_count": 29
    },
    {
      "cell_type": "code",
      "source": "re = grid.cv_results_\n\ntable = pd.DataFrame.from_dict(re)\ntable",
      "metadata": {
        "trusted": true
      },
      "outputs": [
        {
          "execution_count": 30,
          "output_type": "execute_result",
          "data": {
            "text/plain": "    mean_fit_time  std_fit_time  mean_score_time  std_score_time param_C  \\\n0          0.0080      0.000632           0.0144        0.001020      10   \n1          0.0160      0.001095           0.0134        0.000490      10   \n2          0.0092      0.000748           0.0142        0.001470      10   \n3          0.0074      0.000490           0.0134        0.000490      10   \n4          0.0132      0.009432           0.0148        0.001939      10   \n5          0.0154      0.001020           0.0128        0.001166      10   \n6          0.0088      0.000400           0.0122        0.000748      10   \n7          0.0068      0.000748           0.0112        0.000400      10   \n8          0.0070      0.000894           0.0126        0.000490     100   \n9          0.0140      0.000632           0.0122        0.000748     100   \n10         0.0088      0.001470           0.0136        0.000490     100   \n11         0.0068      0.000400           0.0124        0.001356     100   \n12         0.0128      0.011161           0.0124        0.000490     100   \n13         0.0150      0.001096           0.0128        0.000980     100   \n14         0.0080      0.000632           0.0126        0.000490     100   \n15         0.0074      0.000490           0.0126        0.000490     100   \n16         0.0078      0.000400           0.0126        0.001200    1000   \n17         0.0138      0.001166           0.0132        0.000980    1000   \n18         0.0088      0.002227           0.0160        0.003406    1000   \n19         0.0074      0.000490           0.0134        0.000490    1000   \n20         0.0076      0.000800           0.0118        0.000748    1000   \n21         0.0146      0.001625           0.0144        0.001855    1000   \n22         0.0084      0.000490           0.0156        0.002245    1000   \n23         0.0090      0.001265           0.0162        0.005913    1000   \n24         0.0072      0.000748           0.0120        0.000632    2000   \n25         0.0150      0.000632           0.0134        0.000490    2000   \n26         0.0078      0.000748           0.0126        0.001744    2000   \n27         0.0068      0.000748           0.0118        0.000748    2000   \n28         0.0078      0.000748           0.0134        0.000490    2000   \n29         0.0154      0.001200           0.0144        0.001200    2000   \n30         0.0088      0.001166           0.0122        0.000400    2000   \n31         0.0078      0.000980           0.0128        0.000748    2000   \n32         0.0070      0.000632           0.0126        0.000490    3000   \n33         0.0148      0.000748           0.0136        0.000800    3000   \n34         0.0140      0.011009           0.0128        0.000400    3000   \n35         0.0076      0.000490           0.0132        0.000748    3000   \n36         0.0074      0.000800           0.0122        0.000400    3000   \n37         0.0144      0.000800           0.0142        0.001470    3000   \n38         0.0090      0.001673           0.0146        0.002800    3000   \n39         0.0078      0.000748           0.0142        0.002482    3000   \n\n   param_gamma param_kernel  \\\n0         auto          rbf   \n1         auto         poly   \n2         auto      sigmoid   \n3         auto       linear   \n4        scale          rbf   \n5        scale         poly   \n6        scale      sigmoid   \n7        scale       linear   \n8         auto          rbf   \n9         auto         poly   \n10        auto      sigmoid   \n11        auto       linear   \n12       scale          rbf   \n13       scale         poly   \n14       scale      sigmoid   \n15       scale       linear   \n16        auto          rbf   \n17        auto         poly   \n18        auto      sigmoid   \n19        auto       linear   \n20       scale          rbf   \n21       scale         poly   \n22       scale      sigmoid   \n23       scale       linear   \n24        auto          rbf   \n25        auto         poly   \n26        auto      sigmoid   \n27        auto       linear   \n28       scale          rbf   \n29       scale         poly   \n30       scale      sigmoid   \n31       scale       linear   \n32        auto          rbf   \n33        auto         poly   \n34        auto      sigmoid   \n35        auto       linear   \n36       scale          rbf   \n37       scale         poly   \n38       scale      sigmoid   \n39       scale       linear   \n\n                                               params  split0_test_score  \\\n0         {'C': 10, 'gamma': 'auto', 'kernel': 'rbf'}           0.982221   \n1        {'C': 10, 'gamma': 'auto', 'kernel': 'poly'}           1.000000   \n2     {'C': 10, 'gamma': 'auto', 'kernel': 'sigmoid'}           0.982221   \n3      {'C': 10, 'gamma': 'auto', 'kernel': 'linear'}           0.982221   \n4        {'C': 10, 'gamma': 'scale', 'kernel': 'rbf'}           0.982221   \n5       {'C': 10, 'gamma': 'scale', 'kernel': 'poly'}           1.000000   \n6    {'C': 10, 'gamma': 'scale', 'kernel': 'sigmoid'}           0.982221   \n7     {'C': 10, 'gamma': 'scale', 'kernel': 'linear'}           0.982221   \n8        {'C': 100, 'gamma': 'auto', 'kernel': 'rbf'}           0.982221   \n9       {'C': 100, 'gamma': 'auto', 'kernel': 'poly'}           0.964572   \n10   {'C': 100, 'gamma': 'auto', 'kernel': 'sigmoid'}           0.982221   \n11    {'C': 100, 'gamma': 'auto', 'kernel': 'linear'}           0.982221   \n12      {'C': 100, 'gamma': 'scale', 'kernel': 'rbf'}           0.982221   \n13     {'C': 100, 'gamma': 'scale', 'kernel': 'poly'}           0.964572   \n14  {'C': 100, 'gamma': 'scale', 'kernel': 'sigmoid'}           0.982221   \n15   {'C': 100, 'gamma': 'scale', 'kernel': 'linear'}           0.982221   \n16      {'C': 1000, 'gamma': 'auto', 'kernel': 'rbf'}           0.982221   \n17     {'C': 1000, 'gamma': 'auto', 'kernel': 'poly'}           0.964572   \n18  {'C': 1000, 'gamma': 'auto', 'kernel': 'sigmoid'}           0.982221   \n19   {'C': 1000, 'gamma': 'auto', 'kernel': 'linear'}           0.982221   \n20     {'C': 1000, 'gamma': 'scale', 'kernel': 'rbf'}           0.982221   \n21    {'C': 1000, 'gamma': 'scale', 'kernel': 'poly'}           0.964572   \n22  {'C': 1000, 'gamma': 'scale', 'kernel': 'sigmo...           0.982221   \n23  {'C': 1000, 'gamma': 'scale', 'kernel': 'linear'}           0.982221   \n24      {'C': 2000, 'gamma': 'auto', 'kernel': 'rbf'}           0.982221   \n25     {'C': 2000, 'gamma': 'auto', 'kernel': 'poly'}           0.964572   \n26  {'C': 2000, 'gamma': 'auto', 'kernel': 'sigmoid'}           0.982221   \n27   {'C': 2000, 'gamma': 'auto', 'kernel': 'linear'}           0.982221   \n28     {'C': 2000, 'gamma': 'scale', 'kernel': 'rbf'}           0.982221   \n29    {'C': 2000, 'gamma': 'scale', 'kernel': 'poly'}           0.964572   \n30  {'C': 2000, 'gamma': 'scale', 'kernel': 'sigmo...           0.982221   \n31  {'C': 2000, 'gamma': 'scale', 'kernel': 'linear'}           0.982221   \n32      {'C': 3000, 'gamma': 'auto', 'kernel': 'rbf'}           0.982221   \n33     {'C': 3000, 'gamma': 'auto', 'kernel': 'poly'}           0.964572   \n34  {'C': 3000, 'gamma': 'auto', 'kernel': 'sigmoid'}           0.982221   \n35   {'C': 3000, 'gamma': 'auto', 'kernel': 'linear'}           0.982221   \n36     {'C': 3000, 'gamma': 'scale', 'kernel': 'rbf'}           0.982221   \n37    {'C': 3000, 'gamma': 'scale', 'kernel': 'poly'}           0.964572   \n38  {'C': 3000, 'gamma': 'scale', 'kernel': 'sigmo...           0.982221   \n39  {'C': 3000, 'gamma': 'scale', 'kernel': 'linear'}           0.982221   \n\n    split1_test_score  split2_test_score  split3_test_score  \\\n0            1.000000           0.982051           1.000000   \n1            1.000000           0.964286           1.000000   \n2            1.000000           0.982221           1.000000   \n3            0.982221           0.982221           0.982051   \n4            1.000000           0.982051           1.000000   \n5            1.000000           0.964286           1.000000   \n6            1.000000           0.982221           1.000000   \n7            0.982221           0.982221           0.982051   \n8            1.000000           0.982051           0.982051   \n9            1.000000           0.982051           1.000000   \n10           0.982051           0.982221           0.982051   \n11           0.982221           0.982221           0.982051   \n12           1.000000           0.982051           0.982051   \n13           1.000000           0.982051           1.000000   \n14           0.982051           0.982221           0.982051   \n15           0.982221           0.982221           0.982051   \n16           1.000000           0.982051           0.982051   \n17           1.000000           0.964286           1.000000   \n18           0.946663           0.982221           0.982051   \n19           0.982221           0.982221           0.982051   \n20           1.000000           0.982051           0.982051   \n21           1.000000           0.964286           1.000000   \n22           0.946663           0.982221           0.982051   \n23           0.982221           0.982221           0.982051   \n24           1.000000           0.982051           0.982051   \n25           1.000000           0.964286           1.000000   \n26           0.946663           0.982221           0.982051   \n27           0.982221           0.982221           0.982051   \n28           1.000000           0.982051           0.982051   \n29           1.000000           0.964286           1.000000   \n30           0.946663           0.982221           0.982051   \n31           0.982221           0.982221           0.982051   \n32           1.000000           0.982051           0.982051   \n33           1.000000           0.964286           1.000000   \n34           0.946663           0.982221           0.982051   \n35           0.982221           0.982221           0.982051   \n36           1.000000           0.982051           0.982051   \n37           1.000000           0.964286           1.000000   \n38           0.946663           0.982221           0.982051   \n39           0.982221           0.982221           0.982051   \n\n    split4_test_score  mean_test_score  std_test_score  rank_test_score  \n0            1.000000         0.992854        0.008752                3  \n1            0.981894         0.989236        0.014311               13  \n2            1.000000         0.992888        0.008710                1  \n3            0.981894         0.982122        0.000132               25  \n4            1.000000         0.992854        0.008752                3  \n5            0.981894         0.989236        0.014311               13  \n6            1.000000         0.992888        0.008710                1  \n7            0.981894         0.982122        0.000132               25  \n8            1.000000         0.989265        0.008766                5  \n9            0.981894         0.985703        0.013290               17  \n10           1.000000         0.985709        0.007146               15  \n11           0.981894         0.982122        0.000132               25  \n12           1.000000         0.989265        0.008766                5  \n13           0.981894         0.985703        0.013290               17  \n14           1.000000         0.985709        0.007146               15  \n15           0.981894         0.982122        0.000132               25  \n16           1.000000         0.989265        0.008766                5  \n17           0.981894         0.982150        0.015909               19  \n18           0.981894         0.975010        0.014174               35  \n19           0.981894         0.982122        0.000132               25  \n20           1.000000         0.989265        0.008766                5  \n21           0.981894         0.982150        0.015909               19  \n22           0.981894         0.975010        0.014174               35  \n23           0.981894         0.982122        0.000132               25  \n24           1.000000         0.989265        0.008766                5  \n25           0.981894         0.982150        0.015909               19  \n26           0.981894         0.975010        0.014174               35  \n27           0.981894         0.982122        0.000132               25  \n28           1.000000         0.989265        0.008766                5  \n29           0.981894         0.982150        0.015909               19  \n30           0.981894         0.975010        0.014174               35  \n31           0.981894         0.982122        0.000132               25  \n32           1.000000         0.989265        0.008766                5  \n33           0.981894         0.982150        0.015909               19  \n34           0.981894         0.975010        0.014174               35  \n35           0.981894         0.982122        0.000132               25  \n36           1.000000         0.989265        0.008766                5  \n37           0.981894         0.982150        0.015909               19  \n38           0.981894         0.975010        0.014174               35  \n39           0.981894         0.982122        0.000132               25  ",
            "text/html": "<div>\n<style scoped>\n    .dataframe tbody tr th:only-of-type {\n        vertical-align: middle;\n    }\n\n    .dataframe tbody tr th {\n        vertical-align: top;\n    }\n\n    .dataframe thead th {\n        text-align: right;\n    }\n</style>\n<table border=\"1\" class=\"dataframe\">\n  <thead>\n    <tr style=\"text-align: right;\">\n      <th></th>\n      <th>mean_fit_time</th>\n      <th>std_fit_time</th>\n      <th>mean_score_time</th>\n      <th>std_score_time</th>\n      <th>param_C</th>\n      <th>param_gamma</th>\n      <th>param_kernel</th>\n      <th>params</th>\n      <th>split0_test_score</th>\n      <th>split1_test_score</th>\n      <th>split2_test_score</th>\n      <th>split3_test_score</th>\n      <th>split4_test_score</th>\n      <th>mean_test_score</th>\n      <th>std_test_score</th>\n      <th>rank_test_score</th>\n    </tr>\n  </thead>\n  <tbody>\n    <tr>\n      <th>0</th>\n      <td>0.0080</td>\n      <td>0.000632</td>\n      <td>0.0144</td>\n      <td>0.001020</td>\n      <td>10</td>\n      <td>auto</td>\n      <td>rbf</td>\n      <td>{'C': 10, 'gamma': 'auto', 'kernel': 'rbf'}</td>\n      <td>0.982221</td>\n      <td>1.000000</td>\n      <td>0.982051</td>\n      <td>1.000000</td>\n      <td>1.000000</td>\n      <td>0.992854</td>\n      <td>0.008752</td>\n      <td>3</td>\n    </tr>\n    <tr>\n      <th>1</th>\n      <td>0.0160</td>\n      <td>0.001095</td>\n      <td>0.0134</td>\n      <td>0.000490</td>\n      <td>10</td>\n      <td>auto</td>\n      <td>poly</td>\n      <td>{'C': 10, 'gamma': 'auto', 'kernel': 'poly'}</td>\n      <td>1.000000</td>\n      <td>1.000000</td>\n      <td>0.964286</td>\n      <td>1.000000</td>\n      <td>0.981894</td>\n      <td>0.989236</td>\n      <td>0.014311</td>\n      <td>13</td>\n    </tr>\n    <tr>\n      <th>2</th>\n      <td>0.0092</td>\n      <td>0.000748</td>\n      <td>0.0142</td>\n      <td>0.001470</td>\n      <td>10</td>\n      <td>auto</td>\n      <td>sigmoid</td>\n      <td>{'C': 10, 'gamma': 'auto', 'kernel': 'sigmoid'}</td>\n      <td>0.982221</td>\n      <td>1.000000</td>\n      <td>0.982221</td>\n      <td>1.000000</td>\n      <td>1.000000</td>\n      <td>0.992888</td>\n      <td>0.008710</td>\n      <td>1</td>\n    </tr>\n    <tr>\n      <th>3</th>\n      <td>0.0074</td>\n      <td>0.000490</td>\n      <td>0.0134</td>\n      <td>0.000490</td>\n      <td>10</td>\n      <td>auto</td>\n      <td>linear</td>\n      <td>{'C': 10, 'gamma': 'auto', 'kernel': 'linear'}</td>\n      <td>0.982221</td>\n      <td>0.982221</td>\n      <td>0.982221</td>\n      <td>0.982051</td>\n      <td>0.981894</td>\n      <td>0.982122</td>\n      <td>0.000132</td>\n      <td>25</td>\n    </tr>\n    <tr>\n      <th>4</th>\n      <td>0.0132</td>\n      <td>0.009432</td>\n      <td>0.0148</td>\n      <td>0.001939</td>\n      <td>10</td>\n      <td>scale</td>\n      <td>rbf</td>\n      <td>{'C': 10, 'gamma': 'scale', 'kernel': 'rbf'}</td>\n      <td>0.982221</td>\n      <td>1.000000</td>\n      <td>0.982051</td>\n      <td>1.000000</td>\n      <td>1.000000</td>\n      <td>0.992854</td>\n      <td>0.008752</td>\n      <td>3</td>\n    </tr>\n    <tr>\n      <th>5</th>\n      <td>0.0154</td>\n      <td>0.001020</td>\n      <td>0.0128</td>\n      <td>0.001166</td>\n      <td>10</td>\n      <td>scale</td>\n      <td>poly</td>\n      <td>{'C': 10, 'gamma': 'scale', 'kernel': 'poly'}</td>\n      <td>1.000000</td>\n      <td>1.000000</td>\n      <td>0.964286</td>\n      <td>1.000000</td>\n      <td>0.981894</td>\n      <td>0.989236</td>\n      <td>0.014311</td>\n      <td>13</td>\n    </tr>\n    <tr>\n      <th>6</th>\n      <td>0.0088</td>\n      <td>0.000400</td>\n      <td>0.0122</td>\n      <td>0.000748</td>\n      <td>10</td>\n      <td>scale</td>\n      <td>sigmoid</td>\n      <td>{'C': 10, 'gamma': 'scale', 'kernel': 'sigmoid'}</td>\n      <td>0.982221</td>\n      <td>1.000000</td>\n      <td>0.982221</td>\n      <td>1.000000</td>\n      <td>1.000000</td>\n      <td>0.992888</td>\n      <td>0.008710</td>\n      <td>1</td>\n    </tr>\n    <tr>\n      <th>7</th>\n      <td>0.0068</td>\n      <td>0.000748</td>\n      <td>0.0112</td>\n      <td>0.000400</td>\n      <td>10</td>\n      <td>scale</td>\n      <td>linear</td>\n      <td>{'C': 10, 'gamma': 'scale', 'kernel': 'linear'}</td>\n      <td>0.982221</td>\n      <td>0.982221</td>\n      <td>0.982221</td>\n      <td>0.982051</td>\n      <td>0.981894</td>\n      <td>0.982122</td>\n      <td>0.000132</td>\n      <td>25</td>\n    </tr>\n    <tr>\n      <th>8</th>\n      <td>0.0070</td>\n      <td>0.000894</td>\n      <td>0.0126</td>\n      <td>0.000490</td>\n      <td>100</td>\n      <td>auto</td>\n      <td>rbf</td>\n      <td>{'C': 100, 'gamma': 'auto', 'kernel': 'rbf'}</td>\n      <td>0.982221</td>\n      <td>1.000000</td>\n      <td>0.982051</td>\n      <td>0.982051</td>\n      <td>1.000000</td>\n      <td>0.989265</td>\n      <td>0.008766</td>\n      <td>5</td>\n    </tr>\n    <tr>\n      <th>9</th>\n      <td>0.0140</td>\n      <td>0.000632</td>\n      <td>0.0122</td>\n      <td>0.000748</td>\n      <td>100</td>\n      <td>auto</td>\n      <td>poly</td>\n      <td>{'C': 100, 'gamma': 'auto', 'kernel': 'poly'}</td>\n      <td>0.964572</td>\n      <td>1.000000</td>\n      <td>0.982051</td>\n      <td>1.000000</td>\n      <td>0.981894</td>\n      <td>0.985703</td>\n      <td>0.013290</td>\n      <td>17</td>\n    </tr>\n    <tr>\n      <th>10</th>\n      <td>0.0088</td>\n      <td>0.001470</td>\n      <td>0.0136</td>\n      <td>0.000490</td>\n      <td>100</td>\n      <td>auto</td>\n      <td>sigmoid</td>\n      <td>{'C': 100, 'gamma': 'auto', 'kernel': 'sigmoid'}</td>\n      <td>0.982221</td>\n      <td>0.982051</td>\n      <td>0.982221</td>\n      <td>0.982051</td>\n      <td>1.000000</td>\n      <td>0.985709</td>\n      <td>0.007146</td>\n      <td>15</td>\n    </tr>\n    <tr>\n      <th>11</th>\n      <td>0.0068</td>\n      <td>0.000400</td>\n      <td>0.0124</td>\n      <td>0.001356</td>\n      <td>100</td>\n      <td>auto</td>\n      <td>linear</td>\n      <td>{'C': 100, 'gamma': 'auto', 'kernel': 'linear'}</td>\n      <td>0.982221</td>\n      <td>0.982221</td>\n      <td>0.982221</td>\n      <td>0.982051</td>\n      <td>0.981894</td>\n      <td>0.982122</td>\n      <td>0.000132</td>\n      <td>25</td>\n    </tr>\n    <tr>\n      <th>12</th>\n      <td>0.0128</td>\n      <td>0.011161</td>\n      <td>0.0124</td>\n      <td>0.000490</td>\n      <td>100</td>\n      <td>scale</td>\n      <td>rbf</td>\n      <td>{'C': 100, 'gamma': 'scale', 'kernel': 'rbf'}</td>\n      <td>0.982221</td>\n      <td>1.000000</td>\n      <td>0.982051</td>\n      <td>0.982051</td>\n      <td>1.000000</td>\n      <td>0.989265</td>\n      <td>0.008766</td>\n      <td>5</td>\n    </tr>\n    <tr>\n      <th>13</th>\n      <td>0.0150</td>\n      <td>0.001096</td>\n      <td>0.0128</td>\n      <td>0.000980</td>\n      <td>100</td>\n      <td>scale</td>\n      <td>poly</td>\n      <td>{'C': 100, 'gamma': 'scale', 'kernel': 'poly'}</td>\n      <td>0.964572</td>\n      <td>1.000000</td>\n      <td>0.982051</td>\n      <td>1.000000</td>\n      <td>0.981894</td>\n      <td>0.985703</td>\n      <td>0.013290</td>\n      <td>17</td>\n    </tr>\n    <tr>\n      <th>14</th>\n      <td>0.0080</td>\n      <td>0.000632</td>\n      <td>0.0126</td>\n      <td>0.000490</td>\n      <td>100</td>\n      <td>scale</td>\n      <td>sigmoid</td>\n      <td>{'C': 100, 'gamma': 'scale', 'kernel': 'sigmoid'}</td>\n      <td>0.982221</td>\n      <td>0.982051</td>\n      <td>0.982221</td>\n      <td>0.982051</td>\n      <td>1.000000</td>\n      <td>0.985709</td>\n      <td>0.007146</td>\n      <td>15</td>\n    </tr>\n    <tr>\n      <th>15</th>\n      <td>0.0074</td>\n      <td>0.000490</td>\n      <td>0.0126</td>\n      <td>0.000490</td>\n      <td>100</td>\n      <td>scale</td>\n      <td>linear</td>\n      <td>{'C': 100, 'gamma': 'scale', 'kernel': 'linear'}</td>\n      <td>0.982221</td>\n      <td>0.982221</td>\n      <td>0.982221</td>\n      <td>0.982051</td>\n      <td>0.981894</td>\n      <td>0.982122</td>\n      <td>0.000132</td>\n      <td>25</td>\n    </tr>\n    <tr>\n      <th>16</th>\n      <td>0.0078</td>\n      <td>0.000400</td>\n      <td>0.0126</td>\n      <td>0.001200</td>\n      <td>1000</td>\n      <td>auto</td>\n      <td>rbf</td>\n      <td>{'C': 1000, 'gamma': 'auto', 'kernel': 'rbf'}</td>\n      <td>0.982221</td>\n      <td>1.000000</td>\n      <td>0.982051</td>\n      <td>0.982051</td>\n      <td>1.000000</td>\n      <td>0.989265</td>\n      <td>0.008766</td>\n      <td>5</td>\n    </tr>\n    <tr>\n      <th>17</th>\n      <td>0.0138</td>\n      <td>0.001166</td>\n      <td>0.0132</td>\n      <td>0.000980</td>\n      <td>1000</td>\n      <td>auto</td>\n      <td>poly</td>\n      <td>{'C': 1000, 'gamma': 'auto', 'kernel': 'poly'}</td>\n      <td>0.964572</td>\n      <td>1.000000</td>\n      <td>0.964286</td>\n      <td>1.000000</td>\n      <td>0.981894</td>\n      <td>0.982150</td>\n      <td>0.015909</td>\n      <td>19</td>\n    </tr>\n    <tr>\n      <th>18</th>\n      <td>0.0088</td>\n      <td>0.002227</td>\n      <td>0.0160</td>\n      <td>0.003406</td>\n      <td>1000</td>\n      <td>auto</td>\n      <td>sigmoid</td>\n      <td>{'C': 1000, 'gamma': 'auto', 'kernel': 'sigmoid'}</td>\n      <td>0.982221</td>\n      <td>0.946663</td>\n      <td>0.982221</td>\n      <td>0.982051</td>\n      <td>0.981894</td>\n      <td>0.975010</td>\n      <td>0.014174</td>\n      <td>35</td>\n    </tr>\n    <tr>\n      <th>19</th>\n      <td>0.0074</td>\n      <td>0.000490</td>\n      <td>0.0134</td>\n      <td>0.000490</td>\n      <td>1000</td>\n      <td>auto</td>\n      <td>linear</td>\n      <td>{'C': 1000, 'gamma': 'auto', 'kernel': 'linear'}</td>\n      <td>0.982221</td>\n      <td>0.982221</td>\n      <td>0.982221</td>\n      <td>0.982051</td>\n      <td>0.981894</td>\n      <td>0.982122</td>\n      <td>0.000132</td>\n      <td>25</td>\n    </tr>\n    <tr>\n      <th>20</th>\n      <td>0.0076</td>\n      <td>0.000800</td>\n      <td>0.0118</td>\n      <td>0.000748</td>\n      <td>1000</td>\n      <td>scale</td>\n      <td>rbf</td>\n      <td>{'C': 1000, 'gamma': 'scale', 'kernel': 'rbf'}</td>\n      <td>0.982221</td>\n      <td>1.000000</td>\n      <td>0.982051</td>\n      <td>0.982051</td>\n      <td>1.000000</td>\n      <td>0.989265</td>\n      <td>0.008766</td>\n      <td>5</td>\n    </tr>\n    <tr>\n      <th>21</th>\n      <td>0.0146</td>\n      <td>0.001625</td>\n      <td>0.0144</td>\n      <td>0.001855</td>\n      <td>1000</td>\n      <td>scale</td>\n      <td>poly</td>\n      <td>{'C': 1000, 'gamma': 'scale', 'kernel': 'poly'}</td>\n      <td>0.964572</td>\n      <td>1.000000</td>\n      <td>0.964286</td>\n      <td>1.000000</td>\n      <td>0.981894</td>\n      <td>0.982150</td>\n      <td>0.015909</td>\n      <td>19</td>\n    </tr>\n    <tr>\n      <th>22</th>\n      <td>0.0084</td>\n      <td>0.000490</td>\n      <td>0.0156</td>\n      <td>0.002245</td>\n      <td>1000</td>\n      <td>scale</td>\n      <td>sigmoid</td>\n      <td>{'C': 1000, 'gamma': 'scale', 'kernel': 'sigmo...</td>\n      <td>0.982221</td>\n      <td>0.946663</td>\n      <td>0.982221</td>\n      <td>0.982051</td>\n      <td>0.981894</td>\n      <td>0.975010</td>\n      <td>0.014174</td>\n      <td>35</td>\n    </tr>\n    <tr>\n      <th>23</th>\n      <td>0.0090</td>\n      <td>0.001265</td>\n      <td>0.0162</td>\n      <td>0.005913</td>\n      <td>1000</td>\n      <td>scale</td>\n      <td>linear</td>\n      <td>{'C': 1000, 'gamma': 'scale', 'kernel': 'linear'}</td>\n      <td>0.982221</td>\n      <td>0.982221</td>\n      <td>0.982221</td>\n      <td>0.982051</td>\n      <td>0.981894</td>\n      <td>0.982122</td>\n      <td>0.000132</td>\n      <td>25</td>\n    </tr>\n    <tr>\n      <th>24</th>\n      <td>0.0072</td>\n      <td>0.000748</td>\n      <td>0.0120</td>\n      <td>0.000632</td>\n      <td>2000</td>\n      <td>auto</td>\n      <td>rbf</td>\n      <td>{'C': 2000, 'gamma': 'auto', 'kernel': 'rbf'}</td>\n      <td>0.982221</td>\n      <td>1.000000</td>\n      <td>0.982051</td>\n      <td>0.982051</td>\n      <td>1.000000</td>\n      <td>0.989265</td>\n      <td>0.008766</td>\n      <td>5</td>\n    </tr>\n    <tr>\n      <th>25</th>\n      <td>0.0150</td>\n      <td>0.000632</td>\n      <td>0.0134</td>\n      <td>0.000490</td>\n      <td>2000</td>\n      <td>auto</td>\n      <td>poly</td>\n      <td>{'C': 2000, 'gamma': 'auto', 'kernel': 'poly'}</td>\n      <td>0.964572</td>\n      <td>1.000000</td>\n      <td>0.964286</td>\n      <td>1.000000</td>\n      <td>0.981894</td>\n      <td>0.982150</td>\n      <td>0.015909</td>\n      <td>19</td>\n    </tr>\n    <tr>\n      <th>26</th>\n      <td>0.0078</td>\n      <td>0.000748</td>\n      <td>0.0126</td>\n      <td>0.001744</td>\n      <td>2000</td>\n      <td>auto</td>\n      <td>sigmoid</td>\n      <td>{'C': 2000, 'gamma': 'auto', 'kernel': 'sigmoid'}</td>\n      <td>0.982221</td>\n      <td>0.946663</td>\n      <td>0.982221</td>\n      <td>0.982051</td>\n      <td>0.981894</td>\n      <td>0.975010</td>\n      <td>0.014174</td>\n      <td>35</td>\n    </tr>\n    <tr>\n      <th>27</th>\n      <td>0.0068</td>\n      <td>0.000748</td>\n      <td>0.0118</td>\n      <td>0.000748</td>\n      <td>2000</td>\n      <td>auto</td>\n      <td>linear</td>\n      <td>{'C': 2000, 'gamma': 'auto', 'kernel': 'linear'}</td>\n      <td>0.982221</td>\n      <td>0.982221</td>\n      <td>0.982221</td>\n      <td>0.982051</td>\n      <td>0.981894</td>\n      <td>0.982122</td>\n      <td>0.000132</td>\n      <td>25</td>\n    </tr>\n    <tr>\n      <th>28</th>\n      <td>0.0078</td>\n      <td>0.000748</td>\n      <td>0.0134</td>\n      <td>0.000490</td>\n      <td>2000</td>\n      <td>scale</td>\n      <td>rbf</td>\n      <td>{'C': 2000, 'gamma': 'scale', 'kernel': 'rbf'}</td>\n      <td>0.982221</td>\n      <td>1.000000</td>\n      <td>0.982051</td>\n      <td>0.982051</td>\n      <td>1.000000</td>\n      <td>0.989265</td>\n      <td>0.008766</td>\n      <td>5</td>\n    </tr>\n    <tr>\n      <th>29</th>\n      <td>0.0154</td>\n      <td>0.001200</td>\n      <td>0.0144</td>\n      <td>0.001200</td>\n      <td>2000</td>\n      <td>scale</td>\n      <td>poly</td>\n      <td>{'C': 2000, 'gamma': 'scale', 'kernel': 'poly'}</td>\n      <td>0.964572</td>\n      <td>1.000000</td>\n      <td>0.964286</td>\n      <td>1.000000</td>\n      <td>0.981894</td>\n      <td>0.982150</td>\n      <td>0.015909</td>\n      <td>19</td>\n    </tr>\n    <tr>\n      <th>30</th>\n      <td>0.0088</td>\n      <td>0.001166</td>\n      <td>0.0122</td>\n      <td>0.000400</td>\n      <td>2000</td>\n      <td>scale</td>\n      <td>sigmoid</td>\n      <td>{'C': 2000, 'gamma': 'scale', 'kernel': 'sigmo...</td>\n      <td>0.982221</td>\n      <td>0.946663</td>\n      <td>0.982221</td>\n      <td>0.982051</td>\n      <td>0.981894</td>\n      <td>0.975010</td>\n      <td>0.014174</td>\n      <td>35</td>\n    </tr>\n    <tr>\n      <th>31</th>\n      <td>0.0078</td>\n      <td>0.000980</td>\n      <td>0.0128</td>\n      <td>0.000748</td>\n      <td>2000</td>\n      <td>scale</td>\n      <td>linear</td>\n      <td>{'C': 2000, 'gamma': 'scale', 'kernel': 'linear'}</td>\n      <td>0.982221</td>\n      <td>0.982221</td>\n      <td>0.982221</td>\n      <td>0.982051</td>\n      <td>0.981894</td>\n      <td>0.982122</td>\n      <td>0.000132</td>\n      <td>25</td>\n    </tr>\n    <tr>\n      <th>32</th>\n      <td>0.0070</td>\n      <td>0.000632</td>\n      <td>0.0126</td>\n      <td>0.000490</td>\n      <td>3000</td>\n      <td>auto</td>\n      <td>rbf</td>\n      <td>{'C': 3000, 'gamma': 'auto', 'kernel': 'rbf'}</td>\n      <td>0.982221</td>\n      <td>1.000000</td>\n      <td>0.982051</td>\n      <td>0.982051</td>\n      <td>1.000000</td>\n      <td>0.989265</td>\n      <td>0.008766</td>\n      <td>5</td>\n    </tr>\n    <tr>\n      <th>33</th>\n      <td>0.0148</td>\n      <td>0.000748</td>\n      <td>0.0136</td>\n      <td>0.000800</td>\n      <td>3000</td>\n      <td>auto</td>\n      <td>poly</td>\n      <td>{'C': 3000, 'gamma': 'auto', 'kernel': 'poly'}</td>\n      <td>0.964572</td>\n      <td>1.000000</td>\n      <td>0.964286</td>\n      <td>1.000000</td>\n      <td>0.981894</td>\n      <td>0.982150</td>\n      <td>0.015909</td>\n      <td>19</td>\n    </tr>\n    <tr>\n      <th>34</th>\n      <td>0.0140</td>\n      <td>0.011009</td>\n      <td>0.0128</td>\n      <td>0.000400</td>\n      <td>3000</td>\n      <td>auto</td>\n      <td>sigmoid</td>\n      <td>{'C': 3000, 'gamma': 'auto', 'kernel': 'sigmoid'}</td>\n      <td>0.982221</td>\n      <td>0.946663</td>\n      <td>0.982221</td>\n      <td>0.982051</td>\n      <td>0.981894</td>\n      <td>0.975010</td>\n      <td>0.014174</td>\n      <td>35</td>\n    </tr>\n    <tr>\n      <th>35</th>\n      <td>0.0076</td>\n      <td>0.000490</td>\n      <td>0.0132</td>\n      <td>0.000748</td>\n      <td>3000</td>\n      <td>auto</td>\n      <td>linear</td>\n      <td>{'C': 3000, 'gamma': 'auto', 'kernel': 'linear'}</td>\n      <td>0.982221</td>\n      <td>0.982221</td>\n      <td>0.982221</td>\n      <td>0.982051</td>\n      <td>0.981894</td>\n      <td>0.982122</td>\n      <td>0.000132</td>\n      <td>25</td>\n    </tr>\n    <tr>\n      <th>36</th>\n      <td>0.0074</td>\n      <td>0.000800</td>\n      <td>0.0122</td>\n      <td>0.000400</td>\n      <td>3000</td>\n      <td>scale</td>\n      <td>rbf</td>\n      <td>{'C': 3000, 'gamma': 'scale', 'kernel': 'rbf'}</td>\n      <td>0.982221</td>\n      <td>1.000000</td>\n      <td>0.982051</td>\n      <td>0.982051</td>\n      <td>1.000000</td>\n      <td>0.989265</td>\n      <td>0.008766</td>\n      <td>5</td>\n    </tr>\n    <tr>\n      <th>37</th>\n      <td>0.0144</td>\n      <td>0.000800</td>\n      <td>0.0142</td>\n      <td>0.001470</td>\n      <td>3000</td>\n      <td>scale</td>\n      <td>poly</td>\n      <td>{'C': 3000, 'gamma': 'scale', 'kernel': 'poly'}</td>\n      <td>0.964572</td>\n      <td>1.000000</td>\n      <td>0.964286</td>\n      <td>1.000000</td>\n      <td>0.981894</td>\n      <td>0.982150</td>\n      <td>0.015909</td>\n      <td>19</td>\n    </tr>\n    <tr>\n      <th>38</th>\n      <td>0.0090</td>\n      <td>0.001673</td>\n      <td>0.0146</td>\n      <td>0.002800</td>\n      <td>3000</td>\n      <td>scale</td>\n      <td>sigmoid</td>\n      <td>{'C': 3000, 'gamma': 'scale', 'kernel': 'sigmo...</td>\n      <td>0.982221</td>\n      <td>0.946663</td>\n      <td>0.982221</td>\n      <td>0.982051</td>\n      <td>0.981894</td>\n      <td>0.975010</td>\n      <td>0.014174</td>\n      <td>35</td>\n    </tr>\n    <tr>\n      <th>39</th>\n      <td>0.0078</td>\n      <td>0.000748</td>\n      <td>0.0142</td>\n      <td>0.002482</td>\n      <td>3000</td>\n      <td>scale</td>\n      <td>linear</td>\n      <td>{'C': 3000, 'gamma': 'scale', 'kernel': 'linear'}</td>\n      <td>0.982221</td>\n      <td>0.982221</td>\n      <td>0.982221</td>\n      <td>0.982051</td>\n      <td>0.981894</td>\n      <td>0.982122</td>\n      <td>0.000132</td>\n      <td>25</td>\n    </tr>\n  </tbody>\n</table>\n</div>"
          },
          "metadata": {}
        }
      ],
      "execution_count": 30
    },
    {
      "cell_type": "code",
      "source": "grid_predictions = grid.predict(x_test)\nfrom sklearn.metrics import confusion_matrix\ncm = confusion_matrix(y_test, grid_predictions)\n \nfrom sklearn.metrics import classification_report\nclf_report = classification_report(y_test, grid_predictions)",
      "metadata": {
        "trusted": true
      },
      "outputs": [],
      "execution_count": 31
    },
    {
      "cell_type": "code",
      "source": "\nfrom sklearn.metrics import f1_score\nf1_macro=f1_score(y_test,grid_predictions,average='weighted')\nprint(\"The f1_macro value for best parameter {}:\".format(grid.best_params_),f1_macro)\n",
      "metadata": {
        "trusted": true
      },
      "outputs": [
        {
          "name": "stdout",
          "text": "The f1_macro value for best parameter {'C': 10, 'gamma': 'auto', 'kernel': 'sigmoid'}: 0.9834018801410106\n",
          "output_type": "stream"
        }
      ],
      "execution_count": 32
    },
    {
      "cell_type": "code",
      "source": "print(\"The confusion Matrix:\\n\",cm)",
      "metadata": {
        "trusted": true
      },
      "outputs": [
        {
          "name": "stdout",
          "text": "The confusion Matrix:\n [[45  0]\n [ 2 73]]\n",
          "output_type": "stream"
        }
      ],
      "execution_count": 33
    },
    {
      "cell_type": "code",
      "source": "print(\"The report:\\n\",clf_report)",
      "metadata": {
        "trusted": true
      },
      "outputs": [
        {
          "name": "stdout",
          "text": "The report:\n               precision    recall  f1-score   support\n\n           0       0.96      1.00      0.98        45\n           1       1.00      0.97      0.99        75\n\n    accuracy                           0.98       120\n   macro avg       0.98      0.99      0.98       120\nweighted avg       0.98      0.98      0.98       120\n\n",
          "output_type": "stream"
        }
      ],
      "execution_count": 44
    },
    {
      "cell_type": "code",
      "source": "#pass the column values in grid\n       #'age', 'bp', 'al', 'su', 'bgr', 'bu', 'sc', 'sod', 'pot', 'hrmo', 'pcv',\n       # 'wc', 'rc', 'sg_b', 'sg_c', 'sg_d', 'sg_e', 'rbc_normal', 'pc_normal',\n       # 'pcc_present', 'ba_present', 'htn_yes', 'dm_yes', 'cad_yes',\n       # 'appet_yes', 'pe_yes', 'ane_yes'",
      "metadata": {
        "trusted": true
      },
      "outputs": [],
      "execution_count": null
    },
    {
      "cell_type": "code",
      "source": "Future_Prediction=grid.predict([[50,100,1,80,89,49,0.9,150,20,17,52,\n                                2000,7,1,1,1,1,1,1,\n                                1,1,1,1,1,\n                                1,1,1]])\nprint(\"Future_Prediction={}\".format(Future_Prediction))",
      "metadata": {
        "trusted": true
      },
      "outputs": [
        {
          "name": "stdout",
          "text": "Future_Prediction=[0]\n",
          "output_type": "stream"
        }
      ],
      "execution_count": 52
    },
    {
      "cell_type": "code",
      "source": "Future_Prediction=grid.predict([[40,180,1,340,148,16,0.7,138,6,8,38,\n                                8400,4.7,0,0,0,0,1,1,\n                                0,0,0,0,0,\n                                1,0,0]])\nprint(\"Future_Prediction={}\".format(Future_Prediction))",
      "metadata": {
        "trusted": true
      },
      "outputs": [
        {
          "name": "stdout",
          "text": "Future_Prediction=[1]\n",
          "output_type": "stream"
        }
      ],
      "execution_count": 60
    },
    {
      "cell_type": "code",
      "source": "",
      "metadata": {
        "trusted": true
      },
      "outputs": [],
      "execution_count": null
    }
  ]
}