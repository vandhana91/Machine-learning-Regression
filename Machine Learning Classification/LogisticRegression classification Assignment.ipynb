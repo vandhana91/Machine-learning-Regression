{
  "metadata": {
    "kernelspec": {
      "name": "python",
      "display_name": "Python (Pyodide)",
      "language": "python"
    },
    "language_info": {
      "codemirror_mode": {
        "name": "python",
        "version": 3
      },
      "file_extension": ".py",
      "mimetype": "text/x-python",
      "name": "python",
      "nbconvert_exporter": "python",
      "pygments_lexer": "ipython3",
      "version": "3.8"
    }
  },
  "nbformat_minor": 4,
  "nbformat": 4,
  "cells": [
    {
      "cell_type": "code",
      "source": "import numpy as np\nimport pandas as pd",
      "metadata": {
        "trusted": true
      },
      "outputs": [],
      "execution_count": 1
    },
    {
      "cell_type": "code",
      "source": "dataset = pd.read_csv('CKD.csv')",
      "metadata": {
        "trusted": true
      },
      "outputs": [],
      "execution_count": 2
    },
    {
      "cell_type": "code",
      "source": "dataset.head()",
      "metadata": {
        "trusted": true
      },
      "outputs": [
        {
          "execution_count": 3,
          "output_type": "execute_result",
          "data": {
            "text/plain": "   age         bp sg   al   su     rbc        pc         pcc          ba  \\\n0  2.0  76.459948  c  3.0  0.0  normal  abnormal  notpresent  notpresent   \n1  3.0  76.459948  c  2.0  0.0  normal    normal  notpresent  notpresent   \n2  4.0  76.459948  a  1.0  0.0  normal    normal  notpresent  notpresent   \n3  5.0  76.459948  d  1.0  0.0  normal    normal  notpresent  notpresent   \n4  5.0  50.000000  c  0.0  0.0  normal    normal  notpresent  notpresent   \n\n          bgr  ...        pcv            wc        rc  htn  dm  cad  appet  \\\n0  148.112676  ...  38.868902   8408.191126  4.705597   no  no   no    yes   \n1  148.112676  ...  34.000000  12300.000000  4.705597   no  no   no    yes   \n2   99.000000  ...  34.000000   8408.191126  4.705597   no  no   no    yes   \n3  148.112676  ...  38.868902   8408.191126  4.705597   no  no   no    yes   \n4  148.112676  ...  36.000000  12400.000000  4.705597   no  no   no    yes   \n\n     pe  ane classification  \n0   yes   no            yes  \n1  poor   no            yes  \n2  poor   no            yes  \n3  poor  yes            yes  \n4  poor   no            yes  \n\n[5 rows x 25 columns]",
            "text/html": "<div>\n<style scoped>\n    .dataframe tbody tr th:only-of-type {\n        vertical-align: middle;\n    }\n\n    .dataframe tbody tr th {\n        vertical-align: top;\n    }\n\n    .dataframe thead th {\n        text-align: right;\n    }\n</style>\n<table border=\"1\" class=\"dataframe\">\n  <thead>\n    <tr style=\"text-align: right;\">\n      <th></th>\n      <th>age</th>\n      <th>bp</th>\n      <th>sg</th>\n      <th>al</th>\n      <th>su</th>\n      <th>rbc</th>\n      <th>pc</th>\n      <th>pcc</th>\n      <th>ba</th>\n      <th>bgr</th>\n      <th>...</th>\n      <th>pcv</th>\n      <th>wc</th>\n      <th>rc</th>\n      <th>htn</th>\n      <th>dm</th>\n      <th>cad</th>\n      <th>appet</th>\n      <th>pe</th>\n      <th>ane</th>\n      <th>classification</th>\n    </tr>\n  </thead>\n  <tbody>\n    <tr>\n      <th>0</th>\n      <td>2.0</td>\n      <td>76.459948</td>\n      <td>c</td>\n      <td>3.0</td>\n      <td>0.0</td>\n      <td>normal</td>\n      <td>abnormal</td>\n      <td>notpresent</td>\n      <td>notpresent</td>\n      <td>148.112676</td>\n      <td>...</td>\n      <td>38.868902</td>\n      <td>8408.191126</td>\n      <td>4.705597</td>\n      <td>no</td>\n      <td>no</td>\n      <td>no</td>\n      <td>yes</td>\n      <td>yes</td>\n      <td>no</td>\n      <td>yes</td>\n    </tr>\n    <tr>\n      <th>1</th>\n      <td>3.0</td>\n      <td>76.459948</td>\n      <td>c</td>\n      <td>2.0</td>\n      <td>0.0</td>\n      <td>normal</td>\n      <td>normal</td>\n      <td>notpresent</td>\n      <td>notpresent</td>\n      <td>148.112676</td>\n      <td>...</td>\n      <td>34.000000</td>\n      <td>12300.000000</td>\n      <td>4.705597</td>\n      <td>no</td>\n      <td>no</td>\n      <td>no</td>\n      <td>yes</td>\n      <td>poor</td>\n      <td>no</td>\n      <td>yes</td>\n    </tr>\n    <tr>\n      <th>2</th>\n      <td>4.0</td>\n      <td>76.459948</td>\n      <td>a</td>\n      <td>1.0</td>\n      <td>0.0</td>\n      <td>normal</td>\n      <td>normal</td>\n      <td>notpresent</td>\n      <td>notpresent</td>\n      <td>99.000000</td>\n      <td>...</td>\n      <td>34.000000</td>\n      <td>8408.191126</td>\n      <td>4.705597</td>\n      <td>no</td>\n      <td>no</td>\n      <td>no</td>\n      <td>yes</td>\n      <td>poor</td>\n      <td>no</td>\n      <td>yes</td>\n    </tr>\n    <tr>\n      <th>3</th>\n      <td>5.0</td>\n      <td>76.459948</td>\n      <td>d</td>\n      <td>1.0</td>\n      <td>0.0</td>\n      <td>normal</td>\n      <td>normal</td>\n      <td>notpresent</td>\n      <td>notpresent</td>\n      <td>148.112676</td>\n      <td>...</td>\n      <td>38.868902</td>\n      <td>8408.191126</td>\n      <td>4.705597</td>\n      <td>no</td>\n      <td>no</td>\n      <td>no</td>\n      <td>yes</td>\n      <td>poor</td>\n      <td>yes</td>\n      <td>yes</td>\n    </tr>\n    <tr>\n      <th>4</th>\n      <td>5.0</td>\n      <td>50.000000</td>\n      <td>c</td>\n      <td>0.0</td>\n      <td>0.0</td>\n      <td>normal</td>\n      <td>normal</td>\n      <td>notpresent</td>\n      <td>notpresent</td>\n      <td>148.112676</td>\n      <td>...</td>\n      <td>36.000000</td>\n      <td>12400.000000</td>\n      <td>4.705597</td>\n      <td>no</td>\n      <td>no</td>\n      <td>no</td>\n      <td>yes</td>\n      <td>poor</td>\n      <td>no</td>\n      <td>yes</td>\n    </tr>\n  </tbody>\n</table>\n<p>5 rows × 25 columns</p>\n</div>"
          },
          "metadata": {}
        }
      ],
      "execution_count": 3
    },
    {
      "cell_type": "code",
      "source": "dataset = pd.get_dummies(dataset)",
      "metadata": {
        "trusted": true
      },
      "outputs": [],
      "execution_count": 4
    },
    {
      "cell_type": "code",
      "source": "dataset.head()",
      "metadata": {
        "trusted": true
      },
      "outputs": [
        {
          "execution_count": 5,
          "output_type": "execute_result",
          "data": {
            "text/plain": "   age         bp   al   su         bgr         bu        sc         sod  \\\n0  2.0  76.459948  3.0  0.0  148.112676  57.482105  3.077356  137.528754   \n1  3.0  76.459948  2.0  0.0  148.112676  22.000000  0.700000  137.528754   \n2  4.0  76.459948  1.0  0.0   99.000000  23.000000  0.600000  138.000000   \n3  5.0  76.459948  1.0  0.0  148.112676  16.000000  0.700000  138.000000   \n4  5.0  50.000000  0.0  0.0  148.112676  25.000000  0.600000  137.528754   \n\n        pot       hrmo  ...  cad_no  cad_yes  appet_poor  appet_yes  pe_poor  \\\n0  4.627244  12.518156  ...       1        0           0          1        0   \n1  4.627244  10.700000  ...       1        0           0          1        1   \n2  4.400000  12.000000  ...       1        0           0          1        1   \n3  3.200000   8.100000  ...       1        0           0          1        1   \n4  4.627244  11.800000  ...       1        0           0          1        1   \n\n   pe_yes  ane_no  ane_yes  classification_no  classification_yes  \n0       1       1        0                  0                   1  \n1       0       1        0                  0                   1  \n2       0       1        0                  0                   1  \n3       0       0        1                  0                   1  \n4       0       1        0                  0                   1  \n\n[5 rows x 40 columns]",
            "text/html": "<div>\n<style scoped>\n    .dataframe tbody tr th:only-of-type {\n        vertical-align: middle;\n    }\n\n    .dataframe tbody tr th {\n        vertical-align: top;\n    }\n\n    .dataframe thead th {\n        text-align: right;\n    }\n</style>\n<table border=\"1\" class=\"dataframe\">\n  <thead>\n    <tr style=\"text-align: right;\">\n      <th></th>\n      <th>age</th>\n      <th>bp</th>\n      <th>al</th>\n      <th>su</th>\n      <th>bgr</th>\n      <th>bu</th>\n      <th>sc</th>\n      <th>sod</th>\n      <th>pot</th>\n      <th>hrmo</th>\n      <th>...</th>\n      <th>cad_no</th>\n      <th>cad_yes</th>\n      <th>appet_poor</th>\n      <th>appet_yes</th>\n      <th>pe_poor</th>\n      <th>pe_yes</th>\n      <th>ane_no</th>\n      <th>ane_yes</th>\n      <th>classification_no</th>\n      <th>classification_yes</th>\n    </tr>\n  </thead>\n  <tbody>\n    <tr>\n      <th>0</th>\n      <td>2.0</td>\n      <td>76.459948</td>\n      <td>3.0</td>\n      <td>0.0</td>\n      <td>148.112676</td>\n      <td>57.482105</td>\n      <td>3.077356</td>\n      <td>137.528754</td>\n      <td>4.627244</td>\n      <td>12.518156</td>\n      <td>...</td>\n      <td>1</td>\n      <td>0</td>\n      <td>0</td>\n      <td>1</td>\n      <td>0</td>\n      <td>1</td>\n      <td>1</td>\n      <td>0</td>\n      <td>0</td>\n      <td>1</td>\n    </tr>\n    <tr>\n      <th>1</th>\n      <td>3.0</td>\n      <td>76.459948</td>\n      <td>2.0</td>\n      <td>0.0</td>\n      <td>148.112676</td>\n      <td>22.000000</td>\n      <td>0.700000</td>\n      <td>137.528754</td>\n      <td>4.627244</td>\n      <td>10.700000</td>\n      <td>...</td>\n      <td>1</td>\n      <td>0</td>\n      <td>0</td>\n      <td>1</td>\n      <td>1</td>\n      <td>0</td>\n      <td>1</td>\n      <td>0</td>\n      <td>0</td>\n      <td>1</td>\n    </tr>\n    <tr>\n      <th>2</th>\n      <td>4.0</td>\n      <td>76.459948</td>\n      <td>1.0</td>\n      <td>0.0</td>\n      <td>99.000000</td>\n      <td>23.000000</td>\n      <td>0.600000</td>\n      <td>138.000000</td>\n      <td>4.400000</td>\n      <td>12.000000</td>\n      <td>...</td>\n      <td>1</td>\n      <td>0</td>\n      <td>0</td>\n      <td>1</td>\n      <td>1</td>\n      <td>0</td>\n      <td>1</td>\n      <td>0</td>\n      <td>0</td>\n      <td>1</td>\n    </tr>\n    <tr>\n      <th>3</th>\n      <td>5.0</td>\n      <td>76.459948</td>\n      <td>1.0</td>\n      <td>0.0</td>\n      <td>148.112676</td>\n      <td>16.000000</td>\n      <td>0.700000</td>\n      <td>138.000000</td>\n      <td>3.200000</td>\n      <td>8.100000</td>\n      <td>...</td>\n      <td>1</td>\n      <td>0</td>\n      <td>0</td>\n      <td>1</td>\n      <td>1</td>\n      <td>0</td>\n      <td>0</td>\n      <td>1</td>\n      <td>0</td>\n      <td>1</td>\n    </tr>\n    <tr>\n      <th>4</th>\n      <td>5.0</td>\n      <td>50.000000</td>\n      <td>0.0</td>\n      <td>0.0</td>\n      <td>148.112676</td>\n      <td>25.000000</td>\n      <td>0.600000</td>\n      <td>137.528754</td>\n      <td>4.627244</td>\n      <td>11.800000</td>\n      <td>...</td>\n      <td>1</td>\n      <td>0</td>\n      <td>0</td>\n      <td>1</td>\n      <td>1</td>\n      <td>0</td>\n      <td>1</td>\n      <td>0</td>\n      <td>0</td>\n      <td>1</td>\n    </tr>\n  </tbody>\n</table>\n<p>5 rows × 40 columns</p>\n</div>"
          },
          "metadata": {}
        }
      ],
      "execution_count": 5
    },
    {
      "cell_type": "code",
      "source": "dataset.columns\n",
      "metadata": {
        "trusted": true
      },
      "outputs": [
        {
          "execution_count": 6,
          "output_type": "execute_result",
          "data": {
            "text/plain": "Index(['age', 'bp', 'al', 'su', 'bgr', 'bu', 'sc', 'sod', 'pot', 'hrmo', 'pcv',\n       'wc', 'rc', 'sg_a', 'sg_b', 'sg_c', 'sg_d', 'sg_e', 'rbc_abnormal',\n       'rbc_normal', 'pc_abnormal', 'pc_normal', 'pcc_notpresent',\n       'pcc_present', 'ba_notpresent', 'ba_present', 'htn_no', 'htn_yes',\n       'dm_no', 'dm_yes', 'cad_no', 'cad_yes', 'appet_poor', 'appet_yes',\n       'pe_poor', 'pe_yes', 'ane_no', 'ane_yes', 'classification_no',\n       'classification_yes'],\n      dtype='object')"
          },
          "metadata": {}
        }
      ],
      "execution_count": 6
    },
    {
      "cell_type": "code",
      "source": "independent = dataset[['age', 'bp', 'al', 'su', 'bgr', 'bu', 'sc', 'sod', 'pot', 'hrmo', 'pcv',\n       'wc', 'rc', 'sg_b', 'sg_c', 'sg_d', 'sg_e', 'rbc_normal', 'pc_normal',\n       'pcc_present', 'ba_present', 'htn_yes', 'dm_yes', 'cad_yes',\n       'appet_yes', 'pe_yes', 'ane_yes']]\ndependent = dataset[['classification_yes']]",
      "metadata": {
        "trusted": true
      },
      "outputs": [],
      "execution_count": 7
    },
    {
      "cell_type": "code",
      "source": "dataset['classification_yes'].value_counts()\n",
      "metadata": {
        "trusted": true
      },
      "outputs": [
        {
          "execution_count": 8,
          "output_type": "execute_result",
          "data": {
            "text/plain": "1    249\n0    150\nName: classification_yes, dtype: int64"
          },
          "metadata": {}
        }
      ],
      "execution_count": 8
    },
    {
      "cell_type": "code",
      "source": "dataset.shape",
      "metadata": {
        "trusted": true
      },
      "outputs": [
        {
          "execution_count": 9,
          "output_type": "execute_result",
          "data": {
            "text/plain": "(399, 40)"
          },
          "metadata": {}
        }
      ],
      "execution_count": 9
    },
    {
      "cell_type": "code",
      "source": "from sklearn.model_selection import train_test_split\n\nx_train,x_test,y_train,y_test = train_test_split(independent,dependent,test_size = 0.3,random_state = 0)\n",
      "metadata": {
        "trusted": true
      },
      "outputs": [],
      "execution_count": 10
    },
    {
      "cell_type": "code",
      "source": "from sklearn.preprocessing import StandardScaler\nsc = StandardScaler()\nx_train = sc.fit_transform(x_train)\nx_test = sc.transform(x_test)",
      "metadata": {
        "trusted": true
      },
      "outputs": [],
      "execution_count": 11
    },
    {
      "cell_type": "code",
      "source": "\nfrom sklearn.linear_model import LogisticRegression\nclassifier = LogisticRegression(random_state = 0)\nclassifier.fit(x_train,y_train)\ny_pred = classifier.predict(x_test)\nfrom sklearn.metrics import confusion_matrix\ncm = confusion_matrix(y_test, y_pred)\n from sklearn.metrics import classification_report\nclf_report = classification_report(y_test, y_pred)\nprint(\"The report:\\n\",clf_report)\nprint(\"The confusion Matrix:\\n\",cm)",
      "metadata": {
        "trusted": true
      },
      "outputs": [
        {
          "name": "stderr",
          "text": "/lib/python3.11/site-packages/sklearn/utils/validation.py:1183: DataConversionWarning: A column-vector y was passed when a 1d array was expected. Please change the shape of y to (n_samples, ), for example using ravel().\n  y = column_or_1d(y, warn=True)\n",
          "output_type": "stream"
        },
        {
          "name": "stdout",
          "text": "The report:\n               precision    recall  f1-score   support\n\n           0       0.98      1.00      0.99        45\n           1       1.00      0.99      0.99        75\n\n    accuracy                           0.99       120\n   macro avg       0.99      0.99      0.99       120\nweighted avg       0.99      0.99      0.99       120\n\nThe confusion Matrix:\n [[45  0]\n [ 1 74]]\n",
          "output_type": "stream"
        }
      ],
      "execution_count": 12
    },
    {
      "cell_type": "code",
      "source": "",
      "metadata": {
        "trusted": true
      },
      "outputs": [],
      "execution_count": null
    }
  ]
}