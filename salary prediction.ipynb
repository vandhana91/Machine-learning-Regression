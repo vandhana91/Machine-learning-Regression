{
  "cells": [
    {
      "cell_type": "code",
      "source": [
        "#library to handle rows and columns\n",
        "import pandas as pd\n",
        "#loading the csv data in dataset variable\n",
        "dataset = pd.read_csv(\"Salary_Data.csv\")\n",
        "dataset"
      ],
      "outputs": [
        {
          "output_type": "display_data",
          "data": {
            "application/vnd.dataresource+json": {
              "schema": {
                "fields": [
                  {
                    "name": "index",
                    "type": "integer"
                  },
                  {
                    "name": "YearsExperience",
                    "type": "number"
                  },
                  {
                    "name": "Salary",
                    "type": "number"
                  }
                ],
                "primaryKey": [
                  "index"
                ],
                "pandas_version": "1.4.0"
              },
              "data": [
                {
                  "index": 0,
                  "YearsExperience": 1.1,
                  "Salary": 39343
                },
                {
                  "index": 1,
                  "YearsExperience": 1.3,
                  "Salary": 46205
                },
                {
                  "index": 2,
                  "YearsExperience": 1.5,
                  "Salary": 37731
                },
                {
                  "index": 3,
                  "YearsExperience": 2,
                  "Salary": 43525
                },
                {
                  "index": 4,
                  "YearsExperience": 2.2,
                  "Salary": 39891
                },
                {
                  "index": 5,
                  "YearsExperience": 2.9,
                  "Salary": 56642
                },
                {
                  "index": 6,
                  "YearsExperience": 3,
                  "Salary": 60150
                },
                {
                  "index": 7,
                  "YearsExperience": 3.2,
                  "Salary": 54445
                },
                {
                  "index": 8,
                  "YearsExperience": 3.2,
                  "Salary": 64445
                },
                {
                  "index": 9,
                  "YearsExperience": 3.7,
                  "Salary": 57189
                },
                {
                  "index": 10,
                  "YearsExperience": 3.9,
                  "Salary": 63218
                },
                {
                  "index": 11,
                  "YearsExperience": 4,
                  "Salary": 55794
                },
                {
                  "index": 12,
                  "YearsExperience": 4,
                  "Salary": 56957
                },
                {
                  "index": 13,
                  "YearsExperience": 4.1,
                  "Salary": 57081
                },
                {
                  "index": 14,
                  "YearsExperience": 4.5,
                  "Salary": 61111
                },
                {
                  "index": 15,
                  "YearsExperience": 4.9,
                  "Salary": 67938
                },
                {
                  "index": 16,
                  "YearsExperience": 5.1,
                  "Salary": 66029
                },
                {
                  "index": 17,
                  "YearsExperience": 5.3,
                  "Salary": 83088
                },
                {
                  "index": 18,
                  "YearsExperience": 5.9,
                  "Salary": 81363
                },
                {
                  "index": 19,
                  "YearsExperience": 6,
                  "Salary": 93940
                },
                {
                  "index": 20,
                  "YearsExperience": 6.8,
                  "Salary": 91738
                },
                {
                  "index": 21,
                  "YearsExperience": 7.1,
                  "Salary": 98273
                },
                {
                  "index": 22,
                  "YearsExperience": 7.9,
                  "Salary": 101302
                },
                {
                  "index": 23,
                  "YearsExperience": 8.2,
                  "Salary": 113812
                },
                {
                  "index": 24,
                  "YearsExperience": 8.7,
                  "Salary": 109431
                },
                {
                  "index": 25,
                  "YearsExperience": 9,
                  "Salary": 105582
                },
                {
                  "index": 26,
                  "YearsExperience": 9.5,
                  "Salary": 116969
                },
                {
                  "index": 27,
                  "YearsExperience": 9.6,
                  "Salary": 112635
                },
                {
                  "index": 28,
                  "YearsExperience": 10.3,
                  "Salary": 122391
                },
                {
                  "index": 29,
                  "YearsExperience": 10.5,
                  "Salary": 121872
                }
              ],
              "datalink": {
                "display_id": "05841cfb-c523-4ded-957d-d1a84dcf4e1e"
              }
            }
          },
          "metadata": {
            "application/vnd.dataresource+json": {
              "datalink": {
                "dataframe_info": {
                  "default_index_used": true,
                  "orig_size_bytes": 720,
                  "orig_num_rows": 30,
                  "orig_num_cols": 2,
                  "truncated_string_columns": [],
                  "truncated_size_bytes": 720,
                  "truncated_num_rows": 30,
                  "truncated_num_cols": 2
                },
                "dx_settings": {
                  "NUM_PAST_SAMPLES_TRACKED": 3,
                  "ENABLE_DATALINK": true,
                  "DISPLAY_MODE": "simple",
                  "GENERATE_DEX_METADATA": false,
                  "STRINGIFY_INDEX_VALUES": false,
                  "ALLOW_NOTEABLE_ATTRS": true,
                  "DISPLAY_MAX_COLUMNS": 100,
                  "HTML_TABLE_SCHEMA": false,
                  "SAMPLING_FACTOR": 0.1,
                  "LOG_LEVEL": 30,
                  "ENABLE_ASSIGNMENT": true,
                  "FLATTEN_INDEX_VALUES": false,
                  "DEV_MODE": false,
                  "COLUMN_SAMPLING_METHOD": "outer",
                  "FLATTEN_COLUMN_VALUES": true,
                  "DISPLAY_MAX_ROWS": 50000,
                  "ROW_SAMPLING_METHOD": "random",
                  "RANDOM_STATE": 12648430,
                  "DB_LOCATION": ":memory:",
                  "STRINGIFY_COLUMN_VALUES": true,
                  "SAMPLING_METHOD": "random",
                  "MAX_STRING_LENGTH": 250,
                  "MAX_RENDER_SIZE_BYTES": 104857600,
                  "RESET_INDEX_VALUES": false
                },
                "display_id": "05841cfb-c523-4ded-957d-d1a84dcf4e1e",
                "applied_filters": [],
                "sample_history": [],
                "sampling_time": "2023-12-03T13:32:00.912775",
                "variable_name": "dataset",
                "user_variable_name": "dataset"
              },
              "display_id": "05841cfb-c523-4ded-957d-d1a84dcf4e1e"
            }
          }
        }
      ],
      "execution_count": null,
      "metadata": {
        "noteable": {},
        "ExecuteTime": {
          "start_time": "2023-12-03T13:32:00.891385+00:00",
          "end_time": "2023-12-03T13:32:01.076115+00:00"
        },
        "datalink": {
          "e5e7ad45-c86d-4032-8f73-6d76b6affb2d": {
            "dataframe_info": {
              "default_index_used": true,
              "orig_size_bytes": 720,
              "orig_num_rows": 30,
              "orig_num_cols": 2,
              "truncated_string_columns": [],
              "truncated_size_bytes": 720,
              "truncated_num_rows": 30,
              "truncated_num_cols": 2
            },
            "dx_settings": {
              "LOG_LEVEL": 30,
              "DEV_MODE": false,
              "DISPLAY_MAX_ROWS": 50000,
              "DISPLAY_MAX_COLUMNS": 100,
              "HTML_TABLE_SCHEMA": false,
              "MAX_RENDER_SIZE_BYTES": 104857600,
              "MAX_STRING_LENGTH": 250,
              "SAMPLING_FACTOR": 0.1,
              "DISPLAY_MODE": "simple",
              "SAMPLING_METHOD": "random",
              "COLUMN_SAMPLING_METHOD": "outer",
              "ROW_SAMPLING_METHOD": "random",
              "RANDOM_STATE": 12648430,
              "RESET_INDEX_VALUES": false,
              "FLATTEN_INDEX_VALUES": false,
              "FLATTEN_COLUMN_VALUES": true,
              "STRINGIFY_INDEX_VALUES": false,
              "STRINGIFY_COLUMN_VALUES": true,
              "ENABLE_DATALINK": true,
              "ENABLE_ASSIGNMENT": true,
              "NUM_PAST_SAMPLES_TRACKED": 3,
              "DB_LOCATION": ":memory:",
              "GENERATE_DEX_METADATA": false,
              "ALLOW_NOTEABLE_ATTRS": true
            },
            "display_id": "e5e7ad45-c86d-4032-8f73-6d76b6affb2d",
            "applied_filters": [],
            "sample_history": [],
            "sampling_time": "2023-12-03T11:46:59.644079",
            "variable_name": "dataset",
            "user_variable_name": "dataset"
          },
          "05841cfb-c523-4ded-957d-d1a84dcf4e1e": {
            "dataframe_info": {
              "default_index_used": true,
              "orig_size_bytes": 720,
              "orig_num_rows": 30,
              "orig_num_cols": 2,
              "truncated_string_columns": [],
              "truncated_size_bytes": 720,
              "truncated_num_rows": 30,
              "truncated_num_cols": 2
            },
            "dx_settings": {
              "LOG_LEVEL": 30,
              "DEV_MODE": false,
              "DISPLAY_MAX_ROWS": 50000,
              "DISPLAY_MAX_COLUMNS": 100,
              "HTML_TABLE_SCHEMA": false,
              "MAX_RENDER_SIZE_BYTES": 104857600,
              "MAX_STRING_LENGTH": 250,
              "SAMPLING_FACTOR": 0.1,
              "DISPLAY_MODE": "simple",
              "SAMPLING_METHOD": "random",
              "COLUMN_SAMPLING_METHOD": "outer",
              "ROW_SAMPLING_METHOD": "random",
              "RANDOM_STATE": 12648430,
              "RESET_INDEX_VALUES": false,
              "FLATTEN_INDEX_VALUES": false,
              "FLATTEN_COLUMN_VALUES": true,
              "STRINGIFY_INDEX_VALUES": false,
              "STRINGIFY_COLUMN_VALUES": true,
              "ENABLE_DATALINK": true,
              "ENABLE_ASSIGNMENT": true,
              "NUM_PAST_SAMPLES_TRACKED": 3,
              "DB_LOCATION": ":memory:",
              "GENERATE_DEX_METADATA": false,
              "ALLOW_NOTEABLE_ATTRS": true
            },
            "display_id": "05841cfb-c523-4ded-957d-d1a84dcf4e1e",
            "applied_filters": [],
            "sample_history": [],
            "sampling_time": "2023-12-03T13:32:00.912775",
            "variable_name": "dataset",
            "user_variable_name": "dataset"
          }
        }
      },
      "id": "97db31a5"
    },
    {
      "cell_type": "code",
      "source": [
        "#YearsExperience is the independent and is stored in independent variable\n",
        "independent = dataset[[\"YearsExperience\"]]\n",
        "#Salary is dependent and it is stored in dependent variable\n",
        "dependent = dataset[[\"Salary\"]]"
      ],
      "outputs": [],
      "execution_count": null,
      "metadata": {
        "jupyter": {
          "outputs_hidden": false,
          "source_hidden": false
        },
        "noteable": {
          "cell_type": "code"
        },
        "ExecuteTime": {
          "start_time": "2023-12-03T13:32:01.542873+00:00",
          "end_time": "2023-12-03T13:32:01.698436+00:00"
        }
      },
      "id": "dc9ce2a4-77f0-4d51-87ef-83ce13ecadf1"
    },
    {
      "cell_type": "code",
      "source": [
        "#sklearn.model is a library, from that the train_test_split class is imported\n",
        "from sklearn.model_selection import train_test_split\n",
        "#The data is splitted into 4 sections, training[x_train,y_train] and testing[x_test,y_test]\n",
        "x_train,x_test,y_train,y_test = train_test_split(independent,dependent,test_size = 0.30,random_state = 0)"
      ],
      "outputs": [],
      "execution_count": null,
      "metadata": {
        "jupyter": {
          "outputs_hidden": false,
          "source_hidden": false
        },
        "noteable": {
          "cell_type": "code"
        },
        "ExecuteTime": {
          "start_time": "2023-12-03T13:32:01.704547+00:00",
          "end_time": "2023-12-03T13:32:02.080949+00:00"
        }
      },
      "id": "99bccd69-fe10-4d00-ab33-dff55c91d4e5"
    },
    {
      "cell_type": "code",
      "source": [
        "#LinearRegression is imported\n",
        "from sklearn.linear_model import LinearRegression\n",
        "regressor = LinearRegression()\n",
        "#we pass the train dataset in the fit model\n",
        "regressor.fit(x_train,y_train)"
      ],
      "outputs": [
        {
          "output_type": "execute_result",
          "execution_count": null,
          "data": {
            "text/html": "<style>#sk-container-id-1 {color: black;background-color: white;}#sk-container-id-1 pre{padding: 0;}#sk-container-id-1 div.sk-toggleable {background-color: white;}#sk-container-id-1 label.sk-toggleable__label {cursor: pointer;display: block;width: 100%;margin-bottom: 0;padding: 0.3em;box-sizing: border-box;text-align: center;}#sk-container-id-1 label.sk-toggleable__label-arrow:before {content: \"▸\";float: left;margin-right: 0.25em;color: #696969;}#sk-container-id-1 label.sk-toggleable__label-arrow:hover:before {color: black;}#sk-container-id-1 div.sk-estimator:hover label.sk-toggleable__label-arrow:before {color: black;}#sk-container-id-1 div.sk-toggleable__content {max-height: 0;max-width: 0;overflow: hidden;text-align: left;background-color: #f0f8ff;}#sk-container-id-1 div.sk-toggleable__content pre {margin: 0.2em;color: black;border-radius: 0.25em;background-color: #f0f8ff;}#sk-container-id-1 input.sk-toggleable__control:checked~div.sk-toggleable__content {max-height: 200px;max-width: 100%;overflow: auto;}#sk-container-id-1 input.sk-toggleable__control:checked~label.sk-toggleable__label-arrow:before {content: \"▾\";}#sk-container-id-1 div.sk-estimator input.sk-toggleable__control:checked~label.sk-toggleable__label {background-color: #d4ebff;}#sk-container-id-1 div.sk-label input.sk-toggleable__control:checked~label.sk-toggleable__label {background-color: #d4ebff;}#sk-container-id-1 input.sk-hidden--visually {border: 0;clip: rect(1px 1px 1px 1px);clip: rect(1px, 1px, 1px, 1px);height: 1px;margin: -1px;overflow: hidden;padding: 0;position: absolute;width: 1px;}#sk-container-id-1 div.sk-estimator {font-family: monospace;background-color: #f0f8ff;border: 1px dotted black;border-radius: 0.25em;box-sizing: border-box;margin-bottom: 0.5em;}#sk-container-id-1 div.sk-estimator:hover {background-color: #d4ebff;}#sk-container-id-1 div.sk-parallel-item::after {content: \"\";width: 100%;border-bottom: 1px solid gray;flex-grow: 1;}#sk-container-id-1 div.sk-label:hover label.sk-toggleable__label {background-color: #d4ebff;}#sk-container-id-1 div.sk-serial::before {content: \"\";position: absolute;border-left: 1px solid gray;box-sizing: border-box;top: 0;bottom: 0;left: 50%;z-index: 0;}#sk-container-id-1 div.sk-serial {display: flex;flex-direction: column;align-items: center;background-color: white;padding-right: 0.2em;padding-left: 0.2em;position: relative;}#sk-container-id-1 div.sk-item {position: relative;z-index: 1;}#sk-container-id-1 div.sk-parallel {display: flex;align-items: stretch;justify-content: center;background-color: white;position: relative;}#sk-container-id-1 div.sk-item::before, #sk-container-id-1 div.sk-parallel-item::before {content: \"\";position: absolute;border-left: 1px solid gray;box-sizing: border-box;top: 0;bottom: 0;left: 50%;z-index: -1;}#sk-container-id-1 div.sk-parallel-item {display: flex;flex-direction: column;z-index: 1;position: relative;background-color: white;}#sk-container-id-1 div.sk-parallel-item:first-child::after {align-self: flex-end;width: 50%;}#sk-container-id-1 div.sk-parallel-item:last-child::after {align-self: flex-start;width: 50%;}#sk-container-id-1 div.sk-parallel-item:only-child::after {width: 0;}#sk-container-id-1 div.sk-dashed-wrapped {border: 1px dashed gray;margin: 0 0.4em 0.5em 0.4em;box-sizing: border-box;padding-bottom: 0.4em;background-color: white;}#sk-container-id-1 div.sk-label label {font-family: monospace;font-weight: bold;display: inline-block;line-height: 1.2em;}#sk-container-id-1 div.sk-label-container {text-align: center;}#sk-container-id-1 div.sk-container {/* jupyter's `normalize.less` sets `[hidden] { display: none; }` but bootstrap.min.css set `[hidden] { display: none !important; }` so we also need the `!important` here to be able to override the default hidden behavior on the sphinx rendered scikit-learn.org. See: https://github.com/scikit-learn/scikit-learn/issues/21755 */display: inline-block !important;position: relative;}#sk-container-id-1 div.sk-text-repr-fallback {display: none;}</style><div id=\"sk-container-id-1\" class=\"sk-top-container\"><div class=\"sk-text-repr-fallback\"><pre>LinearRegression()</pre><b>In a Jupyter environment, please rerun this cell to show the HTML representation or trust the notebook. <br />On GitHub, the HTML representation is unable to render, please try loading this page with nbviewer.org.</b></div><div class=\"sk-container\" hidden><div class=\"sk-item\"><div class=\"sk-estimator sk-toggleable\"><input class=\"sk-toggleable__control sk-hidden--visually\" id=\"sk-estimator-id-1\" type=\"checkbox\" checked><label for=\"sk-estimator-id-1\" class=\"sk-toggleable__label sk-toggleable__label-arrow\">LinearRegression</label><div class=\"sk-toggleable__content\"><pre>LinearRegression()</pre></div></div></div></div></div>"
          },
          "metadata": {}
        }
      ],
      "execution_count": null,
      "metadata": {
        "jupyter": {
          "outputs_hidden": false,
          "source_hidden": false
        },
        "noteable": {
          "cell_type": "code"
        },
        "ExecuteTime": {
          "start_time": "2023-12-03T13:32:02.086887+00:00",
          "end_time": "2023-12-03T13:32:02.257005+00:00"
        }
      },
      "id": "a0450b7d-830f-414d-9f9e-e99790f18e60"
    },
    {
      "cell_type": "code",
      "source": [
        "#to find the slope we use coef_ method\n",
        "weight = regressor.coef_\n",
        "weight"
      ],
      "outputs": [
        {
          "output_type": "execute_result",
          "execution_count": null,
          "data": {
            "text/plain": "array([[9360.26128619]])"
          },
          "metadata": {}
        }
      ],
      "execution_count": null,
      "metadata": {
        "jupyter": {
          "outputs_hidden": false,
          "source_hidden": false
        },
        "noteable": {
          "cell_type": "code"
        },
        "ExecuteTime": {
          "start_time": "2023-12-03T13:32:02.263272+00:00",
          "end_time": "2023-12-03T13:32:02.533840+00:00"
        }
      },
      "id": "ac6d9ea8-c6c7-4870-94e3-7a1da7b0f242"
    },
    {
      "cell_type": "code",
      "source": [
        "#caluculate the intercept\n",
        "bias = regressor.intercept_\n",
        "bias"
      ],
      "outputs": [
        {
          "output_type": "execute_result",
          "execution_count": null,
          "data": {
            "text/plain": "array([26777.3913412])"
          },
          "metadata": {}
        }
      ],
      "execution_count": null,
      "metadata": {
        "jupyter": {
          "outputs_hidden": false,
          "source_hidden": false
        },
        "noteable": {
          "cell_type": "code"
        },
        "ExecuteTime": {
          "start_time": "2023-12-03T13:32:02.541002+00:00",
          "end_time": "2023-12-03T13:32:02.695947+00:00"
        }
      },
      "id": "7994f77f-e85b-49e0-b2d1-1041967b93b2"
    },
    {
      "cell_type": "code",
      "source": [
        "# we pass the x_test values in the predict method to find the corresponding y values\n",
        "y_pred = regressor.predict(x_test)\n",
        "print(y_pred)"
      ],
      "outputs": [
        {
          "output_type": "stream",
          "name": "stdout",
          "text": [
            "[[ 40817.78327049]\n",
            " [123188.08258899]\n",
            " [ 65154.46261459]\n",
            " [ 63282.41035735]\n",
            " [115699.87356004]\n",
            " [108211.66453108]\n",
            " [116635.89968866]\n",
            " [ 64218.43648597]\n",
            " [ 76386.77615802]]\n"
          ]
        }
      ],
      "execution_count": null,
      "metadata": {
        "jupyter": {
          "outputs_hidden": false,
          "source_hidden": false
        },
        "noteable": {
          "cell_type": "code"
        },
        "ExecuteTime": {
          "start_time": "2023-12-03T13:32:02.702327+00:00",
          "end_time": "2023-12-03T13:32:02.858540+00:00"
        }
      },
      "id": "f7cbace8-1223-4559-a41d-6c7834b56620"
    },
    {
      "cell_type": "code",
      "source": [
        "#r2_score is imported to check the model is right or not\n",
        "from sklearn.metrics import r2_score"
      ],
      "outputs": [],
      "execution_count": null,
      "metadata": {
        "jupyter": {
          "outputs_hidden": false,
          "source_hidden": false
        },
        "noteable": {
          "cell_type": "code"
        },
        "ExecuteTime": {
          "start_time": "2023-12-03T13:32:02.864767+00:00",
          "end_time": "2023-12-03T13:32:03.018720+00:00"
        }
      },
      "id": "5f5f7739-2843-4838-833f-e13103ac7b6b"
    },
    {
      "cell_type": "code",
      "source": [
        "#in r_score method the actual and the predicted value is passed\n",
        "r_score = r2_score(y_test,y_pred)"
      ],
      "outputs": [],
      "execution_count": null,
      "metadata": {
        "jupyter": {
          "outputs_hidden": false,
          "source_hidden": false
        },
        "noteable": {
          "cell_type": "code"
        },
        "ExecuteTime": {
          "start_time": "2023-12-03T13:32:03.025261+00:00",
          "end_time": "2023-12-03T13:32:03.181234+00:00"
        }
      },
      "id": "73a4c1e5-2966-4132-a944-7b30de98734b"
    },
    {
      "cell_type": "code",
      "source": [
        "#if r_score is nearing to 1 then the model is effective\n",
        "r_score"
      ],
      "outputs": [
        {
          "output_type": "execute_result",
          "execution_count": null,
          "data": {
            "text/plain": "0.9740993407213511"
          },
          "metadata": {}
        }
      ],
      "execution_count": null,
      "metadata": {
        "jupyter": {
          "outputs_hidden": false,
          "source_hidden": false
        },
        "noteable": {
          "cell_type": "code"
        },
        "ExecuteTime": {
          "start_time": "2023-12-03T13:32:03.186726+00:00",
          "end_time": "2023-12-03T13:32:03.341317+00:00"
        }
      },
      "id": "1a6fac3e-3306-4d11-ab7b-64a1a4e84aa9"
    },
    {
      "cell_type": "code",
      "source": [
        "#pickle is used to save the model\n",
        "import pickle"
      ],
      "outputs": [],
      "execution_count": null,
      "metadata": {
        "jupyter": {
          "outputs_hidden": false,
          "source_hidden": false
        },
        "noteable": {
          "cell_type": "code"
        },
        "ExecuteTime": {
          "start_time": "2023-12-03T13:32:03.347293+00:00",
          "end_time": "2023-12-03T13:32:03.501187+00:00"
        }
      },
      "id": "33c61de1-1e43-4e9c-9d81-116fa2d19b7c"
    },
    {
      "cell_type": "code",
      "source": [],
      "outputs": [],
      "execution_count": null,
      "metadata": {
        "jupyter": {
          "outputs_hidden": false,
          "source_hidden": false
        },
        "noteable": {
          "cell_type": "code"
        },
        "ExecuteTime": {
          "start_time": "2023-12-03T13:32:03.506740+00:00",
          "end_time": "2023-12-03T13:32:03.660161+00:00"
        }
      },
      "id": "306c82ac-94b7-498e-bfc1-dac37cd3b0eb"
    },
    {
      "cell_type": "code",
      "source": [],
      "outputs": [],
      "execution_count": null,
      "metadata": {
        "jupyter": {
          "outputs_hidden": false,
          "source_hidden": false
        },
        "noteable": {
          "cell_type": "code"
        },
        "ExecuteTime": {
          "start_time": "2023-12-03T13:32:03.664646+00:00",
          "end_time": "2023-12-03T13:32:03.819723+00:00"
        }
      },
      "id": "7fbd558c-52aa-42d3-9af0-5ac47727c153"
    },
    {
      "cell_type": "code",
      "source": [
        "#we dump the regressor inside the salary_pred\n",
        "with open('salary_pred', 'wb') as files:\n",
        "    pickle.dump(regressor, files)"
      ],
      "outputs": [],
      "execution_count": null,
      "metadata": {
        "jupyter": {
          "outputs_hidden": false,
          "source_hidden": false
        },
        "noteable": {
          "cell_type": "code"
        },
        "ExecuteTime": {
          "start_time": "2023-12-03T13:32:03.824591+00:00",
          "end_time": "2023-12-03T13:32:03.980249+00:00"
        }
      },
      "id": "73a53d7d-b04c-4014-bda9-fbfa1e5dbee1"
    },
    {
      "cell_type": "code",
      "source": [
        "#again we load the saved file\n",
        "with open('salary_pred' , 'rb') as f:\n",
        "    lr = pickle.load(f)\n",
        "# check prediction\n",
        "\n",
        "lr.predict([[15]]) "
      ],
      "outputs": [
        {
          "output_type": "execute_result",
          "execution_count": null,
          "data": {
            "text/plain": "array([[167181.3106341]])"
          },
          "metadata": {}
        }
      ],
      "execution_count": null,
      "metadata": {
        "jupyter": {
          "outputs_hidden": false,
          "source_hidden": false
        },
        "noteable": {
          "cell_type": "code"
        },
        "ExecuteTime": {
          "start_time": "2023-12-03T13:32:03.986044+00:00",
          "end_time": "2023-12-03T13:32:04.144180+00:00"
        }
      },
      "id": "2aaab8ec-69e5-4c5c-b376-8a8ccdb48850"
    },
    {
      "cell_type": "code",
      "source": [],
      "outputs": [],
      "execution_count": null,
      "metadata": {
        "jupyter": {
          "outputs_hidden": false,
          "source_hidden": false
        },
        "noteable": {
          "cell_type": "code"
        }
      },
      "id": "918d4856-b1c5-4bd6-830b-699c7f27d2d7"
    }
  ],
  "metadata": {
    "kernel_info": {
      "name": "python3"
    },
    "kernelspec": {
      "name": "python3",
      "display_name": "Python 3.9",
      "language": "python",
      "language_version": "3.9",
      "identifier": "legacy"
    },
    "selected_hardware_size": "small",
    "noteable": {
      "last_delta_id": "3216db03-1310-448e-a5f4-2e9a6bdb5126"
    },
    "nteract": {
      "version": "noteable@2.9.0"
    }
  },
  "nbformat": 4,
  "nbformat_minor": 5
}