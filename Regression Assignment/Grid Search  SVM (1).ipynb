{
  "metadata": {
    "kernelspec": {
      "name": "python",
      "display_name": "Python (Pyodide)",
      "language": "python"
    },
    "language_info": {
      "codemirror_mode": {
        "name": "python",
        "version": 3
      },
      "file_extension": ".py",
      "mimetype": "text/x-python",
      "name": "python",
      "nbconvert_exporter": "python",
      "pygments_lexer": "ipython3",
      "version": "3.8"
    },
    "kernel_info": {
      "name": "python3"
    },
    "selected_hardware_size": "small",
    "noteable": {
      "last_delta_id": "caec02d2-ac55-42f0-870d-5c87e622289c"
    },
    "nteract": {
      "version": "noteable@2.9.0"
    }
  },
  "nbformat_minor": 5,
  "nbformat": 4,
  "cells": [
    {
      "id": "415d45ea",
      "cell_type": "code",
      "source": "import pandas as pd",
      "metadata": {
        "noteable": {},
        "ExecuteTime": {
          "start_time": "2023-12-15T11:30:16.302472+00:00",
          "end_time": "2023-12-15T11:30:16.456613+00:00"
        },
        "trusted": true
      },
      "outputs": [],
      "execution_count": 50
    },
    {
      "id": "e583255c-3e7f-4a02-a4ec-fcb1b7a52abf",
      "cell_type": "code",
      "source": "dataset = pd.read_csv('insurance_pre.csv')",
      "metadata": {
        "jupyter": {
          "outputs_hidden": false,
          "source_hidden": false
        },
        "noteable": {
          "cell_type": "code"
        },
        "ExecuteTime": {
          "start_time": "2023-12-15T11:30:17.894723+00:00",
          "end_time": "2023-12-15T11:30:18.054114+00:00"
        },
        "collapsed": false,
        "trusted": true
      },
      "outputs": [],
      "execution_count": 51
    },
    {
      "id": "cd607d74-86a6-46ae-b724-bf4351de1529",
      "cell_type": "code",
      "source": "dataset.head()",
      "metadata": {
        "jupyter": {
          "outputs_hidden": false,
          "source_hidden": false
        },
        "noteable": {
          "cell_type": "code"
        },
        "ExecuteTime": {
          "start_time": "2023-12-15T11:30:19.419575+00:00",
          "end_time": "2023-12-15T11:30:19.609564+00:00"
        },
        "datalink": {
          "ee35d37c-8f70-493a-8fac-c46e314a3724": {
            "applied_filters": [],
            "dataframe_info": {
              "default_index_used": true,
              "orig_num_cols": 6,
              "orig_num_rows": 5,
              "orig_size_bytes": 280,
              "truncated_num_cols": 6,
              "truncated_num_rows": 5,
              "truncated_size_bytes": 280,
              "truncated_string_columns": []
            },
            "display_id": "ee35d37c-8f70-493a-8fac-c46e314a3724",
            "dx_settings": {
              "ALLOW_NOTEABLE_ATTRS": true,
              "COLUMN_SAMPLING_METHOD": "outer",
              "DB_LOCATION": ":memory:",
              "DEV_MODE": false,
              "DISPLAY_MAX_COLUMNS": 100,
              "DISPLAY_MAX_ROWS": 50000,
              "DISPLAY_MODE": "simple",
              "ENABLE_ASSIGNMENT": true,
              "ENABLE_DATALINK": true,
              "FLATTEN_COLUMN_VALUES": true,
              "FLATTEN_INDEX_VALUES": false,
              "GENERATE_DEX_METADATA": false,
              "HTML_TABLE_SCHEMA": false,
              "LOG_LEVEL": 30,
              "MAX_RENDER_SIZE_BYTES": 104857600,
              "MAX_STRING_LENGTH": 250,
              "NUM_PAST_SAMPLES_TRACKED": 3,
              "RANDOM_STATE": 12648430,
              "RESET_INDEX_VALUES": false,
              "ROW_SAMPLING_METHOD": "random",
              "SAMPLING_FACTOR": 0.1,
              "SAMPLING_METHOD": "random",
              "STRINGIFY_COLUMN_VALUES": true,
              "STRINGIFY_INDEX_VALUES": false
            },
            "sample_history": [],
            "sampling_time": "2023-12-13T13:23:49.365985",
            "user_variable_name": null,
            "variable_name": "unk_dataframe_5e7f2a1f40d24f3da11c1b49cc6328ea"
          },
          "2bb9357c-06a3-4031-ba22-5718de7efc9c": {
            "applied_filters": [],
            "dataframe_info": {
              "default_index_used": true,
              "orig_num_cols": 6,
              "orig_num_rows": 5,
              "orig_size_bytes": 280,
              "truncated_num_cols": 6,
              "truncated_num_rows": 5,
              "truncated_size_bytes": 280,
              "truncated_string_columns": []
            },
            "display_id": "2bb9357c-06a3-4031-ba22-5718de7efc9c",
            "dx_settings": {
              "ALLOW_NOTEABLE_ATTRS": true,
              "COLUMN_SAMPLING_METHOD": "outer",
              "DB_LOCATION": ":memory:",
              "DEV_MODE": false,
              "DISPLAY_MAX_COLUMNS": 100,
              "DISPLAY_MAX_ROWS": 50000,
              "DISPLAY_MODE": "simple",
              "ENABLE_ASSIGNMENT": true,
              "ENABLE_DATALINK": true,
              "FLATTEN_COLUMN_VALUES": true,
              "FLATTEN_INDEX_VALUES": false,
              "GENERATE_DEX_METADATA": false,
              "HTML_TABLE_SCHEMA": false,
              "LOG_LEVEL": 30,
              "MAX_RENDER_SIZE_BYTES": 104857600,
              "MAX_STRING_LENGTH": 250,
              "NUM_PAST_SAMPLES_TRACKED": 3,
              "RANDOM_STATE": 12648430,
              "RESET_INDEX_VALUES": false,
              "ROW_SAMPLING_METHOD": "random",
              "SAMPLING_FACTOR": 0.1,
              "SAMPLING_METHOD": "random",
              "STRINGIFY_COLUMN_VALUES": true,
              "STRINGIFY_INDEX_VALUES": false
            },
            "sample_history": [],
            "sampling_time": "2023-12-15T04:37:24.012240",
            "user_variable_name": null,
            "variable_name": "unk_dataframe_907cf872d5c749aeb5de37ccd72e2891"
          },
          "8b6fc0bd-064f-4007-9655-7a4ddbadab71": {
            "dataframe_info": {
              "default_index_used": true,
              "orig_size_bytes": 280,
              "orig_num_rows": 5,
              "orig_num_cols": 6,
              "truncated_string_columns": [],
              "truncated_size_bytes": 280,
              "truncated_num_rows": 5,
              "truncated_num_cols": 6
            },
            "dx_settings": {
              "LOG_LEVEL": 30,
              "DEV_MODE": false,
              "DISPLAY_MAX_ROWS": 50000,
              "DISPLAY_MAX_COLUMNS": 100,
              "HTML_TABLE_SCHEMA": false,
              "MAX_RENDER_SIZE_BYTES": 104857600,
              "MAX_STRING_LENGTH": 250,
              "SAMPLING_FACTOR": 0.1,
              "DISPLAY_MODE": "simple",
              "SAMPLING_METHOD": "random",
              "COLUMN_SAMPLING_METHOD": "outer",
              "ROW_SAMPLING_METHOD": "random",
              "RANDOM_STATE": 12648430,
              "RESET_INDEX_VALUES": false,
              "FLATTEN_INDEX_VALUES": false,
              "FLATTEN_COLUMN_VALUES": true,
              "STRINGIFY_INDEX_VALUES": false,
              "STRINGIFY_COLUMN_VALUES": true,
              "ENABLE_DATALINK": true,
              "ENABLE_ASSIGNMENT": true,
              "NUM_PAST_SAMPLES_TRACKED": 3,
              "DB_LOCATION": ":memory:",
              "GENERATE_DEX_METADATA": false,
              "ALLOW_NOTEABLE_ATTRS": true
            },
            "display_id": "8b6fc0bd-064f-4007-9655-7a4ddbadab71",
            "applied_filters": [],
            "sample_history": [],
            "sampling_time": "2023-12-15T11:30:19.447411",
            "variable_name": "unk_dataframe_f51009e47b784ebdbc19ade86711f039",
            "user_variable_name": null
          }
        },
        "collapsed": false,
        "trusted": true,
        "editable": true,
        "slideshow": {
          "slide_type": ""
        }
      },
      "outputs": [
        {
          "execution_count": 52,
          "output_type": "execute_result",
          "data": {
            "text/plain": "   age     sex     bmi  children smoker      charges\n0   19  female  27.900         0    yes  16884.92400\n1   18    male  33.770         1     no   1725.55230\n2   28    male  33.000         3     no   4449.46200\n3   33    male  22.705         0     no  21984.47061\n4   32    male  28.880         0     no   3866.85520",
            "text/html": "<div>\n<style scoped>\n    .dataframe tbody tr th:only-of-type {\n        vertical-align: middle;\n    }\n\n    .dataframe tbody tr th {\n        vertical-align: top;\n    }\n\n    .dataframe thead th {\n        text-align: right;\n    }\n</style>\n<table border=\"1\" class=\"dataframe\">\n  <thead>\n    <tr style=\"text-align: right;\">\n      <th></th>\n      <th>age</th>\n      <th>sex</th>\n      <th>bmi</th>\n      <th>children</th>\n      <th>smoker</th>\n      <th>charges</th>\n    </tr>\n  </thead>\n  <tbody>\n    <tr>\n      <th>0</th>\n      <td>19</td>\n      <td>female</td>\n      <td>27.900</td>\n      <td>0</td>\n      <td>yes</td>\n      <td>16884.92400</td>\n    </tr>\n    <tr>\n      <th>1</th>\n      <td>18</td>\n      <td>male</td>\n      <td>33.770</td>\n      <td>1</td>\n      <td>no</td>\n      <td>1725.55230</td>\n    </tr>\n    <tr>\n      <th>2</th>\n      <td>28</td>\n      <td>male</td>\n      <td>33.000</td>\n      <td>3</td>\n      <td>no</td>\n      <td>4449.46200</td>\n    </tr>\n    <tr>\n      <th>3</th>\n      <td>33</td>\n      <td>male</td>\n      <td>22.705</td>\n      <td>0</td>\n      <td>no</td>\n      <td>21984.47061</td>\n    </tr>\n    <tr>\n      <th>4</th>\n      <td>32</td>\n      <td>male</td>\n      <td>28.880</td>\n      <td>0</td>\n      <td>no</td>\n      <td>3866.85520</td>\n    </tr>\n  </tbody>\n</table>\n</div>"
          },
          "metadata": {}
        }
      ],
      "execution_count": 52
    },
    {
      "id": "cb2e1131-07fc-4a64-9431-059d2e96d600",
      "cell_type": "code",
      "source": "dataset = pd.get_dummies(dataset,drop_first = True)",
      "metadata": {
        "jupyter": {
          "outputs_hidden": false,
          "source_hidden": false
        },
        "noteable": {
          "cell_type": "code"
        },
        "ExecuteTime": {
          "start_time": "2023-12-15T11:30:21.614898+00:00",
          "end_time": "2023-12-15T11:30:21.771678+00:00"
        },
        "collapsed": false,
        "trusted": true
      },
      "outputs": [],
      "execution_count": 53
    },
    {
      "id": "448baa7d-1e0d-4b3d-9b8a-9cdf2454bf50",
      "cell_type": "code",
      "source": "dataset.head()",
      "metadata": {
        "jupyter": {
          "outputs_hidden": false,
          "source_hidden": false
        },
        "noteable": {
          "cell_type": "code"
        },
        "ExecuteTime": {
          "start_time": "2023-12-15T11:30:23.305084+00:00",
          "end_time": "2023-12-15T11:30:23.493285+00:00"
        },
        "datalink": {
          "c2989359-329e-4ee1-b1f6-257795e11775": {
            "applied_filters": [],
            "dataframe_info": {
              "default_index_used": true,
              "orig_num_cols": 8,
              "orig_num_rows": 5,
              "orig_size_bytes": 220,
              "truncated_num_cols": 8,
              "truncated_num_rows": 5,
              "truncated_size_bytes": 220,
              "truncated_string_columns": []
            },
            "display_id": "c2989359-329e-4ee1-b1f6-257795e11775",
            "dx_settings": {
              "ALLOW_NOTEABLE_ATTRS": true,
              "COLUMN_SAMPLING_METHOD": "outer",
              "DB_LOCATION": ":memory:",
              "DEV_MODE": false,
              "DISPLAY_MAX_COLUMNS": 100,
              "DISPLAY_MAX_ROWS": 50000,
              "DISPLAY_MODE": "simple",
              "ENABLE_ASSIGNMENT": true,
              "ENABLE_DATALINK": true,
              "FLATTEN_COLUMN_VALUES": true,
              "FLATTEN_INDEX_VALUES": false,
              "GENERATE_DEX_METADATA": false,
              "HTML_TABLE_SCHEMA": false,
              "LOG_LEVEL": 30,
              "MAX_RENDER_SIZE_BYTES": 104857600,
              "MAX_STRING_LENGTH": 250,
              "NUM_PAST_SAMPLES_TRACKED": 3,
              "RANDOM_STATE": 12648430,
              "RESET_INDEX_VALUES": false,
              "ROW_SAMPLING_METHOD": "random",
              "SAMPLING_FACTOR": 0.1,
              "SAMPLING_METHOD": "random",
              "STRINGIFY_COLUMN_VALUES": true,
              "STRINGIFY_INDEX_VALUES": false
            },
            "sample_history": [],
            "sampling_time": "2023-12-13T13:24:15.449917",
            "user_variable_name": null,
            "variable_name": "unk_dataframe_9253b47d304f4c21bcbbe2edefffafea"
          },
          "da1eaf83-1e61-4d20-9498-0bb2884a0270": {
            "applied_filters": [],
            "dataframe_info": {
              "default_index_used": true,
              "orig_num_cols": 8,
              "orig_num_rows": 5,
              "orig_size_bytes": 220,
              "truncated_num_cols": 8,
              "truncated_num_rows": 5,
              "truncated_size_bytes": 220,
              "truncated_string_columns": []
            },
            "display_id": "da1eaf83-1e61-4d20-9498-0bb2884a0270",
            "dx_settings": {
              "ALLOW_NOTEABLE_ATTRS": true,
              "COLUMN_SAMPLING_METHOD": "outer",
              "DB_LOCATION": ":memory:",
              "DEV_MODE": false,
              "DISPLAY_MAX_COLUMNS": 100,
              "DISPLAY_MAX_ROWS": 50000,
              "DISPLAY_MODE": "simple",
              "ENABLE_ASSIGNMENT": true,
              "ENABLE_DATALINK": true,
              "FLATTEN_COLUMN_VALUES": true,
              "FLATTEN_INDEX_VALUES": false,
              "GENERATE_DEX_METADATA": false,
              "HTML_TABLE_SCHEMA": false,
              "LOG_LEVEL": 30,
              "MAX_RENDER_SIZE_BYTES": 104857600,
              "MAX_STRING_LENGTH": 250,
              "NUM_PAST_SAMPLES_TRACKED": 3,
              "RANDOM_STATE": 12648430,
              "RESET_INDEX_VALUES": false,
              "ROW_SAMPLING_METHOD": "random",
              "SAMPLING_FACTOR": 0.1,
              "SAMPLING_METHOD": "random",
              "STRINGIFY_COLUMN_VALUES": true,
              "STRINGIFY_INDEX_VALUES": false
            },
            "sample_history": [],
            "sampling_time": "2023-12-15T04:37:31.001221",
            "user_variable_name": null,
            "variable_name": "unk_dataframe_3b959cf1dab146d496bb7cc6eff95ea3"
          },
          "79ada9b5-4db6-456e-a213-ab986a6e7221": {
            "dataframe_info": {
              "default_index_used": true,
              "orig_size_bytes": 220,
              "orig_num_rows": 5,
              "orig_num_cols": 8,
              "truncated_string_columns": [],
              "truncated_size_bytes": 220,
              "truncated_num_rows": 5,
              "truncated_num_cols": 8
            },
            "dx_settings": {
              "LOG_LEVEL": 30,
              "DEV_MODE": false,
              "DISPLAY_MAX_ROWS": 50000,
              "DISPLAY_MAX_COLUMNS": 100,
              "HTML_TABLE_SCHEMA": false,
              "MAX_RENDER_SIZE_BYTES": 104857600,
              "MAX_STRING_LENGTH": 250,
              "SAMPLING_FACTOR": 0.1,
              "DISPLAY_MODE": "simple",
              "SAMPLING_METHOD": "random",
              "COLUMN_SAMPLING_METHOD": "outer",
              "ROW_SAMPLING_METHOD": "random",
              "RANDOM_STATE": 12648430,
              "RESET_INDEX_VALUES": false,
              "FLATTEN_INDEX_VALUES": false,
              "FLATTEN_COLUMN_VALUES": true,
              "STRINGIFY_INDEX_VALUES": false,
              "STRINGIFY_COLUMN_VALUES": true,
              "ENABLE_DATALINK": true,
              "ENABLE_ASSIGNMENT": true,
              "NUM_PAST_SAMPLES_TRACKED": 3,
              "DB_LOCATION": ":memory:",
              "GENERATE_DEX_METADATA": false,
              "ALLOW_NOTEABLE_ATTRS": true
            },
            "display_id": "79ada9b5-4db6-456e-a213-ab986a6e7221",
            "applied_filters": [],
            "sample_history": [],
            "sampling_time": "2023-12-15T11:30:23.333499",
            "variable_name": "unk_dataframe_3f66146cbaac45499a9783e4ce6a81a8",
            "user_variable_name": null
          }
        },
        "collapsed": false,
        "trusted": true
      },
      "outputs": [
        {
          "execution_count": 54,
          "output_type": "execute_result",
          "data": {
            "text/plain": "   age     bmi  children      charges  sex_male  smoker_yes\n0   19  27.900         0  16884.92400         0           1\n1   18  33.770         1   1725.55230         1           0\n2   28  33.000         3   4449.46200         1           0\n3   33  22.705         0  21984.47061         1           0\n4   32  28.880         0   3866.85520         1           0",
            "text/html": "<div>\n<style scoped>\n    .dataframe tbody tr th:only-of-type {\n        vertical-align: middle;\n    }\n\n    .dataframe tbody tr th {\n        vertical-align: top;\n    }\n\n    .dataframe thead th {\n        text-align: right;\n    }\n</style>\n<table border=\"1\" class=\"dataframe\">\n  <thead>\n    <tr style=\"text-align: right;\">\n      <th></th>\n      <th>age</th>\n      <th>bmi</th>\n      <th>children</th>\n      <th>charges</th>\n      <th>sex_male</th>\n      <th>smoker_yes</th>\n    </tr>\n  </thead>\n  <tbody>\n    <tr>\n      <th>0</th>\n      <td>19</td>\n      <td>27.900</td>\n      <td>0</td>\n      <td>16884.92400</td>\n      <td>0</td>\n      <td>1</td>\n    </tr>\n    <tr>\n      <th>1</th>\n      <td>18</td>\n      <td>33.770</td>\n      <td>1</td>\n      <td>1725.55230</td>\n      <td>1</td>\n      <td>0</td>\n    </tr>\n    <tr>\n      <th>2</th>\n      <td>28</td>\n      <td>33.000</td>\n      <td>3</td>\n      <td>4449.46200</td>\n      <td>1</td>\n      <td>0</td>\n    </tr>\n    <tr>\n      <th>3</th>\n      <td>33</td>\n      <td>22.705</td>\n      <td>0</td>\n      <td>21984.47061</td>\n      <td>1</td>\n      <td>0</td>\n    </tr>\n    <tr>\n      <th>4</th>\n      <td>32</td>\n      <td>28.880</td>\n      <td>0</td>\n      <td>3866.85520</td>\n      <td>1</td>\n      <td>0</td>\n    </tr>\n  </tbody>\n</table>\n</div>"
          },
          "metadata": {}
        }
      ],
      "execution_count": 54
    },
    {
      "id": "bb1bcbcd-8182-45c9-bddb-2cbed07c7be2",
      "cell_type": "code",
      "source": "dataset.columns",
      "metadata": {
        "jupyter": {
          "outputs_hidden": false,
          "source_hidden": false
        },
        "noteable": {
          "cell_type": "code"
        },
        "ExecuteTime": {
          "start_time": "2023-12-15T11:30:25.662614+00:00",
          "end_time": "2023-12-15T11:30:25.819572+00:00"
        },
        "collapsed": false,
        "trusted": true
      },
      "outputs": [
        {
          "execution_count": 55,
          "output_type": "execute_result",
          "data": {
            "text/plain": "Index(['age', 'bmi', 'children', 'charges', 'sex_male', 'smoker_yes'], dtype='object')"
          },
          "metadata": {}
        }
      ],
      "execution_count": 55
    },
    {
      "id": "b40f4dfc-2d14-49d0-9a31-9b25b5d14265",
      "cell_type": "code",
      "source": "independent = dataset[['age', 'bmi', 'children', 'sex_male', 'smoker_yes']]\ndependent = dataset['charges']",
      "metadata": {
        "jupyter": {
          "outputs_hidden": false,
          "source_hidden": false
        },
        "noteable": {
          "cell_type": "code"
        },
        "ExecuteTime": {
          "start_time": "2023-12-15T11:30:27.164993+00:00",
          "end_time": "2023-12-15T11:30:27.321733+00:00"
        },
        "collapsed": false,
        "trusted": true
      },
      "outputs": [],
      "execution_count": 56
    },
    {
      "id": "5a495ece-1397-4cc5-9bc7-ff058f4ed559",
      "cell_type": "code",
      "source": "from sklearn.model_selection import train_test_split\n\nx_train,x_test,y_train,y_test = train_test_split(independent,dependent,test_size = 0.30,random_state = 0)",
      "metadata": {
        "jupyter": {
          "outputs_hidden": false,
          "source_hidden": false
        },
        "noteable": {
          "cell_type": "code"
        },
        "ExecuteTime": {
          "start_time": "2023-12-15T11:30:29.288795+00:00",
          "end_time": "2023-12-15T11:30:29.444867+00:00"
        },
        "collapsed": false,
        "trusted": true
      },
      "outputs": [],
      "execution_count": 57
    },
    {
      "id": "b8b03100-229c-45b6-8294-8ba6bb4784ba",
      "cell_type": "code",
      "source": "from sklearn.preprocessing import StandardScaler\nsc = StandardScaler()\nx_train = sc.fit_transform(x_train)\nx_test = sc.transform(x_test)",
      "metadata": {
        "jupyter": {
          "outputs_hidden": false,
          "source_hidden": false
        },
        "noteable": {
          "cell_type": "code"
        },
        "ExecuteTime": {
          "start_time": "2023-12-15T11:30:30.909138+00:00",
          "end_time": "2023-12-15T11:30:31.067769+00:00"
        },
        "collapsed": false,
        "trusted": true
      },
      "outputs": [],
      "execution_count": 58
    },
    {
      "id": "c866514e-d189-4b8e-9242-4f84a51b7e36",
      "cell_type": "code",
      "source": "from sklearn.model_selection import GridSearchCV\nfrom sklearn.svm import SVR\nparam_grid = {'kernel':['rbf','poly','sigmoid','linear'],\n'C':[10,100,1000,2000,3000],'gamma':['auto','scale']}",
      "metadata": {
        "jupyter": {
          "outputs_hidden": false,
          "source_hidden": false
        },
        "noteable": {
          "cell_type": "code"
        },
        "collapsed": false,
        "trusted": true
      },
      "outputs": [],
      "execution_count": 62
    },
    {
      "id": "cf48781e-d9f0-4265-b95b-632707042398",
      "cell_type": "code",
      "source": "grid = GridSearchCV(SVR(),param_grid,refit = True,verbose=3,n_jobs=-1)",
      "metadata": {
        "trusted": true
      },
      "outputs": [],
      "execution_count": 63
    },
    {
      "id": "b27f8040-3e5c-404d-9867-8c2c979bfd8a",
      "cell_type": "code",
      "source": "grid.fit(x_train,y_train)",
      "metadata": {
        "trusted": true
      },
      "outputs": [
        {
          "name": "stdout",
          "text": "Fitting 5 folds for each of 40 candidates, totalling 200 fits\n[CV 1/5] END ......C=10, gamma=auto, kernel=rbf;, score=0.004 total time=   0.1s\n[CV 2/5] END ......C=10, gamma=auto, kernel=rbf;, score=0.013 total time=   0.1s\n[CV 3/5] END .....C=10, gamma=auto, kernel=rbf;, score=-0.104 total time=   0.1s\n[CV 4/5] END .....C=10, gamma=auto, kernel=rbf;, score=-0.095 total time=   0.1s\n[CV 5/5] END .....C=10, gamma=auto, kernel=rbf;, score=-0.102 total time=   0.2s\n[CV 1/5] END .....C=10, gamma=auto, kernel=poly;, score=0.056 total time=   0.1s\n[CV 2/5] END .....C=10, gamma=auto, kernel=poly;, score=0.070 total time=   0.1s\n[CV 3/5] END ....C=10, gamma=auto, kernel=poly;, score=-0.046 total time=   0.1s\n[CV 4/5] END ....C=10, gamma=auto, kernel=poly;, score=-0.025 total time=   0.1s\n[CV 5/5] END ....C=10, gamma=auto, kernel=poly;, score=-0.050 total time=   0.1s\n[CV 1/5] END ..C=10, gamma=auto, kernel=sigmoid;, score=0.050 total time=   0.1s\n[CV 2/5] END ..C=10, gamma=auto, kernel=sigmoid;, score=0.076 total time=   0.1s\n[CV 3/5] END .C=10, gamma=auto, kernel=sigmoid;, score=-0.047 total time=   0.1s\n[CV 4/5] END .C=10, gamma=auto, kernel=sigmoid;, score=-0.041 total time=   0.1s\n[CV 5/5] END .C=10, gamma=auto, kernel=sigmoid;, score=-0.047 total time=   0.1s\n[CV 1/5] END ...C=10, gamma=auto, kernel=linear;, score=0.378 total time=   0.1s\n[CV 2/5] END ...C=10, gamma=auto, kernel=linear;, score=0.480 total time=   0.1s\n[CV 3/5] END ...C=10, gamma=auto, kernel=linear;, score=0.318 total time=   0.1s\n[CV 4/5] END ...C=10, gamma=auto, kernel=linear;, score=0.338 total time=   0.1s\n[CV 5/5] END ...C=10, gamma=auto, kernel=linear;, score=0.324 total time=   0.1s\n[CV 1/5] END .....C=10, gamma=scale, kernel=rbf;, score=0.004 total time=   0.1s\n[CV 2/5] END .....C=10, gamma=scale, kernel=rbf;, score=0.013 total time=   0.1s\n[CV 3/5] END ....C=10, gamma=scale, kernel=rbf;, score=-0.104 total time=   0.1s\n[CV 4/5] END ....C=10, gamma=scale, kernel=rbf;, score=-0.095 total time=   0.1s\n[CV 5/5] END ....C=10, gamma=scale, kernel=rbf;, score=-0.102 total time=   0.2s\n[CV 1/5] END ....C=10, gamma=scale, kernel=poly;, score=0.055 total time=   0.1s\n[CV 2/5] END ....C=10, gamma=scale, kernel=poly;, score=0.071 total time=   0.1s\n[CV 3/5] END ...C=10, gamma=scale, kernel=poly;, score=-0.047 total time=   0.1s\n[CV 4/5] END ...C=10, gamma=scale, kernel=poly;, score=-0.024 total time=   0.1s\n[CV 5/5] END ...C=10, gamma=scale, kernel=poly;, score=-0.050 total time=   0.1s\n[CV 1/5] END .C=10, gamma=scale, kernel=sigmoid;, score=0.050 total time=   0.1s\n[CV 2/5] END .C=10, gamma=scale, kernel=sigmoid;, score=0.076 total time=   0.1s\n[CV 3/5] END C=10, gamma=scale, kernel=sigmoid;, score=-0.047 total time=   0.1s\n[CV 4/5] END C=10, gamma=scale, kernel=sigmoid;, score=-0.041 total time=   0.1s\n[CV 5/5] END C=10, gamma=scale, kernel=sigmoid;, score=-0.047 total time=   0.1s\n[CV 1/5] END ..C=10, gamma=scale, kernel=linear;, score=0.378 total time=   0.1s\n[CV 2/5] END ..C=10, gamma=scale, kernel=linear;, score=0.480 total time=   0.1s\n[CV 3/5] END ..C=10, gamma=scale, kernel=linear;, score=0.318 total time=   0.1s\n[CV 4/5] END ..C=10, gamma=scale, kernel=linear;, score=0.338 total time=   0.1s\n[CV 5/5] END ..C=10, gamma=scale, kernel=linear;, score=0.324 total time=   0.1s\n[CV 1/5] END .....C=100, gamma=auto, kernel=rbf;, score=0.301 total time=   0.1s\n[CV 2/5] END .....C=100, gamma=auto, kernel=rbf;, score=0.339 total time=   0.1s\n[CV 3/5] END .....C=100, gamma=auto, kernel=rbf;, score=0.174 total time=   0.1s\n[CV 4/5] END .....C=100, gamma=auto, kernel=rbf;, score=0.218 total time=   0.2s\n[CV 5/5] END .....C=100, gamma=auto, kernel=rbf;, score=0.183 total time=   0.1s\n[CV 1/5] END ....C=100, gamma=auto, kernel=poly;, score=0.541 total time=   0.1s\n[CV 2/5] END ....C=100, gamma=auto, kernel=poly;, score=0.575 total time=   0.2s\n[CV 3/5] END ....C=100, gamma=auto, kernel=poly;, score=0.475 total time=   0.1s\n[CV 4/5] END ....C=100, gamma=auto, kernel=poly;, score=0.536 total time=   0.1s\n[CV 5/5] END ....C=100, gamma=auto, kernel=poly;, score=0.425 total time=   0.1s\n[CV 1/5] END .C=100, gamma=auto, kernel=sigmoid;, score=0.478 total time=   0.1s\n[CV 2/5] END .C=100, gamma=auto, kernel=sigmoid;, score=0.562 total time=   0.2s\n[CV 3/5] END .C=100, gamma=auto, kernel=sigmoid;, score=0.428 total time=   0.2s\n[CV 4/5] END .C=100, gamma=auto, kernel=sigmoid;, score=0.450 total time=   0.3s\n[CV 5/5] END .C=100, gamma=auto, kernel=sigmoid;, score=0.432 total time=   0.2s\n[CV 1/5] END ..C=100, gamma=auto, kernel=linear;, score=0.584 total time=   0.1s\n[CV 2/5] END ..C=100, gamma=auto, kernel=linear;, score=0.656 total time=   0.1s\n[CV 3/5] END ..C=100, gamma=auto, kernel=linear;, score=0.553 total time=   0.2s\n[CV 4/5] END ..C=100, gamma=auto, kernel=linear;, score=0.577 total time=   0.2s\n[CV 5/5] END ..C=100, gamma=auto, kernel=linear;, score=0.547 total time=   0.2s\n[CV 1/5] END ....C=100, gamma=scale, kernel=rbf;, score=0.301 total time=   0.1s\n[CV 2/5] END ....C=100, gamma=scale, kernel=rbf;, score=0.339 total time=   0.1s\n[CV 3/5] END ....C=100, gamma=scale, kernel=rbf;, score=0.174 total time=   0.1s\n[CV 4/5] END ....C=100, gamma=scale, kernel=rbf;, score=0.218 total time=   0.1s\n[CV 5/5] END ....C=100, gamma=scale, kernel=rbf;, score=0.183 total time=   0.1s\n[CV 1/5] END ...C=100, gamma=scale, kernel=poly;, score=0.537 total time=   0.1s\n[CV 2/5] END ...C=100, gamma=scale, kernel=poly;, score=0.579 total time=   0.1s\n[CV 3/5] END ...C=100, gamma=scale, kernel=poly;, score=0.472 total time=   0.1s\n[CV 4/5] END ...C=100, gamma=scale, kernel=poly;, score=0.538 total time=   0.1s\n[CV 5/5] END ...C=100, gamma=scale, kernel=poly;, score=0.424 total time=   0.1s\n[CV 1/5] END C=100, gamma=scale, kernel=sigmoid;, score=0.479 total time=   0.2s\n[CV 2/5] END C=100, gamma=scale, kernel=sigmoid;, score=0.563 total time=   0.1s\n[CV 3/5] END C=100, gamma=scale, kernel=sigmoid;, score=0.427 total time=   0.1s\n[CV 4/5] END C=100, gamma=scale, kernel=sigmoid;, score=0.451 total time=   0.2s\n[CV 5/5] END C=100, gamma=scale, kernel=sigmoid;, score=0.432 total time=   0.1s\n[CV 1/5] END .C=100, gamma=scale, kernel=linear;, score=0.584 total time=   0.1s\n[CV 2/5] END .C=100, gamma=scale, kernel=linear;, score=0.656 total time=   0.2s\n[CV 3/5] END .C=100, gamma=scale, kernel=linear;, score=0.553 total time=   0.1s\n[CV 4/5] END .C=100, gamma=scale, kernel=linear;, score=0.577 total time=   0.1s\n[CV 5/5] END .C=100, gamma=scale, kernel=linear;, score=0.547 total time=   0.2s\n[CV 1/5] END ....C=1000, gamma=auto, kernel=rbf;, score=0.733 total time=   0.1s\n[CV 2/5] END ....C=1000, gamma=auto, kernel=rbf;, score=0.746 total time=   0.2s\n[CV 3/5] END ....C=1000, gamma=auto, kernel=rbf;, score=0.687 total time=   0.1s\n[CV 4/5] END ....C=1000, gamma=auto, kernel=rbf;, score=0.718 total time=   0.2s\n[CV 5/5] END ....C=1000, gamma=auto, kernel=rbf;, score=0.649 total time=   0.1s\n[CV 1/5] END ...C=1000, gamma=auto, kernel=poly;, score=0.830 total time=   0.1s\n[CV 2/5] END ...C=1000, gamma=auto, kernel=poly;, score=0.803 total time=   0.1s\n[CV 3/5] END ...C=1000, gamma=auto, kernel=poly;, score=0.800 total time=   0.1s\n[CV 4/5] END ...C=1000, gamma=auto, kernel=poly;, score=0.800 total time=   0.1s\n[CV 5/5] END ...C=1000, gamma=auto, kernel=poly;, score=0.736 total time=   0.1s\n[CV 1/5] END C=1000, gamma=auto, kernel=sigmoid;, score=0.296 total time=   0.1s\n[CV 2/5] END C=1000, gamma=auto, kernel=sigmoid;, score=0.372 total time=   0.1s\n[CV 3/5] END C=1000, gamma=auto, kernel=sigmoid;, score=0.216 total time=   0.2s\n[CV 4/5] END C=1000, gamma=auto, kernel=sigmoid;, score=0.291 total time=   0.1s\n[CV 5/5] END C=1000, gamma=auto, kernel=sigmoid;, score=0.351 total time=   0.1s\n[CV 1/5] END .C=1000, gamma=auto, kernel=linear;, score=0.605 total time=   0.1s\n[CV 2/5] END .C=1000, gamma=auto, kernel=linear;, score=0.589 total time=   0.1s\n[CV 3/5] END .C=1000, gamma=auto, kernel=linear;, score=0.623 total time=   0.2s\n[CV 4/5] END .C=1000, gamma=auto, kernel=linear;, score=0.538 total time=   0.1s\n[CV 5/5] END .C=1000, gamma=auto, kernel=linear;, score=0.617 total time=   0.1s\n[CV 1/5] END ...C=1000, gamma=scale, kernel=rbf;, score=0.733 total time=   0.2s\n[CV 2/5] END ...C=1000, gamma=scale, kernel=rbf;, score=0.746 total time=   0.1s\n[CV 3/5] END ...C=1000, gamma=scale, kernel=rbf;, score=0.687 total time=   0.1s\n[CV 4/5] END ...C=1000, gamma=scale, kernel=rbf;, score=0.718 total time=   0.1s\n[CV 5/5] END ...C=1000, gamma=scale, kernel=rbf;, score=0.649 total time=   0.1s\n[CV 1/5] END ..C=1000, gamma=scale, kernel=poly;, score=0.828 total time=   0.1s\n[CV 2/5] END ..C=1000, gamma=scale, kernel=poly;, score=0.803 total time=   0.2s\n[CV 3/5] END ..C=1000, gamma=scale, kernel=poly;, score=0.799 total time=   0.1s\n[CV 4/5] END ..C=1000, gamma=scale, kernel=poly;, score=0.801 total time=   0.1s\n[CV 5/5] END ..C=1000, gamma=scale, kernel=poly;, score=0.736 total time=   0.2s\n[CV 1/5] END C=1000, gamma=scale, kernel=sigmoid;, score=0.400 total time=   0.2s\n[CV 2/5] END C=1000, gamma=scale, kernel=sigmoid;, score=0.366 total time=   0.1s\n[CV 3/5] END C=1000, gamma=scale, kernel=sigmoid;, score=0.242 total time=   0.1s\n[CV 4/5] END C=1000, gamma=scale, kernel=sigmoid;, score=0.288 total time=   0.1s\n[CV 5/5] END C=1000, gamma=scale, kernel=sigmoid;, score=0.351 total time=   0.2s\n[CV 1/5] END C=1000, gamma=scale, kernel=linear;, score=0.605 total time=   0.1s\n[CV 2/5] END C=1000, gamma=scale, kernel=linear;, score=0.589 total time=   0.1s\n[CV 3/5] END C=1000, gamma=scale, kernel=linear;, score=0.623 total time=   0.1s\n[CV 4/5] END C=1000, gamma=scale, kernel=linear;, score=0.538 total time=   0.2s\n[CV 5/5] END C=1000, gamma=scale, kernel=linear;, score=0.617 total time=   0.1s\n[CV 1/5] END ....C=2000, gamma=auto, kernel=rbf;, score=0.814 total time=   0.2s\n[CV 2/5] END ....C=2000, gamma=auto, kernel=rbf;, score=0.781 total time=   0.1s\n[CV 3/5] END ....C=2000, gamma=auto, kernel=rbf;, score=0.794 total time=   0.2s\n[CV 4/5] END ....C=2000, gamma=auto, kernel=rbf;, score=0.794 total time=   0.2s\n[CV 5/5] END ....C=2000, gamma=auto, kernel=rbf;, score=0.734 total time=   0.1s\n[CV 1/5] END ...C=2000, gamma=auto, kernel=poly;, score=0.845 total time=   0.1s\n[CV 2/5] END ...C=2000, gamma=auto, kernel=poly;, score=0.806 total time=   0.2s\n[CV 3/5] END ...C=2000, gamma=auto, kernel=poly;, score=0.817 total time=   0.1s\n[CV 4/5] END ...C=2000, gamma=auto, kernel=poly;, score=0.805 total time=   0.2s\n[CV 5/5] END ...C=2000, gamma=auto, kernel=poly;, score=0.755 total time=   0.2s\n[CV 1/5] END C=2000, gamma=auto, kernel=sigmoid;, score=-0.402 total time=   0.1s\n[CV 2/5] END C=2000, gamma=auto, kernel=sigmoid;, score=-0.508 total time=   0.2s\n[CV 3/5] END C=2000, gamma=auto, kernel=sigmoid;, score=-0.453 total time=   0.1s\n[CV 4/5] END C=2000, gamma=auto, kernel=sigmoid;, score=-0.751 total time=   0.2s\n[CV 5/5] END C=2000, gamma=auto, kernel=sigmoid;, score=-0.112 total time=   0.2s\n[CV 1/5] END .C=2000, gamma=auto, kernel=linear;, score=0.605 total time=   0.1s\n[CV 2/5] END .C=2000, gamma=auto, kernel=linear;, score=0.584 total time=   0.1s\n[CV 3/5] END .C=2000, gamma=auto, kernel=linear;, score=0.697 total time=   0.1s\n[CV 4/5] END .C=2000, gamma=auto, kernel=linear;, score=0.533 total time=   0.2s\n[CV 5/5] END .C=2000, gamma=auto, kernel=linear;, score=0.681 total time=   0.1s\n[CV 1/5] END ...C=2000, gamma=scale, kernel=rbf;, score=0.814 total time=   0.1s\n[CV 2/5] END ...C=2000, gamma=scale, kernel=rbf;, score=0.781 total time=   0.1s\n[CV 3/5] END ...C=2000, gamma=scale, kernel=rbf;, score=0.794 total time=   0.2s\n[CV 4/5] END ...C=2000, gamma=scale, kernel=rbf;, score=0.794 total time=   0.1s\n[CV 5/5] END ...C=2000, gamma=scale, kernel=rbf;, score=0.734 total time=   0.1s\n[CV 1/5] END ..C=2000, gamma=scale, kernel=poly;, score=0.846 total time=   0.1s\n[CV 2/5] END ..C=2000, gamma=scale, kernel=poly;, score=0.806 total time=   0.1s\n[CV 3/5] END ..C=2000, gamma=scale, kernel=poly;, score=0.817 total time=   0.2s\n[CV 4/5] END ..C=2000, gamma=scale, kernel=poly;, score=0.805 total time=   0.2s\n[CV 5/5] END ..C=2000, gamma=scale, kernel=poly;, score=0.755 total time=   0.4s\n[CV 1/5] END C=2000, gamma=scale, kernel=sigmoid;, score=-0.386 total time=   0.1s\n[CV 2/5] END C=2000, gamma=scale, kernel=sigmoid;, score=-0.537 total time=   0.1s\n[CV 3/5] END C=2000, gamma=scale, kernel=sigmoid;, score=-0.475 total time=   0.2s\n[CV 4/5] END C=2000, gamma=scale, kernel=sigmoid;, score=-0.477 total time=   0.2s\n[CV 5/5] END C=2000, gamma=scale, kernel=sigmoid;, score=-0.111 total time=   0.2s\n[CV 1/5] END C=2000, gamma=scale, kernel=linear;, score=0.605 total time=   0.1s\n[CV 2/5] END C=2000, gamma=scale, kernel=linear;, score=0.584 total time=   0.1s\n[CV 3/5] END C=2000, gamma=scale, kernel=linear;, score=0.697 total time=   0.1s\n[CV 4/5] END C=2000, gamma=scale, kernel=linear;, score=0.533 total time=   0.1s\n[CV 5/5] END C=2000, gamma=scale, kernel=linear;, score=0.681 total time=   0.2s\n[CV 1/5] END ....C=3000, gamma=auto, kernel=rbf;, score=0.829 total time=   0.2s\n[CV 2/5] END ....C=3000, gamma=auto, kernel=rbf;, score=0.790 total time=   0.2s\n[CV 3/5] END ....C=3000, gamma=auto, kernel=rbf;, score=0.811 total time=   0.2s\n[CV 4/5] END ....C=3000, gamma=auto, kernel=rbf;, score=0.813 total time=   0.1s\n[CV 5/5] END ....C=3000, gamma=auto, kernel=rbf;, score=0.742 total time=   0.1s\n[CV 1/5] END ...C=3000, gamma=auto, kernel=poly;, score=0.847 total time=   0.3s\n[CV 2/5] END ...C=3000, gamma=auto, kernel=poly;, score=0.805 total time=   0.1s\n[CV 3/5] END ...C=3000, gamma=auto, kernel=poly;, score=0.817 total time=   0.2s\n[CV 4/5] END ...C=3000, gamma=auto, kernel=poly;, score=0.805 total time=   0.4s\n[CV 5/5] END ...C=3000, gamma=auto, kernel=poly;, score=0.759 total time=   0.2s\n[CV 1/5] END C=3000, gamma=auto, kernel=sigmoid;, score=-1.091 total time=   0.1s\n[CV 2/5] END C=3000, gamma=auto, kernel=sigmoid;, score=-1.761 total time=   0.1s\n[CV 3/5] END C=3000, gamma=auto, kernel=sigmoid;, score=-1.734 total time=   0.1s\n[CV 4/5] END C=3000, gamma=auto, kernel=sigmoid;, score=-2.304 total time=   0.1s\n[CV 5/5] END C=3000, gamma=auto, kernel=sigmoid;, score=-1.050 total time=   0.2s\n[CV 1/5] END .C=3000, gamma=auto, kernel=linear;, score=0.657 total time=   0.1s\n[CV 2/5] END .C=3000, gamma=auto, kernel=linear;, score=0.584 total time=   0.2s\n[CV 3/5] END .C=3000, gamma=auto, kernel=linear;, score=0.698 total time=   0.1s\n[CV 4/5] END .C=3000, gamma=auto, kernel=linear;, score=0.529 total time=   0.2s\n[CV 5/5] END .C=3000, gamma=auto, kernel=linear;, score=0.656 total time=   0.1s\n[CV 1/5] END ...C=3000, gamma=scale, kernel=rbf;, score=0.829 total time=   0.1s\n[CV 2/5] END ...C=3000, gamma=scale, kernel=rbf;, score=0.790 total time=   0.2s\n[CV 3/5] END ...C=3000, gamma=scale, kernel=rbf;, score=0.811 total time=   0.1s\n[CV 4/5] END ...C=3000, gamma=scale, kernel=rbf;, score=0.813 total time=   0.1s\n[CV 5/5] END ...C=3000, gamma=scale, kernel=rbf;, score=0.742 total time=   0.2s\n[CV 1/5] END ..C=3000, gamma=scale, kernel=poly;, score=0.847 total time=   0.5s\n[CV 2/5] END ..C=3000, gamma=scale, kernel=poly;, score=0.805 total time=   0.2s\n[CV 3/5] END ..C=3000, gamma=scale, kernel=poly;, score=0.817 total time=   0.2s\n[CV 4/5] END ..C=3000, gamma=scale, kernel=poly;, score=0.805 total time=   0.4s\n[CV 5/5] END ..C=3000, gamma=scale, kernel=poly;, score=0.759 total time=   0.2s\n[CV 1/5] END C=3000, gamma=scale, kernel=sigmoid;, score=-1.762 total time=   0.1s\n[CV 2/5] END C=3000, gamma=scale, kernel=sigmoid;, score=-2.139 total time=   0.2s\n[CV 3/5] END C=3000, gamma=scale, kernel=sigmoid;, score=-1.704 total time=   0.1s\n[CV 4/5] END C=3000, gamma=scale, kernel=sigmoid;, score=-2.341 total time=   0.1s\n[CV 5/5] END C=3000, gamma=scale, kernel=sigmoid;, score=-1.049 total time=   0.1s\n[CV 1/5] END C=3000, gamma=scale, kernel=linear;, score=0.657 total time=   0.1s\n[CV 2/5] END C=3000, gamma=scale, kernel=linear;, score=0.584 total time=   0.1s\n[CV 3/5] END C=3000, gamma=scale, kernel=linear;, score=0.698 total time=   0.2s\n[CV 4/5] END C=3000, gamma=scale, kernel=linear;, score=0.529 total time=   0.2s\n[CV 5/5] END C=3000, gamma=scale, kernel=linear;, score=0.656 total time=   0.1s\n",
          "output_type": "stream"
        },
        {
          "execution_count": 64,
          "output_type": "execute_result",
          "data": {
            "text/plain": "GridSearchCV(estimator=SVR(), n_jobs=-1,\n             param_grid={'C': [10, 100, 1000, 2000, 3000],\n                         'gamma': ['auto', 'scale'],\n                         'kernel': ['rbf', 'poly', 'sigmoid', 'linear']},\n             verbose=3)",
            "text/html": "<style>#sk-container-id-2 {color: black;}#sk-container-id-2 pre{padding: 0;}#sk-container-id-2 div.sk-toggleable {background-color: white;}#sk-container-id-2 label.sk-toggleable__label {cursor: pointer;display: block;width: 100%;margin-bottom: 0;padding: 0.3em;box-sizing: border-box;text-align: center;}#sk-container-id-2 label.sk-toggleable__label-arrow:before {content: \"▸\";float: left;margin-right: 0.25em;color: #696969;}#sk-container-id-2 label.sk-toggleable__label-arrow:hover:before {color: black;}#sk-container-id-2 div.sk-estimator:hover label.sk-toggleable__label-arrow:before {color: black;}#sk-container-id-2 div.sk-toggleable__content {max-height: 0;max-width: 0;overflow: hidden;text-align: left;background-color: #f0f8ff;}#sk-container-id-2 div.sk-toggleable__content pre {margin: 0.2em;color: black;border-radius: 0.25em;background-color: #f0f8ff;}#sk-container-id-2 input.sk-toggleable__control:checked~div.sk-toggleable__content {max-height: 200px;max-width: 100%;overflow: auto;}#sk-container-id-2 input.sk-toggleable__control:checked~label.sk-toggleable__label-arrow:before {content: \"▾\";}#sk-container-id-2 div.sk-estimator input.sk-toggleable__control:checked~label.sk-toggleable__label {background-color: #d4ebff;}#sk-container-id-2 div.sk-label input.sk-toggleable__control:checked~label.sk-toggleable__label {background-color: #d4ebff;}#sk-container-id-2 input.sk-hidden--visually {border: 0;clip: rect(1px 1px 1px 1px);clip: rect(1px, 1px, 1px, 1px);height: 1px;margin: -1px;overflow: hidden;padding: 0;position: absolute;width: 1px;}#sk-container-id-2 div.sk-estimator {font-family: monospace;background-color: #f0f8ff;border: 1px dotted black;border-radius: 0.25em;box-sizing: border-box;margin-bottom: 0.5em;}#sk-container-id-2 div.sk-estimator:hover {background-color: #d4ebff;}#sk-container-id-2 div.sk-parallel-item::after {content: \"\";width: 100%;border-bottom: 1px solid gray;flex-grow: 1;}#sk-container-id-2 div.sk-label:hover label.sk-toggleable__label {background-color: #d4ebff;}#sk-container-id-2 div.sk-serial::before {content: \"\";position: absolute;border-left: 1px solid gray;box-sizing: border-box;top: 0;bottom: 0;left: 50%;z-index: 0;}#sk-container-id-2 div.sk-serial {display: flex;flex-direction: column;align-items: center;background-color: white;padding-right: 0.2em;padding-left: 0.2em;position: relative;}#sk-container-id-2 div.sk-item {position: relative;z-index: 1;}#sk-container-id-2 div.sk-parallel {display: flex;align-items: stretch;justify-content: center;background-color: white;position: relative;}#sk-container-id-2 div.sk-item::before, #sk-container-id-2 div.sk-parallel-item::before {content: \"\";position: absolute;border-left: 1px solid gray;box-sizing: border-box;top: 0;bottom: 0;left: 50%;z-index: -1;}#sk-container-id-2 div.sk-parallel-item {display: flex;flex-direction: column;z-index: 1;position: relative;background-color: white;}#sk-container-id-2 div.sk-parallel-item:first-child::after {align-self: flex-end;width: 50%;}#sk-container-id-2 div.sk-parallel-item:last-child::after {align-self: flex-start;width: 50%;}#sk-container-id-2 div.sk-parallel-item:only-child::after {width: 0;}#sk-container-id-2 div.sk-dashed-wrapped {border: 1px dashed gray;margin: 0 0.4em 0.5em 0.4em;box-sizing: border-box;padding-bottom: 0.4em;background-color: white;}#sk-container-id-2 div.sk-label label {font-family: monospace;font-weight: bold;display: inline-block;line-height: 1.2em;}#sk-container-id-2 div.sk-label-container {text-align: center;}#sk-container-id-2 div.sk-container {/* jupyter's `normalize.less` sets `[hidden] { display: none; }` but bootstrap.min.css set `[hidden] { display: none !important; }` so we also need the `!important` here to be able to override the default hidden behavior on the sphinx rendered scikit-learn.org. See: https://github.com/scikit-learn/scikit-learn/issues/21755 */display: inline-block !important;position: relative;}#sk-container-id-2 div.sk-text-repr-fallback {display: none;}</style><div id=\"sk-container-id-2\" class=\"sk-top-container\"><div class=\"sk-text-repr-fallback\"><pre>GridSearchCV(estimator=SVR(), n_jobs=-1,\n             param_grid={&#x27;C&#x27;: [10, 100, 1000, 2000, 3000],\n                         &#x27;gamma&#x27;: [&#x27;auto&#x27;, &#x27;scale&#x27;],\n                         &#x27;kernel&#x27;: [&#x27;rbf&#x27;, &#x27;poly&#x27;, &#x27;sigmoid&#x27;, &#x27;linear&#x27;]},\n             verbose=3)</pre><b>In a Jupyter environment, please rerun this cell to show the HTML representation or trust the notebook. <br />On GitHub, the HTML representation is unable to render, please try loading this page with nbviewer.org.</b></div><div class=\"sk-container\" hidden><div class=\"sk-item sk-dashed-wrapped\"><div class=\"sk-label-container\"><div class=\"sk-label sk-toggleable\"><input class=\"sk-toggleable__control sk-hidden--visually\" id=\"sk-estimator-id-4\" type=\"checkbox\" ><label for=\"sk-estimator-id-4\" class=\"sk-toggleable__label sk-toggleable__label-arrow\">GridSearchCV</label><div class=\"sk-toggleable__content\"><pre>GridSearchCV(estimator=SVR(), n_jobs=-1,\n             param_grid={&#x27;C&#x27;: [10, 100, 1000, 2000, 3000],\n                         &#x27;gamma&#x27;: [&#x27;auto&#x27;, &#x27;scale&#x27;],\n                         &#x27;kernel&#x27;: [&#x27;rbf&#x27;, &#x27;poly&#x27;, &#x27;sigmoid&#x27;, &#x27;linear&#x27;]},\n             verbose=3)</pre></div></div></div><div class=\"sk-parallel\"><div class=\"sk-parallel-item\"><div class=\"sk-item\"><div class=\"sk-label-container\"><div class=\"sk-label sk-toggleable\"><input class=\"sk-toggleable__control sk-hidden--visually\" id=\"sk-estimator-id-5\" type=\"checkbox\" ><label for=\"sk-estimator-id-5\" class=\"sk-toggleable__label sk-toggleable__label-arrow\">estimator: SVR</label><div class=\"sk-toggleable__content\"><pre>SVR()</pre></div></div></div><div class=\"sk-serial\"><div class=\"sk-item\"><div class=\"sk-estimator sk-toggleable\"><input class=\"sk-toggleable__control sk-hidden--visually\" id=\"sk-estimator-id-6\" type=\"checkbox\" ><label for=\"sk-estimator-id-6\" class=\"sk-toggleable__label sk-toggleable__label-arrow\">SVR</label><div class=\"sk-toggleable__content\"><pre>SVR()</pre></div></div></div></div></div></div></div></div></div></div>"
          },
          "metadata": {}
        }
      ],
      "execution_count": 64
    },
    {
      "id": "e25f9129-297d-4556-9c46-3a17baabeda1",
      "cell_type": "code",
      "source": "re = grid.cv_results_\nprint(\"R Score for best parameter {}\".format(grid.best_params_))",
      "metadata": {
        "trusted": true
      },
      "outputs": [
        {
          "name": "stdout",
          "text": "R Score for best parameter {'C': 3000, 'gamma': 'scale', 'kernel': 'poly'}\n",
          "output_type": "stream"
        }
      ],
      "execution_count": 65
    },
    {
      "id": "541345df-0d9a-4831-8389-09587c8813bc",
      "cell_type": "code",
      "source": "table = pd.DataFrame.from_dict(re)",
      "metadata": {
        "trusted": true
      },
      "outputs": [],
      "execution_count": 66
    },
    {
      "id": "e3d0a5cc-9ea0-4966-a27b-6f489c322d33",
      "cell_type": "code",
      "source": "table",
      "metadata": {
        "trusted": true
      },
      "outputs": [
        {
          "execution_count": 67,
          "output_type": "execute_result",
          "data": {
            "text/plain": "    mean_fit_time  std_fit_time  mean_score_time  std_score_time param_C  \\\n0          0.1030      0.041603           0.0232        0.012156      10   \n1          0.0526      0.013291           0.0096        0.005200      10   \n2          0.0854      0.016268           0.0172        0.002315      10   \n3          0.0660      0.025807           0.0136        0.007684      10   \n4          0.0826      0.029709           0.0156        0.003262      10   \n5          0.0680      0.033094           0.0086        0.000800      10   \n6          0.0866      0.011377           0.0202        0.008085      10   \n7          0.0634      0.008686           0.0086        0.001743      10   \n8          0.0910      0.041323           0.0232        0.016437     100   \n9          0.0842      0.034225           0.0140        0.007376     100   \n10         0.1588      0.054532           0.0344        0.016548     100   \n11         0.1168      0.045657           0.0170        0.010431     100   \n12         0.0692      0.010628           0.0238        0.007985     100   \n13         0.0620      0.009121           0.0118        0.005706     100   \n14         0.1090      0.044989           0.0156        0.000800     100   \n15         0.1202      0.032603           0.0158        0.004490     100   \n16         0.1174      0.044247           0.0280        0.008124    1000   \n17         0.1030      0.014283           0.0094        0.000800    1000   \n18         0.1168      0.034695           0.0236        0.013574    1000   \n19         0.1298      0.041949           0.0182        0.005154    1000   \n20         0.1028      0.026088           0.0174        0.004079    1000   \n21         0.1270      0.049051           0.0150        0.007589    1000   \n22         0.1210      0.037821           0.0202        0.003763    1000   \n23         0.1010      0.045387           0.0112        0.005706    1000   \n24         0.1384      0.049601           0.0218        0.004792    2000   \n25         0.1522      0.039686           0.0100        0.002757    2000   \n26         0.1338      0.021507           0.0234        0.008523    2000   \n27         0.1142      0.027773           0.0106        0.004409    2000   \n28         0.1114      0.025912           0.0218        0.013615    2000   \n29         0.1792      0.088601           0.0118        0.002713    2000   \n30         0.1366      0.023737           0.0240        0.013741    2000   \n31         0.1258      0.017520           0.0122        0.003655    2000   \n32         0.1394      0.053861           0.0204        0.009972    3000   \n33         0.2296      0.091653           0.0092        0.000400    3000   \n34         0.1178      0.038044           0.0198        0.007222    3000   \n35         0.1436      0.033518           0.0100        0.000894    3000   \n36         0.1234      0.025049           0.0156        0.001020    3000   \n37         0.2942      0.123479           0.0126        0.004841    3000   \n38         0.1222      0.032805           0.0272        0.010943    3000   \n39         0.1484      0.036505           0.0092        0.002561    3000   \n\n   param_gamma param_kernel  \\\n0         auto          rbf   \n1         auto         poly   \n2         auto      sigmoid   \n3         auto       linear   \n4        scale          rbf   \n5        scale         poly   \n6        scale      sigmoid   \n7        scale       linear   \n8         auto          rbf   \n9         auto         poly   \n10        auto      sigmoid   \n11        auto       linear   \n12       scale          rbf   \n13       scale         poly   \n14       scale      sigmoid   \n15       scale       linear   \n16        auto          rbf   \n17        auto         poly   \n18        auto      sigmoid   \n19        auto       linear   \n20       scale          rbf   \n21       scale         poly   \n22       scale      sigmoid   \n23       scale       linear   \n24        auto          rbf   \n25        auto         poly   \n26        auto      sigmoid   \n27        auto       linear   \n28       scale          rbf   \n29       scale         poly   \n30       scale      sigmoid   \n31       scale       linear   \n32        auto          rbf   \n33        auto         poly   \n34        auto      sigmoid   \n35        auto       linear   \n36       scale          rbf   \n37       scale         poly   \n38       scale      sigmoid   \n39       scale       linear   \n\n                                               params  split0_test_score  \\\n0         {'C': 10, 'gamma': 'auto', 'kernel': 'rbf'}           0.004055   \n1        {'C': 10, 'gamma': 'auto', 'kernel': 'poly'}           0.056274   \n2     {'C': 10, 'gamma': 'auto', 'kernel': 'sigmoid'}           0.049905   \n3      {'C': 10, 'gamma': 'auto', 'kernel': 'linear'}           0.377969   \n4        {'C': 10, 'gamma': 'scale', 'kernel': 'rbf'}           0.004126   \n5       {'C': 10, 'gamma': 'scale', 'kernel': 'poly'}           0.054964   \n6    {'C': 10, 'gamma': 'scale', 'kernel': 'sigmoid'}           0.049644   \n7     {'C': 10, 'gamma': 'scale', 'kernel': 'linear'}           0.377969   \n8        {'C': 100, 'gamma': 'auto', 'kernel': 'rbf'}           0.300573   \n9       {'C': 100, 'gamma': 'auto', 'kernel': 'poly'}           0.540643   \n10   {'C': 100, 'gamma': 'auto', 'kernel': 'sigmoid'}           0.478364   \n11    {'C': 100, 'gamma': 'auto', 'kernel': 'linear'}           0.584474   \n12      {'C': 100, 'gamma': 'scale', 'kernel': 'rbf'}           0.301041   \n13     {'C': 100, 'gamma': 'scale', 'kernel': 'poly'}           0.537117   \n14  {'C': 100, 'gamma': 'scale', 'kernel': 'sigmoid'}           0.478930   \n15   {'C': 100, 'gamma': 'scale', 'kernel': 'linear'}           0.584474   \n16      {'C': 1000, 'gamma': 'auto', 'kernel': 'rbf'}           0.733044   \n17     {'C': 1000, 'gamma': 'auto', 'kernel': 'poly'}           0.829631   \n18  {'C': 1000, 'gamma': 'auto', 'kernel': 'sigmoid'}           0.296082   \n19   {'C': 1000, 'gamma': 'auto', 'kernel': 'linear'}           0.605304   \n20     {'C': 1000, 'gamma': 'scale', 'kernel': 'rbf'}           0.733334   \n21    {'C': 1000, 'gamma': 'scale', 'kernel': 'poly'}           0.828213   \n22  {'C': 1000, 'gamma': 'scale', 'kernel': 'sigmo...           0.400044   \n23  {'C': 1000, 'gamma': 'scale', 'kernel': 'linear'}           0.605304   \n24      {'C': 2000, 'gamma': 'auto', 'kernel': 'rbf'}           0.814076   \n25     {'C': 2000, 'gamma': 'auto', 'kernel': 'poly'}           0.845403   \n26  {'C': 2000, 'gamma': 'auto', 'kernel': 'sigmoid'}          -0.401855   \n27   {'C': 2000, 'gamma': 'auto', 'kernel': 'linear'}           0.605277   \n28     {'C': 2000, 'gamma': 'scale', 'kernel': 'rbf'}           0.814295   \n29    {'C': 2000, 'gamma': 'scale', 'kernel': 'poly'}           0.845581   \n30  {'C': 2000, 'gamma': 'scale', 'kernel': 'sigmo...          -0.385658   \n31  {'C': 2000, 'gamma': 'scale', 'kernel': 'linear'}           0.605277   \n32      {'C': 3000, 'gamma': 'auto', 'kernel': 'rbf'}           0.828670   \n33     {'C': 3000, 'gamma': 'auto', 'kernel': 'poly'}           0.846775   \n34  {'C': 3000, 'gamma': 'auto', 'kernel': 'sigmoid'}          -1.090896   \n35   {'C': 3000, 'gamma': 'auto', 'kernel': 'linear'}           0.657470   \n36     {'C': 3000, 'gamma': 'scale', 'kernel': 'rbf'}           0.828795   \n37    {'C': 3000, 'gamma': 'scale', 'kernel': 'poly'}           0.846874   \n38  {'C': 3000, 'gamma': 'scale', 'kernel': 'sigmo...          -1.761871   \n39  {'C': 3000, 'gamma': 'scale', 'kernel': 'linear'}           0.657470   \n\n    split1_test_score  split2_test_score  split3_test_score  \\\n0            0.013366          -0.103821          -0.095119   \n1            0.069532          -0.045601          -0.025079   \n2            0.075905          -0.046585          -0.041004   \n3            0.479601           0.317872           0.337979   \n4            0.013244          -0.103775          -0.095165   \n5            0.071297          -0.046513          -0.024157   \n6            0.076323          -0.046798          -0.040824   \n7            0.479601           0.317872           0.337979   \n8            0.339474           0.173708           0.217991   \n9            0.575051           0.474839           0.535730   \n10           0.561673           0.428331           0.450454   \n11           0.655818           0.553380           0.576939   \n12           0.338741           0.174086           0.217641   \n13           0.579373           0.471840           0.537966   \n14           0.563200           0.427152           0.451250   \n15           0.655818           0.553380           0.576939   \n16           0.746232           0.686773           0.717920   \n17           0.802622           0.799620           0.800321   \n18           0.372281           0.216401           0.291265   \n19           0.588725           0.623230           0.537931   \n20           0.745892           0.687037           0.717769   \n21           0.802622           0.799348           0.800587   \n22           0.366097           0.242217           0.288461   \n23           0.588725           0.623230           0.537931   \n24           0.781092           0.794081           0.794075   \n25           0.805639           0.816733           0.805143   \n26          -0.508082          -0.452827          -0.751013   \n27           0.583646           0.697368           0.532547   \n28           0.780971           0.794227           0.793983   \n29           0.805624           0.816612           0.805133   \n30          -0.537098          -0.474912          -0.477335   \n31           0.583646           0.697368           0.532547   \n32           0.790265           0.811049           0.812892   \n33           0.805323           0.817309           0.805191   \n34          -1.761043          -1.734344          -2.304377   \n35           0.583501           0.697875           0.529117   \n36           0.790105           0.811123           0.812857   \n37           0.805331           0.817283           0.805239   \n38          -2.139307          -1.704369          -2.340839   \n39           0.583501           0.697875           0.529117   \n\n    split4_test_score  mean_test_score  std_test_score  rank_test_score  \n0           -0.101604        -0.056625        0.053504               35  \n1           -0.049592         0.001107        0.051309               32  \n2           -0.046507        -0.001657        0.053391               34  \n3            0.324422         0.367569        0.059777               25  \n4           -0.101602        -0.056634        0.053486               36  \n5           -0.049652         0.001188        0.051594               31  \n6           -0.046521        -0.001635        0.053474               33  \n7            0.324422         0.367569        0.059777               25  \n8            0.183375         0.243024        0.065733               29  \n9            0.424640         0.510181        0.053582               21  \n10           0.431701         0.470105        0.049110               24  \n11           0.546881         0.583498        0.038787               19  \n12           0.183403         0.242982        0.065542               30  \n13           0.424478         0.510155        0.054955               22  \n14           0.432199         0.470546        0.049762               23  \n15           0.546881         0.583498        0.038787               19  \n16           0.649158         0.706625        0.034902               12  \n17           0.735580         0.793555        0.031072                7  \n18           0.351325         0.305471        0.054387               28  \n19           0.616726         0.594383        0.030560               17  \n20           0.649174         0.706641        0.034825               11  \n21           0.735555         0.793265        0.030757                8  \n22           0.351407         0.329645        0.056742               27  \n23           0.616726         0.594383        0.030560               17  \n24           0.733656         0.783396        0.027014               10  \n25           0.754961         0.805576        0.029233                4  \n26          -0.111859        -0.445127        0.205197               38  \n27           0.681425         0.620053        0.061555               15  \n28           0.733663         0.783428        0.027068                9  \n29           0.754962         0.805582        0.029272                3  \n30          -0.111187        -0.397238        0.150976               37  \n31           0.681425         0.620053        0.061555               15  \n32           0.741829         0.796941        0.030140                6  \n33           0.758994         0.806718        0.028279                2  \n34          -1.050280        -1.588188        0.469215               39  \n35           0.655785         0.624750        0.060379               13  \n36           0.741835         0.796943        0.030174                5  \n37           0.758988         0.806743        0.028307                1  \n38          -1.048739        -1.799025        0.443311               40  \n39           0.655785         0.624750        0.060379               13  ",
            "text/html": "<div>\n<style scoped>\n    .dataframe tbody tr th:only-of-type {\n        vertical-align: middle;\n    }\n\n    .dataframe tbody tr th {\n        vertical-align: top;\n    }\n\n    .dataframe thead th {\n        text-align: right;\n    }\n</style>\n<table border=\"1\" class=\"dataframe\">\n  <thead>\n    <tr style=\"text-align: right;\">\n      <th></th>\n      <th>mean_fit_time</th>\n      <th>std_fit_time</th>\n      <th>mean_score_time</th>\n      <th>std_score_time</th>\n      <th>param_C</th>\n      <th>param_gamma</th>\n      <th>param_kernel</th>\n      <th>params</th>\n      <th>split0_test_score</th>\n      <th>split1_test_score</th>\n      <th>split2_test_score</th>\n      <th>split3_test_score</th>\n      <th>split4_test_score</th>\n      <th>mean_test_score</th>\n      <th>std_test_score</th>\n      <th>rank_test_score</th>\n    </tr>\n  </thead>\n  <tbody>\n    <tr>\n      <th>0</th>\n      <td>0.1030</td>\n      <td>0.041603</td>\n      <td>0.0232</td>\n      <td>0.012156</td>\n      <td>10</td>\n      <td>auto</td>\n      <td>rbf</td>\n      <td>{'C': 10, 'gamma': 'auto', 'kernel': 'rbf'}</td>\n      <td>0.004055</td>\n      <td>0.013366</td>\n      <td>-0.103821</td>\n      <td>-0.095119</td>\n      <td>-0.101604</td>\n      <td>-0.056625</td>\n      <td>0.053504</td>\n      <td>35</td>\n    </tr>\n    <tr>\n      <th>1</th>\n      <td>0.0526</td>\n      <td>0.013291</td>\n      <td>0.0096</td>\n      <td>0.005200</td>\n      <td>10</td>\n      <td>auto</td>\n      <td>poly</td>\n      <td>{'C': 10, 'gamma': 'auto', 'kernel': 'poly'}</td>\n      <td>0.056274</td>\n      <td>0.069532</td>\n      <td>-0.045601</td>\n      <td>-0.025079</td>\n      <td>-0.049592</td>\n      <td>0.001107</td>\n      <td>0.051309</td>\n      <td>32</td>\n    </tr>\n    <tr>\n      <th>2</th>\n      <td>0.0854</td>\n      <td>0.016268</td>\n      <td>0.0172</td>\n      <td>0.002315</td>\n      <td>10</td>\n      <td>auto</td>\n      <td>sigmoid</td>\n      <td>{'C': 10, 'gamma': 'auto', 'kernel': 'sigmoid'}</td>\n      <td>0.049905</td>\n      <td>0.075905</td>\n      <td>-0.046585</td>\n      <td>-0.041004</td>\n      <td>-0.046507</td>\n      <td>-0.001657</td>\n      <td>0.053391</td>\n      <td>34</td>\n    </tr>\n    <tr>\n      <th>3</th>\n      <td>0.0660</td>\n      <td>0.025807</td>\n      <td>0.0136</td>\n      <td>0.007684</td>\n      <td>10</td>\n      <td>auto</td>\n      <td>linear</td>\n      <td>{'C': 10, 'gamma': 'auto', 'kernel': 'linear'}</td>\n      <td>0.377969</td>\n      <td>0.479601</td>\n      <td>0.317872</td>\n      <td>0.337979</td>\n      <td>0.324422</td>\n      <td>0.367569</td>\n      <td>0.059777</td>\n      <td>25</td>\n    </tr>\n    <tr>\n      <th>4</th>\n      <td>0.0826</td>\n      <td>0.029709</td>\n      <td>0.0156</td>\n      <td>0.003262</td>\n      <td>10</td>\n      <td>scale</td>\n      <td>rbf</td>\n      <td>{'C': 10, 'gamma': 'scale', 'kernel': 'rbf'}</td>\n      <td>0.004126</td>\n      <td>0.013244</td>\n      <td>-0.103775</td>\n      <td>-0.095165</td>\n      <td>-0.101602</td>\n      <td>-0.056634</td>\n      <td>0.053486</td>\n      <td>36</td>\n    </tr>\n    <tr>\n      <th>5</th>\n      <td>0.0680</td>\n      <td>0.033094</td>\n      <td>0.0086</td>\n      <td>0.000800</td>\n      <td>10</td>\n      <td>scale</td>\n      <td>poly</td>\n      <td>{'C': 10, 'gamma': 'scale', 'kernel': 'poly'}</td>\n      <td>0.054964</td>\n      <td>0.071297</td>\n      <td>-0.046513</td>\n      <td>-0.024157</td>\n      <td>-0.049652</td>\n      <td>0.001188</td>\n      <td>0.051594</td>\n      <td>31</td>\n    </tr>\n    <tr>\n      <th>6</th>\n      <td>0.0866</td>\n      <td>0.011377</td>\n      <td>0.0202</td>\n      <td>0.008085</td>\n      <td>10</td>\n      <td>scale</td>\n      <td>sigmoid</td>\n      <td>{'C': 10, 'gamma': 'scale', 'kernel': 'sigmoid'}</td>\n      <td>0.049644</td>\n      <td>0.076323</td>\n      <td>-0.046798</td>\n      <td>-0.040824</td>\n      <td>-0.046521</td>\n      <td>-0.001635</td>\n      <td>0.053474</td>\n      <td>33</td>\n    </tr>\n    <tr>\n      <th>7</th>\n      <td>0.0634</td>\n      <td>0.008686</td>\n      <td>0.0086</td>\n      <td>0.001743</td>\n      <td>10</td>\n      <td>scale</td>\n      <td>linear</td>\n      <td>{'C': 10, 'gamma': 'scale', 'kernel': 'linear'}</td>\n      <td>0.377969</td>\n      <td>0.479601</td>\n      <td>0.317872</td>\n      <td>0.337979</td>\n      <td>0.324422</td>\n      <td>0.367569</td>\n      <td>0.059777</td>\n      <td>25</td>\n    </tr>\n    <tr>\n      <th>8</th>\n      <td>0.0910</td>\n      <td>0.041323</td>\n      <td>0.0232</td>\n      <td>0.016437</td>\n      <td>100</td>\n      <td>auto</td>\n      <td>rbf</td>\n      <td>{'C': 100, 'gamma': 'auto', 'kernel': 'rbf'}</td>\n      <td>0.300573</td>\n      <td>0.339474</td>\n      <td>0.173708</td>\n      <td>0.217991</td>\n      <td>0.183375</td>\n      <td>0.243024</td>\n      <td>0.065733</td>\n      <td>29</td>\n    </tr>\n    <tr>\n      <th>9</th>\n      <td>0.0842</td>\n      <td>0.034225</td>\n      <td>0.0140</td>\n      <td>0.007376</td>\n      <td>100</td>\n      <td>auto</td>\n      <td>poly</td>\n      <td>{'C': 100, 'gamma': 'auto', 'kernel': 'poly'}</td>\n      <td>0.540643</td>\n      <td>0.575051</td>\n      <td>0.474839</td>\n      <td>0.535730</td>\n      <td>0.424640</td>\n      <td>0.510181</td>\n      <td>0.053582</td>\n      <td>21</td>\n    </tr>\n    <tr>\n      <th>10</th>\n      <td>0.1588</td>\n      <td>0.054532</td>\n      <td>0.0344</td>\n      <td>0.016548</td>\n      <td>100</td>\n      <td>auto</td>\n      <td>sigmoid</td>\n      <td>{'C': 100, 'gamma': 'auto', 'kernel': 'sigmoid'}</td>\n      <td>0.478364</td>\n      <td>0.561673</td>\n      <td>0.428331</td>\n      <td>0.450454</td>\n      <td>0.431701</td>\n      <td>0.470105</td>\n      <td>0.049110</td>\n      <td>24</td>\n    </tr>\n    <tr>\n      <th>11</th>\n      <td>0.1168</td>\n      <td>0.045657</td>\n      <td>0.0170</td>\n      <td>0.010431</td>\n      <td>100</td>\n      <td>auto</td>\n      <td>linear</td>\n      <td>{'C': 100, 'gamma': 'auto', 'kernel': 'linear'}</td>\n      <td>0.584474</td>\n      <td>0.655818</td>\n      <td>0.553380</td>\n      <td>0.576939</td>\n      <td>0.546881</td>\n      <td>0.583498</td>\n      <td>0.038787</td>\n      <td>19</td>\n    </tr>\n    <tr>\n      <th>12</th>\n      <td>0.0692</td>\n      <td>0.010628</td>\n      <td>0.0238</td>\n      <td>0.007985</td>\n      <td>100</td>\n      <td>scale</td>\n      <td>rbf</td>\n      <td>{'C': 100, 'gamma': 'scale', 'kernel': 'rbf'}</td>\n      <td>0.301041</td>\n      <td>0.338741</td>\n      <td>0.174086</td>\n      <td>0.217641</td>\n      <td>0.183403</td>\n      <td>0.242982</td>\n      <td>0.065542</td>\n      <td>30</td>\n    </tr>\n    <tr>\n      <th>13</th>\n      <td>0.0620</td>\n      <td>0.009121</td>\n      <td>0.0118</td>\n      <td>0.005706</td>\n      <td>100</td>\n      <td>scale</td>\n      <td>poly</td>\n      <td>{'C': 100, 'gamma': 'scale', 'kernel': 'poly'}</td>\n      <td>0.537117</td>\n      <td>0.579373</td>\n      <td>0.471840</td>\n      <td>0.537966</td>\n      <td>0.424478</td>\n      <td>0.510155</td>\n      <td>0.054955</td>\n      <td>22</td>\n    </tr>\n    <tr>\n      <th>14</th>\n      <td>0.1090</td>\n      <td>0.044989</td>\n      <td>0.0156</td>\n      <td>0.000800</td>\n      <td>100</td>\n      <td>scale</td>\n      <td>sigmoid</td>\n      <td>{'C': 100, 'gamma': 'scale', 'kernel': 'sigmoid'}</td>\n      <td>0.478930</td>\n      <td>0.563200</td>\n      <td>0.427152</td>\n      <td>0.451250</td>\n      <td>0.432199</td>\n      <td>0.470546</td>\n      <td>0.049762</td>\n      <td>23</td>\n    </tr>\n    <tr>\n      <th>15</th>\n      <td>0.1202</td>\n      <td>0.032603</td>\n      <td>0.0158</td>\n      <td>0.004490</td>\n      <td>100</td>\n      <td>scale</td>\n      <td>linear</td>\n      <td>{'C': 100, 'gamma': 'scale', 'kernel': 'linear'}</td>\n      <td>0.584474</td>\n      <td>0.655818</td>\n      <td>0.553380</td>\n      <td>0.576939</td>\n      <td>0.546881</td>\n      <td>0.583498</td>\n      <td>0.038787</td>\n      <td>19</td>\n    </tr>\n    <tr>\n      <th>16</th>\n      <td>0.1174</td>\n      <td>0.044247</td>\n      <td>0.0280</td>\n      <td>0.008124</td>\n      <td>1000</td>\n      <td>auto</td>\n      <td>rbf</td>\n      <td>{'C': 1000, 'gamma': 'auto', 'kernel': 'rbf'}</td>\n      <td>0.733044</td>\n      <td>0.746232</td>\n      <td>0.686773</td>\n      <td>0.717920</td>\n      <td>0.649158</td>\n      <td>0.706625</td>\n      <td>0.034902</td>\n      <td>12</td>\n    </tr>\n    <tr>\n      <th>17</th>\n      <td>0.1030</td>\n      <td>0.014283</td>\n      <td>0.0094</td>\n      <td>0.000800</td>\n      <td>1000</td>\n      <td>auto</td>\n      <td>poly</td>\n      <td>{'C': 1000, 'gamma': 'auto', 'kernel': 'poly'}</td>\n      <td>0.829631</td>\n      <td>0.802622</td>\n      <td>0.799620</td>\n      <td>0.800321</td>\n      <td>0.735580</td>\n      <td>0.793555</td>\n      <td>0.031072</td>\n      <td>7</td>\n    </tr>\n    <tr>\n      <th>18</th>\n      <td>0.1168</td>\n      <td>0.034695</td>\n      <td>0.0236</td>\n      <td>0.013574</td>\n      <td>1000</td>\n      <td>auto</td>\n      <td>sigmoid</td>\n      <td>{'C': 1000, 'gamma': 'auto', 'kernel': 'sigmoid'}</td>\n      <td>0.296082</td>\n      <td>0.372281</td>\n      <td>0.216401</td>\n      <td>0.291265</td>\n      <td>0.351325</td>\n      <td>0.305471</td>\n      <td>0.054387</td>\n      <td>28</td>\n    </tr>\n    <tr>\n      <th>19</th>\n      <td>0.1298</td>\n      <td>0.041949</td>\n      <td>0.0182</td>\n      <td>0.005154</td>\n      <td>1000</td>\n      <td>auto</td>\n      <td>linear</td>\n      <td>{'C': 1000, 'gamma': 'auto', 'kernel': 'linear'}</td>\n      <td>0.605304</td>\n      <td>0.588725</td>\n      <td>0.623230</td>\n      <td>0.537931</td>\n      <td>0.616726</td>\n      <td>0.594383</td>\n      <td>0.030560</td>\n      <td>17</td>\n    </tr>\n    <tr>\n      <th>20</th>\n      <td>0.1028</td>\n      <td>0.026088</td>\n      <td>0.0174</td>\n      <td>0.004079</td>\n      <td>1000</td>\n      <td>scale</td>\n      <td>rbf</td>\n      <td>{'C': 1000, 'gamma': 'scale', 'kernel': 'rbf'}</td>\n      <td>0.733334</td>\n      <td>0.745892</td>\n      <td>0.687037</td>\n      <td>0.717769</td>\n      <td>0.649174</td>\n      <td>0.706641</td>\n      <td>0.034825</td>\n      <td>11</td>\n    </tr>\n    <tr>\n      <th>21</th>\n      <td>0.1270</td>\n      <td>0.049051</td>\n      <td>0.0150</td>\n      <td>0.007589</td>\n      <td>1000</td>\n      <td>scale</td>\n      <td>poly</td>\n      <td>{'C': 1000, 'gamma': 'scale', 'kernel': 'poly'}</td>\n      <td>0.828213</td>\n      <td>0.802622</td>\n      <td>0.799348</td>\n      <td>0.800587</td>\n      <td>0.735555</td>\n      <td>0.793265</td>\n      <td>0.030757</td>\n      <td>8</td>\n    </tr>\n    <tr>\n      <th>22</th>\n      <td>0.1210</td>\n      <td>0.037821</td>\n      <td>0.0202</td>\n      <td>0.003763</td>\n      <td>1000</td>\n      <td>scale</td>\n      <td>sigmoid</td>\n      <td>{'C': 1000, 'gamma': 'scale', 'kernel': 'sigmo...</td>\n      <td>0.400044</td>\n      <td>0.366097</td>\n      <td>0.242217</td>\n      <td>0.288461</td>\n      <td>0.351407</td>\n      <td>0.329645</td>\n      <td>0.056742</td>\n      <td>27</td>\n    </tr>\n    <tr>\n      <th>23</th>\n      <td>0.1010</td>\n      <td>0.045387</td>\n      <td>0.0112</td>\n      <td>0.005706</td>\n      <td>1000</td>\n      <td>scale</td>\n      <td>linear</td>\n      <td>{'C': 1000, 'gamma': 'scale', 'kernel': 'linear'}</td>\n      <td>0.605304</td>\n      <td>0.588725</td>\n      <td>0.623230</td>\n      <td>0.537931</td>\n      <td>0.616726</td>\n      <td>0.594383</td>\n      <td>0.030560</td>\n      <td>17</td>\n    </tr>\n    <tr>\n      <th>24</th>\n      <td>0.1384</td>\n      <td>0.049601</td>\n      <td>0.0218</td>\n      <td>0.004792</td>\n      <td>2000</td>\n      <td>auto</td>\n      <td>rbf</td>\n      <td>{'C': 2000, 'gamma': 'auto', 'kernel': 'rbf'}</td>\n      <td>0.814076</td>\n      <td>0.781092</td>\n      <td>0.794081</td>\n      <td>0.794075</td>\n      <td>0.733656</td>\n      <td>0.783396</td>\n      <td>0.027014</td>\n      <td>10</td>\n    </tr>\n    <tr>\n      <th>25</th>\n      <td>0.1522</td>\n      <td>0.039686</td>\n      <td>0.0100</td>\n      <td>0.002757</td>\n      <td>2000</td>\n      <td>auto</td>\n      <td>poly</td>\n      <td>{'C': 2000, 'gamma': 'auto', 'kernel': 'poly'}</td>\n      <td>0.845403</td>\n      <td>0.805639</td>\n      <td>0.816733</td>\n      <td>0.805143</td>\n      <td>0.754961</td>\n      <td>0.805576</td>\n      <td>0.029233</td>\n      <td>4</td>\n    </tr>\n    <tr>\n      <th>26</th>\n      <td>0.1338</td>\n      <td>0.021507</td>\n      <td>0.0234</td>\n      <td>0.008523</td>\n      <td>2000</td>\n      <td>auto</td>\n      <td>sigmoid</td>\n      <td>{'C': 2000, 'gamma': 'auto', 'kernel': 'sigmoid'}</td>\n      <td>-0.401855</td>\n      <td>-0.508082</td>\n      <td>-0.452827</td>\n      <td>-0.751013</td>\n      <td>-0.111859</td>\n      <td>-0.445127</td>\n      <td>0.205197</td>\n      <td>38</td>\n    </tr>\n    <tr>\n      <th>27</th>\n      <td>0.1142</td>\n      <td>0.027773</td>\n      <td>0.0106</td>\n      <td>0.004409</td>\n      <td>2000</td>\n      <td>auto</td>\n      <td>linear</td>\n      <td>{'C': 2000, 'gamma': 'auto', 'kernel': 'linear'}</td>\n      <td>0.605277</td>\n      <td>0.583646</td>\n      <td>0.697368</td>\n      <td>0.532547</td>\n      <td>0.681425</td>\n      <td>0.620053</td>\n      <td>0.061555</td>\n      <td>15</td>\n    </tr>\n    <tr>\n      <th>28</th>\n      <td>0.1114</td>\n      <td>0.025912</td>\n      <td>0.0218</td>\n      <td>0.013615</td>\n      <td>2000</td>\n      <td>scale</td>\n      <td>rbf</td>\n      <td>{'C': 2000, 'gamma': 'scale', 'kernel': 'rbf'}</td>\n      <td>0.814295</td>\n      <td>0.780971</td>\n      <td>0.794227</td>\n      <td>0.793983</td>\n      <td>0.733663</td>\n      <td>0.783428</td>\n      <td>0.027068</td>\n      <td>9</td>\n    </tr>\n    <tr>\n      <th>29</th>\n      <td>0.1792</td>\n      <td>0.088601</td>\n      <td>0.0118</td>\n      <td>0.002713</td>\n      <td>2000</td>\n      <td>scale</td>\n      <td>poly</td>\n      <td>{'C': 2000, 'gamma': 'scale', 'kernel': 'poly'}</td>\n      <td>0.845581</td>\n      <td>0.805624</td>\n      <td>0.816612</td>\n      <td>0.805133</td>\n      <td>0.754962</td>\n      <td>0.805582</td>\n      <td>0.029272</td>\n      <td>3</td>\n    </tr>\n    <tr>\n      <th>30</th>\n      <td>0.1366</td>\n      <td>0.023737</td>\n      <td>0.0240</td>\n      <td>0.013741</td>\n      <td>2000</td>\n      <td>scale</td>\n      <td>sigmoid</td>\n      <td>{'C': 2000, 'gamma': 'scale', 'kernel': 'sigmo...</td>\n      <td>-0.385658</td>\n      <td>-0.537098</td>\n      <td>-0.474912</td>\n      <td>-0.477335</td>\n      <td>-0.111187</td>\n      <td>-0.397238</td>\n      <td>0.150976</td>\n      <td>37</td>\n    </tr>\n    <tr>\n      <th>31</th>\n      <td>0.1258</td>\n      <td>0.017520</td>\n      <td>0.0122</td>\n      <td>0.003655</td>\n      <td>2000</td>\n      <td>scale</td>\n      <td>linear</td>\n      <td>{'C': 2000, 'gamma': 'scale', 'kernel': 'linear'}</td>\n      <td>0.605277</td>\n      <td>0.583646</td>\n      <td>0.697368</td>\n      <td>0.532547</td>\n      <td>0.681425</td>\n      <td>0.620053</td>\n      <td>0.061555</td>\n      <td>15</td>\n    </tr>\n    <tr>\n      <th>32</th>\n      <td>0.1394</td>\n      <td>0.053861</td>\n      <td>0.0204</td>\n      <td>0.009972</td>\n      <td>3000</td>\n      <td>auto</td>\n      <td>rbf</td>\n      <td>{'C': 3000, 'gamma': 'auto', 'kernel': 'rbf'}</td>\n      <td>0.828670</td>\n      <td>0.790265</td>\n      <td>0.811049</td>\n      <td>0.812892</td>\n      <td>0.741829</td>\n      <td>0.796941</td>\n      <td>0.030140</td>\n      <td>6</td>\n    </tr>\n    <tr>\n      <th>33</th>\n      <td>0.2296</td>\n      <td>0.091653</td>\n      <td>0.0092</td>\n      <td>0.000400</td>\n      <td>3000</td>\n      <td>auto</td>\n      <td>poly</td>\n      <td>{'C': 3000, 'gamma': 'auto', 'kernel': 'poly'}</td>\n      <td>0.846775</td>\n      <td>0.805323</td>\n      <td>0.817309</td>\n      <td>0.805191</td>\n      <td>0.758994</td>\n      <td>0.806718</td>\n      <td>0.028279</td>\n      <td>2</td>\n    </tr>\n    <tr>\n      <th>34</th>\n      <td>0.1178</td>\n      <td>0.038044</td>\n      <td>0.0198</td>\n      <td>0.007222</td>\n      <td>3000</td>\n      <td>auto</td>\n      <td>sigmoid</td>\n      <td>{'C': 3000, 'gamma': 'auto', 'kernel': 'sigmoid'}</td>\n      <td>-1.090896</td>\n      <td>-1.761043</td>\n      <td>-1.734344</td>\n      <td>-2.304377</td>\n      <td>-1.050280</td>\n      <td>-1.588188</td>\n      <td>0.469215</td>\n      <td>39</td>\n    </tr>\n    <tr>\n      <th>35</th>\n      <td>0.1436</td>\n      <td>0.033518</td>\n      <td>0.0100</td>\n      <td>0.000894</td>\n      <td>3000</td>\n      <td>auto</td>\n      <td>linear</td>\n      <td>{'C': 3000, 'gamma': 'auto', 'kernel': 'linear'}</td>\n      <td>0.657470</td>\n      <td>0.583501</td>\n      <td>0.697875</td>\n      <td>0.529117</td>\n      <td>0.655785</td>\n      <td>0.624750</td>\n      <td>0.060379</td>\n      <td>13</td>\n    </tr>\n    <tr>\n      <th>36</th>\n      <td>0.1234</td>\n      <td>0.025049</td>\n      <td>0.0156</td>\n      <td>0.001020</td>\n      <td>3000</td>\n      <td>scale</td>\n      <td>rbf</td>\n      <td>{'C': 3000, 'gamma': 'scale', 'kernel': 'rbf'}</td>\n      <td>0.828795</td>\n      <td>0.790105</td>\n      <td>0.811123</td>\n      <td>0.812857</td>\n      <td>0.741835</td>\n      <td>0.796943</td>\n      <td>0.030174</td>\n      <td>5</td>\n    </tr>\n    <tr>\n      <th>37</th>\n      <td>0.2942</td>\n      <td>0.123479</td>\n      <td>0.0126</td>\n      <td>0.004841</td>\n      <td>3000</td>\n      <td>scale</td>\n      <td>poly</td>\n      <td>{'C': 3000, 'gamma': 'scale', 'kernel': 'poly'}</td>\n      <td>0.846874</td>\n      <td>0.805331</td>\n      <td>0.817283</td>\n      <td>0.805239</td>\n      <td>0.758988</td>\n      <td>0.806743</td>\n      <td>0.028307</td>\n      <td>1</td>\n    </tr>\n    <tr>\n      <th>38</th>\n      <td>0.1222</td>\n      <td>0.032805</td>\n      <td>0.0272</td>\n      <td>0.010943</td>\n      <td>3000</td>\n      <td>scale</td>\n      <td>sigmoid</td>\n      <td>{'C': 3000, 'gamma': 'scale', 'kernel': 'sigmo...</td>\n      <td>-1.761871</td>\n      <td>-2.139307</td>\n      <td>-1.704369</td>\n      <td>-2.340839</td>\n      <td>-1.048739</td>\n      <td>-1.799025</td>\n      <td>0.443311</td>\n      <td>40</td>\n    </tr>\n    <tr>\n      <th>39</th>\n      <td>0.1484</td>\n      <td>0.036505</td>\n      <td>0.0092</td>\n      <td>0.002561</td>\n      <td>3000</td>\n      <td>scale</td>\n      <td>linear</td>\n      <td>{'C': 3000, 'gamma': 'scale', 'kernel': 'linear'}</td>\n      <td>0.657470</td>\n      <td>0.583501</td>\n      <td>0.697875</td>\n      <td>0.529117</td>\n      <td>0.655785</td>\n      <td>0.624750</td>\n      <td>0.060379</td>\n      <td>13</td>\n    </tr>\n  </tbody>\n</table>\n</div>"
          },
          "metadata": {}
        }
      ],
      "execution_count": 67
    },
    {
      "id": "09c8caa1-756b-4086-909c-662d61969aa0",
      "cell_type": "code",
      "source": "age_input= input('enter age')\nage_input=int() \nbmi_input = input('enter bmi') \nbmi_input = float() \nchildren_input=input(\"Children:\") \nchildren_input = int() \nsex_male_input=input(\"Sex Male 0 or 1:\") \nsex_male_input = int() \nsmoker_yes_input=input(\"Smoker Yes 0 or 1:\") \nsmoker_yes_input = int()",
      "metadata": {
        "trusted": true
      },
      "outputs": [
        {
          "output_type": "stream",
          "name": "stdin",
          "text": "Children: 2\nenter age 40\nenter bmi 50.02\nSex Male 0 or 1: 1\nSmoker Yes 0 or 1: 1\n"
        }
      ],
      "execution_count": 69
    },
    {
      "id": "78a49a94-9a3c-46dc-b6c7-48635b368299",
      "cell_type": "code",
      "source": "Future_Prediction=grid.predict([[age_input,bmi_input,children_input,sex_male_input,smoker_yes_input]])\n\nprint(\"Future_Prediction={}\".format(Future_Prediction))",
      "metadata": {
        "trusted": true
      },
      "outputs": [
        {
          "name": "stdout",
          "text": "Future_Prediction=[8223.81872033]\n",
          "output_type": "stream"
        }
      ],
      "execution_count": 71
    },
    {
      "id": "99f99687-2d05-4831-90a0-d0b4b49c48fe",
      "cell_type": "code",
      "source": "",
      "metadata": {
        "trusted": true
      },
      "outputs": [],
      "execution_count": null
    }
  ]
}