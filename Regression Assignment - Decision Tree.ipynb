{
  "cells": [
    {
      "cell_type": "code",
      "source": [
        "import pandas as pd\n",
        "dataset = pd.read_csv('insurance_pre.csv')"
      ],
      "outputs": [],
      "execution_count": null,
      "metadata": {
        "noteable": {},
        "ExecuteTime": {
          "end_time": "2023-12-15T08:58:18.327883+00:00",
          "start_time": "2023-12-15T08:58:18.169845+00:00"
        }
      },
      "id": "0ef22b7c"
    },
    {
      "cell_type": "code",
      "source": [
        "dataset = pd.get_dummies(dataset)"
      ],
      "outputs": [],
      "execution_count": null,
      "metadata": {
        "jupyter": {
          "outputs_hidden": false,
          "source_hidden": false
        },
        "noteable": {
          "cell_type": "code"
        },
        "ExecuteTime": {
          "end_time": "2023-12-15T08:58:25.903757+00:00",
          "start_time": "2023-12-15T08:58:25.746349+00:00"
        }
      },
      "id": "4fd20d0e-41f1-4c38-8472-63ae4442e95c"
    },
    {
      "cell_type": "code",
      "source": [
        "dataset.head()"
      ],
      "outputs": [
        {
          "output_type": "display_data",
          "data": {
            "application/vnd.dataresource+json": {
              "schema": {
                "fields": [
                  {
                    "name": "index",
                    "type": "integer"
                  },
                  {
                    "name": "age",
                    "type": "integer"
                  },
                  {
                    "name": "bmi",
                    "type": "number"
                  },
                  {
                    "name": "children",
                    "type": "integer"
                  },
                  {
                    "name": "charges",
                    "type": "number"
                  },
                  {
                    "name": "sex_female",
                    "type": "integer"
                  },
                  {
                    "name": "sex_male",
                    "type": "integer"
                  },
                  {
                    "name": "smoker_no",
                    "type": "integer"
                  },
                  {
                    "name": "smoker_yes",
                    "type": "integer"
                  }
                ],
                "primaryKey": [
                  "index"
                ],
                "pandas_version": "1.4.0"
              },
              "data": [
                {
                  "index": 0,
                  "age": 19,
                  "bmi": 27.9,
                  "children": 0,
                  "charges": 16884.924,
                  "sex_female": 1,
                  "sex_male": 0,
                  "smoker_no": 0,
                  "smoker_yes": 1
                },
                {
                  "index": 1,
                  "age": 18,
                  "bmi": 33.77,
                  "children": 1,
                  "charges": 1725.5523,
                  "sex_female": 0,
                  "sex_male": 1,
                  "smoker_no": 1,
                  "smoker_yes": 0
                },
                {
                  "index": 2,
                  "age": 28,
                  "bmi": 33,
                  "children": 3,
                  "charges": 4449.462,
                  "sex_female": 0,
                  "sex_male": 1,
                  "smoker_no": 1,
                  "smoker_yes": 0
                },
                {
                  "index": 3,
                  "age": 33,
                  "bmi": 22.705,
                  "children": 0,
                  "charges": 21984.47061,
                  "sex_female": 0,
                  "sex_male": 1,
                  "smoker_no": 1,
                  "smoker_yes": 0
                },
                {
                  "index": 4,
                  "age": 32,
                  "bmi": 28.88,
                  "children": 0,
                  "charges": 3866.8552,
                  "sex_female": 0,
                  "sex_male": 1,
                  "smoker_no": 1,
                  "smoker_yes": 0
                }
              ],
              "datalink": {
                "display_id": "7141f45d-ff90-43c8-9e75-d00ec2f9fe56"
              }
            }
          },
          "metadata": {
            "application/vnd.dataresource+json": {
              "datalink": {
                "dataframe_info": {
                  "default_index_used": true,
                  "orig_size_bytes": 220,
                  "orig_num_rows": 5,
                  "orig_num_cols": 8,
                  "truncated_string_columns": [],
                  "truncated_size_bytes": 220,
                  "truncated_num_rows": 5,
                  "truncated_num_cols": 8
                },
                "dx_settings": {
                  "NUM_PAST_SAMPLES_TRACKED": 3,
                  "ENABLE_DATALINK": true,
                  "DISPLAY_MODE": "simple",
                  "GENERATE_DEX_METADATA": false,
                  "STRINGIFY_INDEX_VALUES": false,
                  "ALLOW_NOTEABLE_ATTRS": true,
                  "DISPLAY_MAX_COLUMNS": 100,
                  "HTML_TABLE_SCHEMA": false,
                  "SAMPLING_FACTOR": 0.1,
                  "LOG_LEVEL": 30,
                  "ENABLE_ASSIGNMENT": true,
                  "FLATTEN_INDEX_VALUES": false,
                  "DEV_MODE": false,
                  "COLUMN_SAMPLING_METHOD": "outer",
                  "FLATTEN_COLUMN_VALUES": true,
                  "DISPLAY_MAX_ROWS": 50000,
                  "ROW_SAMPLING_METHOD": "random",
                  "RANDOM_STATE": 12648430,
                  "DB_LOCATION": ":memory:",
                  "STRINGIFY_COLUMN_VALUES": true,
                  "SAMPLING_METHOD": "random",
                  "MAX_STRING_LENGTH": 250,
                  "MAX_RENDER_SIZE_BYTES": 104857600,
                  "RESET_INDEX_VALUES": false
                },
                "display_id": "7141f45d-ff90-43c8-9e75-d00ec2f9fe56",
                "applied_filters": [],
                "sample_history": [],
                "sampling_time": "2023-12-15T08:58:31.979495",
                "variable_name": "unk_dataframe_f314d72d17c446fbbdbadf2143d84e9e",
                "user_variable_name": null
              },
              "display_id": "7141f45d-ff90-43c8-9e75-d00ec2f9fe56"
            }
          }
        }
      ],
      "execution_count": null,
      "metadata": {
        "jupyter": {
          "outputs_hidden": false,
          "source_hidden": false
        },
        "noteable": {
          "cell_type": "code"
        },
        "ExecuteTime": {
          "end_time": "2023-12-15T08:58:32.141665+00:00",
          "start_time": "2023-12-15T08:58:31.952132+00:00"
        },
        "datalink": {
          "7141f45d-ff90-43c8-9e75-d00ec2f9fe56": {
            "applied_filters": [],
            "dataframe_info": {
              "default_index_used": true,
              "orig_num_cols": 8,
              "orig_num_rows": 5,
              "orig_size_bytes": 220,
              "truncated_num_cols": 8,
              "truncated_num_rows": 5,
              "truncated_size_bytes": 220,
              "truncated_string_columns": []
            },
            "display_id": "7141f45d-ff90-43c8-9e75-d00ec2f9fe56",
            "dx_settings": {
              "ALLOW_NOTEABLE_ATTRS": true,
              "COLUMN_SAMPLING_METHOD": "outer",
              "DB_LOCATION": ":memory:",
              "DEV_MODE": false,
              "DISPLAY_MAX_COLUMNS": 100,
              "DISPLAY_MAX_ROWS": 50000,
              "DISPLAY_MODE": "simple",
              "ENABLE_ASSIGNMENT": true,
              "ENABLE_DATALINK": true,
              "FLATTEN_COLUMN_VALUES": true,
              "FLATTEN_INDEX_VALUES": false,
              "GENERATE_DEX_METADATA": false,
              "HTML_TABLE_SCHEMA": false,
              "LOG_LEVEL": 30,
              "MAX_RENDER_SIZE_BYTES": 104857600,
              "MAX_STRING_LENGTH": 250,
              "NUM_PAST_SAMPLES_TRACKED": 3,
              "RANDOM_STATE": 12648430,
              "RESET_INDEX_VALUES": false,
              "ROW_SAMPLING_METHOD": "random",
              "SAMPLING_FACTOR": 0.1,
              "SAMPLING_METHOD": "random",
              "STRINGIFY_COLUMN_VALUES": true,
              "STRINGIFY_INDEX_VALUES": false
            },
            "sample_history": [],
            "sampling_time": "2023-12-15T08:58:31.979495",
            "user_variable_name": null,
            "variable_name": "unk_dataframe_f314d72d17c446fbbdbadf2143d84e9e"
          }
        }
      },
      "id": "f27f3b5f-26b6-44c6-9730-c0c1cefaf147"
    },
    {
      "cell_type": "code",
      "source": [
        "dataset.columns"
      ],
      "outputs": [
        {
          "output_type": "execute_result",
          "execution_count": null,
          "data": {
            "text/plain": "Index(['age', 'bmi', 'children', 'charges', 'sex_female', 'sex_male',\n       'smoker_no', 'smoker_yes'],\n      dtype='object')"
          },
          "metadata": {}
        }
      ],
      "execution_count": null,
      "metadata": {
        "jupyter": {
          "outputs_hidden": false,
          "source_hidden": false
        },
        "noteable": {
          "cell_type": "code"
        },
        "ExecuteTime": {
          "end_time": "2023-12-15T08:58:40.343769+00:00",
          "start_time": "2023-12-15T08:58:40.187542+00:00"
        }
      },
      "id": "ca921828-519d-43a2-a986-393f32e00971"
    },
    {
      "cell_type": "code",
      "source": [
        "independent = dataset[['age', 'bmi', 'children','sex_female', 'sex_male',\n",
        "       'smoker_no', 'smoker_yes']]\n",
        "dependent = dataset['charges']"
      ],
      "outputs": [],
      "execution_count": null,
      "metadata": {
        "jupyter": {
          "outputs_hidden": false,
          "source_hidden": false
        },
        "noteable": {
          "cell_type": "code"
        },
        "ExecuteTime": {
          "end_time": "2023-12-15T08:58:50.158423+00:00",
          "start_time": "2023-12-15T08:58:50.002235+00:00"
        }
      },
      "id": "bc6f43c9-9704-40ee-be36-bf092bc37397"
    },
    {
      "cell_type": "code",
      "source": [
        "from sklearn.model_selection import train_test_split\n",
        "\n",
        "x_train,x_test,y_train,y_test = train_test_split(independent,dependent,test_size = 0.30,random_state = 0)"
      ],
      "outputs": [],
      "execution_count": null,
      "metadata": {
        "jupyter": {
          "outputs_hidden": false,
          "source_hidden": false
        },
        "noteable": {
          "cell_type": "code"
        },
        "ExecuteTime": {
          "end_time": "2023-12-15T08:58:58.082697+00:00",
          "start_time": "2023-12-15T08:58:57.733300+00:00"
        }
      },
      "id": "89d2ad39-308e-4e08-b467-07f7a7a63d22"
    },
    {
      "cell_type": "code",
      "source": [
        "from sklearn.tree import DecisionTreeRegressor\n",
        "regressor = DecisionTreeRegressor(criterion='poisson', splitter='random',max_features= None)\n",
        "regressor = regressor.fit(x_train,y_train)"
      ],
      "outputs": [],
      "execution_count": null,
      "metadata": {
        "jupyter": {
          "outputs_hidden": false,
          "source_hidden": false
        },
        "noteable": {
          "cell_type": "code"
        },
        "ExecuteTime": {
          "end_time": "2023-12-15T09:36:49.328208+00:00",
          "start_time": "2023-12-15T09:36:49.170984+00:00"
        }
      },
      "id": "0754601d-bc01-4b38-b6a2-34133db0af57"
    },
    {
      "cell_type": "code",
      "source": [
        "y_pred = regressor.predict(x_test)"
      ],
      "outputs": [],
      "execution_count": null,
      "metadata": {
        "jupyter": {
          "outputs_hidden": false,
          "source_hidden": false
        },
        "noteable": {
          "cell_type": "code"
        },
        "ExecuteTime": {
          "end_time": "2023-12-15T09:36:51.329272+00:00",
          "start_time": "2023-12-15T09:36:51.173626+00:00"
        }
      },
      "id": "9b184cf3-a5ac-497a-88ca-35a89cee082b"
    },
    {
      "cell_type": "code",
      "source": [
        "from sklearn.metrics import r2_score\n",
        "r_score = r2_score(y_test,y_pred)\n",
        "r_score"
      ],
      "outputs": [
        {
          "output_type": "execute_result",
          "execution_count": null,
          "data": {
            "text/plain": "0.6922692489978886"
          },
          "metadata": {}
        }
      ],
      "execution_count": null,
      "metadata": {
        "jupyter": {
          "outputs_hidden": false,
          "source_hidden": false
        },
        "noteable": {
          "cell_type": "code"
        },
        "ExecuteTime": {
          "end_time": "2023-12-15T09:36:54.262290+00:00",
          "start_time": "2023-12-15T09:36:54.105761+00:00"
        }
      },
      "id": "3aff0091-68f6-4b3d-8c23-c1c507e5fe4d"
    },
    {
      "cell_type": "code",
      "source": [],
      "outputs": [],
      "execution_count": null,
      "metadata": {
        "jupyter": {
          "outputs_hidden": false,
          "source_hidden": false
        },
        "noteable": {
          "cell_type": "code"
        }
      },
      "id": "06edba62-c23a-4104-bf91-cd9984d142af"
    }
  ],
  "metadata": {
    "kernel_info": {
      "name": "python3"
    },
    "kernelspec": {
      "display_name": "Python 3.9",
      "identifier": "legacy",
      "language": "python",
      "language_version": "3.9",
      "name": "python3"
    },
    "selected_hardware_size": "small",
    "noteable": {
      "last_delta_id": "9b26aa76-0bb1-4979-94ea-0fc53ca48f99"
    },
    "nteract": {
      "version": "noteable@2.9.0"
    }
  },
  "nbformat": 4,
  "nbformat_minor": 5
}